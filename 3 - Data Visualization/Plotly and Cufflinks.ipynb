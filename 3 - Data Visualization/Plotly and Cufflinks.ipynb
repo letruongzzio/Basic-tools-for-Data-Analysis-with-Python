{
 "cells": [
  {
   "cell_type": "markdown",
   "metadata": {},
   "source": [
    "+ [`plotly`](https://plotly.com/) is an interactive visualization library.\n",
    "+ [`cufflinks`](https://github.com/santosjorge/cufflinks) connects `plotly` with `pandas`.\n",
    "\n",
    "### **Imports and Set-up.**"
   ]
  },
  {
   "cell_type": "code",
   "execution_count": 1,
   "metadata": {},
   "outputs": [],
   "source": [
    "import numpy as np\n",
    "import pandas as pd"
   ]
  },
  {
   "cell_type": "code",
   "execution_count": 4,
   "metadata": {},
   "outputs": [
    {
     "name": "stdout",
     "output_type": "stream",
     "text": [
      "5.19.0\n"
     ]
    }
   ],
   "source": [
    "from plotly import __version__\n",
    "from plotly.offline import download_plotlyjs, init_notebook_mode, plot, iplot\n",
    "\n",
    "print(__version__)"
   ]
  },
  {
   "cell_type": "markdown",
   "metadata": {},
   "source": [
    "`plotly` is a company can suport your online and host your online data visualizations, but since we're going to be using this as an open source library and we're going to use it offline. We'll need to do some imports from the offline in order to work."
   ]
  },
  {
   "cell_type": "code",
   "execution_count": 3,
   "metadata": {},
   "outputs": [],
   "source": [
    "import cufflinks as cf"
   ]
  },
  {
   "cell_type": "code",
   "execution_count": 5,
   "metadata": {},
   "outputs": [
    {
     "data": {
      "text/html": [
       "        <script type=\"text/javascript\">\n",
       "        window.PlotlyConfig = {MathJaxConfig: 'local'};\n",
       "        if (window.MathJax && window.MathJax.Hub && window.MathJax.Hub.Config) {window.MathJax.Hub.Config({SVG: {font: \"STIX-Web\"}});}\n",
       "        if (typeof require !== 'undefined') {\n",
       "        require.undef(\"plotly\");\n",
       "        requirejs.config({\n",
       "            paths: {\n",
       "                'plotly': ['https://cdn.plot.ly/plotly-2.29.1.min']\n",
       "            }\n",
       "        });\n",
       "        require(['plotly'], function(Plotly) {\n",
       "            window._Plotly = Plotly;\n",
       "        });\n",
       "        }\n",
       "        </script>\n",
       "        "
      ]
     },
     "metadata": {},
     "output_type": "display_data"
    }
   ],
   "source": [
    "# For Notebooks\n",
    "init_notebook_mode(connected=True)"
   ]
  },
  {
   "cell_type": "code",
   "execution_count": 6,
   "metadata": {},
   "outputs": [
    {
     "data": {
      "text/html": [
       "        <script type=\"text/javascript\">\n",
       "        window.PlotlyConfig = {MathJaxConfig: 'local'};\n",
       "        if (window.MathJax && window.MathJax.Hub && window.MathJax.Hub.Config) {window.MathJax.Hub.Config({SVG: {font: \"STIX-Web\"}});}\n",
       "        if (typeof require !== 'undefined') {\n",
       "        require.undef(\"plotly\");\n",
       "        requirejs.config({\n",
       "            paths: {\n",
       "                'plotly': ['https://cdn.plot.ly/plotly-2.29.1.min']\n",
       "            }\n",
       "        });\n",
       "        require(['plotly'], function(Plotly) {\n",
       "            window._Plotly = Plotly;\n",
       "        });\n",
       "        }\n",
       "        </script>\n",
       "        "
      ]
     },
     "metadata": {},
     "output_type": "display_data"
    }
   ],
   "source": [
    "# For offline use\n",
    "cf.go_offline()"
   ]
  },
  {
   "cell_type": "markdown",
   "metadata": {},
   "source": [
    "### **Fake Data.**"
   ]
  },
  {
   "cell_type": "code",
   "execution_count": 8,
   "metadata": {},
   "outputs": [
    {
     "data": {
      "text/html": [
       "<div>\n",
       "<style scoped>\n",
       "    .dataframe tbody tr th:only-of-type {\n",
       "        vertical-align: middle;\n",
       "    }\n",
       "\n",
       "    .dataframe tbody tr th {\n",
       "        vertical-align: top;\n",
       "    }\n",
       "\n",
       "    .dataframe thead th {\n",
       "        text-align: right;\n",
       "    }\n",
       "</style>\n",
       "<table border=\"1\" class=\"dataframe\">\n",
       "  <thead>\n",
       "    <tr style=\"text-align: right;\">\n",
       "      <th></th>\n",
       "      <th>A</th>\n",
       "      <th>B</th>\n",
       "      <th>C</th>\n",
       "      <th>D</th>\n",
       "    </tr>\n",
       "  </thead>\n",
       "  <tbody>\n",
       "    <tr>\n",
       "      <th>0</th>\n",
       "      <td>0.669366</td>\n",
       "      <td>-0.441459</td>\n",
       "      <td>1.423320</td>\n",
       "      <td>0.799232</td>\n",
       "    </tr>\n",
       "    <tr>\n",
       "      <th>1</th>\n",
       "      <td>-1.409045</td>\n",
       "      <td>0.600948</td>\n",
       "      <td>0.615950</td>\n",
       "      <td>-0.051882</td>\n",
       "    </tr>\n",
       "    <tr>\n",
       "      <th>2</th>\n",
       "      <td>-1.545513</td>\n",
       "      <td>3.510112</td>\n",
       "      <td>1.797916</td>\n",
       "      <td>0.801580</td>\n",
       "    </tr>\n",
       "    <tr>\n",
       "      <th>3</th>\n",
       "      <td>0.659464</td>\n",
       "      <td>1.561055</td>\n",
       "      <td>0.121399</td>\n",
       "      <td>-1.762548</td>\n",
       "    </tr>\n",
       "    <tr>\n",
       "      <th>4</th>\n",
       "      <td>-0.091872</td>\n",
       "      <td>0.388441</td>\n",
       "      <td>-0.401255</td>\n",
       "      <td>-0.230681</td>\n",
       "    </tr>\n",
       "  </tbody>\n",
       "</table>\n",
       "</div>"
      ],
      "text/plain": [
       "          A         B         C         D\n",
       "0  0.669366 -0.441459  1.423320  0.799232\n",
       "1 -1.409045  0.600948  0.615950 -0.051882\n",
       "2 -1.545513  3.510112  1.797916  0.801580\n",
       "3  0.659464  1.561055  0.121399 -1.762548\n",
       "4 -0.091872  0.388441 -0.401255 -0.230681"
      ]
     },
     "execution_count": 8,
     "metadata": {},
     "output_type": "execute_result"
    }
   ],
   "source": [
    "df = pd.DataFrame(np.random.randn(100,4), columns='A B C D'.split())\n",
    "df.head()"
   ]
  },
  {
   "cell_type": "code",
   "execution_count": 10,
   "metadata": {},
   "outputs": [
    {
     "data": {
      "text/html": [
       "<div>\n",
       "<style scoped>\n",
       "    .dataframe tbody tr th:only-of-type {\n",
       "        vertical-align: middle;\n",
       "    }\n",
       "\n",
       "    .dataframe tbody tr th {\n",
       "        vertical-align: top;\n",
       "    }\n",
       "\n",
       "    .dataframe thead th {\n",
       "        text-align: right;\n",
       "    }\n",
       "</style>\n",
       "<table border=\"1\" class=\"dataframe\">\n",
       "  <thead>\n",
       "    <tr style=\"text-align: right;\">\n",
       "      <th></th>\n",
       "      <th>Category</th>\n",
       "      <th>Values</th>\n",
       "    </tr>\n",
       "  </thead>\n",
       "  <tbody>\n",
       "    <tr>\n",
       "      <th>0</th>\n",
       "      <td>A</td>\n",
       "      <td>32</td>\n",
       "    </tr>\n",
       "    <tr>\n",
       "      <th>1</th>\n",
       "      <td>B</td>\n",
       "      <td>43</td>\n",
       "    </tr>\n",
       "    <tr>\n",
       "      <th>2</th>\n",
       "      <td>C</td>\n",
       "      <td>50</td>\n",
       "    </tr>\n",
       "  </tbody>\n",
       "</table>\n",
       "</div>"
      ],
      "text/plain": [
       "  Category  Values\n",
       "0        A      32\n",
       "1        B      43\n",
       "2        C      50"
      ]
     },
     "execution_count": 10,
     "metadata": {},
     "output_type": "execute_result"
    }
   ],
   "source": [
    "df2 = pd.DataFrame({'Category':['A', 'B', 'C'], 'Values':[32, 43, 50]})\n",
    "df2"
   ]
  },
  {
   "cell_type": "markdown",
   "metadata": {},
   "source": [
    "### **Using `cufflinks` and `iplot()`.**\n",
    "\n",
    "+ `scatter`\n",
    "+ `bar`\n",
    "+ `box`\n",
    "+ `spread`\n",
    "+ `ratio`\n",
    "+ `heatmap`\n",
    "+ `surface`\n",
    "+ `histogram`\n",
    "+ `bubble`"
   ]
  },
  {
   "cell_type": "code",
   "execution_count": 13,
   "metadata": {},
   "outputs": [
    {
     "data": {
      "text/plain": [
       "<Axes: >"
      ]
     },
     "execution_count": 13,
     "metadata": {},
     "output_type": "execute_result"
    },
    {
     "data": {
      "image/png": "[encoded data removed]",
      "text/plain": [
       "<Figure size 640x480 with 1 Axes>"
      ]
     },
     "metadata": {},
     "output_type": "display_data"
    }
   ],
   "source": [
    "df.plot()"
   ]
  },
  {
   "cell_type": "code",
   "execution_count": 11,
   "metadata": {},
   "outputs": [
    {
     "name": "stdout",
     "output_type": "stream",
     "text": [
      "Help on method _iplot in module cufflinks.plotlytools:\n",
      "\n",
      "_iplot(kind='scatter', data=None, layout=None, filename='', sharing=None, title='', xTitle='', yTitle='', zTitle='', theme=None, colors=None, colorscale=None, fill=False, width=None, dash='solid', mode='', interpolation='linear', symbol='circle', size=12, barmode='', sortbars=False, bargap=None, bargroupgap=None, bins=None, histnorm='', histfunc='count', orientation='v', boxpoints=False, annotations=None, keys=False, bestfit=False, bestfit_colors=None, mean=False, mean_colors=None, categories='', x='', y='', z='', text='', gridcolor=None, zerolinecolor=None, margin=None, labels=None, values=None, secondary_y='', secondary_y_title='', subplots=False, shape=None, error_x=None, error_y=None, error_type='data', locations=None, lon=None, lat=None, asFrame=False, asDates=False, asFigure=False, asImage=False, dimensions=None, asPlot=False, asUrl=False, online=None, **kwargs) method of pandas.core.frame.DataFrame instance\n",
      "           Returns a plotly chart either as inline chart, image of Figure object\n",
      "\n",
      "           Parameters:\n",
      "           -----------\n",
      "                   kind : string\n",
      "                           Kind of chart\n",
      "                                   scatter\n",
      "                                   bar\n",
      "                                   box\n",
      "                                   spread\n",
      "                                   ratio\n",
      "                                   heatmap\n",
      "                                   surface\n",
      "                                   histogram\n",
      "                                   bubble\n",
      "                                   bubble3d\n",
      "                                   scatter3d\n",
      "                                   scattergeo\n",
      "                                   ohlc\n",
      "                                   candle\n",
      "                                   pie\n",
      "                                   choroplet\n",
      "                   data : Data\n",
      "                           Plotly Data Object.\n",
      "                           If not entered then the Data object will be automatically\n",
      "                           generated from the DataFrame.\n",
      "                   layout : Layout\n",
      "                           Plotly layout Object\n",
      "                           If not entered then the Layout objet will be automatically\n",
      "                           generated from the DataFrame.\n",
      "                   filename : string\n",
      "                           Filename to be saved as in plotly account\n",
      "                   sharing : string\n",
      "                           Sets the sharing level permission\n",
      "                                   public - anyone can see this chart\n",
      "                                   private - only you can see this chart\n",
      "                                   secret - only people with the link can see the chart\n",
      "                   title : string\n",
      "                           Chart Title\n",
      "                   xTitle : string\n",
      "                           X Axis Title\n",
      "                   yTitle : string\n",
      "                           Y Axis Title\n",
      "                                   zTitle : string\n",
      "                   zTitle : string\n",
      "                           Z Axis Title\n",
      "                           Applicable only for 3d charts\n",
      "                   theme : string\n",
      "                           Layout Theme\n",
      "                                   solar\n",
      "                                   pearl\n",
      "                                   white\n",
      "                           see cufflinks.getThemes() for all\n",
      "                           available themes\n",
      "                   colors : dict, list or string\n",
      "                           {key:color} to specify the color for each column\n",
      "                           [colors] to use the colors in the defined order\n",
      "                   colorscale : string\n",
      "                           Color scale name\n",
      "                           If the color name is preceded by a minus (-)\n",
      "                           then the scale is inversed\n",
      "                           Only valid if 'colors' is null\n",
      "                           See cufflinks.colors.scales() for available scales\n",
      "                   fill : bool\n",
      "                           Filled Traces\n",
      "                   width : dict, list or int\n",
      "                                   int : applies to all traces\n",
      "                                   list : applies to each trace in the order\n",
      "                                                   specified\n",
      "                                   dict: {column:value} for each column in\n",
      "                                                   the dataframe\n",
      "                           Line width\n",
      "                   dash : dict, list or string\n",
      "                                   string : applies to all traces\n",
      "                                   list : applies to each trace in the order\n",
      "                                                   specified\n",
      "                                   dict: {column:value} for each column in\n",
      "                                                   the dataframe\n",
      "                           Drawing style of lines\n",
      "                                   solid\n",
      "                                   dash\n",
      "                                   dashdot\n",
      "                                   dot\n",
      "                   mode : dict, list or string\n",
      "                                   string : applies to all traces\n",
      "                                   list : applies to each trace in the order\n",
      "                                                   specified\n",
      "                                   dict: {column:value} for each column in\n",
      "                                                   the dataframe\n",
      "                           Plotting mode for scatter trace\n",
      "                                   lines\n",
      "                                   markers\n",
      "                                   lines+markers\n",
      "                                   lines+text\n",
      "                                   markers+text\n",
      "                                   lines+markers+text\n",
      "                   interpolation : dict, list, or string\n",
      "                                   string : applies to all traces\n",
      "                                   list : applies to each trace in the order\n",
      "                                                   specified\n",
      "                                   dict: {column:value} for each column in\n",
      "                                                   the dataframe\n",
      "                           Positioning of the connecting lines\n",
      "                                   linear\n",
      "                                   spline\n",
      "                                   vhv\n",
      "                                   hvh\n",
      "                                   vh\n",
      "                                   hv\n",
      "                   symbol : dict, list or string\n",
      "                                   string : applies to all traces\n",
      "                                   list : applies to each trace in the order\n",
      "                                                   specified\n",
      "                                   dict: {column:value} for each column in\n",
      "                                                   the dataframe\n",
      "                           The symbol that is drawn on the plot for each marker\n",
      "                           Valid only when mode includes markers\n",
      "                                   circle\n",
      "                                   circle-dot\n",
      "                                   diamond\n",
      "                                   square\n",
      "                                   and many more...(see plotly.validators.scatter.marker.SymbolValidator.values)\n",
      "                   size : string or int\n",
      "                           Size of marker\n",
      "                           Valid only if marker in mode\n",
      "                   barmode : string\n",
      "                           Mode when displaying bars\n",
      "                                   group\n",
      "                                   stack\n",
      "                                   overlay\n",
      "                           * Only valid when kind='bar'\n",
      "                   sortbars : bool\n",
      "                           Sort bars in descending order\n",
      "                           * Only valid when kind='bar'\n",
      "                   bargap : float\n",
      "                           Sets the gap between bars\n",
      "                                   [0,1)\n",
      "                           * Only valid when kind is 'histogram' or 'bar'\n",
      "                   bargroupgap : float\n",
      "                           Set the gap between groups\n",
      "                                   [0,1)\n",
      "                           * Only valid when kind is 'histogram' or 'bar'\n",
      "                   bins : int or tuple\n",
      "                           if int:\n",
      "                                   Specifies the number of bins\n",
      "                           if tuple:\n",
      "                                   (start, end, size)\n",
      "                                   start : starting value\n",
      "                                   end: end value\n",
      "                                   size: bin size\n",
      "                           * Only valid when kind='histogram'\n",
      "\n",
      "                   histnorm : string\n",
      "                                   '' (frequency)\n",
      "                                   percent\n",
      "                                   probability\n",
      "                                   density\n",
      "                                   probability density\n",
      "                           Sets the type of normalization for an histogram trace. By default\n",
      "                           the height of each bar displays the frequency of occurrence, i.e.,\n",
      "                           the number of times this value was found in the\n",
      "                           corresponding bin. If set to 'percent', the height of each bar\n",
      "                           displays the percentage of total occurrences found within the\n",
      "                           corresponding bin. If set to 'probability', the height of each bar\n",
      "                           displays the probability that an event will fall into the\n",
      "                           corresponding bin. If set to 'density', the height of each bar is\n",
      "                           equal to the number of occurrences in a bin divided by the size of\n",
      "                           the bin interval such that summing the area of all bins will yield\n",
      "                           the total number of occurrences. If set to 'probability density',\n",
      "                           the height of each bar is equal to the number of probability that an\n",
      "                           event will fall into the corresponding bin divided by the size of\n",
      "                           the bin interval such that summing the area of all bins will yield\n",
      "                           1.\n",
      "                           * Only valid when kind='histogram'\n",
      "                   histfunc : string\n",
      "                                   count\n",
      "                                   sum\n",
      "                                   avg\n",
      "                                   min\n",
      "                                   max\n",
      "                      Sets the binning function used for an histogram trace.\n",
      "                           * Only valid when kind='histogram'\n",
      "                   orientation : string\n",
      "                                   h\n",
      "                                   v\n",
      "                           Sets the orientation of the bars. If set to 'v', the length of each\n",
      "    |          bar will run vertically. If set to 'h', the length of each bar will\n",
      "    |          run horizontally\n",
      "                           * Only valid when kind is 'histogram','bar' or 'box'\n",
      "                   boxpoints : string\n",
      "                           Displays data points in a box plot\n",
      "                                   outliers\n",
      "                                   all\n",
      "                                   suspectedoutliers\n",
      "                                   False\n",
      "                   annotations : dictionary\n",
      "                           Dictionary of annotations\n",
      "                           {x_point : text}\n",
      "                   keys : list of columns\n",
      "                           List of columns to chart.\n",
      "                           Also can be used for custom sorting.\n",
      "                   bestfit : boolean or list\n",
      "                           If True then a best fit line will be generated for\n",
      "                           all columns.\n",
      "                           If list then a best fit line will be generated for\n",
      "                           each key on the list.\n",
      "                   bestfit_colors : list or dict\n",
      "                           {key:color} to specify the color for each column\n",
      "                           [colors] to use the colors in the defined order\n",
      "                   categories : string\n",
      "                           Name of the column that contains the categories\n",
      "                   x : string\n",
      "                           Name of the column that contains the x axis values\n",
      "                   y : string\n",
      "                           Name of the column that contains the y axis values\n",
      "                   z : string\n",
      "                           Name of the column that contains the z axis values\n",
      "                   text : string\n",
      "                           Name of the column that contains the text values\n",
      "                   gridcolor : string\n",
      "                           Grid color\n",
      "                   zerolinecolor : string\n",
      "                           Zero line color\n",
      "                   margin : dict or tuple\n",
      "                           Dictionary (l,r,b,t) or\n",
      "                           Tuple containing the left,\n",
      "                           right, bottom and top margins\n",
      "                   labels : string\n",
      "                           Name of the column that contains the labels.\n",
      "                           * Only valid when kind='pie'\n",
      "                   values : string\n",
      "                           Name of the column that contains the values.\n",
      "                           * Only valid when kind='pie'\n",
      "                   secondary_y : string or list(string)\n",
      "                           Name(s) of the column to be charted on the\n",
      "                           right hand side axis\n",
      "                   secondary_y_title : string\n",
      "                           Title of the secondary axis\n",
      "                   subplots : bool\n",
      "                           If true then each trace is placed in\n",
      "                           subplot layout\n",
      "                   shape : (rows,cols)\n",
      "                           Tuple indicating the size of rows and columns\n",
      "                           If omitted then the layout is automatically set\n",
      "                           * Only valid when subplots=True\n",
      "                   error_x : int or float or [int or float]\n",
      "                           error values for the x axis\n",
      "                   error_y : int or float or [int or float]\n",
      "                           error values for the y axis\n",
      "                   error_type : string\n",
      "                           type of error bars\n",
      "                                   'data'\n",
      "                                   'constant'\n",
      "                                   'percent'\n",
      "                                   'sqrt'\n",
      "                                   'continuous'\n",
      "                                   'continuous_percent'\n",
      "                   asFrame : bool\n",
      "                           If true then the data component of Figure will\n",
      "                           be of Pandas form (Series) otherwise they will\n",
      "                           be index values\n",
      "                   asDates : bool\n",
      "                           If true it truncates times from a DatetimeIndex\n",
      "                   asFigure : bool\n",
      "                           If True returns plotly Figure\n",
      "                   asImage : bool\n",
      "                           If True it returns an Image (png)\n",
      "                           In ONLINE mode:\n",
      "                                   Image file is saved in the working directory\n",
      "                                           Accepts:\n",
      "                                                   filename\n",
      "                                                   dimensions\n",
      "                                                   scale\n",
      "                                                   display_image\n",
      "                           In OFFLINE mode:\n",
      "                                   Image file is downloaded (downloads folder) and a\n",
      "                                   regular plotly chart is displayed in Jupyter\n",
      "                                           Accepts:\n",
      "                                                   filename\n",
      "                                                   dimensions\n",
      "                   dimensions : tuple(int,int)\n",
      "                           Dimensions for image / chart\n",
      "                                   (width,height)\n",
      "                   asPlot : bool\n",
      "                           If True the chart opens in browser\n",
      "                   asUrl : bool\n",
      "                           If True the chart url/path is returned. No chart is displayed.\n",
      "                                   If Online : the URL is returned\n",
      "                                   If Offline : the local path is returned\n",
      "                   online : bool\n",
      "                           If True then the chart/image is rendered on the server\n",
      "                           even when running in offline mode.\n",
      "\n",
      "                   Other Kwargs\n",
      "                   ============\n",
      "                   Line, Scatter\n",
      "                           connectgaps : bool\n",
      "                                   If True, empty values are connected\n",
      "                   Pie charts\n",
      "                           sort : bool\n",
      "                                   If True it sorts the labels by value\n",
      "                           pull : float [0-1]\n",
      "                                   Pulls the slices from the centre\n",
      "                           hole : float [0-1]\n",
      "                                   Sets the size of the inner hole\n",
      "                           linecolor : string\n",
      "                                   Sets the color for the contour line of the slices\n",
      "                           linewidth : string\n",
      "                                   Sets the width for the contour line of the slices\n",
      "                           textcolor : string\n",
      "                                   Sets the color for the text in the slices\n",
      "                           textposition : string\n",
      "                                   Sets the position of the legends for each slice\n",
      "                                           outside\n",
      "                                           inner\n",
      "                           textinfo : string\n",
      "                                   Sets the information to be displayed on\n",
      "                                   the legends\n",
      "                                           label\n",
      "                                           percent\n",
      "                                           value\n",
      "                                           * or ony combination of the above using\n",
      "                                             '+' between each item\n",
      "                                             ie 'label+percent'\n",
      "\n",
      "                   Histogram\n",
      "                           linecolor : string\n",
      "                                   specifies the line color of the histogram\n",
      "\n",
      "                   Heatmap and Surface\n",
      "                           center_scale : float\n",
      "                                   Centers the colorscale at a specific value\n",
      "                                   Automatically sets the (zmin,zmax) values\n",
      "                           zmin : float\n",
      "                                   Defines the minimum range for the z values.\n",
      "                                   This affects the range for the colorscale\n",
      "                           zmax : float\n",
      "                                   Defines the maximum range for the z values.\n",
      "                                   This affects the range for the colorscale\n",
      "\n",
      "                   Error Bars\n",
      "                           error_trace : string\n",
      "                                   Name of the column for which error should be\n",
      "                                   plotted. If omitted then errors apply to all\n",
      "                                   traces.\n",
      "                           error_values_minus : int or float or [int or float]\n",
      "                                   Values corresponding to the span of the error bars\n",
      "                                   below the trace coordinates\n",
      "                           error_color : string\n",
      "                                   Color for error bars\n",
      "                           error_thickness : float\n",
      "                                   Sets the line thickness of the error bars\n",
      "                           error_width :  float\n",
      "                                   Sets the width (in pixels) of the cross-bar at both\n",
      "                                   ends of the error bars\n",
      "                           error_opacity : float [0,1]\n",
      "                                   Opacity for the error bars\n",
      "\n",
      "                   Subplots\n",
      "                           horizontal_spacing : float [0,1]\n",
      "                                   Space between subplot columns.\n",
      "                           vertical_spacing : float [0,1]\n",
      "                                   Space between subplot rows.\n",
      "                           subplot_titles : bool\n",
      "                                   If True, chart titles are plotted\n",
      "                                   at the top of each subplot\n",
      "                           shared_xaxes : bool\n",
      "                                   Assign shared x axes.\n",
      "                                   If True, subplots in the same grid column have one common\n",
      "                                   shared x-axis at the bottom of the grid.\n",
      "                           shared_yaxes : bool\n",
      "                                   Assign shared y axes.\n",
      "                                   If True, subplots in the same grid row have one common\n",
      "                                   shared y-axis on the left-hand side of the grid.\n",
      "\n",
      "                   Shapes\n",
      "                           hline : float, list or dict\n",
      "                                   Draws a horizontal line at the\n",
      "                                   indicated y position(s)\n",
      "                                   Extra parameters can be passed in\n",
      "                                   the form of a dictionary (see shapes)\n",
      "                           vline : float, list or dict\n",
      "                                   Draws a vertical line at the\n",
      "                                   indicated x position(s)\n",
      "                                   Extra parameters can be passed in\n",
      "                                   the form of a dictionary (see shapes)\n",
      "                           hpsan : (y0,y1)\n",
      "                                   Draws a horizontal rectangle at the\n",
      "                                   indicated (y0,y1) positions.\n",
      "                                   Extra parameters can be passed in\n",
      "                                   the form of a dictionary (see shapes)\n",
      "                           vspan : (x0,x1)\n",
      "                                   Draws a vertical rectangle at the\n",
      "                                   indicated (x0,x1) positions.\n",
      "                                   Extra parameters can be passed in\n",
      "                                   the form of a dictionary (see shapes)\n",
      "                           shapes : dict or list(dict)\n",
      "                                   List of dictionaries with the\n",
      "                                   specifications of a given shape.\n",
      "                                   See help(cufflinks.tools.get_shape)\n",
      "                                   for more information\n",
      "\n",
      "                   Axis Ranges\n",
      "                           xrange : [lower_bound,upper_bound]\n",
      "                                   Sets the range for the x axis\n",
      "                           yrange : [lower_bound,upper_bound]\n",
      "                                   Sets the range for the y axis\n",
      "                           zrange : [lower_bound,upper_bound]\n",
      "                                   Sets the range for the z axis\n",
      "\n",
      "                   Explicit Layout Updates\n",
      "                           layout_update : dict\n",
      "                                   The layout will be modified with all\n",
      "                                   the explicit values stated in the\n",
      "                                   dictionary.\n",
      "                                   It will not apply if layout is passed\n",
      "                                   as parameter.\n",
      "\n",
      "\n",
      "                   Range Selector\n",
      "                           rangeselector : dict\n",
      "                                   Defines a rangeselector object\n",
      "                                   see help(cf.tools.get_range_selector) for more information\n",
      "                                   Example:\n",
      "                                           {'steps':['1y','2 months','5 weeks','ytd','2mtd'],\n",
      "                                            'axis':'xaxis', 'bgcolor' : ('blue',.3),\n",
      "                                            'x': 0.2 , 'y' : 0.9}\n",
      "\n",
      "                   Range Slider\n",
      "                           rangeslider : bool or dict\n",
      "                                   Defines if a rangeslider is displayed\n",
      "                                   If bool:\n",
      "                                           True : Makes it visible\n",
      "                                   if dict:\n",
      "                                           Rangeslider object\n",
      "                                   Example:\n",
      "                                           {'bgcolor':('blue',.3),'autorange':True}\n",
      "\n",
      "                   Annotations\n",
      "                           fontcolor : str\n",
      "                                   Text color for annotations\n",
      "                           fontsize : int\n",
      "                                   Text size for annotations\n",
      "                           textangle : int\n",
      "                                   Text angle\n",
      "                           See https://plot.ly/python/reference/#layout-annotations\n",
      "                           for a complete list of valid parameters.\n",
      "\n",
      "                   Exports\n",
      "                           display_image : bool\n",
      "                                   If True then the image if displayed after being saved\n",
      "                                   ** only valid if asImage=True\n",
      "                           scale : integer\n",
      "                                   Increase the resolution of the image by `scale` amount\n",
      "                                   Only valid when asImage=True\n",
      "\n"
     ]
    }
   ],
   "source": [
    "help(df.iplot)"
   ]
  },
  {
   "cell_type": "code",
   "execution_count": 14,
   "metadata": {},
   "outputs": [
    {
     "data": {
      "application/vnd.plotly.v1+json": {
       "config": {
        "linkText": "Export to plot.ly",
        "plotlyServerURL": "https://plot.ly",
        "showLink": true
       },
       "data": [
        {
         "line": {
          "color": "rgba(255, 153, 51, 1.0)",
          "dash": "solid",
          "shape": "linear",
          "width": 1.3
         },
         "mode": "lines",
         "name": "A",
         "text": "",
         "type": "scatter",
         "x": [
          0,
          1,
          2,
          3,
          4,
          5,
          6,
          7,
          8,
          9,
          10,
          11,
          12,
          13,
          14,
          15,
          16,
          17,
          18,
          19,
          20,
          21,
          22,
          23,
          24,
          25,
          26,
          27,
          28,
          29,
          30,
          31,
          32,
          33,
          34,
          35,
          36,
          37,
          38,
          39,
          40,
          41,
          42,
          43,
          44,
          45,
          46,
          47,
          48,
          49,
          50,
          51,
          52,
          53,
          54,
          55,
          56,
          57,
          58,
          59,
          60,
          61,
          62,
          63,
          64,
          65,
          66,
          67,
          68,
          69,
          70,
          71,
          72,
          73,
          74,
          75,
          76,
          77,
          78,
          79,
          80,
          81,
          82,
          83,
          84,
          85,
          86,
          87,
          88,
          89,
          90,
          91,
          92,
          93,
          94,
          95,
          96,
          97,
          98,
          99
         ],
         "y": [
          0.6693661948659464,
          -1.409044815883012,
          -1.5455132834648089,
          0.6594642363422143,
          -0.09187247967043793,
          -0.730872810435815,
          -1.275919630139343,
          0.5230249705628381,
          -0.43397846009587693,
          -1.7396304117414094,
          -0.4946101964719013,
          0.30911834387069603,
          0.005740623968679781,
          -1.915161692689898,
          -0.3933771893139661,
          -1.5715842465033658,
          0.5584309091887014,
          0.443929077658181,
          0.42144883741187095,
          -1.2990455931993434,
          -0.4648052895158669,
          -1.4871274872639502,
          0.7897744945229496,
          -0.40787599619101145,
          -1.282569429442684,
          -1.416396656394587,
          -0.5757480437607201,
          0.7884005807602522,
          -0.22089370830785646,
          0.8721005626280494,
          0.6567327838128859,
          -0.4228616246723989,
          0.995975547606502,
          0.8054519633236913,
          0.8843786917513216,
          1.2134326819921784,
          -0.06546507933482919,
          -0.834255920485621,
          -0.8561919143953065,
          0.47435199850244514,
          1.2122433047509944,
          0.09169781628532563,
          0.5423837717420449,
          1.1462383500652646,
          2.056703885305179,
          -1.6224185421357327,
          -1.125949736917768,
          1.660578525022922,
          -0.5414056122193067,
          0.9979304853907104,
          0.340038928237054,
          -0.3421041025328197,
          -0.2538078053973776,
          -1.465463332830521,
          0.09781815927902178,
          0.917451586261482,
          0.38829880280747814,
          -0.5903613623266755,
          0.18283389165631908,
          0.8167981574453973,
          -0.33050615215525225,
          -2.351061461499044,
          -0.21938938619252876,
          -0.5343172250761418,
          0.5383465122361409,
          -1.584531740831603,
          -0.5248338648093666,
          -0.042128313288309197,
          0.2930936834740656,
          -0.18242520569668452,
          -0.32440972512416955,
          -0.26396063970516837,
          0.25510552399176567,
          1.0913344523198856,
          -0.26432546702841975,
          -1.1324962182484257,
          -0.3334188287709066,
          0.47165865713664096,
          -0.00722601308551948,
          -0.6004700482876557,
          -1.1671025640491137,
          1.3856312367633412,
          -1.9994626518762393,
          -0.4574667433126146,
          0.5706296296645946,
          -0.4418303579630319,
          1.0296016008018352,
          -0.23612241811588852,
          -0.8472454978284362,
          0.05050308339176204,
          -0.8181004061510664,
          0.684027136964716,
          0.16310082433895473,
          -1.797850143901822,
          -0.8267184298920633,
          -0.2986569140798697,
          0.9120993737504053,
          -0.941192969783878,
          0.8176020424453682,
          -0.3605275708624665
         ]
        },
        {
         "line": {
          "color": "rgba(55, 128, 191, 1.0)",
          "dash": "solid",
          "shape": "linear",
          "width": 1.3
         },
         "mode": "lines",
         "name": "B",
         "text": "",
         "type": "scatter",
         "x": [
          0,
          1,
          2,
          3,
          4,
          5,
          6,
          7,
          8,
          9,
          10,
          11,
          12,
          13,
          14,
          15,
          16,
          17,
          18,
          19,
          20,
          21,
          22,
          23,
          24,
          25,
          26,
          27,
          28,
          29,
          30,
          31,
          32,
          33,
          34,
          35,
          36,
          37,
          38,
          39,
          40,
          41,
          42,
          43,
          44,
          45,
          46,
          47,
          48,
          49,
          50,
          51,
          52,
          53,
          54,
          55,
          56,
          57,
          58,
          59,
          60,
          61,
          62,
          63,
          64,
          65,
          66,
          67,
          68,
          69,
          70,
          71,
          72,
          73,
          74,
          75,
          76,
          77,
          78,
          79,
          80,
          81,
          82,
          83,
          84,
          85,
          86,
          87,
          88,
          89,
          90,
          91,
          92,
          93,
          94,
          95,
          96,
          97,
          98,
          99
         ],
         "y": [
          -0.4414590644709143,
          0.6009475102866352,
          3.510112069764468,
          1.5610552154700426,
          0.3884407199380903,
          -0.4345526018263627,
          -1.5666312237968276,
          1.1581096173233933,
          0.8004321234159172,
          2.0683908511197133,
          2.0755846544816277,
          -0.08604290723107731,
          -1.852937809123877,
          -0.9219953804103326,
          1.5618581074219662,
          0.6223130637864492,
          0.10268604787080232,
          -1.502931394299509,
          -1.1912728932017442,
          -2.093129747282381,
          -0.11515313414454793,
          0.4761692720056932,
          0.7714845354688461,
          1.1481159962233656,
          0.3167448548122893,
          2.6445662984808225,
          0.41824474356144214,
          1.2258403587871345,
          -0.9281528640238541,
          -0.2321860023071417,
          0.09373345895297824,
          0.007760938161068311,
          0.07077794095980522,
          -1.5700388740869569,
          -2.6782282196328024,
          -1.2068971847318049,
          0.8817557910116786,
          1.24084124810912,
          -0.6497987778064365,
          -0.9985133432689008,
          1.7404318210002216,
          0.006269448113173197,
          -1.0888360695852122,
          -2.0806257728411803,
          1.5194078693886661,
          -0.8452760566534565,
          -0.6116298705203155,
          0.3852156286062059,
          -0.8223443081603498,
          -0.6471088536760966,
          0.5757376498682675,
          -0.11602724007195983,
          0.45164281897113545,
          0.049387871754323916,
          0.8696536817954045,
          0.15467339469132277,
          0.16391469508209702,
          0.019570767130891942,
          -0.29012441440522524,
          0.9006159547163501,
          -1.0935593474429195,
          -1.7149949831895048,
          0.8766246539141818,
          -0.41894022154377386,
          0.38545370977307725,
          0.3761884013298682,
          -0.40183836727070854,
          -0.8852419199645146,
          0.06545033657791095,
          -0.5912844705181812,
          0.5499005651829469,
          -0.0028953672735837948,
          -0.06751955240201332,
          -0.1364598072282228,
          0.5478660254587262,
          1.1209119713513573,
          -0.44056185163877964,
          0.6819809085125212,
          -1.744570812276172,
          1.0965466766006342,
          -0.9666450670180567,
          -0.719631723447022,
          1.504130205404488,
          0.5573037381170135,
          0.15176242423433967,
          1.1397173044752613,
          0.46164631885290763,
          -0.5198088233524397,
          2.786583661544022,
          0.0015574722530103794,
          -0.7626358815680526,
          1.6058332064458973,
          0.4124894696963012,
          -1.8358755217882134,
          -0.2728612400594335,
          -0.8356084555841023,
          0.4976244705259505,
          -0.12476794780692588,
          -0.5315848882432254,
          -0.7413144468010111
         ]
        },
        {
         "line": {
          "color": "rgba(50, 171, 96, 1.0)",
          "dash": "solid",
          "shape": "linear",
          "width": 1.3
         },
         "mode": "lines",
         "name": "C",
         "text": "",
         "type": "scatter",
         "x": [
          0,
          1,
          2,
          3,
          4,
          5,
          6,
          7,
          8,
          9,
          10,
          11,
          12,
          13,
          14,
          15,
          16,
          17,
          18,
          19,
          20,
          21,
          22,
          23,
          24,
          25,
          26,
          27,
          28,
          29,
          30,
          31,
          32,
          33,
          34,
          35,
          36,
          37,
          38,
          39,
          40,
          41,
          42,
          43,
          44,
          45,
          46,
          47,
          48,
          49,
          50,
          51,
          52,
          53,
          54,
          55,
          56,
          57,
          58,
          59,
          60,
          61,
          62,
          63,
          64,
          65,
          66,
          67,
          68,
          69,
          70,
          71,
          72,
          73,
          74,
          75,
          76,
          77,
          78,
          79,
          80,
          81,
          82,
          83,
          84,
          85,
          86,
          87,
          88,
          89,
          90,
          91,
          92,
          93,
          94,
          95,
          96,
          97,
          98,
          99
         ],
         "y": [
          1.4233200533170975,
          0.6159496867456131,
          1.7979161916788837,
          0.12139916332939137,
          -0.40125453266904376,
          1.61785316253027,
          -0.6808030391766453,
          -2.216630690177966,
          1.8287380136575637,
          -0.49421587836108194,
          -0.09961300412739195,
          -0.19138151883595206,
          0.638853161900305,
          1.398165666171986,
          0.19596580170798614,
          0.10326196408346817,
          1.7283246092175926,
          0.08352505349632627,
          0.5861542610701532,
          -0.7042117978319893,
          1.1739074126285045,
          -0.6447071267463649,
          -0.584773025960135,
          -2.023064024068859,
          -0.20199159447017545,
          1.3496392759662206,
          -0.14710109262032228,
          0.914518419402551,
          -0.23344367662746354,
          -0.3073859013884055,
          1.2615096767780327,
          -1.4354880375169556,
          -2.0046553286678805,
          0.7132933872478242,
          1.6449218141437816,
          -0.8209431837796699,
          0.09919680776393808,
          -0.6725230534024434,
          1.1235844188898196,
          -1.4402951641516324,
          0.7968983830541359,
          0.4631694940939458,
          -1.3808837085831145,
          -0.9491953851936759,
          -0.7108256042200177,
          -0.4297781341964865,
          1.799918621731629,
          -0.6414089564908176,
          -1.6006698224560578,
          0.5561624868805122,
          0.035903773932643185,
          1.4465698689551396,
          0.5691462555450286,
          -0.4474772983278165,
          -0.7557735903136481,
          0.7253211917370975,
          0.4325090345900524,
          1.7463592510581543,
          -0.3122555391184784,
          0.17182734000031602,
          0.06949090934738986,
          0.7932881874346521,
          2.0104502421536994,
          0.32535689301356596,
          -1.8706464701162937,
          -1.340806900307281,
          -0.36446153804988307,
          -0.614360826521038,
          -1.2960567099922464,
          0.13957639899688445,
          0.21283236535272945,
          0.7496867587839621,
          -0.5044670108662712,
          -0.4693107942344235,
          -0.1428366768089854,
          0.8099341670406704,
          -0.15800715116578368,
          0.09372922115895009,
          -0.27571673214748976,
          -0.4329370157747361,
          -1.1462021929318833,
          -0.36184706799625294,
          -0.16623691634814758,
          1.8514300498089877,
          -0.9042442237521494,
          -2.1471829232725557,
          0.27423799994818854,
          -0.37870857066885016,
          -0.08838583515869604,
          1.6151413809955402,
          -0.6809128262518052,
          0.350073566832486,
          -1.587336910199822,
          1.4430896272711142,
          1.195984425712016,
          -0.820595399394534,
          -0.09644665671787835,
          0.6547879694097968,
          0.5677569196382464,
          -0.4063498784650625
         ]
        },
        {
         "line": {
          "color": "rgba(128, 0, 128, 1.0)",
          "dash": "solid",
          "shape": "linear",
          "width": 1.3
         },
         "mode": "lines",
         "name": "D",
         "text": "",
         "type": "scatter",
         "x": [
          0,
          1,
          2,
          3,
          4,
          5,
          6,
          7,
          8,
          9,
          10,
          11,
          12,
          13,
          14,
          15,
          16,
          17,
          18,
          19,
          20,
          21,
          22,
          23,
          24,
          25,
          26,
          27,
          28,
          29,
          30,
          31,
          32,
          33,
          34,
          35,
          36,
          37,
          38,
          39,
          40,
          41,
          42,
          43,
          44,
          45,
          46,
          47,
          48,
          49,
          50,
          51,
          52,
          53,
          54,
          55,
          56,
          57,
          58,
          59,
          60,
          61,
          62,
          63,
          64,
          65,
          66,
          67,
          68,
          69,
          70,
          71,
          72,
          73,
          74,
          75,
          76,
          77,
          78,
          79,
          80,
          81,
          82,
          83,
          84,
          85,
          86,
          87,
          88,
          89,
          90,
          91,
          92,
          93,
          94,
          95,
          96,
          97,
          98,
          99
         ],
         "y": [
          0.7992324592610167,
          -0.05188210528915001,
          0.8015795783892489,
          -1.7625479996249647,
          -0.23068101326878976,
          0.5424147794179821,
          1.718139710140608,
          -0.642031886955033,
          -0.36291771534161643,
          0.5552061649401454,
          0.48871970286816374,
          0.6023788216017896,
          -0.5670425850032518,
          1.8668425410768033,
          0.4669796392877091,
          1.41066662365623,
          -0.7859448182662659,
          -0.4318436538967881,
          0.9534575451002785,
          0.9112121447323823,
          -0.698578581804585,
          0.5143158906578965,
          -0.4501003312205437,
          -0.13873858485269464,
          -2.6638684619491664,
          0.25218313011119636,
          0.007674540502392985,
          -2.0513491818264775,
          -2.5171585833059247,
          0.10691527264643252,
          -0.5783611683821118,
          -2.457545669901879,
          -2.148288038132148,
          0.20526202863496373,
          0.6953152022027189,
          -0.683709803884698,
          -1.1909216154489195,
          0.8283363345691284,
          -1.1108219203526317,
          -0.15446098860476107,
          1.3382550021782424,
          -1.601909630449409,
          0.48339532458809353,
          -1.204304297934044,
          -1.6175952940395444,
          0.8309993324737532,
          -0.564856327632216,
          0.35159718788849453,
          1.1761504038189217,
          -1.9336845720140432,
          1.6942567540721312,
          0.2676482220157771,
          -0.28970712192305914,
          0.11682347407357466,
          -0.8017249068876192,
          -0.45232518989386455,
          1.5008394166528523,
          -0.8958484772482399,
          1.1904250550007773,
          1.545179504475862,
          -0.3982271367545086,
          -2.179059102931823,
          0.5027227417945013,
          1.7593358159631074,
          0.9674395401861513,
          0.7636882584686431,
          0.6819325455484554,
          0.9406732681547485,
          1.0012488708089025,
          -1.3344074764426668,
          -0.2910369009074888,
          -1.1626818990650376,
          -0.1900657727513096,
          -1.010291644662696,
          -1.9793152233244706,
          1.2014318398594674,
          0.40223513819327933,
          -0.09571982160454257,
          -0.9993326135434881,
          1.076334803451642,
          -0.565775268432088,
          -0.354871749191251,
          0.3679847920125919,
          -0.867403502419228,
          -0.46924428319193223,
          -0.40106252534802445,
          -0.6184632107725365,
          0.5214549978243445,
          1.3968234398094583,
          -0.7346027331483096,
          0.7601639098894806,
          1.2673422785952209,
          -0.5435996104654863,
          1.32596240312645,
          -0.9534951141066719,
          0.23179686678296982,
          1.8213091036611835,
          -0.45184033226446124,
          -0.19177099379029058,
          -1.111679377316681
         ]
        }
       ],
       "layout": {
        "legend": {
         "bgcolor": "#F5F6F9",
         "font": {
          "color": "#4D5663"
         }
        },
        "paper_bgcolor": "#F5F6F9",
        "plot_bgcolor": "#F5F6F9",
        "template": {
         "data": {
          "bar": [
           {
            "error_x": {
             "color": "#2a3f5f"
            },
            "error_y": {
             "color": "#2a3f5f"
            },
            "marker": {
             "line": {
              "color": "#E5ECF6",
              "width": 0.5
             },
             "pattern": {
              "fillmode": "overlay",
              "size": 10,
              "solidity": 0.2
             }
            },
            "type": "bar"
           }
          ],
          "barpolar": [
           {
            "marker": {
             "line": {
              "color": "#E5ECF6",
              "width": 0.5
             },
             "pattern": {
              "fillmode": "overlay",
              "size": 10,
              "solidity": 0.2
             }
            },
            "type": "barpolar"
           }
          ],
          "carpet": [
           {
            "aaxis": {
             "endlinecolor": "#2a3f5f",
             "gridcolor": "white",
             "linecolor": "white",
             "minorgridcolor": "white",
             "startlinecolor": "#2a3f5f"
            },
            "baxis": {
             "endlinecolor": "#2a3f5f",
             "gridcolor": "white",
             "linecolor": "white",
             "minorgridcolor": "white",
             "startlinecolor": "#2a3f5f"
            },
            "type": "carpet"
           }
          ],
          "choropleth": [
           {
            "colorbar": {
             "outlinewidth": 0,
             "ticks": ""
            },
            "type": "choropleth"
           }
          ],
          "contour": [
           {
            "colorbar": {
             "outlinewidth": 0,
             "ticks": ""
            },
            "colorscale": [
             [
              0,
              "#0d0887"
             ],
             [
              0.1111111111111111,
              "#46039f"
             ],
             [
              0.2222222222222222,
              "#7201a8"
             ],
             [
              0.3333333333333333,
              "#9c179e"
             ],
             [
              0.4444444444444444,
              "#bd3786"
             ],
             [
              0.5555555555555556,
              "#d8576b"
             ],
             [
              0.6666666666666666,
              "#ed7953"
             ],
             [
              0.7777777777777778,
              "#fb9f3a"
             ],
             [
              0.8888888888888888,
              "#fdca26"
             ],
             [
              1,
              "#f0f921"
             ]
            ],
            "type": "contour"
           }
          ],
          "contourcarpet": [
           {
            "colorbar": {
             "outlinewidth": 0,
             "ticks": ""
            },
            "type": "contourcarpet"
           }
          ],
          "heatmap": [
           {
            "colorbar": {
             "outlinewidth": 0,
             "ticks": ""
            },
            "colorscale": [
             [
              0,
              "#0d0887"
             ],
             [
              0.1111111111111111,
              "#46039f"
             ],
             [
              0.2222222222222222,
              "#7201a8"
             ],
             [
              0.3333333333333333,
              "#9c179e"
             ],
             [
              0.4444444444444444,
              "#bd3786"
             ],
             [
              0.5555555555555556,
              "#d8576b"
             ],
             [
              0.6666666666666666,
              "#ed7953"
             ],
             [
              0.7777777777777778,
              "#fb9f3a"
             ],
             [
              0.8888888888888888,
              "#fdca26"
             ],
             [
              1,
              "#f0f921"
             ]
            ],
            "type": "heatmap"
           }
          ],
          "heatmapgl": [
           {
            "colorbar": {
             "outlinewidth": 0,
             "ticks": ""
            },
            "colorscale": [
             [
              0,
              "#0d0887"
             ],
             [
              0.1111111111111111,
              "#46039f"
             ],
             [
              0.2222222222222222,
              "#7201a8"
             ],
             [
              0.3333333333333333,
              "#9c179e"
             ],
             [
              0.4444444444444444,
              "#bd3786"
             ],
             [
              0.5555555555555556,
              "#d8576b"
             ],
             [
              0.6666666666666666,
              "#ed7953"
             ],
             [
              0.7777777777777778,
              "#fb9f3a"
             ],
             [
              0.8888888888888888,
              "#fdca26"
             ],
             [
              1,
              "#f0f921"
             ]
            ],
            "type": "heatmapgl"
           }
          ],
          "histogram": [
           {
            "marker": {
             "pattern": {
              "fillmode": "overlay",
              "size": 10,
              "solidity": 0.2
             }
            },
            "type": "histogram"
           }
          ],
          "histogram2d": [
           {
            "colorbar": {
             "outlinewidth": 0,
             "ticks": ""
            },
            "colorscale": [
             [
              0,
              "#0d0887"
             ],
             [
              0.1111111111111111,
              "#46039f"
             ],
             [
              0.2222222222222222,
              "#7201a8"
             ],
             [
              0.3333333333333333,
              "#9c179e"
             ],
             [
              0.4444444444444444,
              "#bd3786"
             ],
             [
              0.5555555555555556,
              "#d8576b"
             ],
             [
              0.6666666666666666,
              "#ed7953"
             ],
             [
              0.7777777777777778,
              "#fb9f3a"
             ],
             [
              0.8888888888888888,
              "#fdca26"
             ],
             [
              1,
              "#f0f921"
             ]
            ],
            "type": "histogram2d"
           }
          ],
          "histogram2dcontour": [
           {
            "colorbar": {
             "outlinewidth": 0,
             "ticks": ""
            },
            "colorscale": [
             [
              0,
              "#0d0887"
             ],
             [
              0.1111111111111111,
              "#46039f"
             ],
             [
              0.2222222222222222,
              "#7201a8"
             ],
             [
              0.3333333333333333,
              "#9c179e"
             ],
             [
              0.4444444444444444,
              "#bd3786"
             ],
             [
              0.5555555555555556,
              "#d8576b"
             ],
             [
              0.6666666666666666,
              "#ed7953"
             ],
             [
              0.7777777777777778,
              "#fb9f3a"
             ],
             [
              0.8888888888888888,
              "#fdca26"
             ],
             [
              1,
              "#f0f921"
             ]
            ],
            "type": "histogram2dcontour"
           }
          ],
          "mesh3d": [
           {
            "colorbar": {
             "outlinewidth": 0,
             "ticks": ""
            },
            "type": "mesh3d"
           }
          ],
          "parcoords": [
           {
            "line": {
             "colorbar": {
              "outlinewidth": 0,
              "ticks": ""
             }
            },
            "type": "parcoords"
           }
          ],
          "pie": [
           {
            "automargin": true,
            "type": "pie"
           }
          ],
          "scatter": [
           {
            "fillpattern": {
             "fillmode": "overlay",
             "size": 10,
             "solidity": 0.2
            },
            "type": "scatter"
           }
          ],
          "scatter3d": [
           {
            "line": {
             "colorbar": {
              "outlinewidth": 0,
              "ticks": ""
             }
            },
            "marker": {
             "colorbar": {
              "outlinewidth": 0,
              "ticks": ""
             }
            },
            "type": "scatter3d"
           }
          ],
          "scattercarpet": [
           {
            "marker": {
             "colorbar": {
              "outlinewidth": 0,
              "ticks": ""
             }
            },
            "type": "scattercarpet"
           }
          ],
          "scattergeo": [
           {
            "marker": {
             "colorbar": {
              "outlinewidth": 0,
              "ticks": ""
             }
            },
            "type": "scattergeo"
           }
          ],
          "scattergl": [
           {
            "marker": {
             "colorbar": {
              "outlinewidth": 0,
              "ticks": ""
             }
            },
            "type": "scattergl"
           }
          ],
          "scattermapbox": [
           {
            "marker": {
             "colorbar": {
              "outlinewidth": 0,
              "ticks": ""
             }
            },
            "type": "scattermapbox"
           }
          ],
          "scatterpolar": [
           {
            "marker": {
             "colorbar": {
              "outlinewidth": 0,
              "ticks": ""
             }
            },
            "type": "scatterpolar"
           }
          ],
          "scatterpolargl": [
           {
            "marker": {
             "colorbar": {
              "outlinewidth": 0,
              "ticks": ""
             }
            },
            "type": "scatterpolargl"
           }
          ],
          "scatterternary": [
           {
            "marker": {
             "colorbar": {
              "outlinewidth": 0,
              "ticks": ""
             }
            },
            "type": "scatterternary"
           }
          ],
          "surface": [
           {
            "colorbar": {
             "outlinewidth": 0,
             "ticks": ""
            },
            "colorscale": [
             [
              0,
              "#0d0887"
             ],
             [
              0.1111111111111111,
              "#46039f"
             ],
             [
              0.2222222222222222,
              "#7201a8"
             ],
             [
              0.3333333333333333,
              "#9c179e"
             ],
             [
              0.4444444444444444,
              "#bd3786"
             ],
             [
              0.5555555555555556,
              "#d8576b"
             ],
             [
              0.6666666666666666,
              "#ed7953"
             ],
             [
              0.7777777777777778,
              "#fb9f3a"
             ],
             [
              0.8888888888888888,
              "#fdca26"
             ],
             [
              1,
              "#f0f921"
             ]
            ],
            "type": "surface"
           }
          ],
          "table": [
           {
            "cells": {
             "fill": {
              "color": "#EBF0F8"
             },
             "line": {
              "color": "white"
             }
            },
            "header": {
             "fill": {
              "color": "#C8D4E3"
             },
             "line": {
              "color": "white"
             }
            },
            "type": "table"
           }
          ]
         },
         "layout": {
          "annotationdefaults": {
           "arrowcolor": "#2a3f5f",
           "arrowhead": 0,
           "arrowwidth": 1
          },
          "autotypenumbers": "strict",
          "coloraxis": {
           "colorbar": {
            "outlinewidth": 0,
            "ticks": ""
           }
          },
          "colorscale": {
           "diverging": [
            [
             0,
             "#8e0152"
            ],
            [
             0.1,
             "#c51b7d"
            ],
            [
             0.2,
             "#de77ae"
            ],
            [
             0.3,
             "#f1b6da"
            ],
            [
             0.4,
             "#fde0ef"
            ],
            [
             0.5,
             "#f7f7f7"
            ],
            [
             0.6,
             "#e6f5d0"
            ],
            [
             0.7,
             "#b8e186"
            ],
            [
             0.8,
             "#7fbc41"
            ],
            [
             0.9,
             "#4d9221"
            ],
            [
             1,
             "#276419"
            ]
           ],
           "sequential": [
            [
             0,
             "#0d0887"
            ],
            [
             0.1111111111111111,
             "#46039f"
            ],
            [
             0.2222222222222222,
             "#7201a8"
            ],
            [
             0.3333333333333333,
             "#9c179e"
            ],
            [
             0.4444444444444444,
             "#bd3786"
            ],
            [
             0.5555555555555556,
             "#d8576b"
            ],
            [
             0.6666666666666666,
             "#ed7953"
            ],
            [
             0.7777777777777778,
             "#fb9f3a"
            ],
            [
             0.8888888888888888,
             "#fdca26"
            ],
            [
             1,
             "#f0f921"
            ]
           ],
           "sequentialminus": [
            [
             0,
             "#0d0887"
            ],
            [
             0.1111111111111111,
             "#46039f"
            ],
            [
             0.2222222222222222,
             "#7201a8"
            ],
            [
             0.3333333333333333,
             "#9c179e"
            ],
            [
             0.4444444444444444,
             "#bd3786"
            ],
            [
             0.5555555555555556,
             "#d8576b"
            ],
            [
             0.6666666666666666,
             "#ed7953"
            ],
            [
             0.7777777777777778,
             "#fb9f3a"
            ],
            [
             0.8888888888888888,
             "#fdca26"
            ],
            [
             1,
             "#f0f921"
            ]
           ]
          },
          "colorway": [
           "#636efa",
           "#EF553B",
           "#00cc96",
           "#ab63fa",
           "#FFA15A",
           "#19d3f3",
           "#FF6692",
           "#B6E880",
           "#FF97FF",
           "#FECB52"
          ],
          "font": {
           "color": "#2a3f5f"
          },
          "geo": {
           "bgcolor": "white",
           "lakecolor": "white",
           "landcolor": "#E5ECF6",
           "showlakes": true,
           "showland": true,
           "subunitcolor": "white"
          },
          "hoverlabel": {
           "align": "left"
          },
          "hovermode": "closest",
          "mapbox": {
           "style": "light"
          },
          "paper_bgcolor": "white",
          "plot_bgcolor": "#E5ECF6",
          "polar": {
           "angularaxis": {
            "gridcolor": "white",
            "linecolor": "white",
            "ticks": ""
           },
           "bgcolor": "#E5ECF6",
           "radialaxis": {
            "gridcolor": "white",
            "linecolor": "white",
            "ticks": ""
           }
          },
          "scene": {
           "xaxis": {
            "backgroundcolor": "#E5ECF6",
            "gridcolor": "white",
            "gridwidth": 2,
            "linecolor": "white",
            "showbackground": true,
            "ticks": "",
            "zerolinecolor": "white"
           },
           "yaxis": {
            "backgroundcolor": "#E5ECF6",
            "gridcolor": "white",
            "gridwidth": 2,
            "linecolor": "white",
            "showbackground": true,
            "ticks": "",
            "zerolinecolor": "white"
           },
           "zaxis": {
            "backgroundcolor": "#E5ECF6",
            "gridcolor": "white",
            "gridwidth": 2,
            "linecolor": "white",
            "showbackground": true,
            "ticks": "",
            "zerolinecolor": "white"
           }
          },
          "shapedefaults": {
           "line": {
            "color": "#2a3f5f"
           }
          },
          "ternary": {
           "aaxis": {
            "gridcolor": "white",
            "linecolor": "white",
            "ticks": ""
           },
           "baxis": {
            "gridcolor": "white",
            "linecolor": "white",
            "ticks": ""
           },
           "bgcolor": "#E5ECF6",
           "caxis": {
            "gridcolor": "white",
            "linecolor": "white",
            "ticks": ""
           }
          },
          "title": {
           "x": 0.05
          },
          "xaxis": {
           "automargin": true,
           "gridcolor": "white",
           "linecolor": "white",
           "ticks": "",
           "title": {
            "standoff": 15
           },
           "zerolinecolor": "white",
           "zerolinewidth": 2
          },
          "yaxis": {
           "automargin": true,
           "gridcolor": "white",
           "linecolor": "white",
           "ticks": "",
           "title": {
            "standoff": 15
           },
           "zerolinecolor": "white",
           "zerolinewidth": 2
          }
         }
        },
        "title": {
         "font": {
          "color": "#4D5663"
         }
        },
        "xaxis": {
         "gridcolor": "#E1E5ED",
         "showgrid": true,
         "tickfont": {
          "color": "#4D5663"
         },
         "title": {
          "font": {
           "color": "#4D5663"
          },
          "text": ""
         },
         "zerolinecolor": "#E1E5ED"
        },
        "yaxis": {
         "gridcolor": "#E1E5ED",
         "showgrid": true,
         "tickfont": {
          "color": "#4D5663"
         },
         "title": {
          "font": {
           "color": "#4D5663"
          },
          "text": ""
         },
         "zerolinecolor": "#E1E5ED"
        }
       }
      },
      "text/html": [
       "<div>                            <div id=\"dbec0d89-a102-4fe3-8861-58e15bd4ad37\" class=\"plotly-graph-div\" style=\"height:525px; width:100%;\"></div>            <script type=\"text/javascript\">                require([\"plotly\"], function(Plotly) {                    window.PLOTLYENV=window.PLOTLYENV || {};\n",
       "                    window.PLOTLYENV.BASE_URL='https://plot.ly';                                    if (document.getElementById(\"dbec0d89-a102-4fe3-8861-58e15bd4ad37\")) {                    Plotly.newPlot(                        \"dbec0d89-a102-4fe3-8861-58e15bd4ad37\",                        [{\"line\":{\"color\":\"rgba(255, 153, 51, 1.0)\",\"dash\":\"solid\",\"shape\":\"linear\",\"width\":1.3},\"mode\":\"lines\",\"name\":\"A\",\"text\":\"\",\"x\":[0,1,2,3,4,5,6,7,8,9,10,11,12,13,14,15,16,17,18,19,20,21,22,23,24,25,26,27,28,29,30,31,32,33,34,35,36,37,38,39,40,41,42,43,44,45,46,47,48,49,50,51,52,53,54,55,56,57,58,59,60,61,62,63,64,65,66,67,68,69,70,71,72,73,74,75,76,77,78,79,80,81,82,83,84,85,86,87,88,89,90,91,92,93,94,95,96,97,98,99],\"y\":[0.6693661948659464,-1.409044815883012,-1.5455132834648089,0.6594642363422143,-0.09187247967043793,-0.730872810435815,-1.275919630139343,0.5230249705628381,-0.43397846009587693,-1.7396304117414094,-0.4946101964719013,0.30911834387069603,0.005740623968679781,-1.915161692689898,-0.3933771893139661,-1.5715842465033658,0.5584309091887014,0.443929077658181,0.42144883741187095,-1.2990455931993434,-0.4648052895158669,-1.4871274872639502,0.7897744945229496,-0.40787599619101145,-1.282569429442684,-1.416396656394587,-0.5757480437607201,0.7884005807602522,-0.22089370830785646,0.8721005626280494,0.6567327838128859,-0.4228616246723989,0.995975547606502,0.8054519633236913,0.8843786917513216,1.2134326819921784,-0.06546507933482919,-0.834255920485621,-0.8561919143953065,0.47435199850244514,1.2122433047509944,0.09169781628532563,0.5423837717420449,1.1462383500652646,2.056703885305179,-1.6224185421357327,-1.125949736917768,1.660578525022922,-0.5414056122193067,0.9979304853907104,0.340038928237054,-0.3421041025328197,-0.2538078053973776,-1.465463332830521,0.09781815927902178,0.917451586261482,0.38829880280747814,-0.5903613623266755,0.18283389165631908,0.8167981574453973,-0.33050615215525225,-2.351061461499044,-0.21938938619252876,-0.5343172250761418,0.5383465122361409,-1.584531740831603,-0.5248338648093666,-0.042128313288309197,0.2930936834740656,-0.18242520569668452,-0.32440972512416955,-0.26396063970516837,0.25510552399176567,1.0913344523198856,-0.26432546702841975,-1.1324962182484257,-0.3334188287709066,0.47165865713664096,-0.00722601308551948,-0.6004700482876557,-1.1671025640491137,1.3856312367633412,-1.9994626518762393,-0.4574667433126146,0.5706296296645946,-0.4418303579630319,1.0296016008018352,-0.23612241811588852,-0.8472454978284362,0.05050308339176204,-0.8181004061510664,0.684027136964716,0.16310082433895473,-1.797850143901822,-0.8267184298920633,-0.2986569140798697,0.9120993737504053,-0.941192969783878,0.8176020424453682,-0.3605275708624665],\"type\":\"scatter\"},{\"line\":{\"color\":\"rgba(55, 128, 191, 1.0)\",\"dash\":\"solid\",\"shape\":\"linear\",\"width\":1.3},\"mode\":\"lines\",\"name\":\"B\",\"text\":\"\",\"x\":[0,1,2,3,4,5,6,7,8,9,10,11,12,13,14,15,16,17,18,19,20,21,22,23,24,25,26,27,28,29,30,31,32,33,34,35,36,37,38,39,40,41,42,43,44,45,46,47,48,49,50,51,52,53,54,55,56,57,58,59,60,61,62,63,64,65,66,67,68,69,70,71,72,73,74,75,76,77,78,79,80,81,82,83,84,85,86,87,88,89,90,91,92,93,94,95,96,97,98,99],\"y\":[-0.4414590644709143,0.6009475102866352,3.510112069764468,1.5610552154700426,0.3884407199380903,-0.4345526018263627,-1.5666312237968276,1.1581096173233933,0.8004321234159172,2.0683908511197133,2.0755846544816277,-0.08604290723107731,-1.852937809123877,-0.9219953804103326,1.5618581074219662,0.6223130637864492,0.10268604787080232,-1.502931394299509,-1.1912728932017442,-2.093129747282381,-0.11515313414454793,0.4761692720056932,0.7714845354688461,1.1481159962233656,0.3167448548122893,2.6445662984808225,0.41824474356144214,1.2258403587871345,-0.9281528640238541,-0.2321860023071417,0.09373345895297824,0.007760938161068311,0.07077794095980522,-1.5700388740869569,-2.6782282196328024,-1.2068971847318049,0.8817557910116786,1.24084124810912,-0.6497987778064365,-0.9985133432689008,1.7404318210002216,0.006269448113173197,-1.0888360695852122,-2.0806257728411803,1.5194078693886661,-0.8452760566534565,-0.6116298705203155,0.3852156286062059,-0.8223443081603498,-0.6471088536760966,0.5757376498682675,-0.11602724007195983,0.45164281897113545,0.049387871754323916,0.8696536817954045,0.15467339469132277,0.16391469508209702,0.019570767130891942,-0.29012441440522524,0.9006159547163501,-1.0935593474429195,-1.7149949831895048,0.8766246539141818,-0.41894022154377386,0.38545370977307725,0.3761884013298682,-0.40183836727070854,-0.8852419199645146,0.06545033657791095,-0.5912844705181812,0.5499005651829469,-0.0028953672735837948,-0.06751955240201332,-0.1364598072282228,0.5478660254587262,1.1209119713513573,-0.44056185163877964,0.6819809085125212,-1.744570812276172,1.0965466766006342,-0.9666450670180567,-0.719631723447022,1.504130205404488,0.5573037381170135,0.15176242423433967,1.1397173044752613,0.46164631885290763,-0.5198088233524397,2.786583661544022,0.0015574722530103794,-0.7626358815680526,1.6058332064458973,0.4124894696963012,-1.8358755217882134,-0.2728612400594335,-0.8356084555841023,0.4976244705259505,-0.12476794780692588,-0.5315848882432254,-0.7413144468010111],\"type\":\"scatter\"},{\"line\":{\"color\":\"rgba(50, 171, 96, 1.0)\",\"dash\":\"solid\",\"shape\":\"linear\",\"width\":1.3},\"mode\":\"lines\",\"name\":\"C\",\"text\":\"\",\"x\":[0,1,2,3,4,5,6,7,8,9,10,11,12,13,14,15,16,17,18,19,20,21,22,23,24,25,26,27,28,29,30,31,32,33,34,35,36,37,38,39,40,41,42,43,44,45,46,47,48,49,50,51,52,53,54,55,56,57,58,59,60,61,62,63,64,65,66,67,68,69,70,71,72,73,74,75,76,77,78,79,80,81,82,83,84,85,86,87,88,89,90,91,92,93,94,95,96,97,98,99],\"y\":[1.4233200533170975,0.6159496867456131,1.7979161916788837,0.12139916332939137,-0.40125453266904376,1.61785316253027,-0.6808030391766453,-2.216630690177966,1.8287380136575637,-0.49421587836108194,-0.09961300412739195,-0.19138151883595206,0.638853161900305,1.398165666171986,0.19596580170798614,0.10326196408346817,1.7283246092175926,0.08352505349632627,0.5861542610701532,-0.7042117978319893,1.1739074126285045,-0.6447071267463649,-0.584773025960135,-2.023064024068859,-0.20199159447017545,1.3496392759662206,-0.14710109262032228,0.914518419402551,-0.23344367662746354,-0.3073859013884055,1.2615096767780327,-1.4354880375169556,-2.0046553286678805,0.7132933872478242,1.6449218141437816,-0.8209431837796699,0.09919680776393808,-0.6725230534024434,1.1235844188898196,-1.4402951641516324,0.7968983830541359,0.4631694940939458,-1.3808837085831145,-0.9491953851936759,-0.7108256042200177,-0.4297781341964865,1.799918621731629,-0.6414089564908176,-1.6006698224560578,0.5561624868805122,0.035903773932643185,1.4465698689551396,0.5691462555450286,-0.4474772983278165,-0.7557735903136481,0.7253211917370975,0.4325090345900524,1.7463592510581543,-0.3122555391184784,0.17182734000031602,0.06949090934738986,0.7932881874346521,2.0104502421536994,0.32535689301356596,-1.8706464701162937,-1.340806900307281,-0.36446153804988307,-0.614360826521038,-1.2960567099922464,0.13957639899688445,0.21283236535272945,0.7496867587839621,-0.5044670108662712,-0.4693107942344235,-0.1428366768089854,0.8099341670406704,-0.15800715116578368,0.09372922115895009,-0.27571673214748976,-0.4329370157747361,-1.1462021929318833,-0.36184706799625294,-0.16623691634814758,1.8514300498089877,-0.9042442237521494,-2.1471829232725557,0.27423799994818854,-0.37870857066885016,-0.08838583515869604,1.6151413809955402,-0.6809128262518052,0.350073566832486,-1.587336910199822,1.4430896272711142,1.195984425712016,-0.820595399394534,-0.09644665671787835,0.6547879694097968,0.5677569196382464,-0.4063498784650625],\"type\":\"scatter\"},{\"line\":{\"color\":\"rgba(128, 0, 128, 1.0)\",\"dash\":\"solid\",\"shape\":\"linear\",\"width\":1.3},\"mode\":\"lines\",\"name\":\"D\",\"text\":\"\",\"x\":[0,1,2,3,4,5,6,7,8,9,10,11,12,13,14,15,16,17,18,19,20,21,22,23,24,25,26,27,28,29,30,31,32,33,34,35,36,37,38,39,40,41,42,43,44,45,46,47,48,49,50,51,52,53,54,55,56,57,58,59,60,61,62,63,64,65,66,67,68,69,70,71,72,73,74,75,76,77,78,79,80,81,82,83,84,85,86,87,88,89,90,91,92,93,94,95,96,97,98,99],\"y\":[0.7992324592610167,-0.05188210528915001,0.8015795783892489,-1.7625479996249647,-0.23068101326878976,0.5424147794179821,1.718139710140608,-0.642031886955033,-0.36291771534161643,0.5552061649401454,0.48871970286816374,0.6023788216017896,-0.5670425850032518,1.8668425410768033,0.4669796392877091,1.41066662365623,-0.7859448182662659,-0.4318436538967881,0.9534575451002785,0.9112121447323823,-0.698578581804585,0.5143158906578965,-0.4501003312205437,-0.13873858485269464,-2.6638684619491664,0.25218313011119636,0.007674540502392985,-2.0513491818264775,-2.5171585833059247,0.10691527264643252,-0.5783611683821118,-2.457545669901879,-2.148288038132148,0.20526202863496373,0.6953152022027189,-0.683709803884698,-1.1909216154489195,0.8283363345691284,-1.1108219203526317,-0.15446098860476107,1.3382550021782424,-1.601909630449409,0.48339532458809353,-1.204304297934044,-1.6175952940395444,0.8309993324737532,-0.564856327632216,0.35159718788849453,1.1761504038189217,-1.9336845720140432,1.6942567540721312,0.2676482220157771,-0.28970712192305914,0.11682347407357466,-0.8017249068876192,-0.45232518989386455,1.5008394166528523,-0.8958484772482399,1.1904250550007773,1.545179504475862,-0.3982271367545086,-2.179059102931823,0.5027227417945013,1.7593358159631074,0.9674395401861513,0.7636882584686431,0.6819325455484554,0.9406732681547485,1.0012488708089025,-1.3344074764426668,-0.2910369009074888,-1.1626818990650376,-0.1900657727513096,-1.010291644662696,-1.9793152233244706,1.2014318398594674,0.40223513819327933,-0.09571982160454257,-0.9993326135434881,1.076334803451642,-0.565775268432088,-0.354871749191251,0.3679847920125919,-0.867403502419228,-0.46924428319193223,-0.40106252534802445,-0.6184632107725365,0.5214549978243445,1.3968234398094583,-0.7346027331483096,0.7601639098894806,1.2673422785952209,-0.5435996104654863,1.32596240312645,-0.9534951141066719,0.23179686678296982,1.8213091036611835,-0.45184033226446124,-0.19177099379029058,-1.111679377316681],\"type\":\"scatter\"}],                        {\"legend\":{\"bgcolor\":\"#F5F6F9\",\"font\":{\"color\":\"#4D5663\"}},\"paper_bgcolor\":\"#F5F6F9\",\"plot_bgcolor\":\"#F5F6F9\",\"template\":{\"data\":{\"barpolar\":[{\"marker\":{\"line\":{\"color\":\"#E5ECF6\",\"width\":0.5},\"pattern\":{\"fillmode\":\"overlay\",\"size\":10,\"solidity\":0.2}},\"type\":\"barpolar\"}],\"bar\":[{\"error_x\":{\"color\":\"#2a3f5f\"},\"error_y\":{\"color\":\"#2a3f5f\"},\"marker\":{\"line\":{\"color\":\"#E5ECF6\",\"width\":0.5},\"pattern\":{\"fillmode\":\"overlay\",\"size\":10,\"solidity\":0.2}},\"type\":\"bar\"}],\"carpet\":[{\"aaxis\":{\"endlinecolor\":\"#2a3f5f\",\"gridcolor\":\"white\",\"linecolor\":\"white\",\"minorgridcolor\":\"white\",\"startlinecolor\":\"#2a3f5f\"},\"baxis\":{\"endlinecolor\":\"#2a3f5f\",\"gridcolor\":\"white\",\"linecolor\":\"white\",\"minorgridcolor\":\"white\",\"startlinecolor\":\"#2a3f5f\"},\"type\":\"carpet\"}],\"choropleth\":[{\"colorbar\":{\"outlinewidth\":0,\"ticks\":\"\"},\"type\":\"choropleth\"}],\"contourcarpet\":[{\"colorbar\":{\"outlinewidth\":0,\"ticks\":\"\"},\"type\":\"contourcarpet\"}],\"contour\":[{\"colorbar\":{\"outlinewidth\":0,\"ticks\":\"\"},\"colorscale\":[[0.0,\"#0d0887\"],[0.1111111111111111,\"#46039f\"],[0.2222222222222222,\"#7201a8\"],[0.3333333333333333,\"#9c179e\"],[0.4444444444444444,\"#bd3786\"],[0.5555555555555556,\"#d8576b\"],[0.6666666666666666,\"#ed7953\"],[0.7777777777777778,\"#fb9f3a\"],[0.8888888888888888,\"#fdca26\"],[1.0,\"#f0f921\"]],\"type\":\"contour\"}],\"heatmapgl\":[{\"colorbar\":{\"outlinewidth\":0,\"ticks\":\"\"},\"colorscale\":[[0.0,\"#0d0887\"],[0.1111111111111111,\"#46039f\"],[0.2222222222222222,\"#7201a8\"],[0.3333333333333333,\"#9c179e\"],[0.4444444444444444,\"#bd3786\"],[0.5555555555555556,\"#d8576b\"],[0.6666666666666666,\"#ed7953\"],[0.7777777777777778,\"#fb9f3a\"],[0.8888888888888888,\"#fdca26\"],[1.0,\"#f0f921\"]],\"type\":\"heatmapgl\"}],\"heatmap\":[{\"colorbar\":{\"outlinewidth\":0,\"ticks\":\"\"},\"colorscale\":[[0.0,\"#0d0887\"],[0.1111111111111111,\"#46039f\"],[0.2222222222222222,\"#7201a8\"],[0.3333333333333333,\"#9c179e\"],[0.4444444444444444,\"#bd3786\"],[0.5555555555555556,\"#d8576b\"],[0.6666666666666666,\"#ed7953\"],[0.7777777777777778,\"#fb9f3a\"],[0.8888888888888888,\"#fdca26\"],[1.0,\"#f0f921\"]],\"type\":\"heatmap\"}],\"histogram2dcontour\":[{\"colorbar\":{\"outlinewidth\":0,\"ticks\":\"\"},\"colorscale\":[[0.0,\"#0d0887\"],[0.1111111111111111,\"#46039f\"],[0.2222222222222222,\"#7201a8\"],[0.3333333333333333,\"#9c179e\"],[0.4444444444444444,\"#bd3786\"],[0.5555555555555556,\"#d8576b\"],[0.6666666666666666,\"#ed7953\"],[0.7777777777777778,\"#fb9f3a\"],[0.8888888888888888,\"#fdca26\"],[1.0,\"#f0f921\"]],\"type\":\"histogram2dcontour\"}],\"histogram2d\":[{\"colorbar\":{\"outlinewidth\":0,\"ticks\":\"\"},\"colorscale\":[[0.0,\"#0d0887\"],[0.1111111111111111,\"#46039f\"],[0.2222222222222222,\"#7201a8\"],[0.3333333333333333,\"#9c179e\"],[0.4444444444444444,\"#bd3786\"],[0.5555555555555556,\"#d8576b\"],[0.6666666666666666,\"#ed7953\"],[0.7777777777777778,\"#fb9f3a\"],[0.8888888888888888,\"#fdca26\"],[1.0,\"#f0f921\"]],\"type\":\"histogram2d\"}],\"histogram\":[{\"marker\":{\"pattern\":{\"fillmode\":\"overlay\",\"size\":10,\"solidity\":0.2}},\"type\":\"histogram\"}],\"mesh3d\":[{\"colorbar\":{\"outlinewidth\":0,\"ticks\":\"\"},\"type\":\"mesh3d\"}],\"parcoords\":[{\"line\":{\"colorbar\":{\"outlinewidth\":0,\"ticks\":\"\"}},\"type\":\"parcoords\"}],\"pie\":[{\"automargin\":true,\"type\":\"pie\"}],\"scatter3d\":[{\"line\":{\"colorbar\":{\"outlinewidth\":0,\"ticks\":\"\"}},\"marker\":{\"colorbar\":{\"outlinewidth\":0,\"ticks\":\"\"}},\"type\":\"scatter3d\"}],\"scattercarpet\":[{\"marker\":{\"colorbar\":{\"outlinewidth\":0,\"ticks\":\"\"}},\"type\":\"scattercarpet\"}],\"scattergeo\":[{\"marker\":{\"colorbar\":{\"outlinewidth\":0,\"ticks\":\"\"}},\"type\":\"scattergeo\"}],\"scattergl\":[{\"marker\":{\"colorbar\":{\"outlinewidth\":0,\"ticks\":\"\"}},\"type\":\"scattergl\"}],\"scattermapbox\":[{\"marker\":{\"colorbar\":{\"outlinewidth\":0,\"ticks\":\"\"}},\"type\":\"scattermapbox\"}],\"scatterpolargl\":[{\"marker\":{\"colorbar\":{\"outlinewidth\":0,\"ticks\":\"\"}},\"type\":\"scatterpolargl\"}],\"scatterpolar\":[{\"marker\":{\"colorbar\":{\"outlinewidth\":0,\"ticks\":\"\"}},\"type\":\"scatterpolar\"}],\"scatter\":[{\"fillpattern\":{\"fillmode\":\"overlay\",\"size\":10,\"solidity\":0.2},\"type\":\"scatter\"}],\"scatterternary\":[{\"marker\":{\"colorbar\":{\"outlinewidth\":0,\"ticks\":\"\"}},\"type\":\"scatterternary\"}],\"surface\":[{\"colorbar\":{\"outlinewidth\":0,\"ticks\":\"\"},\"colorscale\":[[0.0,\"#0d0887\"],[0.1111111111111111,\"#46039f\"],[0.2222222222222222,\"#7201a8\"],[0.3333333333333333,\"#9c179e\"],[0.4444444444444444,\"#bd3786\"],[0.5555555555555556,\"#d8576b\"],[0.6666666666666666,\"#ed7953\"],[0.7777777777777778,\"#fb9f3a\"],[0.8888888888888888,\"#fdca26\"],[1.0,\"#f0f921\"]],\"type\":\"surface\"}],\"table\":[{\"cells\":{\"fill\":{\"color\":\"#EBF0F8\"},\"line\":{\"color\":\"white\"}},\"header\":{\"fill\":{\"color\":\"#C8D4E3\"},\"line\":{\"color\":\"white\"}},\"type\":\"table\"}]},\"layout\":{\"annotationdefaults\":{\"arrowcolor\":\"#2a3f5f\",\"arrowhead\":0,\"arrowwidth\":1},\"autotypenumbers\":\"strict\",\"coloraxis\":{\"colorbar\":{\"outlinewidth\":0,\"ticks\":\"\"}},\"colorscale\":{\"diverging\":[[0,\"#8e0152\"],[0.1,\"#c51b7d\"],[0.2,\"#de77ae\"],[0.3,\"#f1b6da\"],[0.4,\"#fde0ef\"],[0.5,\"#f7f7f7\"],[0.6,\"#e6f5d0\"],[0.7,\"#b8e186\"],[0.8,\"#7fbc41\"],[0.9,\"#4d9221\"],[1,\"#276419\"]],\"sequential\":[[0.0,\"#0d0887\"],[0.1111111111111111,\"#46039f\"],[0.2222222222222222,\"#7201a8\"],[0.3333333333333333,\"#9c179e\"],[0.4444444444444444,\"#bd3786\"],[0.5555555555555556,\"#d8576b\"],[0.6666666666666666,\"#ed7953\"],[0.7777777777777778,\"#fb9f3a\"],[0.8888888888888888,\"#fdca26\"],[1.0,\"#f0f921\"]],\"sequentialminus\":[[0.0,\"#0d0887\"],[0.1111111111111111,\"#46039f\"],[0.2222222222222222,\"#7201a8\"],[0.3333333333333333,\"#9c179e\"],[0.4444444444444444,\"#bd3786\"],[0.5555555555555556,\"#d8576b\"],[0.6666666666666666,\"#ed7953\"],[0.7777777777777778,\"#fb9f3a\"],[0.8888888888888888,\"#fdca26\"],[1.0,\"#f0f921\"]]},\"colorway\":[\"#636efa\",\"#EF553B\",\"#00cc96\",\"#ab63fa\",\"#FFA15A\",\"#19d3f3\",\"#FF6692\",\"#B6E880\",\"#FF97FF\",\"#FECB52\"],\"font\":{\"color\":\"#2a3f5f\"},\"geo\":{\"bgcolor\":\"white\",\"lakecolor\":\"white\",\"landcolor\":\"#E5ECF6\",\"showlakes\":true,\"showland\":true,\"subunitcolor\":\"white\"},\"hoverlabel\":{\"align\":\"left\"},\"hovermode\":\"closest\",\"mapbox\":{\"style\":\"light\"},\"paper_bgcolor\":\"white\",\"plot_bgcolor\":\"#E5ECF6\",\"polar\":{\"angularaxis\":{\"gridcolor\":\"white\",\"linecolor\":\"white\",\"ticks\":\"\"},\"bgcolor\":\"#E5ECF6\",\"radialaxis\":{\"gridcolor\":\"white\",\"linecolor\":\"white\",\"ticks\":\"\"}},\"scene\":{\"xaxis\":{\"backgroundcolor\":\"#E5ECF6\",\"gridcolor\":\"white\",\"gridwidth\":2,\"linecolor\":\"white\",\"showbackground\":true,\"ticks\":\"\",\"zerolinecolor\":\"white\"},\"yaxis\":{\"backgroundcolor\":\"#E5ECF6\",\"gridcolor\":\"white\",\"gridwidth\":2,\"linecolor\":\"white\",\"showbackground\":true,\"ticks\":\"\",\"zerolinecolor\":\"white\"},\"zaxis\":{\"backgroundcolor\":\"#E5ECF6\",\"gridcolor\":\"white\",\"gridwidth\":2,\"linecolor\":\"white\",\"showbackground\":true,\"ticks\":\"\",\"zerolinecolor\":\"white\"}},\"shapedefaults\":{\"line\":{\"color\":\"#2a3f5f\"}},\"ternary\":{\"aaxis\":{\"gridcolor\":\"white\",\"linecolor\":\"white\",\"ticks\":\"\"},\"baxis\":{\"gridcolor\":\"white\",\"linecolor\":\"white\",\"ticks\":\"\"},\"bgcolor\":\"#E5ECF6\",\"caxis\":{\"gridcolor\":\"white\",\"linecolor\":\"white\",\"ticks\":\"\"}},\"title\":{\"x\":0.05},\"xaxis\":{\"automargin\":true,\"gridcolor\":\"white\",\"linecolor\":\"white\",\"ticks\":\"\",\"title\":{\"standoff\":15},\"zerolinecolor\":\"white\",\"zerolinewidth\":2},\"yaxis\":{\"automargin\":true,\"gridcolor\":\"white\",\"linecolor\":\"white\",\"ticks\":\"\",\"title\":{\"standoff\":15},\"zerolinecolor\":\"white\",\"zerolinewidth\":2}}},\"title\":{\"font\":{\"color\":\"#4D5663\"}},\"xaxis\":{\"gridcolor\":\"#E1E5ED\",\"showgrid\":true,\"tickfont\":{\"color\":\"#4D5663\"},\"title\":{\"font\":{\"color\":\"#4D5663\"},\"text\":\"\"},\"zerolinecolor\":\"#E1E5ED\"},\"yaxis\":{\"gridcolor\":\"#E1E5ED\",\"showgrid\":true,\"tickfont\":{\"color\":\"#4D5663\"},\"title\":{\"font\":{\"color\":\"#4D5663\"},\"text\":\"\"},\"zerolinecolor\":\"#E1E5ED\"}},                        {\"showLink\": true, \"linkText\": \"Export to plot.ly\", \"plotlyServerURL\": \"https://plot.ly\", \"responsive\": true}                    ).then(function(){\n",
       "                            \n",
       "var gd = document.getElementById('dbec0d89-a102-4fe3-8861-58e15bd4ad37');\n",
       "var x = new MutationObserver(function (mutations, observer) {{\n",
       "        var display = window.getComputedStyle(gd).display;\n",
       "        if (!display || display === 'none') {{\n",
       "            console.log([gd, 'removed!']);\n",
       "            Plotly.purge(gd);\n",
       "            observer.disconnect();\n",
       "        }}\n",
       "}});\n",
       "\n",
       "// Listen for the removal of the full notebook cells\n",
       "var notebookContainer = gd.closest('#notebook-container');\n",
       "if (notebookContainer) {{\n",
       "    x.observe(notebookContainer, {childList: true});\n",
       "}}\n",
       "\n",
       "// Listen for the clearing of the current output cell\n",
       "var outputEl = gd.closest('.output');\n",
       "if (outputEl) {{\n",
       "    x.observe(outputEl, {childList: true});\n",
       "}}\n",
       "\n",
       "                        })                };                });            </script>        </div>"
      ]
     },
     "metadata": {},
     "output_type": "display_data"
    }
   ],
   "source": [
    "df.iplot()"
   ]
  },
  {
   "cell_type": "markdown",
   "metadata": {},
   "source": [
    "+ `scater`"
   ]
  },
  {
   "cell_type": "code",
   "execution_count": 12,
   "metadata": {},
   "outputs": [
    {
     "data": {
      "application/vnd.plotly.v1+json": {
       "config": {
        "linkText": "Export to plot.ly",
        "plotlyServerURL": "https://plot.ly",
        "showLink": true
       },
       "data": [
        {
         "line": {
          "color": "rgba(255, 153, 51, 1.0)",
          "dash": "solid",
          "shape": "linear",
          "width": 1.3
         },
         "marker": {
          "size": 10,
          "symbol": "circle"
         },
         "mode": "markers",
         "name": "B",
         "text": "",
         "type": "scatter",
         "x": [
          0.6693661948659464,
          -1.409044815883012,
          -1.5455132834648089,
          0.6594642363422143,
          -0.09187247967043793,
          -0.730872810435815,
          -1.275919630139343,
          0.5230249705628381,
          -0.43397846009587693,
          -1.7396304117414094,
          -0.4946101964719013,
          0.30911834387069603,
          0.005740623968679781,
          -1.915161692689898,
          -0.3933771893139661,
          -1.5715842465033658,
          0.5584309091887014,
          0.443929077658181,
          0.42144883741187095,
          -1.2990455931993434,
          -0.4648052895158669,
          -1.4871274872639502,
          0.7897744945229496,
          -0.40787599619101145,
          -1.282569429442684,
          -1.416396656394587,
          -0.5757480437607201,
          0.7884005807602522,
          -0.22089370830785646,
          0.8721005626280494,
          0.6567327838128859,
          -0.4228616246723989,
          0.995975547606502,
          0.8054519633236913,
          0.8843786917513216,
          1.2134326819921784,
          -0.06546507933482919,
          -0.834255920485621,
          -0.8561919143953065,
          0.47435199850244514,
          1.2122433047509944,
          0.09169781628532563,
          0.5423837717420449,
          1.1462383500652646,
          2.056703885305179,
          -1.6224185421357327,
          -1.125949736917768,
          1.660578525022922,
          -0.5414056122193067,
          0.9979304853907104,
          0.340038928237054,
          -0.3421041025328197,
          -0.2538078053973776,
          -1.465463332830521,
          0.09781815927902178,
          0.917451586261482,
          0.38829880280747814,
          -0.5903613623266755,
          0.18283389165631908,
          0.8167981574453973,
          -0.33050615215525225,
          -2.351061461499044,
          -0.21938938619252876,
          -0.5343172250761418,
          0.5383465122361409,
          -1.584531740831603,
          -0.5248338648093666,
          -0.042128313288309197,
          0.2930936834740656,
          -0.18242520569668452,
          -0.32440972512416955,
          -0.26396063970516837,
          0.25510552399176567,
          1.0913344523198856,
          -0.26432546702841975,
          -1.1324962182484257,
          -0.3334188287709066,
          0.47165865713664096,
          -0.00722601308551948,
          -0.6004700482876557,
          -1.1671025640491137,
          1.3856312367633412,
          -1.9994626518762393,
          -0.4574667433126146,
          0.5706296296645946,
          -0.4418303579630319,
          1.0296016008018352,
          -0.23612241811588852,
          -0.8472454978284362,
          0.05050308339176204,
          -0.8181004061510664,
          0.684027136964716,
          0.16310082433895473,
          -1.797850143901822,
          -0.8267184298920633,
          -0.2986569140798697,
          0.9120993737504053,
          -0.941192969783878,
          0.8176020424453682,
          -0.3605275708624665
         ],
         "y": [
          -0.4414590644709143,
          0.6009475102866352,
          3.510112069764468,
          1.5610552154700426,
          0.3884407199380903,
          -0.4345526018263627,
          -1.5666312237968276,
          1.1581096173233933,
          0.8004321234159172,
          2.0683908511197133,
          2.0755846544816277,
          -0.08604290723107731,
          -1.852937809123877,
          -0.9219953804103326,
          1.5618581074219662,
          0.6223130637864492,
          0.10268604787080232,
          -1.502931394299509,
          -1.1912728932017442,
          -2.093129747282381,
          -0.11515313414454793,
          0.4761692720056932,
          0.7714845354688461,
          1.1481159962233656,
          0.3167448548122893,
          2.6445662984808225,
          0.41824474356144214,
          1.2258403587871345,
          -0.9281528640238541,
          -0.2321860023071417,
          0.09373345895297824,
          0.007760938161068311,
          0.07077794095980522,
          -1.5700388740869569,
          -2.6782282196328024,
          -1.2068971847318049,
          0.8817557910116786,
          1.24084124810912,
          -0.6497987778064365,
          -0.9985133432689008,
          1.7404318210002216,
          0.006269448113173197,
          -1.0888360695852122,
          -2.0806257728411803,
          1.5194078693886661,
          -0.8452760566534565,
          -0.6116298705203155,
          0.3852156286062059,
          -0.8223443081603498,
          -0.6471088536760966,
          0.5757376498682675,
          -0.11602724007195983,
          0.45164281897113545,
          0.049387871754323916,
          0.8696536817954045,
          0.15467339469132277,
          0.16391469508209702,
          0.019570767130891942,
          -0.29012441440522524,
          0.9006159547163501,
          -1.0935593474429195,
          -1.7149949831895048,
          0.8766246539141818,
          -0.41894022154377386,
          0.38545370977307725,
          0.3761884013298682,
          -0.40183836727070854,
          -0.8852419199645146,
          0.06545033657791095,
          -0.5912844705181812,
          0.5499005651829469,
          -0.0028953672735837948,
          -0.06751955240201332,
          -0.1364598072282228,
          0.5478660254587262,
          1.1209119713513573,
          -0.44056185163877964,
          0.6819809085125212,
          -1.744570812276172,
          1.0965466766006342,
          -0.9666450670180567,
          -0.719631723447022,
          1.504130205404488,
          0.5573037381170135,
          0.15176242423433967,
          1.1397173044752613,
          0.46164631885290763,
          -0.5198088233524397,
          2.786583661544022,
          0.0015574722530103794,
          -0.7626358815680526,
          1.6058332064458973,
          0.4124894696963012,
          -1.8358755217882134,
          -0.2728612400594335,
          -0.8356084555841023,
          0.4976244705259505,
          -0.12476794780692588,
          -0.5315848882432254,
          -0.7413144468010111
         ]
        }
       ],
       "layout": {
        "legend": {
         "bgcolor": "#F5F6F9",
         "font": {
          "color": "#4D5663"
         }
        },
        "paper_bgcolor": "#F5F6F9",
        "plot_bgcolor": "#F5F6F9",
        "template": {
         "data": {
          "bar": [
           {
            "error_x": {
             "color": "#2a3f5f"
            },
            "error_y": {
             "color": "#2a3f5f"
            },
            "marker": {
             "line": {
              "color": "#E5ECF6",
              "width": 0.5
             },
             "pattern": {
              "fillmode": "overlay",
              "size": 10,
              "solidity": 0.2
             }
            },
            "type": "bar"
           }
          ],
          "barpolar": [
           {
            "marker": {
             "line": {
              "color": "#E5ECF6",
              "width": 0.5
             },
             "pattern": {
              "fillmode": "overlay",
              "size": 10,
              "solidity": 0.2
             }
            },
            "type": "barpolar"
           }
          ],
          "carpet": [
           {
            "aaxis": {
             "endlinecolor": "#2a3f5f",
             "gridcolor": "white",
             "linecolor": "white",
             "minorgridcolor": "white",
             "startlinecolor": "#2a3f5f"
            },
            "baxis": {
             "endlinecolor": "#2a3f5f",
             "gridcolor": "white",
             "linecolor": "white",
             "minorgridcolor": "white",
             "startlinecolor": "#2a3f5f"
            },
            "type": "carpet"
           }
          ],
          "choropleth": [
           {
            "colorbar": {
             "outlinewidth": 0,
             "ticks": ""
            },
            "type": "choropleth"
           }
          ],
          "contour": [
           {
            "colorbar": {
             "outlinewidth": 0,
             "ticks": ""
            },
            "colorscale": [
             [
              0,
              "#0d0887"
             ],
             [
              0.1111111111111111,
              "#46039f"
             ],
             [
              0.2222222222222222,
              "#7201a8"
             ],
             [
              0.3333333333333333,
              "#9c179e"
             ],
             [
              0.4444444444444444,
              "#bd3786"
             ],
             [
              0.5555555555555556,
              "#d8576b"
             ],
             [
              0.6666666666666666,
              "#ed7953"
             ],
             [
              0.7777777777777778,
              "#fb9f3a"
             ],
             [
              0.8888888888888888,
              "#fdca26"
             ],
             [
              1,
              "#f0f921"
             ]
            ],
            "type": "contour"
           }
          ],
          "contourcarpet": [
           {
            "colorbar": {
             "outlinewidth": 0,
             "ticks": ""
            },
            "type": "contourcarpet"
           }
          ],
          "heatmap": [
           {
            "colorbar": {
             "outlinewidth": 0,
             "ticks": ""
            },
            "colorscale": [
             [
              0,
              "#0d0887"
             ],
             [
              0.1111111111111111,
              "#46039f"
             ],
             [
              0.2222222222222222,
              "#7201a8"
             ],
             [
              0.3333333333333333,
              "#9c179e"
             ],
             [
              0.4444444444444444,
              "#bd3786"
             ],
             [
              0.5555555555555556,
              "#d8576b"
             ],
             [
              0.6666666666666666,
              "#ed7953"
             ],
             [
              0.7777777777777778,
              "#fb9f3a"
             ],
             [
              0.8888888888888888,
              "#fdca26"
             ],
             [
              1,
              "#f0f921"
             ]
            ],
            "type": "heatmap"
           }
          ],
          "heatmapgl": [
           {
            "colorbar": {
             "outlinewidth": 0,
             "ticks": ""
            },
            "colorscale": [
             [
              0,
              "#0d0887"
             ],
             [
              0.1111111111111111,
              "#46039f"
             ],
             [
              0.2222222222222222,
              "#7201a8"
             ],
             [
              0.3333333333333333,
              "#9c179e"
             ],
             [
              0.4444444444444444,
              "#bd3786"
             ],
             [
              0.5555555555555556,
              "#d8576b"
             ],
             [
              0.6666666666666666,
              "#ed7953"
             ],
             [
              0.7777777777777778,
              "#fb9f3a"
             ],
             [
              0.8888888888888888,
              "#fdca26"
             ],
             [
              1,
              "#f0f921"
             ]
            ],
            "type": "heatmapgl"
           }
          ],
          "histogram": [
           {
            "marker": {
             "pattern": {
              "fillmode": "overlay",
              "size": 10,
              "solidity": 0.2
             }
            },
            "type": "histogram"
           }
          ],
          "histogram2d": [
           {
            "colorbar": {
             "outlinewidth": 0,
             "ticks": ""
            },
            "colorscale": [
             [
              0,
              "#0d0887"
             ],
             [
              0.1111111111111111,
              "#46039f"
             ],
             [
              0.2222222222222222,
              "#7201a8"
             ],
             [
              0.3333333333333333,
              "#9c179e"
             ],
             [
              0.4444444444444444,
              "#bd3786"
             ],
             [
              0.5555555555555556,
              "#d8576b"
             ],
             [
              0.6666666666666666,
              "#ed7953"
             ],
             [
              0.7777777777777778,
              "#fb9f3a"
             ],
             [
              0.8888888888888888,
              "#fdca26"
             ],
             [
              1,
              "#f0f921"
             ]
            ],
            "type": "histogram2d"
           }
          ],
          "histogram2dcontour": [
           {
            "colorbar": {
             "outlinewidth": 0,
             "ticks": ""
            },
            "colorscale": [
             [
              0,
              "#0d0887"
             ],
             [
              0.1111111111111111,
              "#46039f"
             ],
             [
              0.2222222222222222,
              "#7201a8"
             ],
             [
              0.3333333333333333,
              "#9c179e"
             ],
             [
              0.4444444444444444,
              "#bd3786"
             ],
             [
              0.5555555555555556,
              "#d8576b"
             ],
             [
              0.6666666666666666,
              "#ed7953"
             ],
             [
              0.7777777777777778,
              "#fb9f3a"
             ],
             [
              0.8888888888888888,
              "#fdca26"
             ],
             [
              1,
              "#f0f921"
             ]
            ],
            "type": "histogram2dcontour"
           }
          ],
          "mesh3d": [
           {
            "colorbar": {
             "outlinewidth": 0,
             "ticks": ""
            },
            "type": "mesh3d"
           }
          ],
          "parcoords": [
           {
            "line": {
             "colorbar": {
              "outlinewidth": 0,
              "ticks": ""
             }
            },
            "type": "parcoords"
           }
          ],
          "pie": [
           {
            "automargin": true,
            "type": "pie"
           }
          ],
          "scatter": [
           {
            "fillpattern": {
             "fillmode": "overlay",
             "size": 10,
             "solidity": 0.2
            },
            "type": "scatter"
           }
          ],
          "scatter3d": [
           {
            "line": {
             "colorbar": {
              "outlinewidth": 0,
              "ticks": ""
             }
            },
            "marker": {
             "colorbar": {
              "outlinewidth": 0,
              "ticks": ""
             }
            },
            "type": "scatter3d"
           }
          ],
          "scattercarpet": [
           {
            "marker": {
             "colorbar": {
              "outlinewidth": 0,
              "ticks": ""
             }
            },
            "type": "scattercarpet"
           }
          ],
          "scattergeo": [
           {
            "marker": {
             "colorbar": {
              "outlinewidth": 0,
              "ticks": ""
             }
            },
            "type": "scattergeo"
           }
          ],
          "scattergl": [
           {
            "marker": {
             "colorbar": {
              "outlinewidth": 0,
              "ticks": ""
             }
            },
            "type": "scattergl"
           }
          ],
          "scattermapbox": [
           {
            "marker": {
             "colorbar": {
              "outlinewidth": 0,
              "ticks": ""
             }
            },
            "type": "scattermapbox"
           }
          ],
          "scatterpolar": [
           {
            "marker": {
             "colorbar": {
              "outlinewidth": 0,
              "ticks": ""
             }
            },
            "type": "scatterpolar"
           }
          ],
          "scatterpolargl": [
           {
            "marker": {
             "colorbar": {
              "outlinewidth": 0,
              "ticks": ""
             }
            },
            "type": "scatterpolargl"
           }
          ],
          "scatterternary": [
           {
            "marker": {
             "colorbar": {
              "outlinewidth": 0,
              "ticks": ""
             }
            },
            "type": "scatterternary"
           }
          ],
          "surface": [
           {
            "colorbar": {
             "outlinewidth": 0,
             "ticks": ""
            },
            "colorscale": [
             [
              0,
              "#0d0887"
             ],
             [
              0.1111111111111111,
              "#46039f"
             ],
             [
              0.2222222222222222,
              "#7201a8"
             ],
             [
              0.3333333333333333,
              "#9c179e"
             ],
             [
              0.4444444444444444,
              "#bd3786"
             ],
             [
              0.5555555555555556,
              "#d8576b"
             ],
             [
              0.6666666666666666,
              "#ed7953"
             ],
             [
              0.7777777777777778,
              "#fb9f3a"
             ],
             [
              0.8888888888888888,
              "#fdca26"
             ],
             [
              1,
              "#f0f921"
             ]
            ],
            "type": "surface"
           }
          ],
          "table": [
           {
            "cells": {
             "fill": {
              "color": "#EBF0F8"
             },
             "line": {
              "color": "white"
             }
            },
            "header": {
             "fill": {
              "color": "#C8D4E3"
             },
             "line": {
              "color": "white"
             }
            },
            "type": "table"
           }
          ]
         },
         "layout": {
          "annotationdefaults": {
           "arrowcolor": "#2a3f5f",
           "arrowhead": 0,
           "arrowwidth": 1
          },
          "autotypenumbers": "strict",
          "coloraxis": {
           "colorbar": {
            "outlinewidth": 0,
            "ticks": ""
           }
          },
          "colorscale": {
           "diverging": [
            [
             0,
             "#8e0152"
            ],
            [
             0.1,
             "#c51b7d"
            ],
            [
             0.2,
             "#de77ae"
            ],
            [
             0.3,
             "#f1b6da"
            ],
            [
             0.4,
             "#fde0ef"
            ],
            [
             0.5,
             "#f7f7f7"
            ],
            [
             0.6,
             "#e6f5d0"
            ],
            [
             0.7,
             "#b8e186"
            ],
            [
             0.8,
             "#7fbc41"
            ],
            [
             0.9,
             "#4d9221"
            ],
            [
             1,
             "#276419"
            ]
           ],
           "sequential": [
            [
             0,
             "#0d0887"
            ],
            [
             0.1111111111111111,
             "#46039f"
            ],
            [
             0.2222222222222222,
             "#7201a8"
            ],
            [
             0.3333333333333333,
             "#9c179e"
            ],
            [
             0.4444444444444444,
             "#bd3786"
            ],
            [
             0.5555555555555556,
             "#d8576b"
            ],
            [
             0.6666666666666666,
             "#ed7953"
            ],
            [
             0.7777777777777778,
             "#fb9f3a"
            ],
            [
             0.8888888888888888,
             "#fdca26"
            ],
            [
             1,
             "#f0f921"
            ]
           ],
           "sequentialminus": [
            [
             0,
             "#0d0887"
            ],
            [
             0.1111111111111111,
             "#46039f"
            ],
            [
             0.2222222222222222,
             "#7201a8"
            ],
            [
             0.3333333333333333,
             "#9c179e"
            ],
            [
             0.4444444444444444,
             "#bd3786"
            ],
            [
             0.5555555555555556,
             "#d8576b"
            ],
            [
             0.6666666666666666,
             "#ed7953"
            ],
            [
             0.7777777777777778,
             "#fb9f3a"
            ],
            [
             0.8888888888888888,
             "#fdca26"
            ],
            [
             1,
             "#f0f921"
            ]
           ]
          },
          "colorway": [
           "#636efa",
           "#EF553B",
           "#00cc96",
           "#ab63fa",
           "#FFA15A",
           "#19d3f3",
           "#FF6692",
           "#B6E880",
           "#FF97FF",
           "#FECB52"
          ],
          "font": {
           "color": "#2a3f5f"
          },
          "geo": {
           "bgcolor": "white",
           "lakecolor": "white",
           "landcolor": "#E5ECF6",
           "showlakes": true,
           "showland": true,
           "subunitcolor": "white"
          },
          "hoverlabel": {
           "align": "left"
          },
          "hovermode": "closest",
          "mapbox": {
           "style": "light"
          },
          "paper_bgcolor": "white",
          "plot_bgcolor": "#E5ECF6",
          "polar": {
           "angularaxis": {
            "gridcolor": "white",
            "linecolor": "white",
            "ticks": ""
           },
           "bgcolor": "#E5ECF6",
           "radialaxis": {
            "gridcolor": "white",
            "linecolor": "white",
            "ticks": ""
           }
          },
          "scene": {
           "xaxis": {
            "backgroundcolor": "#E5ECF6",
            "gridcolor": "white",
            "gridwidth": 2,
            "linecolor": "white",
            "showbackground": true,
            "ticks": "",
            "zerolinecolor": "white"
           },
           "yaxis": {
            "backgroundcolor": "#E5ECF6",
            "gridcolor": "white",
            "gridwidth": 2,
            "linecolor": "white",
            "showbackground": true,
            "ticks": "",
            "zerolinecolor": "white"
           },
           "zaxis": {
            "backgroundcolor": "#E5ECF6",
            "gridcolor": "white",
            "gridwidth": 2,
            "linecolor": "white",
            "showbackground": true,
            "ticks": "",
            "zerolinecolor": "white"
           }
          },
          "shapedefaults": {
           "line": {
            "color": "#2a3f5f"
           }
          },
          "ternary": {
           "aaxis": {
            "gridcolor": "white",
            "linecolor": "white",
            "ticks": ""
           },
           "baxis": {
            "gridcolor": "white",
            "linecolor": "white",
            "ticks": ""
           },
           "bgcolor": "#E5ECF6",
           "caxis": {
            "gridcolor": "white",
            "linecolor": "white",
            "ticks": ""
           }
          },
          "title": {
           "x": 0.05
          },
          "xaxis": {
           "automargin": true,
           "gridcolor": "white",
           "linecolor": "white",
           "ticks": "",
           "title": {
            "standoff": 15
           },
           "zerolinecolor": "white",
           "zerolinewidth": 2
          },
          "yaxis": {
           "automargin": true,
           "gridcolor": "white",
           "linecolor": "white",
           "ticks": "",
           "title": {
            "standoff": 15
           },
           "zerolinecolor": "white",
           "zerolinewidth": 2
          }
         }
        },
        "title": {
         "font": {
          "color": "#4D5663"
         }
        },
        "xaxis": {
         "gridcolor": "#E1E5ED",
         "showgrid": true,
         "tickfont": {
          "color": "#4D5663"
         },
         "title": {
          "font": {
           "color": "#4D5663"
          },
          "text": ""
         },
         "zerolinecolor": "#E1E5ED"
        },
        "yaxis": {
         "gridcolor": "#E1E5ED",
         "showgrid": true,
         "tickfont": {
          "color": "#4D5663"
         },
         "title": {
          "font": {
           "color": "#4D5663"
          },
          "text": ""
         },
         "zerolinecolor": "#E1E5ED"
        }
       }
      },
      "text/html": [
       "<div>                            <div id=\"49082d43-9171-42a8-af93-6f13572a763f\" class=\"plotly-graph-div\" style=\"height:525px; width:100%;\"></div>            <script type=\"text/javascript\">                require([\"plotly\"], function(Plotly) {                    window.PLOTLYENV=window.PLOTLYENV || {};\n",
       "                    window.PLOTLYENV.BASE_URL='https://plot.ly';                                    if (document.getElementById(\"49082d43-9171-42a8-af93-6f13572a763f\")) {                    Plotly.newPlot(                        \"49082d43-9171-42a8-af93-6f13572a763f\",                        [{\"line\":{\"color\":\"rgba(255, 153, 51, 1.0)\",\"dash\":\"solid\",\"shape\":\"linear\",\"width\":1.3},\"marker\":{\"size\":10,\"symbol\":\"circle\"},\"mode\":\"markers\",\"name\":\"B\",\"text\":\"\",\"x\":[0.6693661948659464,-1.409044815883012,-1.5455132834648089,0.6594642363422143,-0.09187247967043793,-0.730872810435815,-1.275919630139343,0.5230249705628381,-0.43397846009587693,-1.7396304117414094,-0.4946101964719013,0.30911834387069603,0.005740623968679781,-1.915161692689898,-0.3933771893139661,-1.5715842465033658,0.5584309091887014,0.443929077658181,0.42144883741187095,-1.2990455931993434,-0.4648052895158669,-1.4871274872639502,0.7897744945229496,-0.40787599619101145,-1.282569429442684,-1.416396656394587,-0.5757480437607201,0.7884005807602522,-0.22089370830785646,0.8721005626280494,0.6567327838128859,-0.4228616246723989,0.995975547606502,0.8054519633236913,0.8843786917513216,1.2134326819921784,-0.06546507933482919,-0.834255920485621,-0.8561919143953065,0.47435199850244514,1.2122433047509944,0.09169781628532563,0.5423837717420449,1.1462383500652646,2.056703885305179,-1.6224185421357327,-1.125949736917768,1.660578525022922,-0.5414056122193067,0.9979304853907104,0.340038928237054,-0.3421041025328197,-0.2538078053973776,-1.465463332830521,0.09781815927902178,0.917451586261482,0.38829880280747814,-0.5903613623266755,0.18283389165631908,0.8167981574453973,-0.33050615215525225,-2.351061461499044,-0.21938938619252876,-0.5343172250761418,0.5383465122361409,-1.584531740831603,-0.5248338648093666,-0.042128313288309197,0.2930936834740656,-0.18242520569668452,-0.32440972512416955,-0.26396063970516837,0.25510552399176567,1.0913344523198856,-0.26432546702841975,-1.1324962182484257,-0.3334188287709066,0.47165865713664096,-0.00722601308551948,-0.6004700482876557,-1.1671025640491137,1.3856312367633412,-1.9994626518762393,-0.4574667433126146,0.5706296296645946,-0.4418303579630319,1.0296016008018352,-0.23612241811588852,-0.8472454978284362,0.05050308339176204,-0.8181004061510664,0.684027136964716,0.16310082433895473,-1.797850143901822,-0.8267184298920633,-0.2986569140798697,0.9120993737504053,-0.941192969783878,0.8176020424453682,-0.3605275708624665],\"y\":[-0.4414590644709143,0.6009475102866352,3.510112069764468,1.5610552154700426,0.3884407199380903,-0.4345526018263627,-1.5666312237968276,1.1581096173233933,0.8004321234159172,2.0683908511197133,2.0755846544816277,-0.08604290723107731,-1.852937809123877,-0.9219953804103326,1.5618581074219662,0.6223130637864492,0.10268604787080232,-1.502931394299509,-1.1912728932017442,-2.093129747282381,-0.11515313414454793,0.4761692720056932,0.7714845354688461,1.1481159962233656,0.3167448548122893,2.6445662984808225,0.41824474356144214,1.2258403587871345,-0.9281528640238541,-0.2321860023071417,0.09373345895297824,0.007760938161068311,0.07077794095980522,-1.5700388740869569,-2.6782282196328024,-1.2068971847318049,0.8817557910116786,1.24084124810912,-0.6497987778064365,-0.9985133432689008,1.7404318210002216,0.006269448113173197,-1.0888360695852122,-2.0806257728411803,1.5194078693886661,-0.8452760566534565,-0.6116298705203155,0.3852156286062059,-0.8223443081603498,-0.6471088536760966,0.5757376498682675,-0.11602724007195983,0.45164281897113545,0.049387871754323916,0.8696536817954045,0.15467339469132277,0.16391469508209702,0.019570767130891942,-0.29012441440522524,0.9006159547163501,-1.0935593474429195,-1.7149949831895048,0.8766246539141818,-0.41894022154377386,0.38545370977307725,0.3761884013298682,-0.40183836727070854,-0.8852419199645146,0.06545033657791095,-0.5912844705181812,0.5499005651829469,-0.0028953672735837948,-0.06751955240201332,-0.1364598072282228,0.5478660254587262,1.1209119713513573,-0.44056185163877964,0.6819809085125212,-1.744570812276172,1.0965466766006342,-0.9666450670180567,-0.719631723447022,1.504130205404488,0.5573037381170135,0.15176242423433967,1.1397173044752613,0.46164631885290763,-0.5198088233524397,2.786583661544022,0.0015574722530103794,-0.7626358815680526,1.6058332064458973,0.4124894696963012,-1.8358755217882134,-0.2728612400594335,-0.8356084555841023,0.4976244705259505,-0.12476794780692588,-0.5315848882432254,-0.7413144468010111],\"type\":\"scatter\"}],                        {\"legend\":{\"bgcolor\":\"#F5F6F9\",\"font\":{\"color\":\"#4D5663\"}},\"paper_bgcolor\":\"#F5F6F9\",\"plot_bgcolor\":\"#F5F6F9\",\"template\":{\"data\":{\"barpolar\":[{\"marker\":{\"line\":{\"color\":\"#E5ECF6\",\"width\":0.5},\"pattern\":{\"fillmode\":\"overlay\",\"size\":10,\"solidity\":0.2}},\"type\":\"barpolar\"}],\"bar\":[{\"error_x\":{\"color\":\"#2a3f5f\"},\"error_y\":{\"color\":\"#2a3f5f\"},\"marker\":{\"line\":{\"color\":\"#E5ECF6\",\"width\":0.5},\"pattern\":{\"fillmode\":\"overlay\",\"size\":10,\"solidity\":0.2}},\"type\":\"bar\"}],\"carpet\":[{\"aaxis\":{\"endlinecolor\":\"#2a3f5f\",\"gridcolor\":\"white\",\"linecolor\":\"white\",\"minorgridcolor\":\"white\",\"startlinecolor\":\"#2a3f5f\"},\"baxis\":{\"endlinecolor\":\"#2a3f5f\",\"gridcolor\":\"white\",\"linecolor\":\"white\",\"minorgridcolor\":\"white\",\"startlinecolor\":\"#2a3f5f\"},\"type\":\"carpet\"}],\"choropleth\":[{\"colorbar\":{\"outlinewidth\":0,\"ticks\":\"\"},\"type\":\"choropleth\"}],\"contourcarpet\":[{\"colorbar\":{\"outlinewidth\":0,\"ticks\":\"\"},\"type\":\"contourcarpet\"}],\"contour\":[{\"colorbar\":{\"outlinewidth\":0,\"ticks\":\"\"},\"colorscale\":[[0.0,\"#0d0887\"],[0.1111111111111111,\"#46039f\"],[0.2222222222222222,\"#7201a8\"],[0.3333333333333333,\"#9c179e\"],[0.4444444444444444,\"#bd3786\"],[0.5555555555555556,\"#d8576b\"],[0.6666666666666666,\"#ed7953\"],[0.7777777777777778,\"#fb9f3a\"],[0.8888888888888888,\"#fdca26\"],[1.0,\"#f0f921\"]],\"type\":\"contour\"}],\"heatmapgl\":[{\"colorbar\":{\"outlinewidth\":0,\"ticks\":\"\"},\"colorscale\":[[0.0,\"#0d0887\"],[0.1111111111111111,\"#46039f\"],[0.2222222222222222,\"#7201a8\"],[0.3333333333333333,\"#9c179e\"],[0.4444444444444444,\"#bd3786\"],[0.5555555555555556,\"#d8576b\"],[0.6666666666666666,\"#ed7953\"],[0.7777777777777778,\"#fb9f3a\"],[0.8888888888888888,\"#fdca26\"],[1.0,\"#f0f921\"]],\"type\":\"heatmapgl\"}],\"heatmap\":[{\"colorbar\":{\"outlinewidth\":0,\"ticks\":\"\"},\"colorscale\":[[0.0,\"#0d0887\"],[0.1111111111111111,\"#46039f\"],[0.2222222222222222,\"#7201a8\"],[0.3333333333333333,\"#9c179e\"],[0.4444444444444444,\"#bd3786\"],[0.5555555555555556,\"#d8576b\"],[0.6666666666666666,\"#ed7953\"],[0.7777777777777778,\"#fb9f3a\"],[0.8888888888888888,\"#fdca26\"],[1.0,\"#f0f921\"]],\"type\":\"heatmap\"}],\"histogram2dcontour\":[{\"colorbar\":{\"outlinewidth\":0,\"ticks\":\"\"},\"colorscale\":[[0.0,\"#0d0887\"],[0.1111111111111111,\"#46039f\"],[0.2222222222222222,\"#7201a8\"],[0.3333333333333333,\"#9c179e\"],[0.4444444444444444,\"#bd3786\"],[0.5555555555555556,\"#d8576b\"],[0.6666666666666666,\"#ed7953\"],[0.7777777777777778,\"#fb9f3a\"],[0.8888888888888888,\"#fdca26\"],[1.0,\"#f0f921\"]],\"type\":\"histogram2dcontour\"}],\"histogram2d\":[{\"colorbar\":{\"outlinewidth\":0,\"ticks\":\"\"},\"colorscale\":[[0.0,\"#0d0887\"],[0.1111111111111111,\"#46039f\"],[0.2222222222222222,\"#7201a8\"],[0.3333333333333333,\"#9c179e\"],[0.4444444444444444,\"#bd3786\"],[0.5555555555555556,\"#d8576b\"],[0.6666666666666666,\"#ed7953\"],[0.7777777777777778,\"#fb9f3a\"],[0.8888888888888888,\"#fdca26\"],[1.0,\"#f0f921\"]],\"type\":\"histogram2d\"}],\"histogram\":[{\"marker\":{\"pattern\":{\"fillmode\":\"overlay\",\"size\":10,\"solidity\":0.2}},\"type\":\"histogram\"}],\"mesh3d\":[{\"colorbar\":{\"outlinewidth\":0,\"ticks\":\"\"},\"type\":\"mesh3d\"}],\"parcoords\":[{\"line\":{\"colorbar\":{\"outlinewidth\":0,\"ticks\":\"\"}},\"type\":\"parcoords\"}],\"pie\":[{\"automargin\":true,\"type\":\"pie\"}],\"scatter3d\":[{\"line\":{\"colorbar\":{\"outlinewidth\":0,\"ticks\":\"\"}},\"marker\":{\"colorbar\":{\"outlinewidth\":0,\"ticks\":\"\"}},\"type\":\"scatter3d\"}],\"scattercarpet\":[{\"marker\":{\"colorbar\":{\"outlinewidth\":0,\"ticks\":\"\"}},\"type\":\"scattercarpet\"}],\"scattergeo\":[{\"marker\":{\"colorbar\":{\"outlinewidth\":0,\"ticks\":\"\"}},\"type\":\"scattergeo\"}],\"scattergl\":[{\"marker\":{\"colorbar\":{\"outlinewidth\":0,\"ticks\":\"\"}},\"type\":\"scattergl\"}],\"scattermapbox\":[{\"marker\":{\"colorbar\":{\"outlinewidth\":0,\"ticks\":\"\"}},\"type\":\"scattermapbox\"}],\"scatterpolargl\":[{\"marker\":{\"colorbar\":{\"outlinewidth\":0,\"ticks\":\"\"}},\"type\":\"scatterpolargl\"}],\"scatterpolar\":[{\"marker\":{\"colorbar\":{\"outlinewidth\":0,\"ticks\":\"\"}},\"type\":\"scatterpolar\"}],\"scatter\":[{\"fillpattern\":{\"fillmode\":\"overlay\",\"size\":10,\"solidity\":0.2},\"type\":\"scatter\"}],\"scatterternary\":[{\"marker\":{\"colorbar\":{\"outlinewidth\":0,\"ticks\":\"\"}},\"type\":\"scatterternary\"}],\"surface\":[{\"colorbar\":{\"outlinewidth\":0,\"ticks\":\"\"},\"colorscale\":[[0.0,\"#0d0887\"],[0.1111111111111111,\"#46039f\"],[0.2222222222222222,\"#7201a8\"],[0.3333333333333333,\"#9c179e\"],[0.4444444444444444,\"#bd3786\"],[0.5555555555555556,\"#d8576b\"],[0.6666666666666666,\"#ed7953\"],[0.7777777777777778,\"#fb9f3a\"],[0.8888888888888888,\"#fdca26\"],[1.0,\"#f0f921\"]],\"type\":\"surface\"}],\"table\":[{\"cells\":{\"fill\":{\"color\":\"#EBF0F8\"},\"line\":{\"color\":\"white\"}},\"header\":{\"fill\":{\"color\":\"#C8D4E3\"},\"line\":{\"color\":\"white\"}},\"type\":\"table\"}]},\"layout\":{\"annotationdefaults\":{\"arrowcolor\":\"#2a3f5f\",\"arrowhead\":0,\"arrowwidth\":1},\"autotypenumbers\":\"strict\",\"coloraxis\":{\"colorbar\":{\"outlinewidth\":0,\"ticks\":\"\"}},\"colorscale\":{\"diverging\":[[0,\"#8e0152\"],[0.1,\"#c51b7d\"],[0.2,\"#de77ae\"],[0.3,\"#f1b6da\"],[0.4,\"#fde0ef\"],[0.5,\"#f7f7f7\"],[0.6,\"#e6f5d0\"],[0.7,\"#b8e186\"],[0.8,\"#7fbc41\"],[0.9,\"#4d9221\"],[1,\"#276419\"]],\"sequential\":[[0.0,\"#0d0887\"],[0.1111111111111111,\"#46039f\"],[0.2222222222222222,\"#7201a8\"],[0.3333333333333333,\"#9c179e\"],[0.4444444444444444,\"#bd3786\"],[0.5555555555555556,\"#d8576b\"],[0.6666666666666666,\"#ed7953\"],[0.7777777777777778,\"#fb9f3a\"],[0.8888888888888888,\"#fdca26\"],[1.0,\"#f0f921\"]],\"sequentialminus\":[[0.0,\"#0d0887\"],[0.1111111111111111,\"#46039f\"],[0.2222222222222222,\"#7201a8\"],[0.3333333333333333,\"#9c179e\"],[0.4444444444444444,\"#bd3786\"],[0.5555555555555556,\"#d8576b\"],[0.6666666666666666,\"#ed7953\"],[0.7777777777777778,\"#fb9f3a\"],[0.8888888888888888,\"#fdca26\"],[1.0,\"#f0f921\"]]},\"colorway\":[\"#636efa\",\"#EF553B\",\"#00cc96\",\"#ab63fa\",\"#FFA15A\",\"#19d3f3\",\"#FF6692\",\"#B6E880\",\"#FF97FF\",\"#FECB52\"],\"font\":{\"color\":\"#2a3f5f\"},\"geo\":{\"bgcolor\":\"white\",\"lakecolor\":\"white\",\"landcolor\":\"#E5ECF6\",\"showlakes\":true,\"showland\":true,\"subunitcolor\":\"white\"},\"hoverlabel\":{\"align\":\"left\"},\"hovermode\":\"closest\",\"mapbox\":{\"style\":\"light\"},\"paper_bgcolor\":\"white\",\"plot_bgcolor\":\"#E5ECF6\",\"polar\":{\"angularaxis\":{\"gridcolor\":\"white\",\"linecolor\":\"white\",\"ticks\":\"\"},\"bgcolor\":\"#E5ECF6\",\"radialaxis\":{\"gridcolor\":\"white\",\"linecolor\":\"white\",\"ticks\":\"\"}},\"scene\":{\"xaxis\":{\"backgroundcolor\":\"#E5ECF6\",\"gridcolor\":\"white\",\"gridwidth\":2,\"linecolor\":\"white\",\"showbackground\":true,\"ticks\":\"\",\"zerolinecolor\":\"white\"},\"yaxis\":{\"backgroundcolor\":\"#E5ECF6\",\"gridcolor\":\"white\",\"gridwidth\":2,\"linecolor\":\"white\",\"showbackground\":true,\"ticks\":\"\",\"zerolinecolor\":\"white\"},\"zaxis\":{\"backgroundcolor\":\"#E5ECF6\",\"gridcolor\":\"white\",\"gridwidth\":2,\"linecolor\":\"white\",\"showbackground\":true,\"ticks\":\"\",\"zerolinecolor\":\"white\"}},\"shapedefaults\":{\"line\":{\"color\":\"#2a3f5f\"}},\"ternary\":{\"aaxis\":{\"gridcolor\":\"white\",\"linecolor\":\"white\",\"ticks\":\"\"},\"baxis\":{\"gridcolor\":\"white\",\"linecolor\":\"white\",\"ticks\":\"\"},\"bgcolor\":\"#E5ECF6\",\"caxis\":{\"gridcolor\":\"white\",\"linecolor\":\"white\",\"ticks\":\"\"}},\"title\":{\"x\":0.05},\"xaxis\":{\"automargin\":true,\"gridcolor\":\"white\",\"linecolor\":\"white\",\"ticks\":\"\",\"title\":{\"standoff\":15},\"zerolinecolor\":\"white\",\"zerolinewidth\":2},\"yaxis\":{\"automargin\":true,\"gridcolor\":\"white\",\"linecolor\":\"white\",\"ticks\":\"\",\"title\":{\"standoff\":15},\"zerolinecolor\":\"white\",\"zerolinewidth\":2}}},\"title\":{\"font\":{\"color\":\"#4D5663\"}},\"xaxis\":{\"gridcolor\":\"#E1E5ED\",\"showgrid\":true,\"tickfont\":{\"color\":\"#4D5663\"},\"title\":{\"font\":{\"color\":\"#4D5663\"},\"text\":\"\"},\"zerolinecolor\":\"#E1E5ED\"},\"yaxis\":{\"gridcolor\":\"#E1E5ED\",\"showgrid\":true,\"tickfont\":{\"color\":\"#4D5663\"},\"title\":{\"font\":{\"color\":\"#4D5663\"},\"text\":\"\"},\"zerolinecolor\":\"#E1E5ED\"}},                        {\"showLink\": true, \"linkText\": \"Export to plot.ly\", \"plotlyServerURL\": \"https://plot.ly\", \"responsive\": true}                    ).then(function(){\n",
       "                            \n",
       "var gd = document.getElementById('49082d43-9171-42a8-af93-6f13572a763f');\n",
       "var x = new MutationObserver(function (mutations, observer) {{\n",
       "        var display = window.getComputedStyle(gd).display;\n",
       "        if (!display || display === 'none') {{\n",
       "            console.log([gd, 'removed!']);\n",
       "            Plotly.purge(gd);\n",
       "            observer.disconnect();\n",
       "        }}\n",
       "}});\n",
       "\n",
       "// Listen for the removal of the full notebook cells\n",
       "var notebookContainer = gd.closest('#notebook-container');\n",
       "if (notebookContainer) {{\n",
       "    x.observe(notebookContainer, {childList: true});\n",
       "}}\n",
       "\n",
       "// Listen for the clearing of the current output cell\n",
       "var outputEl = gd.closest('.output');\n",
       "if (outputEl) {{\n",
       "    x.observe(outputEl, {childList: true});\n",
       "}}\n",
       "\n",
       "                        })                };                });            </script>        </div>"
      ]
     },
     "metadata": {},
     "output_type": "display_data"
    }
   ],
   "source": [
    "df.iplot(kind='scatter', x='A', y='B', mode='markers', size=10)"
   ]
  },
  {
   "cell_type": "markdown",
   "metadata": {},
   "source": [
    "+ `barplot`"
   ]
  },
  {
   "cell_type": "code",
   "execution_count": 15,
   "metadata": {},
   "outputs": [
    {
     "data": {
      "application/vnd.plotly.v1+json": {
       "config": {
        "linkText": "Export to plot.ly",
        "plotlyServerURL": "https://plot.ly",
        "showLink": true
       },
       "data": [
        {
         "marker": {
          "color": "rgba(255, 153, 51, 0.6)",
          "line": {
           "color": "rgba(255, 153, 51, 1.0)",
           "width": 1
          }
         },
         "name": "Values",
         "orientation": "v",
         "text": "",
         "type": "bar",
         "x": [
          "A",
          "B",
          "C"
         ],
         "y": [
          32,
          43,
          50
         ]
        }
       ],
       "layout": {
        "legend": {
         "bgcolor": "#F5F6F9",
         "font": {
          "color": "#4D5663"
         }
        },
        "paper_bgcolor": "#F5F6F9",
        "plot_bgcolor": "#F5F6F9",
        "template": {
         "data": {
          "bar": [
           {
            "error_x": {
             "color": "#2a3f5f"
            },
            "error_y": {
             "color": "#2a3f5f"
            },
            "marker": {
             "line": {
              "color": "#E5ECF6",
              "width": 0.5
             },
             "pattern": {
              "fillmode": "overlay",
              "size": 10,
              "solidity": 0.2
             }
            },
            "type": "bar"
           }
          ],
          "barpolar": [
           {
            "marker": {
             "line": {
              "color": "#E5ECF6",
              "width": 0.5
             },
             "pattern": {
              "fillmode": "overlay",
              "size": 10,
              "solidity": 0.2
             }
            },
            "type": "barpolar"
           }
          ],
          "carpet": [
           {
            "aaxis": {
             "endlinecolor": "#2a3f5f",
             "gridcolor": "white",
             "linecolor": "white",
             "minorgridcolor": "white",
             "startlinecolor": "#2a3f5f"
            },
            "baxis": {
             "endlinecolor": "#2a3f5f",
             "gridcolor": "white",
             "linecolor": "white",
             "minorgridcolor": "white",
             "startlinecolor": "#2a3f5f"
            },
            "type": "carpet"
           }
          ],
          "choropleth": [
           {
            "colorbar": {
             "outlinewidth": 0,
             "ticks": ""
            },
            "type": "choropleth"
           }
          ],
          "contour": [
           {
            "colorbar": {
             "outlinewidth": 0,
             "ticks": ""
            },
            "colorscale": [
             [
              0,
              "#0d0887"
             ],
             [
              0.1111111111111111,
              "#46039f"
             ],
             [
              0.2222222222222222,
              "#7201a8"
             ],
             [
              0.3333333333333333,
              "#9c179e"
             ],
             [
              0.4444444444444444,
              "#bd3786"
             ],
             [
              0.5555555555555556,
              "#d8576b"
             ],
             [
              0.6666666666666666,
              "#ed7953"
             ],
             [
              0.7777777777777778,
              "#fb9f3a"
             ],
             [
              0.8888888888888888,
              "#fdca26"
             ],
             [
              1,
              "#f0f921"
             ]
            ],
            "type": "contour"
           }
          ],
          "contourcarpet": [
           {
            "colorbar": {
             "outlinewidth": 0,
             "ticks": ""
            },
            "type": "contourcarpet"
           }
          ],
          "heatmap": [
           {
            "colorbar": {
             "outlinewidth": 0,
             "ticks": ""
            },
            "colorscale": [
             [
              0,
              "#0d0887"
             ],
             [
              0.1111111111111111,
              "#46039f"
             ],
             [
              0.2222222222222222,
              "#7201a8"
             ],
             [
              0.3333333333333333,
              "#9c179e"
             ],
             [
              0.4444444444444444,
              "#bd3786"
             ],
             [
              0.5555555555555556,
              "#d8576b"
             ],
             [
              0.6666666666666666,
              "#ed7953"
             ],
             [
              0.7777777777777778,
              "#fb9f3a"
             ],
             [
              0.8888888888888888,
              "#fdca26"
             ],
             [
              1,
              "#f0f921"
             ]
            ],
            "type": "heatmap"
           }
          ],
          "heatmapgl": [
           {
            "colorbar": {
             "outlinewidth": 0,
             "ticks": ""
            },
            "colorscale": [
             [
              0,
              "#0d0887"
             ],
             [
              0.1111111111111111,
              "#46039f"
             ],
             [
              0.2222222222222222,
              "#7201a8"
             ],
             [
              0.3333333333333333,
              "#9c179e"
             ],
             [
              0.4444444444444444,
              "#bd3786"
             ],
             [
              0.5555555555555556,
              "#d8576b"
             ],
             [
              0.6666666666666666,
              "#ed7953"
             ],
             [
              0.7777777777777778,
              "#fb9f3a"
             ],
             [
              0.8888888888888888,
              "#fdca26"
             ],
             [
              1,
              "#f0f921"
             ]
            ],
            "type": "heatmapgl"
           }
          ],
          "histogram": [
           {
            "marker": {
             "pattern": {
              "fillmode": "overlay",
              "size": 10,
              "solidity": 0.2
             }
            },
            "type": "histogram"
           }
          ],
          "histogram2d": [
           {
            "colorbar": {
             "outlinewidth": 0,
             "ticks": ""
            },
            "colorscale": [
             [
              0,
              "#0d0887"
             ],
             [
              0.1111111111111111,
              "#46039f"
             ],
             [
              0.2222222222222222,
              "#7201a8"
             ],
             [
              0.3333333333333333,
              "#9c179e"
             ],
             [
              0.4444444444444444,
              "#bd3786"
             ],
             [
              0.5555555555555556,
              "#d8576b"
             ],
             [
              0.6666666666666666,
              "#ed7953"
             ],
             [
              0.7777777777777778,
              "#fb9f3a"
             ],
             [
              0.8888888888888888,
              "#fdca26"
             ],
             [
              1,
              "#f0f921"
             ]
            ],
            "type": "histogram2d"
           }
          ],
          "histogram2dcontour": [
           {
            "colorbar": {
             "outlinewidth": 0,
             "ticks": ""
            },
            "colorscale": [
             [
              0,
              "#0d0887"
             ],
             [
              0.1111111111111111,
              "#46039f"
             ],
             [
              0.2222222222222222,
              "#7201a8"
             ],
             [
              0.3333333333333333,
              "#9c179e"
             ],
             [
              0.4444444444444444,
              "#bd3786"
             ],
             [
              0.5555555555555556,
              "#d8576b"
             ],
             [
              0.6666666666666666,
              "#ed7953"
             ],
             [
              0.7777777777777778,
              "#fb9f3a"
             ],
             [
              0.8888888888888888,
              "#fdca26"
             ],
             [
              1,
              "#f0f921"
             ]
            ],
            "type": "histogram2dcontour"
           }
          ],
          "mesh3d": [
           {
            "colorbar": {
             "outlinewidth": 0,
             "ticks": ""
            },
            "type": "mesh3d"
           }
          ],
          "parcoords": [
           {
            "line": {
             "colorbar": {
              "outlinewidth": 0,
              "ticks": ""
             }
            },
            "type": "parcoords"
           }
          ],
          "pie": [
           {
            "automargin": true,
            "type": "pie"
           }
          ],
          "scatter": [
           {
            "fillpattern": {
             "fillmode": "overlay",
             "size": 10,
             "solidity": 0.2
            },
            "type": "scatter"
           }
          ],
          "scatter3d": [
           {
            "line": {
             "colorbar": {
              "outlinewidth": 0,
              "ticks": ""
             }
            },
            "marker": {
             "colorbar": {
              "outlinewidth": 0,
              "ticks": ""
             }
            },
            "type": "scatter3d"
           }
          ],
          "scattercarpet": [
           {
            "marker": {
             "colorbar": {
              "outlinewidth": 0,
              "ticks": ""
             }
            },
            "type": "scattercarpet"
           }
          ],
          "scattergeo": [
           {
            "marker": {
             "colorbar": {
              "outlinewidth": 0,
              "ticks": ""
             }
            },
            "type": "scattergeo"
           }
          ],
          "scattergl": [
           {
            "marker": {
             "colorbar": {
              "outlinewidth": 0,
              "ticks": ""
             }
            },
            "type": "scattergl"
           }
          ],
          "scattermapbox": [
           {
            "marker": {
             "colorbar": {
              "outlinewidth": 0,
              "ticks": ""
             }
            },
            "type": "scattermapbox"
           }
          ],
          "scatterpolar": [
           {
            "marker": {
             "colorbar": {
              "outlinewidth": 0,
              "ticks": ""
             }
            },
            "type": "scatterpolar"
           }
          ],
          "scatterpolargl": [
           {
            "marker": {
             "colorbar": {
              "outlinewidth": 0,
              "ticks": ""
             }
            },
            "type": "scatterpolargl"
           }
          ],
          "scatterternary": [
           {
            "marker": {
             "colorbar": {
              "outlinewidth": 0,
              "ticks": ""
             }
            },
            "type": "scatterternary"
           }
          ],
          "surface": [
           {
            "colorbar": {
             "outlinewidth": 0,
             "ticks": ""
            },
            "colorscale": [
             [
              0,
              "#0d0887"
             ],
             [
              0.1111111111111111,
              "#46039f"
             ],
             [
              0.2222222222222222,
              "#7201a8"
             ],
             [
              0.3333333333333333,
              "#9c179e"
             ],
             [
              0.4444444444444444,
              "#bd3786"
             ],
             [
              0.5555555555555556,
              "#d8576b"
             ],
             [
              0.6666666666666666,
              "#ed7953"
             ],
             [
              0.7777777777777778,
              "#fb9f3a"
             ],
             [
              0.8888888888888888,
              "#fdca26"
             ],
             [
              1,
              "#f0f921"
             ]
            ],
            "type": "surface"
           }
          ],
          "table": [
           {
            "cells": {
             "fill": {
              "color": "#EBF0F8"
             },
             "line": {
              "color": "white"
             }
            },
            "header": {
             "fill": {
              "color": "#C8D4E3"
             },
             "line": {
              "color": "white"
             }
            },
            "type": "table"
           }
          ]
         },
         "layout": {
          "annotationdefaults": {
           "arrowcolor": "#2a3f5f",
           "arrowhead": 0,
           "arrowwidth": 1
          },
          "autotypenumbers": "strict",
          "coloraxis": {
           "colorbar": {
            "outlinewidth": 0,
            "ticks": ""
           }
          },
          "colorscale": {
           "diverging": [
            [
             0,
             "#8e0152"
            ],
            [
             0.1,
             "#c51b7d"
            ],
            [
             0.2,
             "#de77ae"
            ],
            [
             0.3,
             "#f1b6da"
            ],
            [
             0.4,
             "#fde0ef"
            ],
            [
             0.5,
             "#f7f7f7"
            ],
            [
             0.6,
             "#e6f5d0"
            ],
            [
             0.7,
             "#b8e186"
            ],
            [
             0.8,
             "#7fbc41"
            ],
            [
             0.9,
             "#4d9221"
            ],
            [
             1,
             "#276419"
            ]
           ],
           "sequential": [
            [
             0,
             "#0d0887"
            ],
            [
             0.1111111111111111,
             "#46039f"
            ],
            [
             0.2222222222222222,
             "#7201a8"
            ],
            [
             0.3333333333333333,
             "#9c179e"
            ],
            [
             0.4444444444444444,
             "#bd3786"
            ],
            [
             0.5555555555555556,
             "#d8576b"
            ],
            [
             0.6666666666666666,
             "#ed7953"
            ],
            [
             0.7777777777777778,
             "#fb9f3a"
            ],
            [
             0.8888888888888888,
             "#fdca26"
            ],
            [
             1,
             "#f0f921"
            ]
           ],
           "sequentialminus": [
            [
             0,
             "#0d0887"
            ],
            [
             0.1111111111111111,
             "#46039f"
            ],
            [
             0.2222222222222222,
             "#7201a8"
            ],
            [
             0.3333333333333333,
             "#9c179e"
            ],
            [
             0.4444444444444444,
             "#bd3786"
            ],
            [
             0.5555555555555556,
             "#d8576b"
            ],
            [
             0.6666666666666666,
             "#ed7953"
            ],
            [
             0.7777777777777778,
             "#fb9f3a"
            ],
            [
             0.8888888888888888,
             "#fdca26"
            ],
            [
             1,
             "#f0f921"
            ]
           ]
          },
          "colorway": [
           "#636efa",
           "#EF553B",
           "#00cc96",
           "#ab63fa",
           "#FFA15A",
           "#19d3f3",
           "#FF6692",
           "#B6E880",
           "#FF97FF",
           "#FECB52"
          ],
          "font": {
           "color": "#2a3f5f"
          },
          "geo": {
           "bgcolor": "white",
           "lakecolor": "white",
           "landcolor": "#E5ECF6",
           "showlakes": true,
           "showland": true,
           "subunitcolor": "white"
          },
          "hoverlabel": {
           "align": "left"
          },
          "hovermode": "closest",
          "mapbox": {
           "style": "light"
          },
          "paper_bgcolor": "white",
          "plot_bgcolor": "#E5ECF6",
          "polar": {
           "angularaxis": {
            "gridcolor": "white",
            "linecolor": "white",
            "ticks": ""
           },
           "bgcolor": "#E5ECF6",
           "radialaxis": {
            "gridcolor": "white",
            "linecolor": "white",
            "ticks": ""
           }
          },
          "scene": {
           "xaxis": {
            "backgroundcolor": "#E5ECF6",
            "gridcolor": "white",
            "gridwidth": 2,
            "linecolor": "white",
            "showbackground": true,
            "ticks": "",
            "zerolinecolor": "white"
           },
           "yaxis": {
            "backgroundcolor": "#E5ECF6",
            "gridcolor": "white",
            "gridwidth": 2,
            "linecolor": "white",
            "showbackground": true,
            "ticks": "",
            "zerolinecolor": "white"
           },
           "zaxis": {
            "backgroundcolor": "#E5ECF6",
            "gridcolor": "white",
            "gridwidth": 2,
            "linecolor": "white",
            "showbackground": true,
            "ticks": "",
            "zerolinecolor": "white"
           }
          },
          "shapedefaults": {
           "line": {
            "color": "#2a3f5f"
           }
          },
          "ternary": {
           "aaxis": {
            "gridcolor": "white",
            "linecolor": "white",
            "ticks": ""
           },
           "baxis": {
            "gridcolor": "white",
            "linecolor": "white",
            "ticks": ""
           },
           "bgcolor": "#E5ECF6",
           "caxis": {
            "gridcolor": "white",
            "linecolor": "white",
            "ticks": ""
           }
          },
          "title": {
           "x": 0.05
          },
          "xaxis": {
           "automargin": true,
           "gridcolor": "white",
           "linecolor": "white",
           "ticks": "",
           "title": {
            "standoff": 15
           },
           "zerolinecolor": "white",
           "zerolinewidth": 2
          },
          "yaxis": {
           "automargin": true,
           "gridcolor": "white",
           "linecolor": "white",
           "ticks": "",
           "title": {
            "standoff": 15
           },
           "zerolinecolor": "white",
           "zerolinewidth": 2
          }
         }
        },
        "title": {
         "font": {
          "color": "#4D5663"
         }
        },
        "xaxis": {
         "gridcolor": "#E1E5ED",
         "showgrid": true,
         "tickfont": {
          "color": "#4D5663"
         },
         "title": {
          "font": {
           "color": "#4D5663"
          },
          "text": ""
         },
         "zerolinecolor": "#E1E5ED"
        },
        "yaxis": {
         "gridcolor": "#E1E5ED",
         "showgrid": true,
         "tickfont": {
          "color": "#4D5663"
         },
         "title": {
          "font": {
           "color": "#4D5663"
          },
          "text": ""
         },
         "zerolinecolor": "#E1E5ED"
        }
       }
      },
      "text/html": [
       "<div>                            <div id=\"8793596b-cb6c-473e-a135-fb1ad882d843\" class=\"plotly-graph-div\" style=\"height:525px; width:100%;\"></div>            <script type=\"text/javascript\">                require([\"plotly\"], function(Plotly) {                    window.PLOTLYENV=window.PLOTLYENV || {};\n",
       "                    window.PLOTLYENV.BASE_URL='https://plot.ly';                                    if (document.getElementById(\"8793596b-cb6c-473e-a135-fb1ad882d843\")) {                    Plotly.newPlot(                        \"8793596b-cb6c-473e-a135-fb1ad882d843\",                        [{\"marker\":{\"color\":\"rgba(255, 153, 51, 0.6)\",\"line\":{\"color\":\"rgba(255, 153, 51, 1.0)\",\"width\":1}},\"name\":\"Values\",\"orientation\":\"v\",\"text\":\"\",\"x\":[\"A\",\"B\",\"C\"],\"y\":[32,43,50],\"type\":\"bar\"}],                        {\"legend\":{\"bgcolor\":\"#F5F6F9\",\"font\":{\"color\":\"#4D5663\"}},\"paper_bgcolor\":\"#F5F6F9\",\"plot_bgcolor\":\"#F5F6F9\",\"template\":{\"data\":{\"barpolar\":[{\"marker\":{\"line\":{\"color\":\"#E5ECF6\",\"width\":0.5},\"pattern\":{\"fillmode\":\"overlay\",\"size\":10,\"solidity\":0.2}},\"type\":\"barpolar\"}],\"bar\":[{\"error_x\":{\"color\":\"#2a3f5f\"},\"error_y\":{\"color\":\"#2a3f5f\"},\"marker\":{\"line\":{\"color\":\"#E5ECF6\",\"width\":0.5},\"pattern\":{\"fillmode\":\"overlay\",\"size\":10,\"solidity\":0.2}},\"type\":\"bar\"}],\"carpet\":[{\"aaxis\":{\"endlinecolor\":\"#2a3f5f\",\"gridcolor\":\"white\",\"linecolor\":\"white\",\"minorgridcolor\":\"white\",\"startlinecolor\":\"#2a3f5f\"},\"baxis\":{\"endlinecolor\":\"#2a3f5f\",\"gridcolor\":\"white\",\"linecolor\":\"white\",\"minorgridcolor\":\"white\",\"startlinecolor\":\"#2a3f5f\"},\"type\":\"carpet\"}],\"choropleth\":[{\"colorbar\":{\"outlinewidth\":0,\"ticks\":\"\"},\"type\":\"choropleth\"}],\"contourcarpet\":[{\"colorbar\":{\"outlinewidth\":0,\"ticks\":\"\"},\"type\":\"contourcarpet\"}],\"contour\":[{\"colorbar\":{\"outlinewidth\":0,\"ticks\":\"\"},\"colorscale\":[[0.0,\"#0d0887\"],[0.1111111111111111,\"#46039f\"],[0.2222222222222222,\"#7201a8\"],[0.3333333333333333,\"#9c179e\"],[0.4444444444444444,\"#bd3786\"],[0.5555555555555556,\"#d8576b\"],[0.6666666666666666,\"#ed7953\"],[0.7777777777777778,\"#fb9f3a\"],[0.8888888888888888,\"#fdca26\"],[1.0,\"#f0f921\"]],\"type\":\"contour\"}],\"heatmapgl\":[{\"colorbar\":{\"outlinewidth\":0,\"ticks\":\"\"},\"colorscale\":[[0.0,\"#0d0887\"],[0.1111111111111111,\"#46039f\"],[0.2222222222222222,\"#7201a8\"],[0.3333333333333333,\"#9c179e\"],[0.4444444444444444,\"#bd3786\"],[0.5555555555555556,\"#d8576b\"],[0.6666666666666666,\"#ed7953\"],[0.7777777777777778,\"#fb9f3a\"],[0.8888888888888888,\"#fdca26\"],[1.0,\"#f0f921\"]],\"type\":\"heatmapgl\"}],\"heatmap\":[{\"colorbar\":{\"outlinewidth\":0,\"ticks\":\"\"},\"colorscale\":[[0.0,\"#0d0887\"],[0.1111111111111111,\"#46039f\"],[0.2222222222222222,\"#7201a8\"],[0.3333333333333333,\"#9c179e\"],[0.4444444444444444,\"#bd3786\"],[0.5555555555555556,\"#d8576b\"],[0.6666666666666666,\"#ed7953\"],[0.7777777777777778,\"#fb9f3a\"],[0.8888888888888888,\"#fdca26\"],[1.0,\"#f0f921\"]],\"type\":\"heatmap\"}],\"histogram2dcontour\":[{\"colorbar\":{\"outlinewidth\":0,\"ticks\":\"\"},\"colorscale\":[[0.0,\"#0d0887\"],[0.1111111111111111,\"#46039f\"],[0.2222222222222222,\"#7201a8\"],[0.3333333333333333,\"#9c179e\"],[0.4444444444444444,\"#bd3786\"],[0.5555555555555556,\"#d8576b\"],[0.6666666666666666,\"#ed7953\"],[0.7777777777777778,\"#fb9f3a\"],[0.8888888888888888,\"#fdca26\"],[1.0,\"#f0f921\"]],\"type\":\"histogram2dcontour\"}],\"histogram2d\":[{\"colorbar\":{\"outlinewidth\":0,\"ticks\":\"\"},\"colorscale\":[[0.0,\"#0d0887\"],[0.1111111111111111,\"#46039f\"],[0.2222222222222222,\"#7201a8\"],[0.3333333333333333,\"#9c179e\"],[0.4444444444444444,\"#bd3786\"],[0.5555555555555556,\"#d8576b\"],[0.6666666666666666,\"#ed7953\"],[0.7777777777777778,\"#fb9f3a\"],[0.8888888888888888,\"#fdca26\"],[1.0,\"#f0f921\"]],\"type\":\"histogram2d\"}],\"histogram\":[{\"marker\":{\"pattern\":{\"fillmode\":\"overlay\",\"size\":10,\"solidity\":0.2}},\"type\":\"histogram\"}],\"mesh3d\":[{\"colorbar\":{\"outlinewidth\":0,\"ticks\":\"\"},\"type\":\"mesh3d\"}],\"parcoords\":[{\"line\":{\"colorbar\":{\"outlinewidth\":0,\"ticks\":\"\"}},\"type\":\"parcoords\"}],\"pie\":[{\"automargin\":true,\"type\":\"pie\"}],\"scatter3d\":[{\"line\":{\"colorbar\":{\"outlinewidth\":0,\"ticks\":\"\"}},\"marker\":{\"colorbar\":{\"outlinewidth\":0,\"ticks\":\"\"}},\"type\":\"scatter3d\"}],\"scattercarpet\":[{\"marker\":{\"colorbar\":{\"outlinewidth\":0,\"ticks\":\"\"}},\"type\":\"scattercarpet\"}],\"scattergeo\":[{\"marker\":{\"colorbar\":{\"outlinewidth\":0,\"ticks\":\"\"}},\"type\":\"scattergeo\"}],\"scattergl\":[{\"marker\":{\"colorbar\":{\"outlinewidth\":0,\"ticks\":\"\"}},\"type\":\"scattergl\"}],\"scattermapbox\":[{\"marker\":{\"colorbar\":{\"outlinewidth\":0,\"ticks\":\"\"}},\"type\":\"scattermapbox\"}],\"scatterpolargl\":[{\"marker\":{\"colorbar\":{\"outlinewidth\":0,\"ticks\":\"\"}},\"type\":\"scatterpolargl\"}],\"scatterpolar\":[{\"marker\":{\"colorbar\":{\"outlinewidth\":0,\"ticks\":\"\"}},\"type\":\"scatterpolar\"}],\"scatter\":[{\"fillpattern\":{\"fillmode\":\"overlay\",\"size\":10,\"solidity\":0.2},\"type\":\"scatter\"}],\"scatterternary\":[{\"marker\":{\"colorbar\":{\"outlinewidth\":0,\"ticks\":\"\"}},\"type\":\"scatterternary\"}],\"surface\":[{\"colorbar\":{\"outlinewidth\":0,\"ticks\":\"\"},\"colorscale\":[[0.0,\"#0d0887\"],[0.1111111111111111,\"#46039f\"],[0.2222222222222222,\"#7201a8\"],[0.3333333333333333,\"#9c179e\"],[0.4444444444444444,\"#bd3786\"],[0.5555555555555556,\"#d8576b\"],[0.6666666666666666,\"#ed7953\"],[0.7777777777777778,\"#fb9f3a\"],[0.8888888888888888,\"#fdca26\"],[1.0,\"#f0f921\"]],\"type\":\"surface\"}],\"table\":[{\"cells\":{\"fill\":{\"color\":\"#EBF0F8\"},\"line\":{\"color\":\"white\"}},\"header\":{\"fill\":{\"color\":\"#C8D4E3\"},\"line\":{\"color\":\"white\"}},\"type\":\"table\"}]},\"layout\":{\"annotationdefaults\":{\"arrowcolor\":\"#2a3f5f\",\"arrowhead\":0,\"arrowwidth\":1},\"autotypenumbers\":\"strict\",\"coloraxis\":{\"colorbar\":{\"outlinewidth\":0,\"ticks\":\"\"}},\"colorscale\":{\"diverging\":[[0,\"#8e0152\"],[0.1,\"#c51b7d\"],[0.2,\"#de77ae\"],[0.3,\"#f1b6da\"],[0.4,\"#fde0ef\"],[0.5,\"#f7f7f7\"],[0.6,\"#e6f5d0\"],[0.7,\"#b8e186\"],[0.8,\"#7fbc41\"],[0.9,\"#4d9221\"],[1,\"#276419\"]],\"sequential\":[[0.0,\"#0d0887\"],[0.1111111111111111,\"#46039f\"],[0.2222222222222222,\"#7201a8\"],[0.3333333333333333,\"#9c179e\"],[0.4444444444444444,\"#bd3786\"],[0.5555555555555556,\"#d8576b\"],[0.6666666666666666,\"#ed7953\"],[0.7777777777777778,\"#fb9f3a\"],[0.8888888888888888,\"#fdca26\"],[1.0,\"#f0f921\"]],\"sequentialminus\":[[0.0,\"#0d0887\"],[0.1111111111111111,\"#46039f\"],[0.2222222222222222,\"#7201a8\"],[0.3333333333333333,\"#9c179e\"],[0.4444444444444444,\"#bd3786\"],[0.5555555555555556,\"#d8576b\"],[0.6666666666666666,\"#ed7953\"],[0.7777777777777778,\"#fb9f3a\"],[0.8888888888888888,\"#fdca26\"],[1.0,\"#f0f921\"]]},\"colorway\":[\"#636efa\",\"#EF553B\",\"#00cc96\",\"#ab63fa\",\"#FFA15A\",\"#19d3f3\",\"#FF6692\",\"#B6E880\",\"#FF97FF\",\"#FECB52\"],\"font\":{\"color\":\"#2a3f5f\"},\"geo\":{\"bgcolor\":\"white\",\"lakecolor\":\"white\",\"landcolor\":\"#E5ECF6\",\"showlakes\":true,\"showland\":true,\"subunitcolor\":\"white\"},\"hoverlabel\":{\"align\":\"left\"},\"hovermode\":\"closest\",\"mapbox\":{\"style\":\"light\"},\"paper_bgcolor\":\"white\",\"plot_bgcolor\":\"#E5ECF6\",\"polar\":{\"angularaxis\":{\"gridcolor\":\"white\",\"linecolor\":\"white\",\"ticks\":\"\"},\"bgcolor\":\"#E5ECF6\",\"radialaxis\":{\"gridcolor\":\"white\",\"linecolor\":\"white\",\"ticks\":\"\"}},\"scene\":{\"xaxis\":{\"backgroundcolor\":\"#E5ECF6\",\"gridcolor\":\"white\",\"gridwidth\":2,\"linecolor\":\"white\",\"showbackground\":true,\"ticks\":\"\",\"zerolinecolor\":\"white\"},\"yaxis\":{\"backgroundcolor\":\"#E5ECF6\",\"gridcolor\":\"white\",\"gridwidth\":2,\"linecolor\":\"white\",\"showbackground\":true,\"ticks\":\"\",\"zerolinecolor\":\"white\"},\"zaxis\":{\"backgroundcolor\":\"#E5ECF6\",\"gridcolor\":\"white\",\"gridwidth\":2,\"linecolor\":\"white\",\"showbackground\":true,\"ticks\":\"\",\"zerolinecolor\":\"white\"}},\"shapedefaults\":{\"line\":{\"color\":\"#2a3f5f\"}},\"ternary\":{\"aaxis\":{\"gridcolor\":\"white\",\"linecolor\":\"white\",\"ticks\":\"\"},\"baxis\":{\"gridcolor\":\"white\",\"linecolor\":\"white\",\"ticks\":\"\"},\"bgcolor\":\"#E5ECF6\",\"caxis\":{\"gridcolor\":\"white\",\"linecolor\":\"white\",\"ticks\":\"\"}},\"title\":{\"x\":0.05},\"xaxis\":{\"automargin\":true,\"gridcolor\":\"white\",\"linecolor\":\"white\",\"ticks\":\"\",\"title\":{\"standoff\":15},\"zerolinecolor\":\"white\",\"zerolinewidth\":2},\"yaxis\":{\"automargin\":true,\"gridcolor\":\"white\",\"linecolor\":\"white\",\"ticks\":\"\",\"title\":{\"standoff\":15},\"zerolinecolor\":\"white\",\"zerolinewidth\":2}}},\"title\":{\"font\":{\"color\":\"#4D5663\"}},\"xaxis\":{\"gridcolor\":\"#E1E5ED\",\"showgrid\":true,\"tickfont\":{\"color\":\"#4D5663\"},\"title\":{\"font\":{\"color\":\"#4D5663\"},\"text\":\"\"},\"zerolinecolor\":\"#E1E5ED\"},\"yaxis\":{\"gridcolor\":\"#E1E5ED\",\"showgrid\":true,\"tickfont\":{\"color\":\"#4D5663\"},\"title\":{\"font\":{\"color\":\"#4D5663\"},\"text\":\"\"},\"zerolinecolor\":\"#E1E5ED\"}},                        {\"showLink\": true, \"linkText\": \"Export to plot.ly\", \"plotlyServerURL\": \"https://plot.ly\", \"responsive\": true}                    ).then(function(){\n",
       "                            \n",
       "var gd = document.getElementById('8793596b-cb6c-473e-a135-fb1ad882d843');\n",
       "var x = new MutationObserver(function (mutations, observer) {{\n",
       "        var display = window.getComputedStyle(gd).display;\n",
       "        if (!display || display === 'none') {{\n",
       "            console.log([gd, 'removed!']);\n",
       "            Plotly.purge(gd);\n",
       "            observer.disconnect();\n",
       "        }}\n",
       "}});\n",
       "\n",
       "// Listen for the removal of the full notebook cells\n",
       "var notebookContainer = gd.closest('#notebook-container');\n",
       "if (notebookContainer) {{\n",
       "    x.observe(notebookContainer, {childList: true});\n",
       "}}\n",
       "\n",
       "// Listen for the clearing of the current output cell\n",
       "var outputEl = gd.closest('.output');\n",
       "if (outputEl) {{\n",
       "    x.observe(outputEl, {childList: true});\n",
       "}}\n",
       "\n",
       "                        })                };                });            </script>        </div>"
      ]
     },
     "metadata": {},
     "output_type": "display_data"
    }
   ],
   "source": [
    "df2.iplot(kind='bar', x='Category', y='Values')"
   ]
  },
  {
   "cell_type": "code",
   "execution_count": 16,
   "metadata": {},
   "outputs": [
    {
     "data": {
      "application/vnd.plotly.v1+json": {
       "config": {
        "linkText": "Export to plot.ly",
        "plotlyServerURL": "https://plot.ly",
        "showLink": true
       },
       "data": [
        {
         "marker": {
          "color": "rgba(255, 153, 51, 0.6)",
          "line": {
           "color": "rgba(255, 153, 51, 1.0)",
           "width": 1
          }
         },
         "name": "A",
         "orientation": "v",
         "text": "",
         "type": "bar",
         "x": [
          0,
          1,
          2,
          3,
          4,
          5,
          6,
          7,
          8,
          9,
          10,
          11,
          12,
          13,
          14,
          15,
          16,
          17,
          18,
          19,
          20,
          21,
          22,
          23,
          24,
          25,
          26,
          27,
          28,
          29,
          30,
          31,
          32,
          33,
          34,
          35,
          36,
          37,
          38,
          39,
          40,
          41,
          42,
          43,
          44,
          45,
          46,
          47,
          48,
          49,
          50,
          51,
          52,
          53,
          54,
          55,
          56,
          57,
          58,
          59,
          60,
          61,
          62,
          63,
          64,
          65,
          66,
          67,
          68,
          69,
          70,
          71,
          72,
          73,
          74,
          75,
          76,
          77,
          78,
          79,
          80,
          81,
          82,
          83,
          84,
          85,
          86,
          87,
          88,
          89,
          90,
          91,
          92,
          93,
          94,
          95,
          96,
          97,
          98,
          99
         ],
         "y": [
          0.6693661948659464,
          -1.409044815883012,
          -1.5455132834648089,
          0.6594642363422143,
          -0.09187247967043793,
          -0.730872810435815,
          -1.275919630139343,
          0.5230249705628381,
          -0.43397846009587693,
          -1.7396304117414094,
          -0.4946101964719013,
          0.30911834387069603,
          0.005740623968679781,
          -1.915161692689898,
          -0.3933771893139661,
          -1.5715842465033658,
          0.5584309091887014,
          0.443929077658181,
          0.42144883741187095,
          -1.2990455931993434,
          -0.4648052895158669,
          -1.4871274872639502,
          0.7897744945229496,
          -0.40787599619101145,
          -1.282569429442684,
          -1.416396656394587,
          -0.5757480437607201,
          0.7884005807602522,
          -0.22089370830785646,
          0.8721005626280494,
          0.6567327838128859,
          -0.4228616246723989,
          0.995975547606502,
          0.8054519633236913,
          0.8843786917513216,
          1.2134326819921784,
          -0.06546507933482919,
          -0.834255920485621,
          -0.8561919143953065,
          0.47435199850244514,
          1.2122433047509944,
          0.09169781628532563,
          0.5423837717420449,
          1.1462383500652646,
          2.056703885305179,
          -1.6224185421357327,
          -1.125949736917768,
          1.660578525022922,
          -0.5414056122193067,
          0.9979304853907104,
          0.340038928237054,
          -0.3421041025328197,
          -0.2538078053973776,
          -1.465463332830521,
          0.09781815927902178,
          0.917451586261482,
          0.38829880280747814,
          -0.5903613623266755,
          0.18283389165631908,
          0.8167981574453973,
          -0.33050615215525225,
          -2.351061461499044,
          -0.21938938619252876,
          -0.5343172250761418,
          0.5383465122361409,
          -1.584531740831603,
          -0.5248338648093666,
          -0.042128313288309197,
          0.2930936834740656,
          -0.18242520569668452,
          -0.32440972512416955,
          -0.26396063970516837,
          0.25510552399176567,
          1.0913344523198856,
          -0.26432546702841975,
          -1.1324962182484257,
          -0.3334188287709066,
          0.47165865713664096,
          -0.00722601308551948,
          -0.6004700482876557,
          -1.1671025640491137,
          1.3856312367633412,
          -1.9994626518762393,
          -0.4574667433126146,
          0.5706296296645946,
          -0.4418303579630319,
          1.0296016008018352,
          -0.23612241811588852,
          -0.8472454978284362,
          0.05050308339176204,
          -0.8181004061510664,
          0.684027136964716,
          0.16310082433895473,
          -1.797850143901822,
          -0.8267184298920633,
          -0.2986569140798697,
          0.9120993737504053,
          -0.941192969783878,
          0.8176020424453682,
          -0.3605275708624665
         ]
        },
        {
         "marker": {
          "color": "rgba(55, 128, 191, 0.6)",
          "line": {
           "color": "rgba(55, 128, 191, 1.0)",
           "width": 1
          }
         },
         "name": "B",
         "orientation": "v",
         "text": "",
         "type": "bar",
         "x": [
          0,
          1,
          2,
          3,
          4,
          5,
          6,
          7,
          8,
          9,
          10,
          11,
          12,
          13,
          14,
          15,
          16,
          17,
          18,
          19,
          20,
          21,
          22,
          23,
          24,
          25,
          26,
          27,
          28,
          29,
          30,
          31,
          32,
          33,
          34,
          35,
          36,
          37,
          38,
          39,
          40,
          41,
          42,
          43,
          44,
          45,
          46,
          47,
          48,
          49,
          50,
          51,
          52,
          53,
          54,
          55,
          56,
          57,
          58,
          59,
          60,
          61,
          62,
          63,
          64,
          65,
          66,
          67,
          68,
          69,
          70,
          71,
          72,
          73,
          74,
          75,
          76,
          77,
          78,
          79,
          80,
          81,
          82,
          83,
          84,
          85,
          86,
          87,
          88,
          89,
          90,
          91,
          92,
          93,
          94,
          95,
          96,
          97,
          98,
          99
         ],
         "y": [
          -0.4414590644709143,
          0.6009475102866352,
          3.510112069764468,
          1.5610552154700426,
          0.3884407199380903,
          -0.4345526018263627,
          -1.5666312237968276,
          1.1581096173233933,
          0.8004321234159172,
          2.0683908511197133,
          2.0755846544816277,
          -0.08604290723107731,
          -1.852937809123877,
          -0.9219953804103326,
          1.5618581074219662,
          0.6223130637864492,
          0.10268604787080232,
          -1.502931394299509,
          -1.1912728932017442,
          -2.093129747282381,
          -0.11515313414454793,
          0.4761692720056932,
          0.7714845354688461,
          1.1481159962233656,
          0.3167448548122893,
          2.6445662984808225,
          0.41824474356144214,
          1.2258403587871345,
          -0.9281528640238541,
          -0.2321860023071417,
          0.09373345895297824,
          0.007760938161068311,
          0.07077794095980522,
          -1.5700388740869569,
          -2.6782282196328024,
          -1.2068971847318049,
          0.8817557910116786,
          1.24084124810912,
          -0.6497987778064365,
          -0.9985133432689008,
          1.7404318210002216,
          0.006269448113173197,
          -1.0888360695852122,
          -2.0806257728411803,
          1.5194078693886661,
          -0.8452760566534565,
          -0.6116298705203155,
          0.3852156286062059,
          -0.8223443081603498,
          -0.6471088536760966,
          0.5757376498682675,
          -0.11602724007195983,
          0.45164281897113545,
          0.049387871754323916,
          0.8696536817954045,
          0.15467339469132277,
          0.16391469508209702,
          0.019570767130891942,
          -0.29012441440522524,
          0.9006159547163501,
          -1.0935593474429195,
          -1.7149949831895048,
          0.8766246539141818,
          -0.41894022154377386,
          0.38545370977307725,
          0.3761884013298682,
          -0.40183836727070854,
          -0.8852419199645146,
          0.06545033657791095,
          -0.5912844705181812,
          0.5499005651829469,
          -0.0028953672735837948,
          -0.06751955240201332,
          -0.1364598072282228,
          0.5478660254587262,
          1.1209119713513573,
          -0.44056185163877964,
          0.6819809085125212,
          -1.744570812276172,
          1.0965466766006342,
          -0.9666450670180567,
          -0.719631723447022,
          1.504130205404488,
          0.5573037381170135,
          0.15176242423433967,
          1.1397173044752613,
          0.46164631885290763,
          -0.5198088233524397,
          2.786583661544022,
          0.0015574722530103794,
          -0.7626358815680526,
          1.6058332064458973,
          0.4124894696963012,
          -1.8358755217882134,
          -0.2728612400594335,
          -0.8356084555841023,
          0.4976244705259505,
          -0.12476794780692588,
          -0.5315848882432254,
          -0.7413144468010111
         ]
        },
        {
         "marker": {
          "color": "rgba(50, 171, 96, 0.6)",
          "line": {
           "color": "rgba(50, 171, 96, 1.0)",
           "width": 1
          }
         },
         "name": "C",
         "orientation": "v",
         "text": "",
         "type": "bar",
         "x": [
          0,
          1,
          2,
          3,
          4,
          5,
          6,
          7,
          8,
          9,
          10,
          11,
          12,
          13,
          14,
          15,
          16,
          17,
          18,
          19,
          20,
          21,
          22,
          23,
          24,
          25,
          26,
          27,
          28,
          29,
          30,
          31,
          32,
          33,
          34,
          35,
          36,
          37,
          38,
          39,
          40,
          41,
          42,
          43,
          44,
          45,
          46,
          47,
          48,
          49,
          50,
          51,
          52,
          53,
          54,
          55,
          56,
          57,
          58,
          59,
          60,
          61,
          62,
          63,
          64,
          65,
          66,
          67,
          68,
          69,
          70,
          71,
          72,
          73,
          74,
          75,
          76,
          77,
          78,
          79,
          80,
          81,
          82,
          83,
          84,
          85,
          86,
          87,
          88,
          89,
          90,
          91,
          92,
          93,
          94,
          95,
          96,
          97,
          98,
          99
         ],
         "y": [
          1.4233200533170975,
          0.6159496867456131,
          1.7979161916788837,
          0.12139916332939137,
          -0.40125453266904376,
          1.61785316253027,
          -0.6808030391766453,
          -2.216630690177966,
          1.8287380136575637,
          -0.49421587836108194,
          -0.09961300412739195,
          -0.19138151883595206,
          0.638853161900305,
          1.398165666171986,
          0.19596580170798614,
          0.10326196408346817,
          1.7283246092175926,
          0.08352505349632627,
          0.5861542610701532,
          -0.7042117978319893,
          1.1739074126285045,
          -0.6447071267463649,
          -0.584773025960135,
          -2.023064024068859,
          -0.20199159447017545,
          1.3496392759662206,
          -0.14710109262032228,
          0.914518419402551,
          -0.23344367662746354,
          -0.3073859013884055,
          1.2615096767780327,
          -1.4354880375169556,
          -2.0046553286678805,
          0.7132933872478242,
          1.6449218141437816,
          -0.8209431837796699,
          0.09919680776393808,
          -0.6725230534024434,
          1.1235844188898196,
          -1.4402951641516324,
          0.7968983830541359,
          0.4631694940939458,
          -1.3808837085831145,
          -0.9491953851936759,
          -0.7108256042200177,
          -0.4297781341964865,
          1.799918621731629,
          -0.6414089564908176,
          -1.6006698224560578,
          0.5561624868805122,
          0.035903773932643185,
          1.4465698689551396,
          0.5691462555450286,
          -0.4474772983278165,
          -0.7557735903136481,
          0.7253211917370975,
          0.4325090345900524,
          1.7463592510581543,
          -0.3122555391184784,
          0.17182734000031602,
          0.06949090934738986,
          0.7932881874346521,
          2.0104502421536994,
          0.32535689301356596,
          -1.8706464701162937,
          -1.340806900307281,
          -0.36446153804988307,
          -0.614360826521038,
          -1.2960567099922464,
          0.13957639899688445,
          0.21283236535272945,
          0.7496867587839621,
          -0.5044670108662712,
          -0.4693107942344235,
          -0.1428366768089854,
          0.8099341670406704,
          -0.15800715116578368,
          0.09372922115895009,
          -0.27571673214748976,
          -0.4329370157747361,
          -1.1462021929318833,
          -0.36184706799625294,
          -0.16623691634814758,
          1.8514300498089877,
          -0.9042442237521494,
          -2.1471829232725557,
          0.27423799994818854,
          -0.37870857066885016,
          -0.08838583515869604,
          1.6151413809955402,
          -0.6809128262518052,
          0.350073566832486,
          -1.587336910199822,
          1.4430896272711142,
          1.195984425712016,
          -0.820595399394534,
          -0.09644665671787835,
          0.6547879694097968,
          0.5677569196382464,
          -0.4063498784650625
         ]
        },
        {
         "marker": {
          "color": "rgba(128, 0, 128, 0.6)",
          "line": {
           "color": "rgba(128, 0, 128, 1.0)",
           "width": 1
          }
         },
         "name": "D",
         "orientation": "v",
         "text": "",
         "type": "bar",
         "x": [
          0,
          1,
          2,
          3,
          4,
          5,
          6,
          7,
          8,
          9,
          10,
          11,
          12,
          13,
          14,
          15,
          16,
          17,
          18,
          19,
          20,
          21,
          22,
          23,
          24,
          25,
          26,
          27,
          28,
          29,
          30,
          31,
          32,
          33,
          34,
          35,
          36,
          37,
          38,
          39,
          40,
          41,
          42,
          43,
          44,
          45,
          46,
          47,
          48,
          49,
          50,
          51,
          52,
          53,
          54,
          55,
          56,
          57,
          58,
          59,
          60,
          61,
          62,
          63,
          64,
          65,
          66,
          67,
          68,
          69,
          70,
          71,
          72,
          73,
          74,
          75,
          76,
          77,
          78,
          79,
          80,
          81,
          82,
          83,
          84,
          85,
          86,
          87,
          88,
          89,
          90,
          91,
          92,
          93,
          94,
          95,
          96,
          97,
          98,
          99
         ],
         "y": [
          0.7992324592610167,
          -0.05188210528915001,
          0.8015795783892489,
          -1.7625479996249647,
          -0.23068101326878976,
          0.5424147794179821,
          1.718139710140608,
          -0.642031886955033,
          -0.36291771534161643,
          0.5552061649401454,
          0.48871970286816374,
          0.6023788216017896,
          -0.5670425850032518,
          1.8668425410768033,
          0.4669796392877091,
          1.41066662365623,
          -0.7859448182662659,
          -0.4318436538967881,
          0.9534575451002785,
          0.9112121447323823,
          -0.698578581804585,
          0.5143158906578965,
          -0.4501003312205437,
          -0.13873858485269464,
          -2.6638684619491664,
          0.25218313011119636,
          0.007674540502392985,
          -2.0513491818264775,
          -2.5171585833059247,
          0.10691527264643252,
          -0.5783611683821118,
          -2.457545669901879,
          -2.148288038132148,
          0.20526202863496373,
          0.6953152022027189,
          -0.683709803884698,
          -1.1909216154489195,
          0.8283363345691284,
          -1.1108219203526317,
          -0.15446098860476107,
          1.3382550021782424,
          -1.601909630449409,
          0.48339532458809353,
          -1.204304297934044,
          -1.6175952940395444,
          0.8309993324737532,
          -0.564856327632216,
          0.35159718788849453,
          1.1761504038189217,
          -1.9336845720140432,
          1.6942567540721312,
          0.2676482220157771,
          -0.28970712192305914,
          0.11682347407357466,
          -0.8017249068876192,
          -0.45232518989386455,
          1.5008394166528523,
          -0.8958484772482399,
          1.1904250550007773,
          1.545179504475862,
          -0.3982271367545086,
          -2.179059102931823,
          0.5027227417945013,
          1.7593358159631074,
          0.9674395401861513,
          0.7636882584686431,
          0.6819325455484554,
          0.9406732681547485,
          1.0012488708089025,
          -1.3344074764426668,
          -0.2910369009074888,
          -1.1626818990650376,
          -0.1900657727513096,
          -1.010291644662696,
          -1.9793152233244706,
          1.2014318398594674,
          0.40223513819327933,
          -0.09571982160454257,
          -0.9993326135434881,
          1.076334803451642,
          -0.565775268432088,
          -0.354871749191251,
          0.3679847920125919,
          -0.867403502419228,
          -0.46924428319193223,
          -0.40106252534802445,
          -0.6184632107725365,
          0.5214549978243445,
          1.3968234398094583,
          -0.7346027331483096,
          0.7601639098894806,
          1.2673422785952209,
          -0.5435996104654863,
          1.32596240312645,
          -0.9534951141066719,
          0.23179686678296982,
          1.8213091036611835,
          -0.45184033226446124,
          -0.19177099379029058,
          -1.111679377316681
         ]
        }
       ],
       "layout": {
        "legend": {
         "bgcolor": "#F5F6F9",
         "font": {
          "color": "#4D5663"
         }
        },
        "paper_bgcolor": "#F5F6F9",
        "plot_bgcolor": "#F5F6F9",
        "template": {
         "data": {
          "bar": [
           {
            "error_x": {
             "color": "#2a3f5f"
            },
            "error_y": {
             "color": "#2a3f5f"
            },
            "marker": {
             "line": {
              "color": "#E5ECF6",
              "width": 0.5
             },
             "pattern": {
              "fillmode": "overlay",
              "size": 10,
              "solidity": 0.2
             }
            },
            "type": "bar"
           }
          ],
          "barpolar": [
           {
            "marker": {
             "line": {
              "color": "#E5ECF6",
              "width": 0.5
             },
             "pattern": {
              "fillmode": "overlay",
              "size": 10,
              "solidity": 0.2
             }
            },
            "type": "barpolar"
           }
          ],
          "carpet": [
           {
            "aaxis": {
             "endlinecolor": "#2a3f5f",
             "gridcolor": "white",
             "linecolor": "white",
             "minorgridcolor": "white",
             "startlinecolor": "#2a3f5f"
            },
            "baxis": {
             "endlinecolor": "#2a3f5f",
             "gridcolor": "white",
             "linecolor": "white",
             "minorgridcolor": "white",
             "startlinecolor": "#2a3f5f"
            },
            "type": "carpet"
           }
          ],
          "choropleth": [
           {
            "colorbar": {
             "outlinewidth": 0,
             "ticks": ""
            },
            "type": "choropleth"
           }
          ],
          "contour": [
           {
            "colorbar": {
             "outlinewidth": 0,
             "ticks": ""
            },
            "colorscale": [
             [
              0,
              "#0d0887"
             ],
             [
              0.1111111111111111,
              "#46039f"
             ],
             [
              0.2222222222222222,
              "#7201a8"
             ],
             [
              0.3333333333333333,
              "#9c179e"
             ],
             [
              0.4444444444444444,
              "#bd3786"
             ],
             [
              0.5555555555555556,
              "#d8576b"
             ],
             [
              0.6666666666666666,
              "#ed7953"
             ],
             [
              0.7777777777777778,
              "#fb9f3a"
             ],
             [
              0.8888888888888888,
              "#fdca26"
             ],
             [
              1,
              "#f0f921"
             ]
            ],
            "type": "contour"
           }
          ],
          "contourcarpet": [
           {
            "colorbar": {
             "outlinewidth": 0,
             "ticks": ""
            },
            "type": "contourcarpet"
           }
          ],
          "heatmap": [
           {
            "colorbar": {
             "outlinewidth": 0,
             "ticks": ""
            },
            "colorscale": [
             [
              0,
              "#0d0887"
             ],
             [
              0.1111111111111111,
              "#46039f"
             ],
             [
              0.2222222222222222,
              "#7201a8"
             ],
             [
              0.3333333333333333,
              "#9c179e"
             ],
             [
              0.4444444444444444,
              "#bd3786"
             ],
             [
              0.5555555555555556,
              "#d8576b"
             ],
             [
              0.6666666666666666,
              "#ed7953"
             ],
             [
              0.7777777777777778,
              "#fb9f3a"
             ],
             [
              0.8888888888888888,
              "#fdca26"
             ],
             [
              1,
              "#f0f921"
             ]
            ],
            "type": "heatmap"
           }
          ],
          "heatmapgl": [
           {
            "colorbar": {
             "outlinewidth": 0,
             "ticks": ""
            },
            "colorscale": [
             [
              0,
              "#0d0887"
             ],
             [
              0.1111111111111111,
              "#46039f"
             ],
             [
              0.2222222222222222,
              "#7201a8"
             ],
             [
              0.3333333333333333,
              "#9c179e"
             ],
             [
              0.4444444444444444,
              "#bd3786"
             ],
             [
              0.5555555555555556,
              "#d8576b"
             ],
             [
              0.6666666666666666,
              "#ed7953"
             ],
             [
              0.7777777777777778,
              "#fb9f3a"
             ],
             [
              0.8888888888888888,
              "#fdca26"
             ],
             [
              1,
              "#f0f921"
             ]
            ],
            "type": "heatmapgl"
           }
          ],
          "histogram": [
           {
            "marker": {
             "pattern": {
              "fillmode": "overlay",
              "size": 10,
              "solidity": 0.2
             }
            },
            "type": "histogram"
           }
          ],
          "histogram2d": [
           {
            "colorbar": {
             "outlinewidth": 0,
             "ticks": ""
            },
            "colorscale": [
             [
              0,
              "#0d0887"
             ],
             [
              0.1111111111111111,
              "#46039f"
             ],
             [
              0.2222222222222222,
              "#7201a8"
             ],
             [
              0.3333333333333333,
              "#9c179e"
             ],
             [
              0.4444444444444444,
              "#bd3786"
             ],
             [
              0.5555555555555556,
              "#d8576b"
             ],
             [
              0.6666666666666666,
              "#ed7953"
             ],
             [
              0.7777777777777778,
              "#fb9f3a"
             ],
             [
              0.8888888888888888,
              "#fdca26"
             ],
             [
              1,
              "#f0f921"
             ]
            ],
            "type": "histogram2d"
           }
          ],
          "histogram2dcontour": [
           {
            "colorbar": {
             "outlinewidth": 0,
             "ticks": ""
            },
            "colorscale": [
             [
              0,
              "#0d0887"
             ],
             [
              0.1111111111111111,
              "#46039f"
             ],
             [
              0.2222222222222222,
              "#7201a8"
             ],
             [
              0.3333333333333333,
              "#9c179e"
             ],
             [
              0.4444444444444444,
              "#bd3786"
             ],
             [
              0.5555555555555556,
              "#d8576b"
             ],
             [
              0.6666666666666666,
              "#ed7953"
             ],
             [
              0.7777777777777778,
              "#fb9f3a"
             ],
             [
              0.8888888888888888,
              "#fdca26"
             ],
             [
              1,
              "#f0f921"
             ]
            ],
            "type": "histogram2dcontour"
           }
          ],
          "mesh3d": [
           {
            "colorbar": {
             "outlinewidth": 0,
             "ticks": ""
            },
            "type": "mesh3d"
           }
          ],
          "parcoords": [
           {
            "line": {
             "colorbar": {
              "outlinewidth": 0,
              "ticks": ""
             }
            },
            "type": "parcoords"
           }
          ],
          "pie": [
           {
            "automargin": true,
            "type": "pie"
           }
          ],
          "scatter": [
           {
            "fillpattern": {
             "fillmode": "overlay",
             "size": 10,
             "solidity": 0.2
            },
            "type": "scatter"
           }
          ],
          "scatter3d": [
           {
            "line": {
             "colorbar": {
              "outlinewidth": 0,
              "ticks": ""
             }
            },
            "marker": {
             "colorbar": {
              "outlinewidth": 0,
              "ticks": ""
             }
            },
            "type": "scatter3d"
           }
          ],
          "scattercarpet": [
           {
            "marker": {
             "colorbar": {
              "outlinewidth": 0,
              "ticks": ""
             }
            },
            "type": "scattercarpet"
           }
          ],
          "scattergeo": [
           {
            "marker": {
             "colorbar": {
              "outlinewidth": 0,
              "ticks": ""
             }
            },
            "type": "scattergeo"
           }
          ],
          "scattergl": [
           {
            "marker": {
             "colorbar": {
              "outlinewidth": 0,
              "ticks": ""
             }
            },
            "type": "scattergl"
           }
          ],
          "scattermapbox": [
           {
            "marker": {
             "colorbar": {
              "outlinewidth": 0,
              "ticks": ""
             }
            },
            "type": "scattermapbox"
           }
          ],
          "scatterpolar": [
           {
            "marker": {
             "colorbar": {
              "outlinewidth": 0,
              "ticks": ""
             }
            },
            "type": "scatterpolar"
           }
          ],
          "scatterpolargl": [
           {
            "marker": {
             "colorbar": {
              "outlinewidth": 0,
              "ticks": ""
             }
            },
            "type": "scatterpolargl"
           }
          ],
          "scatterternary": [
           {
            "marker": {
             "colorbar": {
              "outlinewidth": 0,
              "ticks": ""
             }
            },
            "type": "scatterternary"
           }
          ],
          "surface": [
           {
            "colorbar": {
             "outlinewidth": 0,
             "ticks": ""
            },
            "colorscale": [
             [
              0,
              "#0d0887"
             ],
             [
              0.1111111111111111,
              "#46039f"
             ],
             [
              0.2222222222222222,
              "#7201a8"
             ],
             [
              0.3333333333333333,
              "#9c179e"
             ],
             [
              0.4444444444444444,
              "#bd3786"
             ],
             [
              0.5555555555555556,
              "#d8576b"
             ],
             [
              0.6666666666666666,
              "#ed7953"
             ],
             [
              0.7777777777777778,
              "#fb9f3a"
             ],
             [
              0.8888888888888888,
              "#fdca26"
             ],
             [
              1,
              "#f0f921"
             ]
            ],
            "type": "surface"
           }
          ],
          "table": [
           {
            "cells": {
             "fill": {
              "color": "#EBF0F8"
             },
             "line": {
              "color": "white"
             }
            },
            "header": {
             "fill": {
              "color": "#C8D4E3"
             },
             "line": {
              "color": "white"
             }
            },
            "type": "table"
           }
          ]
         },
         "layout": {
          "annotationdefaults": {
           "arrowcolor": "#2a3f5f",
           "arrowhead": 0,
           "arrowwidth": 1
          },
          "autotypenumbers": "strict",
          "coloraxis": {
           "colorbar": {
            "outlinewidth": 0,
            "ticks": ""
           }
          },
          "colorscale": {
           "diverging": [
            [
             0,
             "#8e0152"
            ],
            [
             0.1,
             "#c51b7d"
            ],
            [
             0.2,
             "#de77ae"
            ],
            [
             0.3,
             "#f1b6da"
            ],
            [
             0.4,
             "#fde0ef"
            ],
            [
             0.5,
             "#f7f7f7"
            ],
            [
             0.6,
             "#e6f5d0"
            ],
            [
             0.7,
             "#b8e186"
            ],
            [
             0.8,
             "#7fbc41"
            ],
            [
             0.9,
             "#4d9221"
            ],
            [
             1,
             "#276419"
            ]
           ],
           "sequential": [
            [
             0,
             "#0d0887"
            ],
            [
             0.1111111111111111,
             "#46039f"
            ],
            [
             0.2222222222222222,
             "#7201a8"
            ],
            [
             0.3333333333333333,
             "#9c179e"
            ],
            [
             0.4444444444444444,
             "#bd3786"
            ],
            [
             0.5555555555555556,
             "#d8576b"
            ],
            [
             0.6666666666666666,
             "#ed7953"
            ],
            [
             0.7777777777777778,
             "#fb9f3a"
            ],
            [
             0.8888888888888888,
             "#fdca26"
            ],
            [
             1,
             "#f0f921"
            ]
           ],
           "sequentialminus": [
            [
             0,
             "#0d0887"
            ],
            [
             0.1111111111111111,
             "#46039f"
            ],
            [
             0.2222222222222222,
             "#7201a8"
            ],
            [
             0.3333333333333333,
             "#9c179e"
            ],
            [
             0.4444444444444444,
             "#bd3786"
            ],
            [
             0.5555555555555556,
             "#d8576b"
            ],
            [
             0.6666666666666666,
             "#ed7953"
            ],
            [
             0.7777777777777778,
             "#fb9f3a"
            ],
            [
             0.8888888888888888,
             "#fdca26"
            ],
            [
             1,
             "#f0f921"
            ]
           ]
          },
          "colorway": [
           "#636efa",
           "#EF553B",
           "#00cc96",
           "#ab63fa",
           "#FFA15A",
           "#19d3f3",
           "#FF6692",
           "#B6E880",
           "#FF97FF",
           "#FECB52"
          ],
          "font": {
           "color": "#2a3f5f"
          },
          "geo": {
           "bgcolor": "white",
           "lakecolor": "white",
           "landcolor": "#E5ECF6",
           "showlakes": true,
           "showland": true,
           "subunitcolor": "white"
          },
          "hoverlabel": {
           "align": "left"
          },
          "hovermode": "closest",
          "mapbox": {
           "style": "light"
          },
          "paper_bgcolor": "white",
          "plot_bgcolor": "#E5ECF6",
          "polar": {
           "angularaxis": {
            "gridcolor": "white",
            "linecolor": "white",
            "ticks": ""
           },
           "bgcolor": "#E5ECF6",
           "radialaxis": {
            "gridcolor": "white",
            "linecolor": "white",
            "ticks": ""
           }
          },
          "scene": {
           "xaxis": {
            "backgroundcolor": "#E5ECF6",
            "gridcolor": "white",
            "gridwidth": 2,
            "linecolor": "white",
            "showbackground": true,
            "ticks": "",
            "zerolinecolor": "white"
           },
           "yaxis": {
            "backgroundcolor": "#E5ECF6",
            "gridcolor": "white",
            "gridwidth": 2,
            "linecolor": "white",
            "showbackground": true,
            "ticks": "",
            "zerolinecolor": "white"
           },
           "zaxis": {
            "backgroundcolor": "#E5ECF6",
            "gridcolor": "white",
            "gridwidth": 2,
            "linecolor": "white",
            "showbackground": true,
            "ticks": "",
            "zerolinecolor": "white"
           }
          },
          "shapedefaults": {
           "line": {
            "color": "#2a3f5f"
           }
          },
          "ternary": {
           "aaxis": {
            "gridcolor": "white",
            "linecolor": "white",
            "ticks": ""
           },
           "baxis": {
            "gridcolor": "white",
            "linecolor": "white",
            "ticks": ""
           },
           "bgcolor": "#E5ECF6",
           "caxis": {
            "gridcolor": "white",
            "linecolor": "white",
            "ticks": ""
           }
          },
          "title": {
           "x": 0.05
          },
          "xaxis": {
           "automargin": true,
           "gridcolor": "white",
           "linecolor": "white",
           "ticks": "",
           "title": {
            "standoff": 15
           },
           "zerolinecolor": "white",
           "zerolinewidth": 2
          },
          "yaxis": {
           "automargin": true,
           "gridcolor": "white",
           "linecolor": "white",
           "ticks": "",
           "title": {
            "standoff": 15
           },
           "zerolinecolor": "white",
           "zerolinewidth": 2
          }
         }
        },
        "title": {
         "font": {
          "color": "#4D5663"
         }
        },
        "xaxis": {
         "gridcolor": "#E1E5ED",
         "showgrid": true,
         "tickfont": {
          "color": "#4D5663"
         },
         "title": {
          "font": {
           "color": "#4D5663"
          },
          "text": ""
         },
         "zerolinecolor": "#E1E5ED"
        },
        "yaxis": {
         "gridcolor": "#E1E5ED",
         "showgrid": true,
         "tickfont": {
          "color": "#4D5663"
         },
         "title": {
          "font": {
           "color": "#4D5663"
          },
          "text": ""
         },
         "zerolinecolor": "#E1E5ED"
        }
       }
      },
      "text/html": [
       "<div>                            <div id=\"d5b1f1e1-9cd9-4c36-abf8-5329db92a393\" class=\"plotly-graph-div\" style=\"height:525px; width:100%;\"></div>            <script type=\"text/javascript\">                require([\"plotly\"], function(Plotly) {                    window.PLOTLYENV=window.PLOTLYENV || {};\n",
       "                    window.PLOTLYENV.BASE_URL='https://plot.ly';                                    if (document.getElementById(\"d5b1f1e1-9cd9-4c36-abf8-5329db92a393\")) {                    Plotly.newPlot(                        \"d5b1f1e1-9cd9-4c36-abf8-5329db92a393\",                        [{\"marker\":{\"color\":\"rgba(255, 153, 51, 0.6)\",\"line\":{\"color\":\"rgba(255, 153, 51, 1.0)\",\"width\":1}},\"name\":\"A\",\"orientation\":\"v\",\"text\":\"\",\"x\":[0,1,2,3,4,5,6,7,8,9,10,11,12,13,14,15,16,17,18,19,20,21,22,23,24,25,26,27,28,29,30,31,32,33,34,35,36,37,38,39,40,41,42,43,44,45,46,47,48,49,50,51,52,53,54,55,56,57,58,59,60,61,62,63,64,65,66,67,68,69,70,71,72,73,74,75,76,77,78,79,80,81,82,83,84,85,86,87,88,89,90,91,92,93,94,95,96,97,98,99],\"y\":[0.6693661948659464,-1.409044815883012,-1.5455132834648089,0.6594642363422143,-0.09187247967043793,-0.730872810435815,-1.275919630139343,0.5230249705628381,-0.43397846009587693,-1.7396304117414094,-0.4946101964719013,0.30911834387069603,0.005740623968679781,-1.915161692689898,-0.3933771893139661,-1.5715842465033658,0.5584309091887014,0.443929077658181,0.42144883741187095,-1.2990455931993434,-0.4648052895158669,-1.4871274872639502,0.7897744945229496,-0.40787599619101145,-1.282569429442684,-1.416396656394587,-0.5757480437607201,0.7884005807602522,-0.22089370830785646,0.8721005626280494,0.6567327838128859,-0.4228616246723989,0.995975547606502,0.8054519633236913,0.8843786917513216,1.2134326819921784,-0.06546507933482919,-0.834255920485621,-0.8561919143953065,0.47435199850244514,1.2122433047509944,0.09169781628532563,0.5423837717420449,1.1462383500652646,2.056703885305179,-1.6224185421357327,-1.125949736917768,1.660578525022922,-0.5414056122193067,0.9979304853907104,0.340038928237054,-0.3421041025328197,-0.2538078053973776,-1.465463332830521,0.09781815927902178,0.917451586261482,0.38829880280747814,-0.5903613623266755,0.18283389165631908,0.8167981574453973,-0.33050615215525225,-2.351061461499044,-0.21938938619252876,-0.5343172250761418,0.5383465122361409,-1.584531740831603,-0.5248338648093666,-0.042128313288309197,0.2930936834740656,-0.18242520569668452,-0.32440972512416955,-0.26396063970516837,0.25510552399176567,1.0913344523198856,-0.26432546702841975,-1.1324962182484257,-0.3334188287709066,0.47165865713664096,-0.00722601308551948,-0.6004700482876557,-1.1671025640491137,1.3856312367633412,-1.9994626518762393,-0.4574667433126146,0.5706296296645946,-0.4418303579630319,1.0296016008018352,-0.23612241811588852,-0.8472454978284362,0.05050308339176204,-0.8181004061510664,0.684027136964716,0.16310082433895473,-1.797850143901822,-0.8267184298920633,-0.2986569140798697,0.9120993737504053,-0.941192969783878,0.8176020424453682,-0.3605275708624665],\"type\":\"bar\"},{\"marker\":{\"color\":\"rgba(55, 128, 191, 0.6)\",\"line\":{\"color\":\"rgba(55, 128, 191, 1.0)\",\"width\":1}},\"name\":\"B\",\"orientation\":\"v\",\"text\":\"\",\"x\":[0,1,2,3,4,5,6,7,8,9,10,11,12,13,14,15,16,17,18,19,20,21,22,23,24,25,26,27,28,29,30,31,32,33,34,35,36,37,38,39,40,41,42,43,44,45,46,47,48,49,50,51,52,53,54,55,56,57,58,59,60,61,62,63,64,65,66,67,68,69,70,71,72,73,74,75,76,77,78,79,80,81,82,83,84,85,86,87,88,89,90,91,92,93,94,95,96,97,98,99],\"y\":[-0.4414590644709143,0.6009475102866352,3.510112069764468,1.5610552154700426,0.3884407199380903,-0.4345526018263627,-1.5666312237968276,1.1581096173233933,0.8004321234159172,2.0683908511197133,2.0755846544816277,-0.08604290723107731,-1.852937809123877,-0.9219953804103326,1.5618581074219662,0.6223130637864492,0.10268604787080232,-1.502931394299509,-1.1912728932017442,-2.093129747282381,-0.11515313414454793,0.4761692720056932,0.7714845354688461,1.1481159962233656,0.3167448548122893,2.6445662984808225,0.41824474356144214,1.2258403587871345,-0.9281528640238541,-0.2321860023071417,0.09373345895297824,0.007760938161068311,0.07077794095980522,-1.5700388740869569,-2.6782282196328024,-1.2068971847318049,0.8817557910116786,1.24084124810912,-0.6497987778064365,-0.9985133432689008,1.7404318210002216,0.006269448113173197,-1.0888360695852122,-2.0806257728411803,1.5194078693886661,-0.8452760566534565,-0.6116298705203155,0.3852156286062059,-0.8223443081603498,-0.6471088536760966,0.5757376498682675,-0.11602724007195983,0.45164281897113545,0.049387871754323916,0.8696536817954045,0.15467339469132277,0.16391469508209702,0.019570767130891942,-0.29012441440522524,0.9006159547163501,-1.0935593474429195,-1.7149949831895048,0.8766246539141818,-0.41894022154377386,0.38545370977307725,0.3761884013298682,-0.40183836727070854,-0.8852419199645146,0.06545033657791095,-0.5912844705181812,0.5499005651829469,-0.0028953672735837948,-0.06751955240201332,-0.1364598072282228,0.5478660254587262,1.1209119713513573,-0.44056185163877964,0.6819809085125212,-1.744570812276172,1.0965466766006342,-0.9666450670180567,-0.719631723447022,1.504130205404488,0.5573037381170135,0.15176242423433967,1.1397173044752613,0.46164631885290763,-0.5198088233524397,2.786583661544022,0.0015574722530103794,-0.7626358815680526,1.6058332064458973,0.4124894696963012,-1.8358755217882134,-0.2728612400594335,-0.8356084555841023,0.4976244705259505,-0.12476794780692588,-0.5315848882432254,-0.7413144468010111],\"type\":\"bar\"},{\"marker\":{\"color\":\"rgba(50, 171, 96, 0.6)\",\"line\":{\"color\":\"rgba(50, 171, 96, 1.0)\",\"width\":1}},\"name\":\"C\",\"orientation\":\"v\",\"text\":\"\",\"x\":[0,1,2,3,4,5,6,7,8,9,10,11,12,13,14,15,16,17,18,19,20,21,22,23,24,25,26,27,28,29,30,31,32,33,34,35,36,37,38,39,40,41,42,43,44,45,46,47,48,49,50,51,52,53,54,55,56,57,58,59,60,61,62,63,64,65,66,67,68,69,70,71,72,73,74,75,76,77,78,79,80,81,82,83,84,85,86,87,88,89,90,91,92,93,94,95,96,97,98,99],\"y\":[1.4233200533170975,0.6159496867456131,1.7979161916788837,0.12139916332939137,-0.40125453266904376,1.61785316253027,-0.6808030391766453,-2.216630690177966,1.8287380136575637,-0.49421587836108194,-0.09961300412739195,-0.19138151883595206,0.638853161900305,1.398165666171986,0.19596580170798614,0.10326196408346817,1.7283246092175926,0.08352505349632627,0.5861542610701532,-0.7042117978319893,1.1739074126285045,-0.6447071267463649,-0.584773025960135,-2.023064024068859,-0.20199159447017545,1.3496392759662206,-0.14710109262032228,0.914518419402551,-0.23344367662746354,-0.3073859013884055,1.2615096767780327,-1.4354880375169556,-2.0046553286678805,0.7132933872478242,1.6449218141437816,-0.8209431837796699,0.09919680776393808,-0.6725230534024434,1.1235844188898196,-1.4402951641516324,0.7968983830541359,0.4631694940939458,-1.3808837085831145,-0.9491953851936759,-0.7108256042200177,-0.4297781341964865,1.799918621731629,-0.6414089564908176,-1.6006698224560578,0.5561624868805122,0.035903773932643185,1.4465698689551396,0.5691462555450286,-0.4474772983278165,-0.7557735903136481,0.7253211917370975,0.4325090345900524,1.7463592510581543,-0.3122555391184784,0.17182734000031602,0.06949090934738986,0.7932881874346521,2.0104502421536994,0.32535689301356596,-1.8706464701162937,-1.340806900307281,-0.36446153804988307,-0.614360826521038,-1.2960567099922464,0.13957639899688445,0.21283236535272945,0.7496867587839621,-0.5044670108662712,-0.4693107942344235,-0.1428366768089854,0.8099341670406704,-0.15800715116578368,0.09372922115895009,-0.27571673214748976,-0.4329370157747361,-1.1462021929318833,-0.36184706799625294,-0.16623691634814758,1.8514300498089877,-0.9042442237521494,-2.1471829232725557,0.27423799994818854,-0.37870857066885016,-0.08838583515869604,1.6151413809955402,-0.6809128262518052,0.350073566832486,-1.587336910199822,1.4430896272711142,1.195984425712016,-0.820595399394534,-0.09644665671787835,0.6547879694097968,0.5677569196382464,-0.4063498784650625],\"type\":\"bar\"},{\"marker\":{\"color\":\"rgba(128, 0, 128, 0.6)\",\"line\":{\"color\":\"rgba(128, 0, 128, 1.0)\",\"width\":1}},\"name\":\"D\",\"orientation\":\"v\",\"text\":\"\",\"x\":[0,1,2,3,4,5,6,7,8,9,10,11,12,13,14,15,16,17,18,19,20,21,22,23,24,25,26,27,28,29,30,31,32,33,34,35,36,37,38,39,40,41,42,43,44,45,46,47,48,49,50,51,52,53,54,55,56,57,58,59,60,61,62,63,64,65,66,67,68,69,70,71,72,73,74,75,76,77,78,79,80,81,82,83,84,85,86,87,88,89,90,91,92,93,94,95,96,97,98,99],\"y\":[0.7992324592610167,-0.05188210528915001,0.8015795783892489,-1.7625479996249647,-0.23068101326878976,0.5424147794179821,1.718139710140608,-0.642031886955033,-0.36291771534161643,0.5552061649401454,0.48871970286816374,0.6023788216017896,-0.5670425850032518,1.8668425410768033,0.4669796392877091,1.41066662365623,-0.7859448182662659,-0.4318436538967881,0.9534575451002785,0.9112121447323823,-0.698578581804585,0.5143158906578965,-0.4501003312205437,-0.13873858485269464,-2.6638684619491664,0.25218313011119636,0.007674540502392985,-2.0513491818264775,-2.5171585833059247,0.10691527264643252,-0.5783611683821118,-2.457545669901879,-2.148288038132148,0.20526202863496373,0.6953152022027189,-0.683709803884698,-1.1909216154489195,0.8283363345691284,-1.1108219203526317,-0.15446098860476107,1.3382550021782424,-1.601909630449409,0.48339532458809353,-1.204304297934044,-1.6175952940395444,0.8309993324737532,-0.564856327632216,0.35159718788849453,1.1761504038189217,-1.9336845720140432,1.6942567540721312,0.2676482220157771,-0.28970712192305914,0.11682347407357466,-0.8017249068876192,-0.45232518989386455,1.5008394166528523,-0.8958484772482399,1.1904250550007773,1.545179504475862,-0.3982271367545086,-2.179059102931823,0.5027227417945013,1.7593358159631074,0.9674395401861513,0.7636882584686431,0.6819325455484554,0.9406732681547485,1.0012488708089025,-1.3344074764426668,-0.2910369009074888,-1.1626818990650376,-0.1900657727513096,-1.010291644662696,-1.9793152233244706,1.2014318398594674,0.40223513819327933,-0.09571982160454257,-0.9993326135434881,1.076334803451642,-0.565775268432088,-0.354871749191251,0.3679847920125919,-0.867403502419228,-0.46924428319193223,-0.40106252534802445,-0.6184632107725365,0.5214549978243445,1.3968234398094583,-0.7346027331483096,0.7601639098894806,1.2673422785952209,-0.5435996104654863,1.32596240312645,-0.9534951141066719,0.23179686678296982,1.8213091036611835,-0.45184033226446124,-0.19177099379029058,-1.111679377316681],\"type\":\"bar\"}],                        {\"legend\":{\"bgcolor\":\"#F5F6F9\",\"font\":{\"color\":\"#4D5663\"}},\"paper_bgcolor\":\"#F5F6F9\",\"plot_bgcolor\":\"#F5F6F9\",\"template\":{\"data\":{\"barpolar\":[{\"marker\":{\"line\":{\"color\":\"#E5ECF6\",\"width\":0.5},\"pattern\":{\"fillmode\":\"overlay\",\"size\":10,\"solidity\":0.2}},\"type\":\"barpolar\"}],\"bar\":[{\"error_x\":{\"color\":\"#2a3f5f\"},\"error_y\":{\"color\":\"#2a3f5f\"},\"marker\":{\"line\":{\"color\":\"#E5ECF6\",\"width\":0.5},\"pattern\":{\"fillmode\":\"overlay\",\"size\":10,\"solidity\":0.2}},\"type\":\"bar\"}],\"carpet\":[{\"aaxis\":{\"endlinecolor\":\"#2a3f5f\",\"gridcolor\":\"white\",\"linecolor\":\"white\",\"minorgridcolor\":\"white\",\"startlinecolor\":\"#2a3f5f\"},\"baxis\":{\"endlinecolor\":\"#2a3f5f\",\"gridcolor\":\"white\",\"linecolor\":\"white\",\"minorgridcolor\":\"white\",\"startlinecolor\":\"#2a3f5f\"},\"type\":\"carpet\"}],\"choropleth\":[{\"colorbar\":{\"outlinewidth\":0,\"ticks\":\"\"},\"type\":\"choropleth\"}],\"contourcarpet\":[{\"colorbar\":{\"outlinewidth\":0,\"ticks\":\"\"},\"type\":\"contourcarpet\"}],\"contour\":[{\"colorbar\":{\"outlinewidth\":0,\"ticks\":\"\"},\"colorscale\":[[0.0,\"#0d0887\"],[0.1111111111111111,\"#46039f\"],[0.2222222222222222,\"#7201a8\"],[0.3333333333333333,\"#9c179e\"],[0.4444444444444444,\"#bd3786\"],[0.5555555555555556,\"#d8576b\"],[0.6666666666666666,\"#ed7953\"],[0.7777777777777778,\"#fb9f3a\"],[0.8888888888888888,\"#fdca26\"],[1.0,\"#f0f921\"]],\"type\":\"contour\"}],\"heatmapgl\":[{\"colorbar\":{\"outlinewidth\":0,\"ticks\":\"\"},\"colorscale\":[[0.0,\"#0d0887\"],[0.1111111111111111,\"#46039f\"],[0.2222222222222222,\"#7201a8\"],[0.3333333333333333,\"#9c179e\"],[0.4444444444444444,\"#bd3786\"],[0.5555555555555556,\"#d8576b\"],[0.6666666666666666,\"#ed7953\"],[0.7777777777777778,\"#fb9f3a\"],[0.8888888888888888,\"#fdca26\"],[1.0,\"#f0f921\"]],\"type\":\"heatmapgl\"}],\"heatmap\":[{\"colorbar\":{\"outlinewidth\":0,\"ticks\":\"\"},\"colorscale\":[[0.0,\"#0d0887\"],[0.1111111111111111,\"#46039f\"],[0.2222222222222222,\"#7201a8\"],[0.3333333333333333,\"#9c179e\"],[0.4444444444444444,\"#bd3786\"],[0.5555555555555556,\"#d8576b\"],[0.6666666666666666,\"#ed7953\"],[0.7777777777777778,\"#fb9f3a\"],[0.8888888888888888,\"#fdca26\"],[1.0,\"#f0f921\"]],\"type\":\"heatmap\"}],\"histogram2dcontour\":[{\"colorbar\":{\"outlinewidth\":0,\"ticks\":\"\"},\"colorscale\":[[0.0,\"#0d0887\"],[0.1111111111111111,\"#46039f\"],[0.2222222222222222,\"#7201a8\"],[0.3333333333333333,\"#9c179e\"],[0.4444444444444444,\"#bd3786\"],[0.5555555555555556,\"#d8576b\"],[0.6666666666666666,\"#ed7953\"],[0.7777777777777778,\"#fb9f3a\"],[0.8888888888888888,\"#fdca26\"],[1.0,\"#f0f921\"]],\"type\":\"histogram2dcontour\"}],\"histogram2d\":[{\"colorbar\":{\"outlinewidth\":0,\"ticks\":\"\"},\"colorscale\":[[0.0,\"#0d0887\"],[0.1111111111111111,\"#46039f\"],[0.2222222222222222,\"#7201a8\"],[0.3333333333333333,\"#9c179e\"],[0.4444444444444444,\"#bd3786\"],[0.5555555555555556,\"#d8576b\"],[0.6666666666666666,\"#ed7953\"],[0.7777777777777778,\"#fb9f3a\"],[0.8888888888888888,\"#fdca26\"],[1.0,\"#f0f921\"]],\"type\":\"histogram2d\"}],\"histogram\":[{\"marker\":{\"pattern\":{\"fillmode\":\"overlay\",\"size\":10,\"solidity\":0.2}},\"type\":\"histogram\"}],\"mesh3d\":[{\"colorbar\":{\"outlinewidth\":0,\"ticks\":\"\"},\"type\":\"mesh3d\"}],\"parcoords\":[{\"line\":{\"colorbar\":{\"outlinewidth\":0,\"ticks\":\"\"}},\"type\":\"parcoords\"}],\"pie\":[{\"automargin\":true,\"type\":\"pie\"}],\"scatter3d\":[{\"line\":{\"colorbar\":{\"outlinewidth\":0,\"ticks\":\"\"}},\"marker\":{\"colorbar\":{\"outlinewidth\":0,\"ticks\":\"\"}},\"type\":\"scatter3d\"}],\"scattercarpet\":[{\"marker\":{\"colorbar\":{\"outlinewidth\":0,\"ticks\":\"\"}},\"type\":\"scattercarpet\"}],\"scattergeo\":[{\"marker\":{\"colorbar\":{\"outlinewidth\":0,\"ticks\":\"\"}},\"type\":\"scattergeo\"}],\"scattergl\":[{\"marker\":{\"colorbar\":{\"outlinewidth\":0,\"ticks\":\"\"}},\"type\":\"scattergl\"}],\"scattermapbox\":[{\"marker\":{\"colorbar\":{\"outlinewidth\":0,\"ticks\":\"\"}},\"type\":\"scattermapbox\"}],\"scatterpolargl\":[{\"marker\":{\"colorbar\":{\"outlinewidth\":0,\"ticks\":\"\"}},\"type\":\"scatterpolargl\"}],\"scatterpolar\":[{\"marker\":{\"colorbar\":{\"outlinewidth\":0,\"ticks\":\"\"}},\"type\":\"scatterpolar\"}],\"scatter\":[{\"fillpattern\":{\"fillmode\":\"overlay\",\"size\":10,\"solidity\":0.2},\"type\":\"scatter\"}],\"scatterternary\":[{\"marker\":{\"colorbar\":{\"outlinewidth\":0,\"ticks\":\"\"}},\"type\":\"scatterternary\"}],\"surface\":[{\"colorbar\":{\"outlinewidth\":0,\"ticks\":\"\"},\"colorscale\":[[0.0,\"#0d0887\"],[0.1111111111111111,\"#46039f\"],[0.2222222222222222,\"#7201a8\"],[0.3333333333333333,\"#9c179e\"],[0.4444444444444444,\"#bd3786\"],[0.5555555555555556,\"#d8576b\"],[0.6666666666666666,\"#ed7953\"],[0.7777777777777778,\"#fb9f3a\"],[0.8888888888888888,\"#fdca26\"],[1.0,\"#f0f921\"]],\"type\":\"surface\"}],\"table\":[{\"cells\":{\"fill\":{\"color\":\"#EBF0F8\"},\"line\":{\"color\":\"white\"}},\"header\":{\"fill\":{\"color\":\"#C8D4E3\"},\"line\":{\"color\":\"white\"}},\"type\":\"table\"}]},\"layout\":{\"annotationdefaults\":{\"arrowcolor\":\"#2a3f5f\",\"arrowhead\":0,\"arrowwidth\":1},\"autotypenumbers\":\"strict\",\"coloraxis\":{\"colorbar\":{\"outlinewidth\":0,\"ticks\":\"\"}},\"colorscale\":{\"diverging\":[[0,\"#8e0152\"],[0.1,\"#c51b7d\"],[0.2,\"#de77ae\"],[0.3,\"#f1b6da\"],[0.4,\"#fde0ef\"],[0.5,\"#f7f7f7\"],[0.6,\"#e6f5d0\"],[0.7,\"#b8e186\"],[0.8,\"#7fbc41\"],[0.9,\"#4d9221\"],[1,\"#276419\"]],\"sequential\":[[0.0,\"#0d0887\"],[0.1111111111111111,\"#46039f\"],[0.2222222222222222,\"#7201a8\"],[0.3333333333333333,\"#9c179e\"],[0.4444444444444444,\"#bd3786\"],[0.5555555555555556,\"#d8576b\"],[0.6666666666666666,\"#ed7953\"],[0.7777777777777778,\"#fb9f3a\"],[0.8888888888888888,\"#fdca26\"],[1.0,\"#f0f921\"]],\"sequentialminus\":[[0.0,\"#0d0887\"],[0.1111111111111111,\"#46039f\"],[0.2222222222222222,\"#7201a8\"],[0.3333333333333333,\"#9c179e\"],[0.4444444444444444,\"#bd3786\"],[0.5555555555555556,\"#d8576b\"],[0.6666666666666666,\"#ed7953\"],[0.7777777777777778,\"#fb9f3a\"],[0.8888888888888888,\"#fdca26\"],[1.0,\"#f0f921\"]]},\"colorway\":[\"#636efa\",\"#EF553B\",\"#00cc96\",\"#ab63fa\",\"#FFA15A\",\"#19d3f3\",\"#FF6692\",\"#B6E880\",\"#FF97FF\",\"#FECB52\"],\"font\":{\"color\":\"#2a3f5f\"},\"geo\":{\"bgcolor\":\"white\",\"lakecolor\":\"white\",\"landcolor\":\"#E5ECF6\",\"showlakes\":true,\"showland\":true,\"subunitcolor\":\"white\"},\"hoverlabel\":{\"align\":\"left\"},\"hovermode\":\"closest\",\"mapbox\":{\"style\":\"light\"},\"paper_bgcolor\":\"white\",\"plot_bgcolor\":\"#E5ECF6\",\"polar\":{\"angularaxis\":{\"gridcolor\":\"white\",\"linecolor\":\"white\",\"ticks\":\"\"},\"bgcolor\":\"#E5ECF6\",\"radialaxis\":{\"gridcolor\":\"white\",\"linecolor\":\"white\",\"ticks\":\"\"}},\"scene\":{\"xaxis\":{\"backgroundcolor\":\"#E5ECF6\",\"gridcolor\":\"white\",\"gridwidth\":2,\"linecolor\":\"white\",\"showbackground\":true,\"ticks\":\"\",\"zerolinecolor\":\"white\"},\"yaxis\":{\"backgroundcolor\":\"#E5ECF6\",\"gridcolor\":\"white\",\"gridwidth\":2,\"linecolor\":\"white\",\"showbackground\":true,\"ticks\":\"\",\"zerolinecolor\":\"white\"},\"zaxis\":{\"backgroundcolor\":\"#E5ECF6\",\"gridcolor\":\"white\",\"gridwidth\":2,\"linecolor\":\"white\",\"showbackground\":true,\"ticks\":\"\",\"zerolinecolor\":\"white\"}},\"shapedefaults\":{\"line\":{\"color\":\"#2a3f5f\"}},\"ternary\":{\"aaxis\":{\"gridcolor\":\"white\",\"linecolor\":\"white\",\"ticks\":\"\"},\"baxis\":{\"gridcolor\":\"white\",\"linecolor\":\"white\",\"ticks\":\"\"},\"bgcolor\":\"#E5ECF6\",\"caxis\":{\"gridcolor\":\"white\",\"linecolor\":\"white\",\"ticks\":\"\"}},\"title\":{\"x\":0.05},\"xaxis\":{\"automargin\":true,\"gridcolor\":\"white\",\"linecolor\":\"white\",\"ticks\":\"\",\"title\":{\"standoff\":15},\"zerolinecolor\":\"white\",\"zerolinewidth\":2},\"yaxis\":{\"automargin\":true,\"gridcolor\":\"white\",\"linecolor\":\"white\",\"ticks\":\"\",\"title\":{\"standoff\":15},\"zerolinecolor\":\"white\",\"zerolinewidth\":2}}},\"title\":{\"font\":{\"color\":\"#4D5663\"}},\"xaxis\":{\"gridcolor\":\"#E1E5ED\",\"showgrid\":true,\"tickfont\":{\"color\":\"#4D5663\"},\"title\":{\"font\":{\"color\":\"#4D5663\"},\"text\":\"\"},\"zerolinecolor\":\"#E1E5ED\"},\"yaxis\":{\"gridcolor\":\"#E1E5ED\",\"showgrid\":true,\"tickfont\":{\"color\":\"#4D5663\"},\"title\":{\"font\":{\"color\":\"#4D5663\"},\"text\":\"\"},\"zerolinecolor\":\"#E1E5ED\"}},                        {\"showLink\": true, \"linkText\": \"Export to plot.ly\", \"plotlyServerURL\": \"https://plot.ly\", \"responsive\": true}                    ).then(function(){\n",
       "                            \n",
       "var gd = document.getElementById('d5b1f1e1-9cd9-4c36-abf8-5329db92a393');\n",
       "var x = new MutationObserver(function (mutations, observer) {{\n",
       "        var display = window.getComputedStyle(gd).display;\n",
       "        if (!display || display === 'none') {{\n",
       "            console.log([gd, 'removed!']);\n",
       "            Plotly.purge(gd);\n",
       "            observer.disconnect();\n",
       "        }}\n",
       "}});\n",
       "\n",
       "// Listen for the removal of the full notebook cells\n",
       "var notebookContainer = gd.closest('#notebook-container');\n",
       "if (notebookContainer) {{\n",
       "    x.observe(notebookContainer, {childList: true});\n",
       "}}\n",
       "\n",
       "// Listen for the clearing of the current output cell\n",
       "var outputEl = gd.closest('.output');\n",
       "if (outputEl) {{\n",
       "    x.observe(outputEl, {childList: true});\n",
       "}}\n",
       "\n",
       "                        })                };                });            </script>        </div>"
      ]
     },
     "metadata": {},
     "output_type": "display_data"
    }
   ],
   "source": [
    "df.iplot(kind='bar')"
   ]
  },
  {
   "cell_type": "code",
   "execution_count": 17,
   "metadata": {},
   "outputs": [
    {
     "data": {
      "application/vnd.plotly.v1+json": {
       "config": {
        "linkText": "Export to plot.ly",
        "plotlyServerURL": "https://plot.ly",
        "showLink": true
       },
       "data": [
        {
         "marker": {
          "color": "rgba(255, 153, 51, 0.6)",
          "line": {
           "color": "rgba(255, 153, 51, 1.0)",
           "width": 1
          }
         },
         "name": "None",
         "orientation": "v",
         "text": "",
         "type": "bar",
         "x": [
          "A",
          "B",
          "C",
          "D"
         ],
         "y": [
          100,
          100,
          100,
          100
         ]
        }
       ],
       "layout": {
        "legend": {
         "bgcolor": "#F5F6F9",
         "font": {
          "color": "#4D5663"
         }
        },
        "paper_bgcolor": "#F5F6F9",
        "plot_bgcolor": "#F5F6F9",
        "template": {
         "data": {
          "bar": [
           {
            "error_x": {
             "color": "#2a3f5f"
            },
            "error_y": {
             "color": "#2a3f5f"
            },
            "marker": {
             "line": {
              "color": "#E5ECF6",
              "width": 0.5
             },
             "pattern": {
              "fillmode": "overlay",
              "size": 10,
              "solidity": 0.2
             }
            },
            "type": "bar"
           }
          ],
          "barpolar": [
           {
            "marker": {
             "line": {
              "color": "#E5ECF6",
              "width": 0.5
             },
             "pattern": {
              "fillmode": "overlay",
              "size": 10,
              "solidity": 0.2
             }
            },
            "type": "barpolar"
           }
          ],
          "carpet": [
           {
            "aaxis": {
             "endlinecolor": "#2a3f5f",
             "gridcolor": "white",
             "linecolor": "white",
             "minorgridcolor": "white",
             "startlinecolor": "#2a3f5f"
            },
            "baxis": {
             "endlinecolor": "#2a3f5f",
             "gridcolor": "white",
             "linecolor": "white",
             "minorgridcolor": "white",
             "startlinecolor": "#2a3f5f"
            },
            "type": "carpet"
           }
          ],
          "choropleth": [
           {
            "colorbar": {
             "outlinewidth": 0,
             "ticks": ""
            },
            "type": "choropleth"
           }
          ],
          "contour": [
           {
            "colorbar": {
             "outlinewidth": 0,
             "ticks": ""
            },
            "colorscale": [
             [
              0,
              "#0d0887"
             ],
             [
              0.1111111111111111,
              "#46039f"
             ],
             [
              0.2222222222222222,
              "#7201a8"
             ],
             [
              0.3333333333333333,
              "#9c179e"
             ],
             [
              0.4444444444444444,
              "#bd3786"
             ],
             [
              0.5555555555555556,
              "#d8576b"
             ],
             [
              0.6666666666666666,
              "#ed7953"
             ],
             [
              0.7777777777777778,
              "#fb9f3a"
             ],
             [
              0.8888888888888888,
              "#fdca26"
             ],
             [
              1,
              "#f0f921"
             ]
            ],
            "type": "contour"
           }
          ],
          "contourcarpet": [
           {
            "colorbar": {
             "outlinewidth": 0,
             "ticks": ""
            },
            "type": "contourcarpet"
           }
          ],
          "heatmap": [
           {
            "colorbar": {
             "outlinewidth": 0,
             "ticks": ""
            },
            "colorscale": [
             [
              0,
              "#0d0887"
             ],
             [
              0.1111111111111111,
              "#46039f"
             ],
             [
              0.2222222222222222,
              "#7201a8"
             ],
             [
              0.3333333333333333,
              "#9c179e"
             ],
             [
              0.4444444444444444,
              "#bd3786"
             ],
             [
              0.5555555555555556,
              "#d8576b"
             ],
             [
              0.6666666666666666,
              "#ed7953"
             ],
             [
              0.7777777777777778,
              "#fb9f3a"
             ],
             [
              0.8888888888888888,
              "#fdca26"
             ],
             [
              1,
              "#f0f921"
             ]
            ],
            "type": "heatmap"
           }
          ],
          "heatmapgl": [
           {
            "colorbar": {
             "outlinewidth": 0,
             "ticks": ""
            },
            "colorscale": [
             [
              0,
              "#0d0887"
             ],
             [
              0.1111111111111111,
              "#46039f"
             ],
             [
              0.2222222222222222,
              "#7201a8"
             ],
             [
              0.3333333333333333,
              "#9c179e"
             ],
             [
              0.4444444444444444,
              "#bd3786"
             ],
             [
              0.5555555555555556,
              "#d8576b"
             ],
             [
              0.6666666666666666,
              "#ed7953"
             ],
             [
              0.7777777777777778,
              "#fb9f3a"
             ],
             [
              0.8888888888888888,
              "#fdca26"
             ],
             [
              1,
              "#f0f921"
             ]
            ],
            "type": "heatmapgl"
           }
          ],
          "histogram": [
           {
            "marker": {
             "pattern": {
              "fillmode": "overlay",
              "size": 10,
              "solidity": 0.2
             }
            },
            "type": "histogram"
           }
          ],
          "histogram2d": [
           {
            "colorbar": {
             "outlinewidth": 0,
             "ticks": ""
            },
            "colorscale": [
             [
              0,
              "#0d0887"
             ],
             [
              0.1111111111111111,
              "#46039f"
             ],
             [
              0.2222222222222222,
              "#7201a8"
             ],
             [
              0.3333333333333333,
              "#9c179e"
             ],
             [
              0.4444444444444444,
              "#bd3786"
             ],
             [
              0.5555555555555556,
              "#d8576b"
             ],
             [
              0.6666666666666666,
              "#ed7953"
             ],
             [
              0.7777777777777778,
              "#fb9f3a"
             ],
             [
              0.8888888888888888,
              "#fdca26"
             ],
             [
              1,
              "#f0f921"
             ]
            ],
            "type": "histogram2d"
           }
          ],
          "histogram2dcontour": [
           {
            "colorbar": {
             "outlinewidth": 0,
             "ticks": ""
            },
            "colorscale": [
             [
              0,
              "#0d0887"
             ],
             [
              0.1111111111111111,
              "#46039f"
             ],
             [
              0.2222222222222222,
              "#7201a8"
             ],
             [
              0.3333333333333333,
              "#9c179e"
             ],
             [
              0.4444444444444444,
              "#bd3786"
             ],
             [
              0.5555555555555556,
              "#d8576b"
             ],
             [
              0.6666666666666666,
              "#ed7953"
             ],
             [
              0.7777777777777778,
              "#fb9f3a"
             ],
             [
              0.8888888888888888,
              "#fdca26"
             ],
             [
              1,
              "#f0f921"
             ]
            ],
            "type": "histogram2dcontour"
           }
          ],
          "mesh3d": [
           {
            "colorbar": {
             "outlinewidth": 0,
             "ticks": ""
            },
            "type": "mesh3d"
           }
          ],
          "parcoords": [
           {
            "line": {
             "colorbar": {
              "outlinewidth": 0,
              "ticks": ""
             }
            },
            "type": "parcoords"
           }
          ],
          "pie": [
           {
            "automargin": true,
            "type": "pie"
           }
          ],
          "scatter": [
           {
            "fillpattern": {
             "fillmode": "overlay",
             "size": 10,
             "solidity": 0.2
            },
            "type": "scatter"
           }
          ],
          "scatter3d": [
           {
            "line": {
             "colorbar": {
              "outlinewidth": 0,
              "ticks": ""
             }
            },
            "marker": {
             "colorbar": {
              "outlinewidth": 0,
              "ticks": ""
             }
            },
            "type": "scatter3d"
           }
          ],
          "scattercarpet": [
           {
            "marker": {
             "colorbar": {
              "outlinewidth": 0,
              "ticks": ""
             }
            },
            "type": "scattercarpet"
           }
          ],
          "scattergeo": [
           {
            "marker": {
             "colorbar": {
              "outlinewidth": 0,
              "ticks": ""
             }
            },
            "type": "scattergeo"
           }
          ],
          "scattergl": [
           {
            "marker": {
             "colorbar": {
              "outlinewidth": 0,
              "ticks": ""
             }
            },
            "type": "scattergl"
           }
          ],
          "scattermapbox": [
           {
            "marker": {
             "colorbar": {
              "outlinewidth": 0,
              "ticks": ""
             }
            },
            "type": "scattermapbox"
           }
          ],
          "scatterpolar": [
           {
            "marker": {
             "colorbar": {
              "outlinewidth": 0,
              "ticks": ""
             }
            },
            "type": "scatterpolar"
           }
          ],
          "scatterpolargl": [
           {
            "marker": {
             "colorbar": {
              "outlinewidth": 0,
              "ticks": ""
             }
            },
            "type": "scatterpolargl"
           }
          ],
          "scatterternary": [
           {
            "marker": {
             "colorbar": {
              "outlinewidth": 0,
              "ticks": ""
             }
            },
            "type": "scatterternary"
           }
          ],
          "surface": [
           {
            "colorbar": {
             "outlinewidth": 0,
             "ticks": ""
            },
            "colorscale": [
             [
              0,
              "#0d0887"
             ],
             [
              0.1111111111111111,
              "#46039f"
             ],
             [
              0.2222222222222222,
              "#7201a8"
             ],
             [
              0.3333333333333333,
              "#9c179e"
             ],
             [
              0.4444444444444444,
              "#bd3786"
             ],
             [
              0.5555555555555556,
              "#d8576b"
             ],
             [
              0.6666666666666666,
              "#ed7953"
             ],
             [
              0.7777777777777778,
              "#fb9f3a"
             ],
             [
              0.8888888888888888,
              "#fdca26"
             ],
             [
              1,
              "#f0f921"
             ]
            ],
            "type": "surface"
           }
          ],
          "table": [
           {
            "cells": {
             "fill": {
              "color": "#EBF0F8"
             },
             "line": {
              "color": "white"
             }
            },
            "header": {
             "fill": {
              "color": "#C8D4E3"
             },
             "line": {
              "color": "white"
             }
            },
            "type": "table"
           }
          ]
         },
         "layout": {
          "annotationdefaults": {
           "arrowcolor": "#2a3f5f",
           "arrowhead": 0,
           "arrowwidth": 1
          },
          "autotypenumbers": "strict",
          "coloraxis": {
           "colorbar": {
            "outlinewidth": 0,
            "ticks": ""
           }
          },
          "colorscale": {
           "diverging": [
            [
             0,
             "#8e0152"
            ],
            [
             0.1,
             "#c51b7d"
            ],
            [
             0.2,
             "#de77ae"
            ],
            [
             0.3,
             "#f1b6da"
            ],
            [
             0.4,
             "#fde0ef"
            ],
            [
             0.5,
             "#f7f7f7"
            ],
            [
             0.6,
             "#e6f5d0"
            ],
            [
             0.7,
             "#b8e186"
            ],
            [
             0.8,
             "#7fbc41"
            ],
            [
             0.9,
             "#4d9221"
            ],
            [
             1,
             "#276419"
            ]
           ],
           "sequential": [
            [
             0,
             "#0d0887"
            ],
            [
             0.1111111111111111,
             "#46039f"
            ],
            [
             0.2222222222222222,
             "#7201a8"
            ],
            [
             0.3333333333333333,
             "#9c179e"
            ],
            [
             0.4444444444444444,
             "#bd3786"
            ],
            [
             0.5555555555555556,
             "#d8576b"
            ],
            [
             0.6666666666666666,
             "#ed7953"
            ],
            [
             0.7777777777777778,
             "#fb9f3a"
            ],
            [
             0.8888888888888888,
             "#fdca26"
            ],
            [
             1,
             "#f0f921"
            ]
           ],
           "sequentialminus": [
            [
             0,
             "#0d0887"
            ],
            [
             0.1111111111111111,
             "#46039f"
            ],
            [
             0.2222222222222222,
             "#7201a8"
            ],
            [
             0.3333333333333333,
             "#9c179e"
            ],
            [
             0.4444444444444444,
             "#bd3786"
            ],
            [
             0.5555555555555556,
             "#d8576b"
            ],
            [
             0.6666666666666666,
             "#ed7953"
            ],
            [
             0.7777777777777778,
             "#fb9f3a"
            ],
            [
             0.8888888888888888,
             "#fdca26"
            ],
            [
             1,
             "#f0f921"
            ]
           ]
          },
          "colorway": [
           "#636efa",
           "#EF553B",
           "#00cc96",
           "#ab63fa",
           "#FFA15A",
           "#19d3f3",
           "#FF6692",
           "#B6E880",
           "#FF97FF",
           "#FECB52"
          ],
          "font": {
           "color": "#2a3f5f"
          },
          "geo": {
           "bgcolor": "white",
           "lakecolor": "white",
           "landcolor": "#E5ECF6",
           "showlakes": true,
           "showland": true,
           "subunitcolor": "white"
          },
          "hoverlabel": {
           "align": "left"
          },
          "hovermode": "closest",
          "mapbox": {
           "style": "light"
          },
          "paper_bgcolor": "white",
          "plot_bgcolor": "#E5ECF6",
          "polar": {
           "angularaxis": {
            "gridcolor": "white",
            "linecolor": "white",
            "ticks": ""
           },
           "bgcolor": "#E5ECF6",
           "radialaxis": {
            "gridcolor": "white",
            "linecolor": "white",
            "ticks": ""
           }
          },
          "scene": {
           "xaxis": {
            "backgroundcolor": "#E5ECF6",
            "gridcolor": "white",
            "gridwidth": 2,
            "linecolor": "white",
            "showbackground": true,
            "ticks": "",
            "zerolinecolor": "white"
           },
           "yaxis": {
            "backgroundcolor": "#E5ECF6",
            "gridcolor": "white",
            "gridwidth": 2,
            "linecolor": "white",
            "showbackground": true,
            "ticks": "",
            "zerolinecolor": "white"
           },
           "zaxis": {
            "backgroundcolor": "#E5ECF6",
            "gridcolor": "white",
            "gridwidth": 2,
            "linecolor": "white",
            "showbackground": true,
            "ticks": "",
            "zerolinecolor": "white"
           }
          },
          "shapedefaults": {
           "line": {
            "color": "#2a3f5f"
           }
          },
          "ternary": {
           "aaxis": {
            "gridcolor": "white",
            "linecolor": "white",
            "ticks": ""
           },
           "baxis": {
            "gridcolor": "white",
            "linecolor": "white",
            "ticks": ""
           },
           "bgcolor": "#E5ECF6",
           "caxis": {
            "gridcolor": "white",
            "linecolor": "white",
            "ticks": ""
           }
          },
          "title": {
           "x": 0.05
          },
          "xaxis": {
           "automargin": true,
           "gridcolor": "white",
           "linecolor": "white",
           "ticks": "",
           "title": {
            "standoff": 15
           },
           "zerolinecolor": "white",
           "zerolinewidth": 2
          },
          "yaxis": {
           "automargin": true,
           "gridcolor": "white",
           "linecolor": "white",
           "ticks": "",
           "title": {
            "standoff": 15
           },
           "zerolinecolor": "white",
           "zerolinewidth": 2
          }
         }
        },
        "title": {
         "font": {
          "color": "#4D5663"
         }
        },
        "xaxis": {
         "gridcolor": "#E1E5ED",
         "showgrid": true,
         "tickfont": {
          "color": "#4D5663"
         },
         "title": {
          "font": {
           "color": "#4D5663"
          },
          "text": ""
         },
         "zerolinecolor": "#E1E5ED"
        },
        "yaxis": {
         "gridcolor": "#E1E5ED",
         "showgrid": true,
         "tickfont": {
          "color": "#4D5663"
         },
         "title": {
          "font": {
           "color": "#4D5663"
          },
          "text": ""
         },
         "zerolinecolor": "#E1E5ED"
        }
       }
      },
      "text/html": [
       "<div>                            <div id=\"f82537ee-d911-4829-8b72-002578305882\" class=\"plotly-graph-div\" style=\"height:525px; width:100%;\"></div>            <script type=\"text/javascript\">                require([\"plotly\"], function(Plotly) {                    window.PLOTLYENV=window.PLOTLYENV || {};\n",
       "                    window.PLOTLYENV.BASE_URL='https://plot.ly';                                    if (document.getElementById(\"f82537ee-d911-4829-8b72-002578305882\")) {                    Plotly.newPlot(                        \"f82537ee-d911-4829-8b72-002578305882\",                        [{\"marker\":{\"color\":\"rgba(255, 153, 51, 0.6)\",\"line\":{\"color\":\"rgba(255, 153, 51, 1.0)\",\"width\":1}},\"name\":\"None\",\"orientation\":\"v\",\"text\":\"\",\"x\":[\"A\",\"B\",\"C\",\"D\"],\"y\":[100,100,100,100],\"type\":\"bar\"}],                        {\"legend\":{\"bgcolor\":\"#F5F6F9\",\"font\":{\"color\":\"#4D5663\"}},\"paper_bgcolor\":\"#F5F6F9\",\"plot_bgcolor\":\"#F5F6F9\",\"template\":{\"data\":{\"barpolar\":[{\"marker\":{\"line\":{\"color\":\"#E5ECF6\",\"width\":0.5},\"pattern\":{\"fillmode\":\"overlay\",\"size\":10,\"solidity\":0.2}},\"type\":\"barpolar\"}],\"bar\":[{\"error_x\":{\"color\":\"#2a3f5f\"},\"error_y\":{\"color\":\"#2a3f5f\"},\"marker\":{\"line\":{\"color\":\"#E5ECF6\",\"width\":0.5},\"pattern\":{\"fillmode\":\"overlay\",\"size\":10,\"solidity\":0.2}},\"type\":\"bar\"}],\"carpet\":[{\"aaxis\":{\"endlinecolor\":\"#2a3f5f\",\"gridcolor\":\"white\",\"linecolor\":\"white\",\"minorgridcolor\":\"white\",\"startlinecolor\":\"#2a3f5f\"},\"baxis\":{\"endlinecolor\":\"#2a3f5f\",\"gridcolor\":\"white\",\"linecolor\":\"white\",\"minorgridcolor\":\"white\",\"startlinecolor\":\"#2a3f5f\"},\"type\":\"carpet\"}],\"choropleth\":[{\"colorbar\":{\"outlinewidth\":0,\"ticks\":\"\"},\"type\":\"choropleth\"}],\"contourcarpet\":[{\"colorbar\":{\"outlinewidth\":0,\"ticks\":\"\"},\"type\":\"contourcarpet\"}],\"contour\":[{\"colorbar\":{\"outlinewidth\":0,\"ticks\":\"\"},\"colorscale\":[[0.0,\"#0d0887\"],[0.1111111111111111,\"#46039f\"],[0.2222222222222222,\"#7201a8\"],[0.3333333333333333,\"#9c179e\"],[0.4444444444444444,\"#bd3786\"],[0.5555555555555556,\"#d8576b\"],[0.6666666666666666,\"#ed7953\"],[0.7777777777777778,\"#fb9f3a\"],[0.8888888888888888,\"#fdca26\"],[1.0,\"#f0f921\"]],\"type\":\"contour\"}],\"heatmapgl\":[{\"colorbar\":{\"outlinewidth\":0,\"ticks\":\"\"},\"colorscale\":[[0.0,\"#0d0887\"],[0.1111111111111111,\"#46039f\"],[0.2222222222222222,\"#7201a8\"],[0.3333333333333333,\"#9c179e\"],[0.4444444444444444,\"#bd3786\"],[0.5555555555555556,\"#d8576b\"],[0.6666666666666666,\"#ed7953\"],[0.7777777777777778,\"#fb9f3a\"],[0.8888888888888888,\"#fdca26\"],[1.0,\"#f0f921\"]],\"type\":\"heatmapgl\"}],\"heatmap\":[{\"colorbar\":{\"outlinewidth\":0,\"ticks\":\"\"},\"colorscale\":[[0.0,\"#0d0887\"],[0.1111111111111111,\"#46039f\"],[0.2222222222222222,\"#7201a8\"],[0.3333333333333333,\"#9c179e\"],[0.4444444444444444,\"#bd3786\"],[0.5555555555555556,\"#d8576b\"],[0.6666666666666666,\"#ed7953\"],[0.7777777777777778,\"#fb9f3a\"],[0.8888888888888888,\"#fdca26\"],[1.0,\"#f0f921\"]],\"type\":\"heatmap\"}],\"histogram2dcontour\":[{\"colorbar\":{\"outlinewidth\":0,\"ticks\":\"\"},\"colorscale\":[[0.0,\"#0d0887\"],[0.1111111111111111,\"#46039f\"],[0.2222222222222222,\"#7201a8\"],[0.3333333333333333,\"#9c179e\"],[0.4444444444444444,\"#bd3786\"],[0.5555555555555556,\"#d8576b\"],[0.6666666666666666,\"#ed7953\"],[0.7777777777777778,\"#fb9f3a\"],[0.8888888888888888,\"#fdca26\"],[1.0,\"#f0f921\"]],\"type\":\"histogram2dcontour\"}],\"histogram2d\":[{\"colorbar\":{\"outlinewidth\":0,\"ticks\":\"\"},\"colorscale\":[[0.0,\"#0d0887\"],[0.1111111111111111,\"#46039f\"],[0.2222222222222222,\"#7201a8\"],[0.3333333333333333,\"#9c179e\"],[0.4444444444444444,\"#bd3786\"],[0.5555555555555556,\"#d8576b\"],[0.6666666666666666,\"#ed7953\"],[0.7777777777777778,\"#fb9f3a\"],[0.8888888888888888,\"#fdca26\"],[1.0,\"#f0f921\"]],\"type\":\"histogram2d\"}],\"histogram\":[{\"marker\":{\"pattern\":{\"fillmode\":\"overlay\",\"size\":10,\"solidity\":0.2}},\"type\":\"histogram\"}],\"mesh3d\":[{\"colorbar\":{\"outlinewidth\":0,\"ticks\":\"\"},\"type\":\"mesh3d\"}],\"parcoords\":[{\"line\":{\"colorbar\":{\"outlinewidth\":0,\"ticks\":\"\"}},\"type\":\"parcoords\"}],\"pie\":[{\"automargin\":true,\"type\":\"pie\"}],\"scatter3d\":[{\"line\":{\"colorbar\":{\"outlinewidth\":0,\"ticks\":\"\"}},\"marker\":{\"colorbar\":{\"outlinewidth\":0,\"ticks\":\"\"}},\"type\":\"scatter3d\"}],\"scattercarpet\":[{\"marker\":{\"colorbar\":{\"outlinewidth\":0,\"ticks\":\"\"}},\"type\":\"scattercarpet\"}],\"scattergeo\":[{\"marker\":{\"colorbar\":{\"outlinewidth\":0,\"ticks\":\"\"}},\"type\":\"scattergeo\"}],\"scattergl\":[{\"marker\":{\"colorbar\":{\"outlinewidth\":0,\"ticks\":\"\"}},\"type\":\"scattergl\"}],\"scattermapbox\":[{\"marker\":{\"colorbar\":{\"outlinewidth\":0,\"ticks\":\"\"}},\"type\":\"scattermapbox\"}],\"scatterpolargl\":[{\"marker\":{\"colorbar\":{\"outlinewidth\":0,\"ticks\":\"\"}},\"type\":\"scatterpolargl\"}],\"scatterpolar\":[{\"marker\":{\"colorbar\":{\"outlinewidth\":0,\"ticks\":\"\"}},\"type\":\"scatterpolar\"}],\"scatter\":[{\"fillpattern\":{\"fillmode\":\"overlay\",\"size\":10,\"solidity\":0.2},\"type\":\"scatter\"}],\"scatterternary\":[{\"marker\":{\"colorbar\":{\"outlinewidth\":0,\"ticks\":\"\"}},\"type\":\"scatterternary\"}],\"surface\":[{\"colorbar\":{\"outlinewidth\":0,\"ticks\":\"\"},\"colorscale\":[[0.0,\"#0d0887\"],[0.1111111111111111,\"#46039f\"],[0.2222222222222222,\"#7201a8\"],[0.3333333333333333,\"#9c179e\"],[0.4444444444444444,\"#bd3786\"],[0.5555555555555556,\"#d8576b\"],[0.6666666666666666,\"#ed7953\"],[0.7777777777777778,\"#fb9f3a\"],[0.8888888888888888,\"#fdca26\"],[1.0,\"#f0f921\"]],\"type\":\"surface\"}],\"table\":[{\"cells\":{\"fill\":{\"color\":\"#EBF0F8\"},\"line\":{\"color\":\"white\"}},\"header\":{\"fill\":{\"color\":\"#C8D4E3\"},\"line\":{\"color\":\"white\"}},\"type\":\"table\"}]},\"layout\":{\"annotationdefaults\":{\"arrowcolor\":\"#2a3f5f\",\"arrowhead\":0,\"arrowwidth\":1},\"autotypenumbers\":\"strict\",\"coloraxis\":{\"colorbar\":{\"outlinewidth\":0,\"ticks\":\"\"}},\"colorscale\":{\"diverging\":[[0,\"#8e0152\"],[0.1,\"#c51b7d\"],[0.2,\"#de77ae\"],[0.3,\"#f1b6da\"],[0.4,\"#fde0ef\"],[0.5,\"#f7f7f7\"],[0.6,\"#e6f5d0\"],[0.7,\"#b8e186\"],[0.8,\"#7fbc41\"],[0.9,\"#4d9221\"],[1,\"#276419\"]],\"sequential\":[[0.0,\"#0d0887\"],[0.1111111111111111,\"#46039f\"],[0.2222222222222222,\"#7201a8\"],[0.3333333333333333,\"#9c179e\"],[0.4444444444444444,\"#bd3786\"],[0.5555555555555556,\"#d8576b\"],[0.6666666666666666,\"#ed7953\"],[0.7777777777777778,\"#fb9f3a\"],[0.8888888888888888,\"#fdca26\"],[1.0,\"#f0f921\"]],\"sequentialminus\":[[0.0,\"#0d0887\"],[0.1111111111111111,\"#46039f\"],[0.2222222222222222,\"#7201a8\"],[0.3333333333333333,\"#9c179e\"],[0.4444444444444444,\"#bd3786\"],[0.5555555555555556,\"#d8576b\"],[0.6666666666666666,\"#ed7953\"],[0.7777777777777778,\"#fb9f3a\"],[0.8888888888888888,\"#fdca26\"],[1.0,\"#f0f921\"]]},\"colorway\":[\"#636efa\",\"#EF553B\",\"#00cc96\",\"#ab63fa\",\"#FFA15A\",\"#19d3f3\",\"#FF6692\",\"#B6E880\",\"#FF97FF\",\"#FECB52\"],\"font\":{\"color\":\"#2a3f5f\"},\"geo\":{\"bgcolor\":\"white\",\"lakecolor\":\"white\",\"landcolor\":\"#E5ECF6\",\"showlakes\":true,\"showland\":true,\"subunitcolor\":\"white\"},\"hoverlabel\":{\"align\":\"left\"},\"hovermode\":\"closest\",\"mapbox\":{\"style\":\"light\"},\"paper_bgcolor\":\"white\",\"plot_bgcolor\":\"#E5ECF6\",\"polar\":{\"angularaxis\":{\"gridcolor\":\"white\",\"linecolor\":\"white\",\"ticks\":\"\"},\"bgcolor\":\"#E5ECF6\",\"radialaxis\":{\"gridcolor\":\"white\",\"linecolor\":\"white\",\"ticks\":\"\"}},\"scene\":{\"xaxis\":{\"backgroundcolor\":\"#E5ECF6\",\"gridcolor\":\"white\",\"gridwidth\":2,\"linecolor\":\"white\",\"showbackground\":true,\"ticks\":\"\",\"zerolinecolor\":\"white\"},\"yaxis\":{\"backgroundcolor\":\"#E5ECF6\",\"gridcolor\":\"white\",\"gridwidth\":2,\"linecolor\":\"white\",\"showbackground\":true,\"ticks\":\"\",\"zerolinecolor\":\"white\"},\"zaxis\":{\"backgroundcolor\":\"#E5ECF6\",\"gridcolor\":\"white\",\"gridwidth\":2,\"linecolor\":\"white\",\"showbackground\":true,\"ticks\":\"\",\"zerolinecolor\":\"white\"}},\"shapedefaults\":{\"line\":{\"color\":\"#2a3f5f\"}},\"ternary\":{\"aaxis\":{\"gridcolor\":\"white\",\"linecolor\":\"white\",\"ticks\":\"\"},\"baxis\":{\"gridcolor\":\"white\",\"linecolor\":\"white\",\"ticks\":\"\"},\"bgcolor\":\"#E5ECF6\",\"caxis\":{\"gridcolor\":\"white\",\"linecolor\":\"white\",\"ticks\":\"\"}},\"title\":{\"x\":0.05},\"xaxis\":{\"automargin\":true,\"gridcolor\":\"white\",\"linecolor\":\"white\",\"ticks\":\"\",\"title\":{\"standoff\":15},\"zerolinecolor\":\"white\",\"zerolinewidth\":2},\"yaxis\":{\"automargin\":true,\"gridcolor\":\"white\",\"linecolor\":\"white\",\"ticks\":\"\",\"title\":{\"standoff\":15},\"zerolinecolor\":\"white\",\"zerolinewidth\":2}}},\"title\":{\"font\":{\"color\":\"#4D5663\"}},\"xaxis\":{\"gridcolor\":\"#E1E5ED\",\"showgrid\":true,\"tickfont\":{\"color\":\"#4D5663\"},\"title\":{\"font\":{\"color\":\"#4D5663\"},\"text\":\"\"},\"zerolinecolor\":\"#E1E5ED\"},\"yaxis\":{\"gridcolor\":\"#E1E5ED\",\"showgrid\":true,\"tickfont\":{\"color\":\"#4D5663\"},\"title\":{\"font\":{\"color\":\"#4D5663\"},\"text\":\"\"},\"zerolinecolor\":\"#E1E5ED\"}},                        {\"showLink\": true, \"linkText\": \"Export to plot.ly\", \"plotlyServerURL\": \"https://plot.ly\", \"responsive\": true}                    ).then(function(){\n",
       "                            \n",
       "var gd = document.getElementById('f82537ee-d911-4829-8b72-002578305882');\n",
       "var x = new MutationObserver(function (mutations, observer) {{\n",
       "        var display = window.getComputedStyle(gd).display;\n",
       "        if (!display || display === 'none') {{\n",
       "            console.log([gd, 'removed!']);\n",
       "            Plotly.purge(gd);\n",
       "            observer.disconnect();\n",
       "        }}\n",
       "}});\n",
       "\n",
       "// Listen for the removal of the full notebook cells\n",
       "var notebookContainer = gd.closest('#notebook-container');\n",
       "if (notebookContainer) {{\n",
       "    x.observe(notebookContainer, {childList: true});\n",
       "}}\n",
       "\n",
       "// Listen for the clearing of the current output cell\n",
       "var outputEl = gd.closest('.output');\n",
       "if (outputEl) {{\n",
       "    x.observe(outputEl, {childList: true});\n",
       "}}\n",
       "\n",
       "                        })                };                });            </script>        </div>"
      ]
     },
     "metadata": {},
     "output_type": "display_data"
    }
   ],
   "source": [
    "df.count().iplot(kind='bar')"
   ]
  },
  {
   "cell_type": "code",
   "execution_count": 18,
   "metadata": {},
   "outputs": [
    {
     "data": {
      "application/vnd.plotly.v1+json": {
       "config": {
        "linkText": "Export to plot.ly",
        "plotlyServerURL": "https://plot.ly",
        "showLink": true
       },
       "data": [
        {
         "marker": {
          "color": "rgba(255, 153, 51, 0.6)",
          "line": {
           "color": "rgba(255, 153, 51, 1.0)",
           "width": 1
          }
         },
         "name": "None",
         "orientation": "v",
         "text": "",
         "type": "bar",
         "x": [
          "A",
          "B",
          "C",
          "D"
         ],
         "y": [
          -15.979217491051823,
          5.621563834805701,
          3.5338238495822822,
          -6.732414416603266
         ]
        }
       ],
       "layout": {
        "legend": {
         "bgcolor": "#F5F6F9",
         "font": {
          "color": "#4D5663"
         }
        },
        "paper_bgcolor": "#F5F6F9",
        "plot_bgcolor": "#F5F6F9",
        "template": {
         "data": {
          "bar": [
           {
            "error_x": {
             "color": "#2a3f5f"
            },
            "error_y": {
             "color": "#2a3f5f"
            },
            "marker": {
             "line": {
              "color": "#E5ECF6",
              "width": 0.5
             },
             "pattern": {
              "fillmode": "overlay",
              "size": 10,
              "solidity": 0.2
             }
            },
            "type": "bar"
           }
          ],
          "barpolar": [
           {
            "marker": {
             "line": {
              "color": "#E5ECF6",
              "width": 0.5
             },
             "pattern": {
              "fillmode": "overlay",
              "size": 10,
              "solidity": 0.2
             }
            },
            "type": "barpolar"
           }
          ],
          "carpet": [
           {
            "aaxis": {
             "endlinecolor": "#2a3f5f",
             "gridcolor": "white",
             "linecolor": "white",
             "minorgridcolor": "white",
             "startlinecolor": "#2a3f5f"
            },
            "baxis": {
             "endlinecolor": "#2a3f5f",
             "gridcolor": "white",
             "linecolor": "white",
             "minorgridcolor": "white",
             "startlinecolor": "#2a3f5f"
            },
            "type": "carpet"
           }
          ],
          "choropleth": [
           {
            "colorbar": {
             "outlinewidth": 0,
             "ticks": ""
            },
            "type": "choropleth"
           }
          ],
          "contour": [
           {
            "colorbar": {
             "outlinewidth": 0,
             "ticks": ""
            },
            "colorscale": [
             [
              0,
              "#0d0887"
             ],
             [
              0.1111111111111111,
              "#46039f"
             ],
             [
              0.2222222222222222,
              "#7201a8"
             ],
             [
              0.3333333333333333,
              "#9c179e"
             ],
             [
              0.4444444444444444,
              "#bd3786"
             ],
             [
              0.5555555555555556,
              "#d8576b"
             ],
             [
              0.6666666666666666,
              "#ed7953"
             ],
             [
              0.7777777777777778,
              "#fb9f3a"
             ],
             [
              0.8888888888888888,
              "#fdca26"
             ],
             [
              1,
              "#f0f921"
             ]
            ],
            "type": "contour"
           }
          ],
          "contourcarpet": [
           {
            "colorbar": {
             "outlinewidth": 0,
             "ticks": ""
            },
            "type": "contourcarpet"
           }
          ],
          "heatmap": [
           {
            "colorbar": {
             "outlinewidth": 0,
             "ticks": ""
            },
            "colorscale": [
             [
              0,
              "#0d0887"
             ],
             [
              0.1111111111111111,
              "#46039f"
             ],
             [
              0.2222222222222222,
              "#7201a8"
             ],
             [
              0.3333333333333333,
              "#9c179e"
             ],
             [
              0.4444444444444444,
              "#bd3786"
             ],
             [
              0.5555555555555556,
              "#d8576b"
             ],
             [
              0.6666666666666666,
              "#ed7953"
             ],
             [
              0.7777777777777778,
              "#fb9f3a"
             ],
             [
              0.8888888888888888,
              "#fdca26"
             ],
             [
              1,
              "#f0f921"
             ]
            ],
            "type": "heatmap"
           }
          ],
          "heatmapgl": [
           {
            "colorbar": {
             "outlinewidth": 0,
             "ticks": ""
            },
            "colorscale": [
             [
              0,
              "#0d0887"
             ],
             [
              0.1111111111111111,
              "#46039f"
             ],
             [
              0.2222222222222222,
              "#7201a8"
             ],
             [
              0.3333333333333333,
              "#9c179e"
             ],
             [
              0.4444444444444444,
              "#bd3786"
             ],
             [
              0.5555555555555556,
              "#d8576b"
             ],
             [
              0.6666666666666666,
              "#ed7953"
             ],
             [
              0.7777777777777778,
              "#fb9f3a"
             ],
             [
              0.8888888888888888,
              "#fdca26"
             ],
             [
              1,
              "#f0f921"
             ]
            ],
            "type": "heatmapgl"
           }
          ],
          "histogram": [
           {
            "marker": {
             "pattern": {
              "fillmode": "overlay",
              "size": 10,
              "solidity": 0.2
             }
            },
            "type": "histogram"
           }
          ],
          "histogram2d": [
           {
            "colorbar": {
             "outlinewidth": 0,
             "ticks": ""
            },
            "colorscale": [
             [
              0,
              "#0d0887"
             ],
             [
              0.1111111111111111,
              "#46039f"
             ],
             [
              0.2222222222222222,
              "#7201a8"
             ],
             [
              0.3333333333333333,
              "#9c179e"
             ],
             [
              0.4444444444444444,
              "#bd3786"
             ],
             [
              0.5555555555555556,
              "#d8576b"
             ],
             [
              0.6666666666666666,
              "#ed7953"
             ],
             [
              0.7777777777777778,
              "#fb9f3a"
             ],
             [
              0.8888888888888888,
              "#fdca26"
             ],
             [
              1,
              "#f0f921"
             ]
            ],
            "type": "histogram2d"
           }
          ],
          "histogram2dcontour": [
           {
            "colorbar": {
             "outlinewidth": 0,
             "ticks": ""
            },
            "colorscale": [
             [
              0,
              "#0d0887"
             ],
             [
              0.1111111111111111,
              "#46039f"
             ],
             [
              0.2222222222222222,
              "#7201a8"
             ],
             [
              0.3333333333333333,
              "#9c179e"
             ],
             [
              0.4444444444444444,
              "#bd3786"
             ],
             [
              0.5555555555555556,
              "#d8576b"
             ],
             [
              0.6666666666666666,
              "#ed7953"
             ],
             [
              0.7777777777777778,
              "#fb9f3a"
             ],
             [
              0.8888888888888888,
              "#fdca26"
             ],
             [
              1,
              "#f0f921"
             ]
            ],
            "type": "histogram2dcontour"
           }
          ],
          "mesh3d": [
           {
            "colorbar": {
             "outlinewidth": 0,
             "ticks": ""
            },
            "type": "mesh3d"
           }
          ],
          "parcoords": [
           {
            "line": {
             "colorbar": {
              "outlinewidth": 0,
              "ticks": ""
             }
            },
            "type": "parcoords"
           }
          ],
          "pie": [
           {
            "automargin": true,
            "type": "pie"
           }
          ],
          "scatter": [
           {
            "fillpattern": {
             "fillmode": "overlay",
             "size": 10,
             "solidity": 0.2
            },
            "type": "scatter"
           }
          ],
          "scatter3d": [
           {
            "line": {
             "colorbar": {
              "outlinewidth": 0,
              "ticks": ""
             }
            },
            "marker": {
             "colorbar": {
              "outlinewidth": 0,
              "ticks": ""
             }
            },
            "type": "scatter3d"
           }
          ],
          "scattercarpet": [
           {
            "marker": {
             "colorbar": {
              "outlinewidth": 0,
              "ticks": ""
             }
            },
            "type": "scattercarpet"
           }
          ],
          "scattergeo": [
           {
            "marker": {
             "colorbar": {
              "outlinewidth": 0,
              "ticks": ""
             }
            },
            "type": "scattergeo"
           }
          ],
          "scattergl": [
           {
            "marker": {
             "colorbar": {
              "outlinewidth": 0,
              "ticks": ""
             }
            },
            "type": "scattergl"
           }
          ],
          "scattermapbox": [
           {
            "marker": {
             "colorbar": {
              "outlinewidth": 0,
              "ticks": ""
             }
            },
            "type": "scattermapbox"
           }
          ],
          "scatterpolar": [
           {
            "marker": {
             "colorbar": {
              "outlinewidth": 0,
              "ticks": ""
             }
            },
            "type": "scatterpolar"
           }
          ],
          "scatterpolargl": [
           {
            "marker": {
             "colorbar": {
              "outlinewidth": 0,
              "ticks": ""
             }
            },
            "type": "scatterpolargl"
           }
          ],
          "scatterternary": [
           {
            "marker": {
             "colorbar": {
              "outlinewidth": 0,
              "ticks": ""
             }
            },
            "type": "scatterternary"
           }
          ],
          "surface": [
           {
            "colorbar": {
             "outlinewidth": 0,
             "ticks": ""
            },
            "colorscale": [
             [
              0,
              "#0d0887"
             ],
             [
              0.1111111111111111,
              "#46039f"
             ],
             [
              0.2222222222222222,
              "#7201a8"
             ],
             [
              0.3333333333333333,
              "#9c179e"
             ],
             [
              0.4444444444444444,
              "#bd3786"
             ],
             [
              0.5555555555555556,
              "#d8576b"
             ],
             [
              0.6666666666666666,
              "#ed7953"
             ],
             [
              0.7777777777777778,
              "#fb9f3a"
             ],
             [
              0.8888888888888888,
              "#fdca26"
             ],
             [
              1,
              "#f0f921"
             ]
            ],
            "type": "surface"
           }
          ],
          "table": [
           {
            "cells": {
             "fill": {
              "color": "#EBF0F8"
             },
             "line": {
              "color": "white"
             }
            },
            "header": {
             "fill": {
              "color": "#C8D4E3"
             },
             "line": {
              "color": "white"
             }
            },
            "type": "table"
           }
          ]
         },
         "layout": {
          "annotationdefaults": {
           "arrowcolor": "#2a3f5f",
           "arrowhead": 0,
           "arrowwidth": 1
          },
          "autotypenumbers": "strict",
          "coloraxis": {
           "colorbar": {
            "outlinewidth": 0,
            "ticks": ""
           }
          },
          "colorscale": {
           "diverging": [
            [
             0,
             "#8e0152"
            ],
            [
             0.1,
             "#c51b7d"
            ],
            [
             0.2,
             "#de77ae"
            ],
            [
             0.3,
             "#f1b6da"
            ],
            [
             0.4,
             "#fde0ef"
            ],
            [
             0.5,
             "#f7f7f7"
            ],
            [
             0.6,
             "#e6f5d0"
            ],
            [
             0.7,
             "#b8e186"
            ],
            [
             0.8,
             "#7fbc41"
            ],
            [
             0.9,
             "#4d9221"
            ],
            [
             1,
             "#276419"
            ]
           ],
           "sequential": [
            [
             0,
             "#0d0887"
            ],
            [
             0.1111111111111111,
             "#46039f"
            ],
            [
             0.2222222222222222,
             "#7201a8"
            ],
            [
             0.3333333333333333,
             "#9c179e"
            ],
            [
             0.4444444444444444,
             "#bd3786"
            ],
            [
             0.5555555555555556,
             "#d8576b"
            ],
            [
             0.6666666666666666,
             "#ed7953"
            ],
            [
             0.7777777777777778,
             "#fb9f3a"
            ],
            [
             0.8888888888888888,
             "#fdca26"
            ],
            [
             1,
             "#f0f921"
            ]
           ],
           "sequentialminus": [
            [
             0,
             "#0d0887"
            ],
            [
             0.1111111111111111,
             "#46039f"
            ],
            [
             0.2222222222222222,
             "#7201a8"
            ],
            [
             0.3333333333333333,
             "#9c179e"
            ],
            [
             0.4444444444444444,
             "#bd3786"
            ],
            [
             0.5555555555555556,
             "#d8576b"
            ],
            [
             0.6666666666666666,
             "#ed7953"
            ],
            [
             0.7777777777777778,
             "#fb9f3a"
            ],
            [
             0.8888888888888888,
             "#fdca26"
            ],
            [
             1,
             "#f0f921"
            ]
           ]
          },
          "colorway": [
           "#636efa",
           "#EF553B",
           "#00cc96",
           "#ab63fa",
           "#FFA15A",
           "#19d3f3",
           "#FF6692",
           "#B6E880",
           "#FF97FF",
           "#FECB52"
          ],
          "font": {
           "color": "#2a3f5f"
          },
          "geo": {
           "bgcolor": "white",
           "lakecolor": "white",
           "landcolor": "#E5ECF6",
           "showlakes": true,
           "showland": true,
           "subunitcolor": "white"
          },
          "hoverlabel": {
           "align": "left"
          },
          "hovermode": "closest",
          "mapbox": {
           "style": "light"
          },
          "paper_bgcolor": "white",
          "plot_bgcolor": "#E5ECF6",
          "polar": {
           "angularaxis": {
            "gridcolor": "white",
            "linecolor": "white",
            "ticks": ""
           },
           "bgcolor": "#E5ECF6",
           "radialaxis": {
            "gridcolor": "white",
            "linecolor": "white",
            "ticks": ""
           }
          },
          "scene": {
           "xaxis": {
            "backgroundcolor": "#E5ECF6",
            "gridcolor": "white",
            "gridwidth": 2,
            "linecolor": "white",
            "showbackground": true,
            "ticks": "",
            "zerolinecolor": "white"
           },
           "yaxis": {
            "backgroundcolor": "#E5ECF6",
            "gridcolor": "white",
            "gridwidth": 2,
            "linecolor": "white",
            "showbackground": true,
            "ticks": "",
            "zerolinecolor": "white"
           },
           "zaxis": {
            "backgroundcolor": "#E5ECF6",
            "gridcolor": "white",
            "gridwidth": 2,
            "linecolor": "white",
            "showbackground": true,
            "ticks": "",
            "zerolinecolor": "white"
           }
          },
          "shapedefaults": {
           "line": {
            "color": "#2a3f5f"
           }
          },
          "ternary": {
           "aaxis": {
            "gridcolor": "white",
            "linecolor": "white",
            "ticks": ""
           },
           "baxis": {
            "gridcolor": "white",
            "linecolor": "white",
            "ticks": ""
           },
           "bgcolor": "#E5ECF6",
           "caxis": {
            "gridcolor": "white",
            "linecolor": "white",
            "ticks": ""
           }
          },
          "title": {
           "x": 0.05
          },
          "xaxis": {
           "automargin": true,
           "gridcolor": "white",
           "linecolor": "white",
           "ticks": "",
           "title": {
            "standoff": 15
           },
           "zerolinecolor": "white",
           "zerolinewidth": 2
          },
          "yaxis": {
           "automargin": true,
           "gridcolor": "white",
           "linecolor": "white",
           "ticks": "",
           "title": {
            "standoff": 15
           },
           "zerolinecolor": "white",
           "zerolinewidth": 2
          }
         }
        },
        "title": {
         "font": {
          "color": "#4D5663"
         }
        },
        "xaxis": {
         "gridcolor": "#E1E5ED",
         "showgrid": true,
         "tickfont": {
          "color": "#4D5663"
         },
         "title": {
          "font": {
           "color": "#4D5663"
          },
          "text": ""
         },
         "zerolinecolor": "#E1E5ED"
        },
        "yaxis": {
         "gridcolor": "#E1E5ED",
         "showgrid": true,
         "tickfont": {
          "color": "#4D5663"
         },
         "title": {
          "font": {
           "color": "#4D5663"
          },
          "text": ""
         },
         "zerolinecolor": "#E1E5ED"
        }
       }
      },
      "text/html": [
       "<div>                            <div id=\"89027a89-2f86-4f97-adbb-116a283ffc9a\" class=\"plotly-graph-div\" style=\"height:525px; width:100%;\"></div>            <script type=\"text/javascript\">                require([\"plotly\"], function(Plotly) {                    window.PLOTLYENV=window.PLOTLYENV || {};\n",
       "                    window.PLOTLYENV.BASE_URL='https://plot.ly';                                    if (document.getElementById(\"89027a89-2f86-4f97-adbb-116a283ffc9a\")) {                    Plotly.newPlot(                        \"89027a89-2f86-4f97-adbb-116a283ffc9a\",                        [{\"marker\":{\"color\":\"rgba(255, 153, 51, 0.6)\",\"line\":{\"color\":\"rgba(255, 153, 51, 1.0)\",\"width\":1}},\"name\":\"None\",\"orientation\":\"v\",\"text\":\"\",\"x\":[\"A\",\"B\",\"C\",\"D\"],\"y\":[-15.979217491051823,5.621563834805701,3.5338238495822822,-6.732414416603266],\"type\":\"bar\"}],                        {\"legend\":{\"bgcolor\":\"#F5F6F9\",\"font\":{\"color\":\"#4D5663\"}},\"paper_bgcolor\":\"#F5F6F9\",\"plot_bgcolor\":\"#F5F6F9\",\"template\":{\"data\":{\"barpolar\":[{\"marker\":{\"line\":{\"color\":\"#E5ECF6\",\"width\":0.5},\"pattern\":{\"fillmode\":\"overlay\",\"size\":10,\"solidity\":0.2}},\"type\":\"barpolar\"}],\"bar\":[{\"error_x\":{\"color\":\"#2a3f5f\"},\"error_y\":{\"color\":\"#2a3f5f\"},\"marker\":{\"line\":{\"color\":\"#E5ECF6\",\"width\":0.5},\"pattern\":{\"fillmode\":\"overlay\",\"size\":10,\"solidity\":0.2}},\"type\":\"bar\"}],\"carpet\":[{\"aaxis\":{\"endlinecolor\":\"#2a3f5f\",\"gridcolor\":\"white\",\"linecolor\":\"white\",\"minorgridcolor\":\"white\",\"startlinecolor\":\"#2a3f5f\"},\"baxis\":{\"endlinecolor\":\"#2a3f5f\",\"gridcolor\":\"white\",\"linecolor\":\"white\",\"minorgridcolor\":\"white\",\"startlinecolor\":\"#2a3f5f\"},\"type\":\"carpet\"}],\"choropleth\":[{\"colorbar\":{\"outlinewidth\":0,\"ticks\":\"\"},\"type\":\"choropleth\"}],\"contourcarpet\":[{\"colorbar\":{\"outlinewidth\":0,\"ticks\":\"\"},\"type\":\"contourcarpet\"}],\"contour\":[{\"colorbar\":{\"outlinewidth\":0,\"ticks\":\"\"},\"colorscale\":[[0.0,\"#0d0887\"],[0.1111111111111111,\"#46039f\"],[0.2222222222222222,\"#7201a8\"],[0.3333333333333333,\"#9c179e\"],[0.4444444444444444,\"#bd3786\"],[0.5555555555555556,\"#d8576b\"],[0.6666666666666666,\"#ed7953\"],[0.7777777777777778,\"#fb9f3a\"],[0.8888888888888888,\"#fdca26\"],[1.0,\"#f0f921\"]],\"type\":\"contour\"}],\"heatmapgl\":[{\"colorbar\":{\"outlinewidth\":0,\"ticks\":\"\"},\"colorscale\":[[0.0,\"#0d0887\"],[0.1111111111111111,\"#46039f\"],[0.2222222222222222,\"#7201a8\"],[0.3333333333333333,\"#9c179e\"],[0.4444444444444444,\"#bd3786\"],[0.5555555555555556,\"#d8576b\"],[0.6666666666666666,\"#ed7953\"],[0.7777777777777778,\"#fb9f3a\"],[0.8888888888888888,\"#fdca26\"],[1.0,\"#f0f921\"]],\"type\":\"heatmapgl\"}],\"heatmap\":[{\"colorbar\":{\"outlinewidth\":0,\"ticks\":\"\"},\"colorscale\":[[0.0,\"#0d0887\"],[0.1111111111111111,\"#46039f\"],[0.2222222222222222,\"#7201a8\"],[0.3333333333333333,\"#9c179e\"],[0.4444444444444444,\"#bd3786\"],[0.5555555555555556,\"#d8576b\"],[0.6666666666666666,\"#ed7953\"],[0.7777777777777778,\"#fb9f3a\"],[0.8888888888888888,\"#fdca26\"],[1.0,\"#f0f921\"]],\"type\":\"heatmap\"}],\"histogram2dcontour\":[{\"colorbar\":{\"outlinewidth\":0,\"ticks\":\"\"},\"colorscale\":[[0.0,\"#0d0887\"],[0.1111111111111111,\"#46039f\"],[0.2222222222222222,\"#7201a8\"],[0.3333333333333333,\"#9c179e\"],[0.4444444444444444,\"#bd3786\"],[0.5555555555555556,\"#d8576b\"],[0.6666666666666666,\"#ed7953\"],[0.7777777777777778,\"#fb9f3a\"],[0.8888888888888888,\"#fdca26\"],[1.0,\"#f0f921\"]],\"type\":\"histogram2dcontour\"}],\"histogram2d\":[{\"colorbar\":{\"outlinewidth\":0,\"ticks\":\"\"},\"colorscale\":[[0.0,\"#0d0887\"],[0.1111111111111111,\"#46039f\"],[0.2222222222222222,\"#7201a8\"],[0.3333333333333333,\"#9c179e\"],[0.4444444444444444,\"#bd3786\"],[0.5555555555555556,\"#d8576b\"],[0.6666666666666666,\"#ed7953\"],[0.7777777777777778,\"#fb9f3a\"],[0.8888888888888888,\"#fdca26\"],[1.0,\"#f0f921\"]],\"type\":\"histogram2d\"}],\"histogram\":[{\"marker\":{\"pattern\":{\"fillmode\":\"overlay\",\"size\":10,\"solidity\":0.2}},\"type\":\"histogram\"}],\"mesh3d\":[{\"colorbar\":{\"outlinewidth\":0,\"ticks\":\"\"},\"type\":\"mesh3d\"}],\"parcoords\":[{\"line\":{\"colorbar\":{\"outlinewidth\":0,\"ticks\":\"\"}},\"type\":\"parcoords\"}],\"pie\":[{\"automargin\":true,\"type\":\"pie\"}],\"scatter3d\":[{\"line\":{\"colorbar\":{\"outlinewidth\":0,\"ticks\":\"\"}},\"marker\":{\"colorbar\":{\"outlinewidth\":0,\"ticks\":\"\"}},\"type\":\"scatter3d\"}],\"scattercarpet\":[{\"marker\":{\"colorbar\":{\"outlinewidth\":0,\"ticks\":\"\"}},\"type\":\"scattercarpet\"}],\"scattergeo\":[{\"marker\":{\"colorbar\":{\"outlinewidth\":0,\"ticks\":\"\"}},\"type\":\"scattergeo\"}],\"scattergl\":[{\"marker\":{\"colorbar\":{\"outlinewidth\":0,\"ticks\":\"\"}},\"type\":\"scattergl\"}],\"scattermapbox\":[{\"marker\":{\"colorbar\":{\"outlinewidth\":0,\"ticks\":\"\"}},\"type\":\"scattermapbox\"}],\"scatterpolargl\":[{\"marker\":{\"colorbar\":{\"outlinewidth\":0,\"ticks\":\"\"}},\"type\":\"scatterpolargl\"}],\"scatterpolar\":[{\"marker\":{\"colorbar\":{\"outlinewidth\":0,\"ticks\":\"\"}},\"type\":\"scatterpolar\"}],\"scatter\":[{\"fillpattern\":{\"fillmode\":\"overlay\",\"size\":10,\"solidity\":0.2},\"type\":\"scatter\"}],\"scatterternary\":[{\"marker\":{\"colorbar\":{\"outlinewidth\":0,\"ticks\":\"\"}},\"type\":\"scatterternary\"}],\"surface\":[{\"colorbar\":{\"outlinewidth\":0,\"ticks\":\"\"},\"colorscale\":[[0.0,\"#0d0887\"],[0.1111111111111111,\"#46039f\"],[0.2222222222222222,\"#7201a8\"],[0.3333333333333333,\"#9c179e\"],[0.4444444444444444,\"#bd3786\"],[0.5555555555555556,\"#d8576b\"],[0.6666666666666666,\"#ed7953\"],[0.7777777777777778,\"#fb9f3a\"],[0.8888888888888888,\"#fdca26\"],[1.0,\"#f0f921\"]],\"type\":\"surface\"}],\"table\":[{\"cells\":{\"fill\":{\"color\":\"#EBF0F8\"},\"line\":{\"color\":\"white\"}},\"header\":{\"fill\":{\"color\":\"#C8D4E3\"},\"line\":{\"color\":\"white\"}},\"type\":\"table\"}]},\"layout\":{\"annotationdefaults\":{\"arrowcolor\":\"#2a3f5f\",\"arrowhead\":0,\"arrowwidth\":1},\"autotypenumbers\":\"strict\",\"coloraxis\":{\"colorbar\":{\"outlinewidth\":0,\"ticks\":\"\"}},\"colorscale\":{\"diverging\":[[0,\"#8e0152\"],[0.1,\"#c51b7d\"],[0.2,\"#de77ae\"],[0.3,\"#f1b6da\"],[0.4,\"#fde0ef\"],[0.5,\"#f7f7f7\"],[0.6,\"#e6f5d0\"],[0.7,\"#b8e186\"],[0.8,\"#7fbc41\"],[0.9,\"#4d9221\"],[1,\"#276419\"]],\"sequential\":[[0.0,\"#0d0887\"],[0.1111111111111111,\"#46039f\"],[0.2222222222222222,\"#7201a8\"],[0.3333333333333333,\"#9c179e\"],[0.4444444444444444,\"#bd3786\"],[0.5555555555555556,\"#d8576b\"],[0.6666666666666666,\"#ed7953\"],[0.7777777777777778,\"#fb9f3a\"],[0.8888888888888888,\"#fdca26\"],[1.0,\"#f0f921\"]],\"sequentialminus\":[[0.0,\"#0d0887\"],[0.1111111111111111,\"#46039f\"],[0.2222222222222222,\"#7201a8\"],[0.3333333333333333,\"#9c179e\"],[0.4444444444444444,\"#bd3786\"],[0.5555555555555556,\"#d8576b\"],[0.6666666666666666,\"#ed7953\"],[0.7777777777777778,\"#fb9f3a\"],[0.8888888888888888,\"#fdca26\"],[1.0,\"#f0f921\"]]},\"colorway\":[\"#636efa\",\"#EF553B\",\"#00cc96\",\"#ab63fa\",\"#FFA15A\",\"#19d3f3\",\"#FF6692\",\"#B6E880\",\"#FF97FF\",\"#FECB52\"],\"font\":{\"color\":\"#2a3f5f\"},\"geo\":{\"bgcolor\":\"white\",\"lakecolor\":\"white\",\"landcolor\":\"#E5ECF6\",\"showlakes\":true,\"showland\":true,\"subunitcolor\":\"white\"},\"hoverlabel\":{\"align\":\"left\"},\"hovermode\":\"closest\",\"mapbox\":{\"style\":\"light\"},\"paper_bgcolor\":\"white\",\"plot_bgcolor\":\"#E5ECF6\",\"polar\":{\"angularaxis\":{\"gridcolor\":\"white\",\"linecolor\":\"white\",\"ticks\":\"\"},\"bgcolor\":\"#E5ECF6\",\"radialaxis\":{\"gridcolor\":\"white\",\"linecolor\":\"white\",\"ticks\":\"\"}},\"scene\":{\"xaxis\":{\"backgroundcolor\":\"#E5ECF6\",\"gridcolor\":\"white\",\"gridwidth\":2,\"linecolor\":\"white\",\"showbackground\":true,\"ticks\":\"\",\"zerolinecolor\":\"white\"},\"yaxis\":{\"backgroundcolor\":\"#E5ECF6\",\"gridcolor\":\"white\",\"gridwidth\":2,\"linecolor\":\"white\",\"showbackground\":true,\"ticks\":\"\",\"zerolinecolor\":\"white\"},\"zaxis\":{\"backgroundcolor\":\"#E5ECF6\",\"gridcolor\":\"white\",\"gridwidth\":2,\"linecolor\":\"white\",\"showbackground\":true,\"ticks\":\"\",\"zerolinecolor\":\"white\"}},\"shapedefaults\":{\"line\":{\"color\":\"#2a3f5f\"}},\"ternary\":{\"aaxis\":{\"gridcolor\":\"white\",\"linecolor\":\"white\",\"ticks\":\"\"},\"baxis\":{\"gridcolor\":\"white\",\"linecolor\":\"white\",\"ticks\":\"\"},\"bgcolor\":\"#E5ECF6\",\"caxis\":{\"gridcolor\":\"white\",\"linecolor\":\"white\",\"ticks\":\"\"}},\"title\":{\"x\":0.05},\"xaxis\":{\"automargin\":true,\"gridcolor\":\"white\",\"linecolor\":\"white\",\"ticks\":\"\",\"title\":{\"standoff\":15},\"zerolinecolor\":\"white\",\"zerolinewidth\":2},\"yaxis\":{\"automargin\":true,\"gridcolor\":\"white\",\"linecolor\":\"white\",\"ticks\":\"\",\"title\":{\"standoff\":15},\"zerolinecolor\":\"white\",\"zerolinewidth\":2}}},\"title\":{\"font\":{\"color\":\"#4D5663\"}},\"xaxis\":{\"gridcolor\":\"#E1E5ED\",\"showgrid\":true,\"tickfont\":{\"color\":\"#4D5663\"},\"title\":{\"font\":{\"color\":\"#4D5663\"},\"text\":\"\"},\"zerolinecolor\":\"#E1E5ED\"},\"yaxis\":{\"gridcolor\":\"#E1E5ED\",\"showgrid\":true,\"tickfont\":{\"color\":\"#4D5663\"},\"title\":{\"font\":{\"color\":\"#4D5663\"},\"text\":\"\"},\"zerolinecolor\":\"#E1E5ED\"}},                        {\"showLink\": true, \"linkText\": \"Export to plot.ly\", \"plotlyServerURL\": \"https://plot.ly\", \"responsive\": true}                    ).then(function(){\n",
       "                            \n",
       "var gd = document.getElementById('89027a89-2f86-4f97-adbb-116a283ffc9a');\n",
       "var x = new MutationObserver(function (mutations, observer) {{\n",
       "        var display = window.getComputedStyle(gd).display;\n",
       "        if (!display || display === 'none') {{\n",
       "            console.log([gd, 'removed!']);\n",
       "            Plotly.purge(gd);\n",
       "            observer.disconnect();\n",
       "        }}\n",
       "}});\n",
       "\n",
       "// Listen for the removal of the full notebook cells\n",
       "var notebookContainer = gd.closest('#notebook-container');\n",
       "if (notebookContainer) {{\n",
       "    x.observe(notebookContainer, {childList: true});\n",
       "}}\n",
       "\n",
       "// Listen for the clearing of the current output cell\n",
       "var outputEl = gd.closest('.output');\n",
       "if (outputEl) {{\n",
       "    x.observe(outputEl, {childList: true});\n",
       "}}\n",
       "\n",
       "                        })                };                });            </script>        </div>"
      ]
     },
     "metadata": {},
     "output_type": "display_data"
    }
   ],
   "source": [
    "df.sum().iplot(kind='bar')"
   ]
  },
  {
   "cell_type": "markdown",
   "metadata": {},
   "source": [
    "+ `boxplots`"
   ]
  },
  {
   "cell_type": "code",
   "execution_count": 19,
   "metadata": {},
   "outputs": [
    {
     "data": {
      "application/vnd.plotly.v1+json": {
       "config": {
        "linkText": "Export to plot.ly",
        "plotlyServerURL": "https://plot.ly",
        "showLink": true
       },
       "data": [
        {
         "boxpoints": false,
         "line": {
          "width": 1.3
         },
         "marker": {
          "color": "rgba(255, 153, 51, 1.0)"
         },
         "name": "A",
         "orientation": "v",
         "type": "box",
         "y": [
          0.6693661948659464,
          -1.409044815883012,
          -1.5455132834648089,
          0.6594642363422143,
          -0.09187247967043793,
          -0.730872810435815,
          -1.275919630139343,
          0.5230249705628381,
          -0.43397846009587693,
          -1.7396304117414094,
          -0.4946101964719013,
          0.30911834387069603,
          0.005740623968679781,
          -1.915161692689898,
          -0.3933771893139661,
          -1.5715842465033658,
          0.5584309091887014,
          0.443929077658181,
          0.42144883741187095,
          -1.2990455931993434,
          -0.4648052895158669,
          -1.4871274872639502,
          0.7897744945229496,
          -0.40787599619101145,
          -1.282569429442684,
          -1.416396656394587,
          -0.5757480437607201,
          0.7884005807602522,
          -0.22089370830785646,
          0.8721005626280494,
          0.6567327838128859,
          -0.4228616246723989,
          0.995975547606502,
          0.8054519633236913,
          0.8843786917513216,
          1.2134326819921784,
          -0.06546507933482919,
          -0.834255920485621,
          -0.8561919143953065,
          0.47435199850244514,
          1.2122433047509944,
          0.09169781628532563,
          0.5423837717420449,
          1.1462383500652646,
          2.056703885305179,
          -1.6224185421357327,
          -1.125949736917768,
          1.660578525022922,
          -0.5414056122193067,
          0.9979304853907104,
          0.340038928237054,
          -0.3421041025328197,
          -0.2538078053973776,
          -1.465463332830521,
          0.09781815927902178,
          0.917451586261482,
          0.38829880280747814,
          -0.5903613623266755,
          0.18283389165631908,
          0.8167981574453973,
          -0.33050615215525225,
          -2.351061461499044,
          -0.21938938619252876,
          -0.5343172250761418,
          0.5383465122361409,
          -1.584531740831603,
          -0.5248338648093666,
          -0.042128313288309197,
          0.2930936834740656,
          -0.18242520569668452,
          -0.32440972512416955,
          -0.26396063970516837,
          0.25510552399176567,
          1.0913344523198856,
          -0.26432546702841975,
          -1.1324962182484257,
          -0.3334188287709066,
          0.47165865713664096,
          -0.00722601308551948,
          -0.6004700482876557,
          -1.1671025640491137,
          1.3856312367633412,
          -1.9994626518762393,
          -0.4574667433126146,
          0.5706296296645946,
          -0.4418303579630319,
          1.0296016008018352,
          -0.23612241811588852,
          -0.8472454978284362,
          0.05050308339176204,
          -0.8181004061510664,
          0.684027136964716,
          0.16310082433895473,
          -1.797850143901822,
          -0.8267184298920633,
          -0.2986569140798697,
          0.9120993737504053,
          -0.941192969783878,
          0.8176020424453682,
          -0.3605275708624665
         ]
        },
        {
         "boxpoints": false,
         "line": {
          "width": 1.3
         },
         "marker": {
          "color": "rgba(55, 128, 191, 1.0)"
         },
         "name": "B",
         "orientation": "v",
         "type": "box",
         "y": [
          -0.4414590644709143,
          0.6009475102866352,
          3.510112069764468,
          1.5610552154700426,
          0.3884407199380903,
          -0.4345526018263627,
          -1.5666312237968276,
          1.1581096173233933,
          0.8004321234159172,
          2.0683908511197133,
          2.0755846544816277,
          -0.08604290723107731,
          -1.852937809123877,
          -0.9219953804103326,
          1.5618581074219662,
          0.6223130637864492,
          0.10268604787080232,
          -1.502931394299509,
          -1.1912728932017442,
          -2.093129747282381,
          -0.11515313414454793,
          0.4761692720056932,
          0.7714845354688461,
          1.1481159962233656,
          0.3167448548122893,
          2.6445662984808225,
          0.41824474356144214,
          1.2258403587871345,
          -0.9281528640238541,
          -0.2321860023071417,
          0.09373345895297824,
          0.007760938161068311,
          0.07077794095980522,
          -1.5700388740869569,
          -2.6782282196328024,
          -1.2068971847318049,
          0.8817557910116786,
          1.24084124810912,
          -0.6497987778064365,
          -0.9985133432689008,
          1.7404318210002216,
          0.006269448113173197,
          -1.0888360695852122,
          -2.0806257728411803,
          1.5194078693886661,
          -0.8452760566534565,
          -0.6116298705203155,
          0.3852156286062059,
          -0.8223443081603498,
          -0.6471088536760966,
          0.5757376498682675,
          -0.11602724007195983,
          0.45164281897113545,
          0.049387871754323916,
          0.8696536817954045,
          0.15467339469132277,
          0.16391469508209702,
          0.019570767130891942,
          -0.29012441440522524,
          0.9006159547163501,
          -1.0935593474429195,
          -1.7149949831895048,
          0.8766246539141818,
          -0.41894022154377386,
          0.38545370977307725,
          0.3761884013298682,
          -0.40183836727070854,
          -0.8852419199645146,
          0.06545033657791095,
          -0.5912844705181812,
          0.5499005651829469,
          -0.0028953672735837948,
          -0.06751955240201332,
          -0.1364598072282228,
          0.5478660254587262,
          1.1209119713513573,
          -0.44056185163877964,
          0.6819809085125212,
          -1.744570812276172,
          1.0965466766006342,
          -0.9666450670180567,
          -0.719631723447022,
          1.504130205404488,
          0.5573037381170135,
          0.15176242423433967,
          1.1397173044752613,
          0.46164631885290763,
          -0.5198088233524397,
          2.786583661544022,
          0.0015574722530103794,
          -0.7626358815680526,
          1.6058332064458973,
          0.4124894696963012,
          -1.8358755217882134,
          -0.2728612400594335,
          -0.8356084555841023,
          0.4976244705259505,
          -0.12476794780692588,
          -0.5315848882432254,
          -0.7413144468010111
         ]
        },
        {
         "boxpoints": false,
         "line": {
          "width": 1.3
         },
         "marker": {
          "color": "rgba(50, 171, 96, 1.0)"
         },
         "name": "C",
         "orientation": "v",
         "type": "box",
         "y": [
          1.4233200533170975,
          0.6159496867456131,
          1.7979161916788837,
          0.12139916332939137,
          -0.40125453266904376,
          1.61785316253027,
          -0.6808030391766453,
          -2.216630690177966,
          1.8287380136575637,
          -0.49421587836108194,
          -0.09961300412739195,
          -0.19138151883595206,
          0.638853161900305,
          1.398165666171986,
          0.19596580170798614,
          0.10326196408346817,
          1.7283246092175926,
          0.08352505349632627,
          0.5861542610701532,
          -0.7042117978319893,
          1.1739074126285045,
          -0.6447071267463649,
          -0.584773025960135,
          -2.023064024068859,
          -0.20199159447017545,
          1.3496392759662206,
          -0.14710109262032228,
          0.914518419402551,
          -0.23344367662746354,
          -0.3073859013884055,
          1.2615096767780327,
          -1.4354880375169556,
          -2.0046553286678805,
          0.7132933872478242,
          1.6449218141437816,
          -0.8209431837796699,
          0.09919680776393808,
          -0.6725230534024434,
          1.1235844188898196,
          -1.4402951641516324,
          0.7968983830541359,
          0.4631694940939458,
          -1.3808837085831145,
          -0.9491953851936759,
          -0.7108256042200177,
          -0.4297781341964865,
          1.799918621731629,
          -0.6414089564908176,
          -1.6006698224560578,
          0.5561624868805122,
          0.035903773932643185,
          1.4465698689551396,
          0.5691462555450286,
          -0.4474772983278165,
          -0.7557735903136481,
          0.7253211917370975,
          0.4325090345900524,
          1.7463592510581543,
          -0.3122555391184784,
          0.17182734000031602,
          0.06949090934738986,
          0.7932881874346521,
          2.0104502421536994,
          0.32535689301356596,
          -1.8706464701162937,
          -1.340806900307281,
          -0.36446153804988307,
          -0.614360826521038,
          -1.2960567099922464,
          0.13957639899688445,
          0.21283236535272945,
          0.7496867587839621,
          -0.5044670108662712,
          -0.4693107942344235,
          -0.1428366768089854,
          0.8099341670406704,
          -0.15800715116578368,
          0.09372922115895009,
          -0.27571673214748976,
          -0.4329370157747361,
          -1.1462021929318833,
          -0.36184706799625294,
          -0.16623691634814758,
          1.8514300498089877,
          -0.9042442237521494,
          -2.1471829232725557,
          0.27423799994818854,
          -0.37870857066885016,
          -0.08838583515869604,
          1.6151413809955402,
          -0.6809128262518052,
          0.350073566832486,
          -1.587336910199822,
          1.4430896272711142,
          1.195984425712016,
          -0.820595399394534,
          -0.09644665671787835,
          0.6547879694097968,
          0.5677569196382464,
          -0.4063498784650625
         ]
        },
        {
         "boxpoints": false,
         "line": {
          "width": 1.3
         },
         "marker": {
          "color": "rgba(128, 0, 128, 1.0)"
         },
         "name": "D",
         "orientation": "v",
         "type": "box",
         "y": [
          0.7992324592610167,
          -0.05188210528915001,
          0.8015795783892489,
          -1.7625479996249647,
          -0.23068101326878976,
          0.5424147794179821,
          1.718139710140608,
          -0.642031886955033,
          -0.36291771534161643,
          0.5552061649401454,
          0.48871970286816374,
          0.6023788216017896,
          -0.5670425850032518,
          1.8668425410768033,
          0.4669796392877091,
          1.41066662365623,
          -0.7859448182662659,
          -0.4318436538967881,
          0.9534575451002785,
          0.9112121447323823,
          -0.698578581804585,
          0.5143158906578965,
          -0.4501003312205437,
          -0.13873858485269464,
          -2.6638684619491664,
          0.25218313011119636,
          0.007674540502392985,
          -2.0513491818264775,
          -2.5171585833059247,
          0.10691527264643252,
          -0.5783611683821118,
          -2.457545669901879,
          -2.148288038132148,
          0.20526202863496373,
          0.6953152022027189,
          -0.683709803884698,
          -1.1909216154489195,
          0.8283363345691284,
          -1.1108219203526317,
          -0.15446098860476107,
          1.3382550021782424,
          -1.601909630449409,
          0.48339532458809353,
          -1.204304297934044,
          -1.6175952940395444,
          0.8309993324737532,
          -0.564856327632216,
          0.35159718788849453,
          1.1761504038189217,
          -1.9336845720140432,
          1.6942567540721312,
          0.2676482220157771,
          -0.28970712192305914,
          0.11682347407357466,
          -0.8017249068876192,
          -0.45232518989386455,
          1.5008394166528523,
          -0.8958484772482399,
          1.1904250550007773,
          1.545179504475862,
          -0.3982271367545086,
          -2.179059102931823,
          0.5027227417945013,
          1.7593358159631074,
          0.9674395401861513,
          0.7636882584686431,
          0.6819325455484554,
          0.9406732681547485,
          1.0012488708089025,
          -1.3344074764426668,
          -0.2910369009074888,
          -1.1626818990650376,
          -0.1900657727513096,
          -1.010291644662696,
          -1.9793152233244706,
          1.2014318398594674,
          0.40223513819327933,
          -0.09571982160454257,
          -0.9993326135434881,
          1.076334803451642,
          -0.565775268432088,
          -0.354871749191251,
          0.3679847920125919,
          -0.867403502419228,
          -0.46924428319193223,
          -0.40106252534802445,
          -0.6184632107725365,
          0.5214549978243445,
          1.3968234398094583,
          -0.7346027331483096,
          0.7601639098894806,
          1.2673422785952209,
          -0.5435996104654863,
          1.32596240312645,
          -0.9534951141066719,
          0.23179686678296982,
          1.8213091036611835,
          -0.45184033226446124,
          -0.19177099379029058,
          -1.111679377316681
         ]
        }
       ],
       "layout": {
        "legend": {
         "bgcolor": "#F5F6F9",
         "font": {
          "color": "#4D5663"
         }
        },
        "paper_bgcolor": "#F5F6F9",
        "plot_bgcolor": "#F5F6F9",
        "template": {
         "data": {
          "bar": [
           {
            "error_x": {
             "color": "#2a3f5f"
            },
            "error_y": {
             "color": "#2a3f5f"
            },
            "marker": {
             "line": {
              "color": "#E5ECF6",
              "width": 0.5
             },
             "pattern": {
              "fillmode": "overlay",
              "size": 10,
              "solidity": 0.2
             }
            },
            "type": "bar"
           }
          ],
          "barpolar": [
           {
            "marker": {
             "line": {
              "color": "#E5ECF6",
              "width": 0.5
             },
             "pattern": {
              "fillmode": "overlay",
              "size": 10,
              "solidity": 0.2
             }
            },
            "type": "barpolar"
           }
          ],
          "carpet": [
           {
            "aaxis": {
             "endlinecolor": "#2a3f5f",
             "gridcolor": "white",
             "linecolor": "white",
             "minorgridcolor": "white",
             "startlinecolor": "#2a3f5f"
            },
            "baxis": {
             "endlinecolor": "#2a3f5f",
             "gridcolor": "white",
             "linecolor": "white",
             "minorgridcolor": "white",
             "startlinecolor": "#2a3f5f"
            },
            "type": "carpet"
           }
          ],
          "choropleth": [
           {
            "colorbar": {
             "outlinewidth": 0,
             "ticks": ""
            },
            "type": "choropleth"
           }
          ],
          "contour": [
           {
            "colorbar": {
             "outlinewidth": 0,
             "ticks": ""
            },
            "colorscale": [
             [
              0,
              "#0d0887"
             ],
             [
              0.1111111111111111,
              "#46039f"
             ],
             [
              0.2222222222222222,
              "#7201a8"
             ],
             [
              0.3333333333333333,
              "#9c179e"
             ],
             [
              0.4444444444444444,
              "#bd3786"
             ],
             [
              0.5555555555555556,
              "#d8576b"
             ],
             [
              0.6666666666666666,
              "#ed7953"
             ],
             [
              0.7777777777777778,
              "#fb9f3a"
             ],
             [
              0.8888888888888888,
              "#fdca26"
             ],
             [
              1,
              "#f0f921"
             ]
            ],
            "type": "contour"
           }
          ],
          "contourcarpet": [
           {
            "colorbar": {
             "outlinewidth": 0,
             "ticks": ""
            },
            "type": "contourcarpet"
           }
          ],
          "heatmap": [
           {
            "colorbar": {
             "outlinewidth": 0,
             "ticks": ""
            },
            "colorscale": [
             [
              0,
              "#0d0887"
             ],
             [
              0.1111111111111111,
              "#46039f"
             ],
             [
              0.2222222222222222,
              "#7201a8"
             ],
             [
              0.3333333333333333,
              "#9c179e"
             ],
             [
              0.4444444444444444,
              "#bd3786"
             ],
             [
              0.5555555555555556,
              "#d8576b"
             ],
             [
              0.6666666666666666,
              "#ed7953"
             ],
             [
              0.7777777777777778,
              "#fb9f3a"
             ],
             [
              0.8888888888888888,
              "#fdca26"
             ],
             [
              1,
              "#f0f921"
             ]
            ],
            "type": "heatmap"
           }
          ],
          "heatmapgl": [
           {
            "colorbar": {
             "outlinewidth": 0,
             "ticks": ""
            },
            "colorscale": [
             [
              0,
              "#0d0887"
             ],
             [
              0.1111111111111111,
              "#46039f"
             ],
             [
              0.2222222222222222,
              "#7201a8"
             ],
             [
              0.3333333333333333,
              "#9c179e"
             ],
             [
              0.4444444444444444,
              "#bd3786"
             ],
             [
              0.5555555555555556,
              "#d8576b"
             ],
             [
              0.6666666666666666,
              "#ed7953"
             ],
             [
              0.7777777777777778,
              "#fb9f3a"
             ],
             [
              0.8888888888888888,
              "#fdca26"
             ],
             [
              1,
              "#f0f921"
             ]
            ],
            "type": "heatmapgl"
           }
          ],
          "histogram": [
           {
            "marker": {
             "pattern": {
              "fillmode": "overlay",
              "size": 10,
              "solidity": 0.2
             }
            },
            "type": "histogram"
           }
          ],
          "histogram2d": [
           {
            "colorbar": {
             "outlinewidth": 0,
             "ticks": ""
            },
            "colorscale": [
             [
              0,
              "#0d0887"
             ],
             [
              0.1111111111111111,
              "#46039f"
             ],
             [
              0.2222222222222222,
              "#7201a8"
             ],
             [
              0.3333333333333333,
              "#9c179e"
             ],
             [
              0.4444444444444444,
              "#bd3786"
             ],
             [
              0.5555555555555556,
              "#d8576b"
             ],
             [
              0.6666666666666666,
              "#ed7953"
             ],
             [
              0.7777777777777778,
              "#fb9f3a"
             ],
             [
              0.8888888888888888,
              "#fdca26"
             ],
             [
              1,
              "#f0f921"
             ]
            ],
            "type": "histogram2d"
           }
          ],
          "histogram2dcontour": [
           {
            "colorbar": {
             "outlinewidth": 0,
             "ticks": ""
            },
            "colorscale": [
             [
              0,
              "#0d0887"
             ],
             [
              0.1111111111111111,
              "#46039f"
             ],
             [
              0.2222222222222222,
              "#7201a8"
             ],
             [
              0.3333333333333333,
              "#9c179e"
             ],
             [
              0.4444444444444444,
              "#bd3786"
             ],
             [
              0.5555555555555556,
              "#d8576b"
             ],
             [
              0.6666666666666666,
              "#ed7953"
             ],
             [
              0.7777777777777778,
              "#fb9f3a"
             ],
             [
              0.8888888888888888,
              "#fdca26"
             ],
             [
              1,
              "#f0f921"
             ]
            ],
            "type": "histogram2dcontour"
           }
          ],
          "mesh3d": [
           {
            "colorbar": {
             "outlinewidth": 0,
             "ticks": ""
            },
            "type": "mesh3d"
           }
          ],
          "parcoords": [
           {
            "line": {
             "colorbar": {
              "outlinewidth": 0,
              "ticks": ""
             }
            },
            "type": "parcoords"
           }
          ],
          "pie": [
           {
            "automargin": true,
            "type": "pie"
           }
          ],
          "scatter": [
           {
            "fillpattern": {
             "fillmode": "overlay",
             "size": 10,
             "solidity": 0.2
            },
            "type": "scatter"
           }
          ],
          "scatter3d": [
           {
            "line": {
             "colorbar": {
              "outlinewidth": 0,
              "ticks": ""
             }
            },
            "marker": {
             "colorbar": {
              "outlinewidth": 0,
              "ticks": ""
             }
            },
            "type": "scatter3d"
           }
          ],
          "scattercarpet": [
           {
            "marker": {
             "colorbar": {
              "outlinewidth": 0,
              "ticks": ""
             }
            },
            "type": "scattercarpet"
           }
          ],
          "scattergeo": [
           {
            "marker": {
             "colorbar": {
              "outlinewidth": 0,
              "ticks": ""
             }
            },
            "type": "scattergeo"
           }
          ],
          "scattergl": [
           {
            "marker": {
             "colorbar": {
              "outlinewidth": 0,
              "ticks": ""
             }
            },
            "type": "scattergl"
           }
          ],
          "scattermapbox": [
           {
            "marker": {
             "colorbar": {
              "outlinewidth": 0,
              "ticks": ""
             }
            },
            "type": "scattermapbox"
           }
          ],
          "scatterpolar": [
           {
            "marker": {
             "colorbar": {
              "outlinewidth": 0,
              "ticks": ""
             }
            },
            "type": "scatterpolar"
           }
          ],
          "scatterpolargl": [
           {
            "marker": {
             "colorbar": {
              "outlinewidth": 0,
              "ticks": ""
             }
            },
            "type": "scatterpolargl"
           }
          ],
          "scatterternary": [
           {
            "marker": {
             "colorbar": {
              "outlinewidth": 0,
              "ticks": ""
             }
            },
            "type": "scatterternary"
           }
          ],
          "surface": [
           {
            "colorbar": {
             "outlinewidth": 0,
             "ticks": ""
            },
            "colorscale": [
             [
              0,
              "#0d0887"
             ],
             [
              0.1111111111111111,
              "#46039f"
             ],
             [
              0.2222222222222222,
              "#7201a8"
             ],
             [
              0.3333333333333333,
              "#9c179e"
             ],
             [
              0.4444444444444444,
              "#bd3786"
             ],
             [
              0.5555555555555556,
              "#d8576b"
             ],
             [
              0.6666666666666666,
              "#ed7953"
             ],
             [
              0.7777777777777778,
              "#fb9f3a"
             ],
             [
              0.8888888888888888,
              "#fdca26"
             ],
             [
              1,
              "#f0f921"
             ]
            ],
            "type": "surface"
           }
          ],
          "table": [
           {
            "cells": {
             "fill": {
              "color": "#EBF0F8"
             },
             "line": {
              "color": "white"
             }
            },
            "header": {
             "fill": {
              "color": "#C8D4E3"
             },
             "line": {
              "color": "white"
             }
            },
            "type": "table"
           }
          ]
         },
         "layout": {
          "annotationdefaults": {
           "arrowcolor": "#2a3f5f",
           "arrowhead": 0,
           "arrowwidth": 1
          },
          "autotypenumbers": "strict",
          "coloraxis": {
           "colorbar": {
            "outlinewidth": 0,
            "ticks": ""
           }
          },
          "colorscale": {
           "diverging": [
            [
             0,
             "#8e0152"
            ],
            [
             0.1,
             "#c51b7d"
            ],
            [
             0.2,
             "#de77ae"
            ],
            [
             0.3,
             "#f1b6da"
            ],
            [
             0.4,
             "#fde0ef"
            ],
            [
             0.5,
             "#f7f7f7"
            ],
            [
             0.6,
             "#e6f5d0"
            ],
            [
             0.7,
             "#b8e186"
            ],
            [
             0.8,
             "#7fbc41"
            ],
            [
             0.9,
             "#4d9221"
            ],
            [
             1,
             "#276419"
            ]
           ],
           "sequential": [
            [
             0,
             "#0d0887"
            ],
            [
             0.1111111111111111,
             "#46039f"
            ],
            [
             0.2222222222222222,
             "#7201a8"
            ],
            [
             0.3333333333333333,
             "#9c179e"
            ],
            [
             0.4444444444444444,
             "#bd3786"
            ],
            [
             0.5555555555555556,
             "#d8576b"
            ],
            [
             0.6666666666666666,
             "#ed7953"
            ],
            [
             0.7777777777777778,
             "#fb9f3a"
            ],
            [
             0.8888888888888888,
             "#fdca26"
            ],
            [
             1,
             "#f0f921"
            ]
           ],
           "sequentialminus": [
            [
             0,
             "#0d0887"
            ],
            [
             0.1111111111111111,
             "#46039f"
            ],
            [
             0.2222222222222222,
             "#7201a8"
            ],
            [
             0.3333333333333333,
             "#9c179e"
            ],
            [
             0.4444444444444444,
             "#bd3786"
            ],
            [
             0.5555555555555556,
             "#d8576b"
            ],
            [
             0.6666666666666666,
             "#ed7953"
            ],
            [
             0.7777777777777778,
             "#fb9f3a"
            ],
            [
             0.8888888888888888,
             "#fdca26"
            ],
            [
             1,
             "#f0f921"
            ]
           ]
          },
          "colorway": [
           "#636efa",
           "#EF553B",
           "#00cc96",
           "#ab63fa",
           "#FFA15A",
           "#19d3f3",
           "#FF6692",
           "#B6E880",
           "#FF97FF",
           "#FECB52"
          ],
          "font": {
           "color": "#2a3f5f"
          },
          "geo": {
           "bgcolor": "white",
           "lakecolor": "white",
           "landcolor": "#E5ECF6",
           "showlakes": true,
           "showland": true,
           "subunitcolor": "white"
          },
          "hoverlabel": {
           "align": "left"
          },
          "hovermode": "closest",
          "mapbox": {
           "style": "light"
          },
          "paper_bgcolor": "white",
          "plot_bgcolor": "#E5ECF6",
          "polar": {
           "angularaxis": {
            "gridcolor": "white",
            "linecolor": "white",
            "ticks": ""
           },
           "bgcolor": "#E5ECF6",
           "radialaxis": {
            "gridcolor": "white",
            "linecolor": "white",
            "ticks": ""
           }
          },
          "scene": {
           "xaxis": {
            "backgroundcolor": "#E5ECF6",
            "gridcolor": "white",
            "gridwidth": 2,
            "linecolor": "white",
            "showbackground": true,
            "ticks": "",
            "zerolinecolor": "white"
           },
           "yaxis": {
            "backgroundcolor": "#E5ECF6",
            "gridcolor": "white",
            "gridwidth": 2,
            "linecolor": "white",
            "showbackground": true,
            "ticks": "",
            "zerolinecolor": "white"
           },
           "zaxis": {
            "backgroundcolor": "#E5ECF6",
            "gridcolor": "white",
            "gridwidth": 2,
            "linecolor": "white",
            "showbackground": true,
            "ticks": "",
            "zerolinecolor": "white"
           }
          },
          "shapedefaults": {
           "line": {
            "color": "#2a3f5f"
           }
          },
          "ternary": {
           "aaxis": {
            "gridcolor": "white",
            "linecolor": "white",
            "ticks": ""
           },
           "baxis": {
            "gridcolor": "white",
            "linecolor": "white",
            "ticks": ""
           },
           "bgcolor": "#E5ECF6",
           "caxis": {
            "gridcolor": "white",
            "linecolor": "white",
            "ticks": ""
           }
          },
          "title": {
           "x": 0.05
          },
          "xaxis": {
           "automargin": true,
           "gridcolor": "white",
           "linecolor": "white",
           "ticks": "",
           "title": {
            "standoff": 15
           },
           "zerolinecolor": "white",
           "zerolinewidth": 2
          },
          "yaxis": {
           "automargin": true,
           "gridcolor": "white",
           "linecolor": "white",
           "ticks": "",
           "title": {
            "standoff": 15
           },
           "zerolinecolor": "white",
           "zerolinewidth": 2
          }
         }
        },
        "title": {
         "font": {
          "color": "#4D5663"
         }
        },
        "xaxis": {
         "gridcolor": "#E1E5ED",
         "showgrid": true,
         "tickfont": {
          "color": "#4D5663"
         },
         "title": {
          "font": {
           "color": "#4D5663"
          },
          "text": ""
         },
         "zerolinecolor": "#E1E5ED"
        },
        "yaxis": {
         "gridcolor": "#E1E5ED",
         "showgrid": true,
         "tickfont": {
          "color": "#4D5663"
         },
         "title": {
          "font": {
           "color": "#4D5663"
          },
          "text": ""
         },
         "zerolinecolor": "#E1E5ED"
        }
       }
      },
      "text/html": [
       "<div>                            <div id=\"5dc2a57c-86c5-48eb-a103-8f00a0e90070\" class=\"plotly-graph-div\" style=\"height:525px; width:100%;\"></div>            <script type=\"text/javascript\">                require([\"plotly\"], function(Plotly) {                    window.PLOTLYENV=window.PLOTLYENV || {};\n",
       "                    window.PLOTLYENV.BASE_URL='https://plot.ly';                                    if (document.getElementById(\"5dc2a57c-86c5-48eb-a103-8f00a0e90070\")) {                    Plotly.newPlot(                        \"5dc2a57c-86c5-48eb-a103-8f00a0e90070\",                        [{\"boxpoints\":false,\"line\":{\"width\":1.3},\"marker\":{\"color\":\"rgba(255, 153, 51, 1.0)\"},\"name\":\"A\",\"orientation\":\"v\",\"y\":[0.6693661948659464,-1.409044815883012,-1.5455132834648089,0.6594642363422143,-0.09187247967043793,-0.730872810435815,-1.275919630139343,0.5230249705628381,-0.43397846009587693,-1.7396304117414094,-0.4946101964719013,0.30911834387069603,0.005740623968679781,-1.915161692689898,-0.3933771893139661,-1.5715842465033658,0.5584309091887014,0.443929077658181,0.42144883741187095,-1.2990455931993434,-0.4648052895158669,-1.4871274872639502,0.7897744945229496,-0.40787599619101145,-1.282569429442684,-1.416396656394587,-0.5757480437607201,0.7884005807602522,-0.22089370830785646,0.8721005626280494,0.6567327838128859,-0.4228616246723989,0.995975547606502,0.8054519633236913,0.8843786917513216,1.2134326819921784,-0.06546507933482919,-0.834255920485621,-0.8561919143953065,0.47435199850244514,1.2122433047509944,0.09169781628532563,0.5423837717420449,1.1462383500652646,2.056703885305179,-1.6224185421357327,-1.125949736917768,1.660578525022922,-0.5414056122193067,0.9979304853907104,0.340038928237054,-0.3421041025328197,-0.2538078053973776,-1.465463332830521,0.09781815927902178,0.917451586261482,0.38829880280747814,-0.5903613623266755,0.18283389165631908,0.8167981574453973,-0.33050615215525225,-2.351061461499044,-0.21938938619252876,-0.5343172250761418,0.5383465122361409,-1.584531740831603,-0.5248338648093666,-0.042128313288309197,0.2930936834740656,-0.18242520569668452,-0.32440972512416955,-0.26396063970516837,0.25510552399176567,1.0913344523198856,-0.26432546702841975,-1.1324962182484257,-0.3334188287709066,0.47165865713664096,-0.00722601308551948,-0.6004700482876557,-1.1671025640491137,1.3856312367633412,-1.9994626518762393,-0.4574667433126146,0.5706296296645946,-0.4418303579630319,1.0296016008018352,-0.23612241811588852,-0.8472454978284362,0.05050308339176204,-0.8181004061510664,0.684027136964716,0.16310082433895473,-1.797850143901822,-0.8267184298920633,-0.2986569140798697,0.9120993737504053,-0.941192969783878,0.8176020424453682,-0.3605275708624665],\"type\":\"box\"},{\"boxpoints\":false,\"line\":{\"width\":1.3},\"marker\":{\"color\":\"rgba(55, 128, 191, 1.0)\"},\"name\":\"B\",\"orientation\":\"v\",\"y\":[-0.4414590644709143,0.6009475102866352,3.510112069764468,1.5610552154700426,0.3884407199380903,-0.4345526018263627,-1.5666312237968276,1.1581096173233933,0.8004321234159172,2.0683908511197133,2.0755846544816277,-0.08604290723107731,-1.852937809123877,-0.9219953804103326,1.5618581074219662,0.6223130637864492,0.10268604787080232,-1.502931394299509,-1.1912728932017442,-2.093129747282381,-0.11515313414454793,0.4761692720056932,0.7714845354688461,1.1481159962233656,0.3167448548122893,2.6445662984808225,0.41824474356144214,1.2258403587871345,-0.9281528640238541,-0.2321860023071417,0.09373345895297824,0.007760938161068311,0.07077794095980522,-1.5700388740869569,-2.6782282196328024,-1.2068971847318049,0.8817557910116786,1.24084124810912,-0.6497987778064365,-0.9985133432689008,1.7404318210002216,0.006269448113173197,-1.0888360695852122,-2.0806257728411803,1.5194078693886661,-0.8452760566534565,-0.6116298705203155,0.3852156286062059,-0.8223443081603498,-0.6471088536760966,0.5757376498682675,-0.11602724007195983,0.45164281897113545,0.049387871754323916,0.8696536817954045,0.15467339469132277,0.16391469508209702,0.019570767130891942,-0.29012441440522524,0.9006159547163501,-1.0935593474429195,-1.7149949831895048,0.8766246539141818,-0.41894022154377386,0.38545370977307725,0.3761884013298682,-0.40183836727070854,-0.8852419199645146,0.06545033657791095,-0.5912844705181812,0.5499005651829469,-0.0028953672735837948,-0.06751955240201332,-0.1364598072282228,0.5478660254587262,1.1209119713513573,-0.44056185163877964,0.6819809085125212,-1.744570812276172,1.0965466766006342,-0.9666450670180567,-0.719631723447022,1.504130205404488,0.5573037381170135,0.15176242423433967,1.1397173044752613,0.46164631885290763,-0.5198088233524397,2.786583661544022,0.0015574722530103794,-0.7626358815680526,1.6058332064458973,0.4124894696963012,-1.8358755217882134,-0.2728612400594335,-0.8356084555841023,0.4976244705259505,-0.12476794780692588,-0.5315848882432254,-0.7413144468010111],\"type\":\"box\"},{\"boxpoints\":false,\"line\":{\"width\":1.3},\"marker\":{\"color\":\"rgba(50, 171, 96, 1.0)\"},\"name\":\"C\",\"orientation\":\"v\",\"y\":[1.4233200533170975,0.6159496867456131,1.7979161916788837,0.12139916332939137,-0.40125453266904376,1.61785316253027,-0.6808030391766453,-2.216630690177966,1.8287380136575637,-0.49421587836108194,-0.09961300412739195,-0.19138151883595206,0.638853161900305,1.398165666171986,0.19596580170798614,0.10326196408346817,1.7283246092175926,0.08352505349632627,0.5861542610701532,-0.7042117978319893,1.1739074126285045,-0.6447071267463649,-0.584773025960135,-2.023064024068859,-0.20199159447017545,1.3496392759662206,-0.14710109262032228,0.914518419402551,-0.23344367662746354,-0.3073859013884055,1.2615096767780327,-1.4354880375169556,-2.0046553286678805,0.7132933872478242,1.6449218141437816,-0.8209431837796699,0.09919680776393808,-0.6725230534024434,1.1235844188898196,-1.4402951641516324,0.7968983830541359,0.4631694940939458,-1.3808837085831145,-0.9491953851936759,-0.7108256042200177,-0.4297781341964865,1.799918621731629,-0.6414089564908176,-1.6006698224560578,0.5561624868805122,0.035903773932643185,1.4465698689551396,0.5691462555450286,-0.4474772983278165,-0.7557735903136481,0.7253211917370975,0.4325090345900524,1.7463592510581543,-0.3122555391184784,0.17182734000031602,0.06949090934738986,0.7932881874346521,2.0104502421536994,0.32535689301356596,-1.8706464701162937,-1.340806900307281,-0.36446153804988307,-0.614360826521038,-1.2960567099922464,0.13957639899688445,0.21283236535272945,0.7496867587839621,-0.5044670108662712,-0.4693107942344235,-0.1428366768089854,0.8099341670406704,-0.15800715116578368,0.09372922115895009,-0.27571673214748976,-0.4329370157747361,-1.1462021929318833,-0.36184706799625294,-0.16623691634814758,1.8514300498089877,-0.9042442237521494,-2.1471829232725557,0.27423799994818854,-0.37870857066885016,-0.08838583515869604,1.6151413809955402,-0.6809128262518052,0.350073566832486,-1.587336910199822,1.4430896272711142,1.195984425712016,-0.820595399394534,-0.09644665671787835,0.6547879694097968,0.5677569196382464,-0.4063498784650625],\"type\":\"box\"},{\"boxpoints\":false,\"line\":{\"width\":1.3},\"marker\":{\"color\":\"rgba(128, 0, 128, 1.0)\"},\"name\":\"D\",\"orientation\":\"v\",\"y\":[0.7992324592610167,-0.05188210528915001,0.8015795783892489,-1.7625479996249647,-0.23068101326878976,0.5424147794179821,1.718139710140608,-0.642031886955033,-0.36291771534161643,0.5552061649401454,0.48871970286816374,0.6023788216017896,-0.5670425850032518,1.8668425410768033,0.4669796392877091,1.41066662365623,-0.7859448182662659,-0.4318436538967881,0.9534575451002785,0.9112121447323823,-0.698578581804585,0.5143158906578965,-0.4501003312205437,-0.13873858485269464,-2.6638684619491664,0.25218313011119636,0.007674540502392985,-2.0513491818264775,-2.5171585833059247,0.10691527264643252,-0.5783611683821118,-2.457545669901879,-2.148288038132148,0.20526202863496373,0.6953152022027189,-0.683709803884698,-1.1909216154489195,0.8283363345691284,-1.1108219203526317,-0.15446098860476107,1.3382550021782424,-1.601909630449409,0.48339532458809353,-1.204304297934044,-1.6175952940395444,0.8309993324737532,-0.564856327632216,0.35159718788849453,1.1761504038189217,-1.9336845720140432,1.6942567540721312,0.2676482220157771,-0.28970712192305914,0.11682347407357466,-0.8017249068876192,-0.45232518989386455,1.5008394166528523,-0.8958484772482399,1.1904250550007773,1.545179504475862,-0.3982271367545086,-2.179059102931823,0.5027227417945013,1.7593358159631074,0.9674395401861513,0.7636882584686431,0.6819325455484554,0.9406732681547485,1.0012488708089025,-1.3344074764426668,-0.2910369009074888,-1.1626818990650376,-0.1900657727513096,-1.010291644662696,-1.9793152233244706,1.2014318398594674,0.40223513819327933,-0.09571982160454257,-0.9993326135434881,1.076334803451642,-0.565775268432088,-0.354871749191251,0.3679847920125919,-0.867403502419228,-0.46924428319193223,-0.40106252534802445,-0.6184632107725365,0.5214549978243445,1.3968234398094583,-0.7346027331483096,0.7601639098894806,1.2673422785952209,-0.5435996104654863,1.32596240312645,-0.9534951141066719,0.23179686678296982,1.8213091036611835,-0.45184033226446124,-0.19177099379029058,-1.111679377316681],\"type\":\"box\"}],                        {\"legend\":{\"bgcolor\":\"#F5F6F9\",\"font\":{\"color\":\"#4D5663\"}},\"paper_bgcolor\":\"#F5F6F9\",\"plot_bgcolor\":\"#F5F6F9\",\"template\":{\"data\":{\"barpolar\":[{\"marker\":{\"line\":{\"color\":\"#E5ECF6\",\"width\":0.5},\"pattern\":{\"fillmode\":\"overlay\",\"size\":10,\"solidity\":0.2}},\"type\":\"barpolar\"}],\"bar\":[{\"error_x\":{\"color\":\"#2a3f5f\"},\"error_y\":{\"color\":\"#2a3f5f\"},\"marker\":{\"line\":{\"color\":\"#E5ECF6\",\"width\":0.5},\"pattern\":{\"fillmode\":\"overlay\",\"size\":10,\"solidity\":0.2}},\"type\":\"bar\"}],\"carpet\":[{\"aaxis\":{\"endlinecolor\":\"#2a3f5f\",\"gridcolor\":\"white\",\"linecolor\":\"white\",\"minorgridcolor\":\"white\",\"startlinecolor\":\"#2a3f5f\"},\"baxis\":{\"endlinecolor\":\"#2a3f5f\",\"gridcolor\":\"white\",\"linecolor\":\"white\",\"minorgridcolor\":\"white\",\"startlinecolor\":\"#2a3f5f\"},\"type\":\"carpet\"}],\"choropleth\":[{\"colorbar\":{\"outlinewidth\":0,\"ticks\":\"\"},\"type\":\"choropleth\"}],\"contourcarpet\":[{\"colorbar\":{\"outlinewidth\":0,\"ticks\":\"\"},\"type\":\"contourcarpet\"}],\"contour\":[{\"colorbar\":{\"outlinewidth\":0,\"ticks\":\"\"},\"colorscale\":[[0.0,\"#0d0887\"],[0.1111111111111111,\"#46039f\"],[0.2222222222222222,\"#7201a8\"],[0.3333333333333333,\"#9c179e\"],[0.4444444444444444,\"#bd3786\"],[0.5555555555555556,\"#d8576b\"],[0.6666666666666666,\"#ed7953\"],[0.7777777777777778,\"#fb9f3a\"],[0.8888888888888888,\"#fdca26\"],[1.0,\"#f0f921\"]],\"type\":\"contour\"}],\"heatmapgl\":[{\"colorbar\":{\"outlinewidth\":0,\"ticks\":\"\"},\"colorscale\":[[0.0,\"#0d0887\"],[0.1111111111111111,\"#46039f\"],[0.2222222222222222,\"#7201a8\"],[0.3333333333333333,\"#9c179e\"],[0.4444444444444444,\"#bd3786\"],[0.5555555555555556,\"#d8576b\"],[0.6666666666666666,\"#ed7953\"],[0.7777777777777778,\"#fb9f3a\"],[0.8888888888888888,\"#fdca26\"],[1.0,\"#f0f921\"]],\"type\":\"heatmapgl\"}],\"heatmap\":[{\"colorbar\":{\"outlinewidth\":0,\"ticks\":\"\"},\"colorscale\":[[0.0,\"#0d0887\"],[0.1111111111111111,\"#46039f\"],[0.2222222222222222,\"#7201a8\"],[0.3333333333333333,\"#9c179e\"],[0.4444444444444444,\"#bd3786\"],[0.5555555555555556,\"#d8576b\"],[0.6666666666666666,\"#ed7953\"],[0.7777777777777778,\"#fb9f3a\"],[0.8888888888888888,\"#fdca26\"],[1.0,\"#f0f921\"]],\"type\":\"heatmap\"}],\"histogram2dcontour\":[{\"colorbar\":{\"outlinewidth\":0,\"ticks\":\"\"},\"colorscale\":[[0.0,\"#0d0887\"],[0.1111111111111111,\"#46039f\"],[0.2222222222222222,\"#7201a8\"],[0.3333333333333333,\"#9c179e\"],[0.4444444444444444,\"#bd3786\"],[0.5555555555555556,\"#d8576b\"],[0.6666666666666666,\"#ed7953\"],[0.7777777777777778,\"#fb9f3a\"],[0.8888888888888888,\"#fdca26\"],[1.0,\"#f0f921\"]],\"type\":\"histogram2dcontour\"}],\"histogram2d\":[{\"colorbar\":{\"outlinewidth\":0,\"ticks\":\"\"},\"colorscale\":[[0.0,\"#0d0887\"],[0.1111111111111111,\"#46039f\"],[0.2222222222222222,\"#7201a8\"],[0.3333333333333333,\"#9c179e\"],[0.4444444444444444,\"#bd3786\"],[0.5555555555555556,\"#d8576b\"],[0.6666666666666666,\"#ed7953\"],[0.7777777777777778,\"#fb9f3a\"],[0.8888888888888888,\"#fdca26\"],[1.0,\"#f0f921\"]],\"type\":\"histogram2d\"}],\"histogram\":[{\"marker\":{\"pattern\":{\"fillmode\":\"overlay\",\"size\":10,\"solidity\":0.2}},\"type\":\"histogram\"}],\"mesh3d\":[{\"colorbar\":{\"outlinewidth\":0,\"ticks\":\"\"},\"type\":\"mesh3d\"}],\"parcoords\":[{\"line\":{\"colorbar\":{\"outlinewidth\":0,\"ticks\":\"\"}},\"type\":\"parcoords\"}],\"pie\":[{\"automargin\":true,\"type\":\"pie\"}],\"scatter3d\":[{\"line\":{\"colorbar\":{\"outlinewidth\":0,\"ticks\":\"\"}},\"marker\":{\"colorbar\":{\"outlinewidth\":0,\"ticks\":\"\"}},\"type\":\"scatter3d\"}],\"scattercarpet\":[{\"marker\":{\"colorbar\":{\"outlinewidth\":0,\"ticks\":\"\"}},\"type\":\"scattercarpet\"}],\"scattergeo\":[{\"marker\":{\"colorbar\":{\"outlinewidth\":0,\"ticks\":\"\"}},\"type\":\"scattergeo\"}],\"scattergl\":[{\"marker\":{\"colorbar\":{\"outlinewidth\":0,\"ticks\":\"\"}},\"type\":\"scattergl\"}],\"scattermapbox\":[{\"marker\":{\"colorbar\":{\"outlinewidth\":0,\"ticks\":\"\"}},\"type\":\"scattermapbox\"}],\"scatterpolargl\":[{\"marker\":{\"colorbar\":{\"outlinewidth\":0,\"ticks\":\"\"}},\"type\":\"scatterpolargl\"}],\"scatterpolar\":[{\"marker\":{\"colorbar\":{\"outlinewidth\":0,\"ticks\":\"\"}},\"type\":\"scatterpolar\"}],\"scatter\":[{\"fillpattern\":{\"fillmode\":\"overlay\",\"size\":10,\"solidity\":0.2},\"type\":\"scatter\"}],\"scatterternary\":[{\"marker\":{\"colorbar\":{\"outlinewidth\":0,\"ticks\":\"\"}},\"type\":\"scatterternary\"}],\"surface\":[{\"colorbar\":{\"outlinewidth\":0,\"ticks\":\"\"},\"colorscale\":[[0.0,\"#0d0887\"],[0.1111111111111111,\"#46039f\"],[0.2222222222222222,\"#7201a8\"],[0.3333333333333333,\"#9c179e\"],[0.4444444444444444,\"#bd3786\"],[0.5555555555555556,\"#d8576b\"],[0.6666666666666666,\"#ed7953\"],[0.7777777777777778,\"#fb9f3a\"],[0.8888888888888888,\"#fdca26\"],[1.0,\"#f0f921\"]],\"type\":\"surface\"}],\"table\":[{\"cells\":{\"fill\":{\"color\":\"#EBF0F8\"},\"line\":{\"color\":\"white\"}},\"header\":{\"fill\":{\"color\":\"#C8D4E3\"},\"line\":{\"color\":\"white\"}},\"type\":\"table\"}]},\"layout\":{\"annotationdefaults\":{\"arrowcolor\":\"#2a3f5f\",\"arrowhead\":0,\"arrowwidth\":1},\"autotypenumbers\":\"strict\",\"coloraxis\":{\"colorbar\":{\"outlinewidth\":0,\"ticks\":\"\"}},\"colorscale\":{\"diverging\":[[0,\"#8e0152\"],[0.1,\"#c51b7d\"],[0.2,\"#de77ae\"],[0.3,\"#f1b6da\"],[0.4,\"#fde0ef\"],[0.5,\"#f7f7f7\"],[0.6,\"#e6f5d0\"],[0.7,\"#b8e186\"],[0.8,\"#7fbc41\"],[0.9,\"#4d9221\"],[1,\"#276419\"]],\"sequential\":[[0.0,\"#0d0887\"],[0.1111111111111111,\"#46039f\"],[0.2222222222222222,\"#7201a8\"],[0.3333333333333333,\"#9c179e\"],[0.4444444444444444,\"#bd3786\"],[0.5555555555555556,\"#d8576b\"],[0.6666666666666666,\"#ed7953\"],[0.7777777777777778,\"#fb9f3a\"],[0.8888888888888888,\"#fdca26\"],[1.0,\"#f0f921\"]],\"sequentialminus\":[[0.0,\"#0d0887\"],[0.1111111111111111,\"#46039f\"],[0.2222222222222222,\"#7201a8\"],[0.3333333333333333,\"#9c179e\"],[0.4444444444444444,\"#bd3786\"],[0.5555555555555556,\"#d8576b\"],[0.6666666666666666,\"#ed7953\"],[0.7777777777777778,\"#fb9f3a\"],[0.8888888888888888,\"#fdca26\"],[1.0,\"#f0f921\"]]},\"colorway\":[\"#636efa\",\"#EF553B\",\"#00cc96\",\"#ab63fa\",\"#FFA15A\",\"#19d3f3\",\"#FF6692\",\"#B6E880\",\"#FF97FF\",\"#FECB52\"],\"font\":{\"color\":\"#2a3f5f\"},\"geo\":{\"bgcolor\":\"white\",\"lakecolor\":\"white\",\"landcolor\":\"#E5ECF6\",\"showlakes\":true,\"showland\":true,\"subunitcolor\":\"white\"},\"hoverlabel\":{\"align\":\"left\"},\"hovermode\":\"closest\",\"mapbox\":{\"style\":\"light\"},\"paper_bgcolor\":\"white\",\"plot_bgcolor\":\"#E5ECF6\",\"polar\":{\"angularaxis\":{\"gridcolor\":\"white\",\"linecolor\":\"white\",\"ticks\":\"\"},\"bgcolor\":\"#E5ECF6\",\"radialaxis\":{\"gridcolor\":\"white\",\"linecolor\":\"white\",\"ticks\":\"\"}},\"scene\":{\"xaxis\":{\"backgroundcolor\":\"#E5ECF6\",\"gridcolor\":\"white\",\"gridwidth\":2,\"linecolor\":\"white\",\"showbackground\":true,\"ticks\":\"\",\"zerolinecolor\":\"white\"},\"yaxis\":{\"backgroundcolor\":\"#E5ECF6\",\"gridcolor\":\"white\",\"gridwidth\":2,\"linecolor\":\"white\",\"showbackground\":true,\"ticks\":\"\",\"zerolinecolor\":\"white\"},\"zaxis\":{\"backgroundcolor\":\"#E5ECF6\",\"gridcolor\":\"white\",\"gridwidth\":2,\"linecolor\":\"white\",\"showbackground\":true,\"ticks\":\"\",\"zerolinecolor\":\"white\"}},\"shapedefaults\":{\"line\":{\"color\":\"#2a3f5f\"}},\"ternary\":{\"aaxis\":{\"gridcolor\":\"white\",\"linecolor\":\"white\",\"ticks\":\"\"},\"baxis\":{\"gridcolor\":\"white\",\"linecolor\":\"white\",\"ticks\":\"\"},\"bgcolor\":\"#E5ECF6\",\"caxis\":{\"gridcolor\":\"white\",\"linecolor\":\"white\",\"ticks\":\"\"}},\"title\":{\"x\":0.05},\"xaxis\":{\"automargin\":true,\"gridcolor\":\"white\",\"linecolor\":\"white\",\"ticks\":\"\",\"title\":{\"standoff\":15},\"zerolinecolor\":\"white\",\"zerolinewidth\":2},\"yaxis\":{\"automargin\":true,\"gridcolor\":\"white\",\"linecolor\":\"white\",\"ticks\":\"\",\"title\":{\"standoff\":15},\"zerolinecolor\":\"white\",\"zerolinewidth\":2}}},\"title\":{\"font\":{\"color\":\"#4D5663\"}},\"xaxis\":{\"gridcolor\":\"#E1E5ED\",\"showgrid\":true,\"tickfont\":{\"color\":\"#4D5663\"},\"title\":{\"font\":{\"color\":\"#4D5663\"},\"text\":\"\"},\"zerolinecolor\":\"#E1E5ED\"},\"yaxis\":{\"gridcolor\":\"#E1E5ED\",\"showgrid\":true,\"tickfont\":{\"color\":\"#4D5663\"},\"title\":{\"font\":{\"color\":\"#4D5663\"},\"text\":\"\"},\"zerolinecolor\":\"#E1E5ED\"}},                        {\"showLink\": true, \"linkText\": \"Export to plot.ly\", \"plotlyServerURL\": \"https://plot.ly\", \"responsive\": true}                    ).then(function(){\n",
       "                            \n",
       "var gd = document.getElementById('5dc2a57c-86c5-48eb-a103-8f00a0e90070');\n",
       "var x = new MutationObserver(function (mutations, observer) {{\n",
       "        var display = window.getComputedStyle(gd).display;\n",
       "        if (!display || display === 'none') {{\n",
       "            console.log([gd, 'removed!']);\n",
       "            Plotly.purge(gd);\n",
       "            observer.disconnect();\n",
       "        }}\n",
       "}});\n",
       "\n",
       "// Listen for the removal of the full notebook cells\n",
       "var notebookContainer = gd.closest('#notebook-container');\n",
       "if (notebookContainer) {{\n",
       "    x.observe(notebookContainer, {childList: true});\n",
       "}}\n",
       "\n",
       "// Listen for the clearing of the current output cell\n",
       "var outputEl = gd.closest('.output');\n",
       "if (outputEl) {{\n",
       "    x.observe(outputEl, {childList: true});\n",
       "}}\n",
       "\n",
       "                        })                };                });            </script>        </div>"
      ]
     },
     "metadata": {},
     "output_type": "display_data"
    }
   ],
   "source": [
    "df.iplot(kind='box')"
   ]
  },
  {
   "cell_type": "markdown",
   "metadata": {},
   "source": [
    "+ `3D Surface`"
   ]
  },
  {
   "cell_type": "code",
   "execution_count": 20,
   "metadata": {},
   "outputs": [
    {
     "data": {
      "application/vnd.plotly.v1+json": {
       "config": {
        "linkText": "Export to plot.ly",
        "plotlyServerURL": "https://plot.ly",
        "showLink": true
       },
       "data": [
        {
         "colorscale": [
          [
           0,
           "rgb(165,0,38)"
          ],
          [
           0.1,
           "rgb(215,48,39)"
          ],
          [
           0.2,
           "rgb(244,109,67)"
          ],
          [
           0.3,
           "rgb(253,174,97)"
          ],
          [
           0.4,
           "rgb(254,224,144)"
          ],
          [
           0.5,
           "rgb(255,255,191)"
          ],
          [
           0.6,
           "rgb(224,243,248)"
          ],
          [
           0.7,
           "rgb(171,217,233)"
          ],
          [
           0.8,
           "rgb(116,173,209)"
          ],
          [
           0.9,
           "rgb(69,117,180)"
          ],
          [
           1,
           "rgb(49,54,149)"
          ]
         ],
         "type": "surface",
         "x": [
          0,
          1,
          2,
          3,
          4
         ],
         "y": [
          "x",
          "y",
          "z"
         ],
         "z": [
          [
           1,
           2,
           3,
           4,
           5
          ],
          [
           10,
           20,
           30,
           20,
           10
          ],
          [
           5,
           4,
           3,
           2,
           1
          ]
         ]
        }
       ],
       "layout": {
        "legend": {
         "bgcolor": "#F5F6F9",
         "font": {
          "color": "#4D5663"
         }
        },
        "paper_bgcolor": "#F5F6F9",
        "plot_bgcolor": "#F5F6F9",
        "template": {
         "data": {
          "bar": [
           {
            "error_x": {
             "color": "#2a3f5f"
            },
            "error_y": {
             "color": "#2a3f5f"
            },
            "marker": {
             "line": {
              "color": "#E5ECF6",
              "width": 0.5
             },
             "pattern": {
              "fillmode": "overlay",
              "size": 10,
              "solidity": 0.2
             }
            },
            "type": "bar"
           }
          ],
          "barpolar": [
           {
            "marker": {
             "line": {
              "color": "#E5ECF6",
              "width": 0.5
             },
             "pattern": {
              "fillmode": "overlay",
              "size": 10,
              "solidity": 0.2
             }
            },
            "type": "barpolar"
           }
          ],
          "carpet": [
           {
            "aaxis": {
             "endlinecolor": "#2a3f5f",
             "gridcolor": "white",
             "linecolor": "white",
             "minorgridcolor": "white",
             "startlinecolor": "#2a3f5f"
            },
            "baxis": {
             "endlinecolor": "#2a3f5f",
             "gridcolor": "white",
             "linecolor": "white",
             "minorgridcolor": "white",
             "startlinecolor": "#2a3f5f"
            },
            "type": "carpet"
           }
          ],
          "choropleth": [
           {
            "colorbar": {
             "outlinewidth": 0,
             "ticks": ""
            },
            "type": "choropleth"
           }
          ],
          "contour": [
           {
            "colorbar": {
             "outlinewidth": 0,
             "ticks": ""
            },
            "colorscale": [
             [
              0,
              "#0d0887"
             ],
             [
              0.1111111111111111,
              "#46039f"
             ],
             [
              0.2222222222222222,
              "#7201a8"
             ],
             [
              0.3333333333333333,
              "#9c179e"
             ],
             [
              0.4444444444444444,
              "#bd3786"
             ],
             [
              0.5555555555555556,
              "#d8576b"
             ],
             [
              0.6666666666666666,
              "#ed7953"
             ],
             [
              0.7777777777777778,
              "#fb9f3a"
             ],
             [
              0.8888888888888888,
              "#fdca26"
             ],
             [
              1,
              "#f0f921"
             ]
            ],
            "type": "contour"
           }
          ],
          "contourcarpet": [
           {
            "colorbar": {
             "outlinewidth": 0,
             "ticks": ""
            },
            "type": "contourcarpet"
           }
          ],
          "heatmap": [
           {
            "colorbar": {
             "outlinewidth": 0,
             "ticks": ""
            },
            "colorscale": [
             [
              0,
              "#0d0887"
             ],
             [
              0.1111111111111111,
              "#46039f"
             ],
             [
              0.2222222222222222,
              "#7201a8"
             ],
             [
              0.3333333333333333,
              "#9c179e"
             ],
             [
              0.4444444444444444,
              "#bd3786"
             ],
             [
              0.5555555555555556,
              "#d8576b"
             ],
             [
              0.6666666666666666,
              "#ed7953"
             ],
             [
              0.7777777777777778,
              "#fb9f3a"
             ],
             [
              0.8888888888888888,
              "#fdca26"
             ],
             [
              1,
              "#f0f921"
             ]
            ],
            "type": "heatmap"
           }
          ],
          "heatmapgl": [
           {
            "colorbar": {
             "outlinewidth": 0,
             "ticks": ""
            },
            "colorscale": [
             [
              0,
              "#0d0887"
             ],
             [
              0.1111111111111111,
              "#46039f"
             ],
             [
              0.2222222222222222,
              "#7201a8"
             ],
             [
              0.3333333333333333,
              "#9c179e"
             ],
             [
              0.4444444444444444,
              "#bd3786"
             ],
             [
              0.5555555555555556,
              "#d8576b"
             ],
             [
              0.6666666666666666,
              "#ed7953"
             ],
             [
              0.7777777777777778,
              "#fb9f3a"
             ],
             [
              0.8888888888888888,
              "#fdca26"
             ],
             [
              1,
              "#f0f921"
             ]
            ],
            "type": "heatmapgl"
           }
          ],
          "histogram": [
           {
            "marker": {
             "pattern": {
              "fillmode": "overlay",
              "size": 10,
              "solidity": 0.2
             }
            },
            "type": "histogram"
           }
          ],
          "histogram2d": [
           {
            "colorbar": {
             "outlinewidth": 0,
             "ticks": ""
            },
            "colorscale": [
             [
              0,
              "#0d0887"
             ],
             [
              0.1111111111111111,
              "#46039f"
             ],
             [
              0.2222222222222222,
              "#7201a8"
             ],
             [
              0.3333333333333333,
              "#9c179e"
             ],
             [
              0.4444444444444444,
              "#bd3786"
             ],
             [
              0.5555555555555556,
              "#d8576b"
             ],
             [
              0.6666666666666666,
              "#ed7953"
             ],
             [
              0.7777777777777778,
              "#fb9f3a"
             ],
             [
              0.8888888888888888,
              "#fdca26"
             ],
             [
              1,
              "#f0f921"
             ]
            ],
            "type": "histogram2d"
           }
          ],
          "histogram2dcontour": [
           {
            "colorbar": {
             "outlinewidth": 0,
             "ticks": ""
            },
            "colorscale": [
             [
              0,
              "#0d0887"
             ],
             [
              0.1111111111111111,
              "#46039f"
             ],
             [
              0.2222222222222222,
              "#7201a8"
             ],
             [
              0.3333333333333333,
              "#9c179e"
             ],
             [
              0.4444444444444444,
              "#bd3786"
             ],
             [
              0.5555555555555556,
              "#d8576b"
             ],
             [
              0.6666666666666666,
              "#ed7953"
             ],
             [
              0.7777777777777778,
              "#fb9f3a"
             ],
             [
              0.8888888888888888,
              "#fdca26"
             ],
             [
              1,
              "#f0f921"
             ]
            ],
            "type": "histogram2dcontour"
           }
          ],
          "mesh3d": [
           {
            "colorbar": {
             "outlinewidth": 0,
             "ticks": ""
            },
            "type": "mesh3d"
           }
          ],
          "parcoords": [
           {
            "line": {
             "colorbar": {
              "outlinewidth": 0,
              "ticks": ""
             }
            },
            "type": "parcoords"
           }
          ],
          "pie": [
           {
            "automargin": true,
            "type": "pie"
           }
          ],
          "scatter": [
           {
            "fillpattern": {
             "fillmode": "overlay",
             "size": 10,
             "solidity": 0.2
            },
            "type": "scatter"
           }
          ],
          "scatter3d": [
           {
            "line": {
             "colorbar": {
              "outlinewidth": 0,
              "ticks": ""
             }
            },
            "marker": {
             "colorbar": {
              "outlinewidth": 0,
              "ticks": ""
             }
            },
            "type": "scatter3d"
           }
          ],
          "scattercarpet": [
           {
            "marker": {
             "colorbar": {
              "outlinewidth": 0,
              "ticks": ""
             }
            },
            "type": "scattercarpet"
           }
          ],
          "scattergeo": [
           {
            "marker": {
             "colorbar": {
              "outlinewidth": 0,
              "ticks": ""
             }
            },
            "type": "scattergeo"
           }
          ],
          "scattergl": [
           {
            "marker": {
             "colorbar": {
              "outlinewidth": 0,
              "ticks": ""
             }
            },
            "type": "scattergl"
           }
          ],
          "scattermapbox": [
           {
            "marker": {
             "colorbar": {
              "outlinewidth": 0,
              "ticks": ""
             }
            },
            "type": "scattermapbox"
           }
          ],
          "scatterpolar": [
           {
            "marker": {
             "colorbar": {
              "outlinewidth": 0,
              "ticks": ""
             }
            },
            "type": "scatterpolar"
           }
          ],
          "scatterpolargl": [
           {
            "marker": {
             "colorbar": {
              "outlinewidth": 0,
              "ticks": ""
             }
            },
            "type": "scatterpolargl"
           }
          ],
          "scatterternary": [
           {
            "marker": {
             "colorbar": {
              "outlinewidth": 0,
              "ticks": ""
             }
            },
            "type": "scatterternary"
           }
          ],
          "surface": [
           {
            "colorbar": {
             "outlinewidth": 0,
             "ticks": ""
            },
            "colorscale": [
             [
              0,
              "#0d0887"
             ],
             [
              0.1111111111111111,
              "#46039f"
             ],
             [
              0.2222222222222222,
              "#7201a8"
             ],
             [
              0.3333333333333333,
              "#9c179e"
             ],
             [
              0.4444444444444444,
              "#bd3786"
             ],
             [
              0.5555555555555556,
              "#d8576b"
             ],
             [
              0.6666666666666666,
              "#ed7953"
             ],
             [
              0.7777777777777778,
              "#fb9f3a"
             ],
             [
              0.8888888888888888,
              "#fdca26"
             ],
             [
              1,
              "#f0f921"
             ]
            ],
            "type": "surface"
           }
          ],
          "table": [
           {
            "cells": {
             "fill": {
              "color": "#EBF0F8"
             },
             "line": {
              "color": "white"
             }
            },
            "header": {
             "fill": {
              "color": "#C8D4E3"
             },
             "line": {
              "color": "white"
             }
            },
            "type": "table"
           }
          ]
         },
         "layout": {
          "annotationdefaults": {
           "arrowcolor": "#2a3f5f",
           "arrowhead": 0,
           "arrowwidth": 1
          },
          "autotypenumbers": "strict",
          "coloraxis": {
           "colorbar": {
            "outlinewidth": 0,
            "ticks": ""
           }
          },
          "colorscale": {
           "diverging": [
            [
             0,
             "#8e0152"
            ],
            [
             0.1,
             "#c51b7d"
            ],
            [
             0.2,
             "#de77ae"
            ],
            [
             0.3,
             "#f1b6da"
            ],
            [
             0.4,
             "#fde0ef"
            ],
            [
             0.5,
             "#f7f7f7"
            ],
            [
             0.6,
             "#e6f5d0"
            ],
            [
             0.7,
             "#b8e186"
            ],
            [
             0.8,
             "#7fbc41"
            ],
            [
             0.9,
             "#4d9221"
            ],
            [
             1,
             "#276419"
            ]
           ],
           "sequential": [
            [
             0,
             "#0d0887"
            ],
            [
             0.1111111111111111,
             "#46039f"
            ],
            [
             0.2222222222222222,
             "#7201a8"
            ],
            [
             0.3333333333333333,
             "#9c179e"
            ],
            [
             0.4444444444444444,
             "#bd3786"
            ],
            [
             0.5555555555555556,
             "#d8576b"
            ],
            [
             0.6666666666666666,
             "#ed7953"
            ],
            [
             0.7777777777777778,
             "#fb9f3a"
            ],
            [
             0.8888888888888888,
             "#fdca26"
            ],
            [
             1,
             "#f0f921"
            ]
           ],
           "sequentialminus": [
            [
             0,
             "#0d0887"
            ],
            [
             0.1111111111111111,
             "#46039f"
            ],
            [
             0.2222222222222222,
             "#7201a8"
            ],
            [
             0.3333333333333333,
             "#9c179e"
            ],
            [
             0.4444444444444444,
             "#bd3786"
            ],
            [
             0.5555555555555556,
             "#d8576b"
            ],
            [
             0.6666666666666666,
             "#ed7953"
            ],
            [
             0.7777777777777778,
             "#fb9f3a"
            ],
            [
             0.8888888888888888,
             "#fdca26"
            ],
            [
             1,
             "#f0f921"
            ]
           ]
          },
          "colorway": [
           "#636efa",
           "#EF553B",
           "#00cc96",
           "#ab63fa",
           "#FFA15A",
           "#19d3f3",
           "#FF6692",
           "#B6E880",
           "#FF97FF",
           "#FECB52"
          ],
          "font": {
           "color": "#2a3f5f"
          },
          "geo": {
           "bgcolor": "white",
           "lakecolor": "white",
           "landcolor": "#E5ECF6",
           "showlakes": true,
           "showland": true,
           "subunitcolor": "white"
          },
          "hoverlabel": {
           "align": "left"
          },
          "hovermode": "closest",
          "mapbox": {
           "style": "light"
          },
          "paper_bgcolor": "white",
          "plot_bgcolor": "#E5ECF6",
          "polar": {
           "angularaxis": {
            "gridcolor": "white",
            "linecolor": "white",
            "ticks": ""
           },
           "bgcolor": "#E5ECF6",
           "radialaxis": {
            "gridcolor": "white",
            "linecolor": "white",
            "ticks": ""
           }
          },
          "scene": {
           "xaxis": {
            "backgroundcolor": "#E5ECF6",
            "gridcolor": "white",
            "gridwidth": 2,
            "linecolor": "white",
            "showbackground": true,
            "ticks": "",
            "zerolinecolor": "white"
           },
           "yaxis": {
            "backgroundcolor": "#E5ECF6",
            "gridcolor": "white",
            "gridwidth": 2,
            "linecolor": "white",
            "showbackground": true,
            "ticks": "",
            "zerolinecolor": "white"
           },
           "zaxis": {
            "backgroundcolor": "#E5ECF6",
            "gridcolor": "white",
            "gridwidth": 2,
            "linecolor": "white",
            "showbackground": true,
            "ticks": "",
            "zerolinecolor": "white"
           }
          },
          "shapedefaults": {
           "line": {
            "color": "#2a3f5f"
           }
          },
          "ternary": {
           "aaxis": {
            "gridcolor": "white",
            "linecolor": "white",
            "ticks": ""
           },
           "baxis": {
            "gridcolor": "white",
            "linecolor": "white",
            "ticks": ""
           },
           "bgcolor": "#E5ECF6",
           "caxis": {
            "gridcolor": "white",
            "linecolor": "white",
            "ticks": ""
           }
          },
          "title": {
           "x": 0.05
          },
          "xaxis": {
           "automargin": true,
           "gridcolor": "white",
           "linecolor": "white",
           "ticks": "",
           "title": {
            "standoff": 15
           },
           "zerolinecolor": "white",
           "zerolinewidth": 2
          },
          "yaxis": {
           "automargin": true,
           "gridcolor": "white",
           "linecolor": "white",
           "ticks": "",
           "title": {
            "standoff": 15
           },
           "zerolinecolor": "white",
           "zerolinewidth": 2
          }
         }
        },
        "title": {
         "font": {
          "color": "#4D5663"
         }
        },
        "xaxis": {
         "gridcolor": "#E1E5ED",
         "showgrid": true,
         "tickfont": {
          "color": "#4D5663"
         },
         "title": {
          "font": {
           "color": "#4D5663"
          },
          "text": ""
         },
         "zerolinecolor": "#E1E5ED"
        },
        "yaxis": {
         "gridcolor": "#E1E5ED",
         "showgrid": true,
         "tickfont": {
          "color": "#4D5663"
         },
         "title": {
          "font": {
           "color": "#4D5663"
          },
          "text": ""
         },
         "zerolinecolor": "#E1E5ED"
        }
       }
      },
      "text/html": [
       "<div>                            <div id=\"36edd6bd-94ae-4b53-b306-4c02cf75be9a\" class=\"plotly-graph-div\" style=\"height:525px; width:100%;\"></div>            <script type=\"text/javascript\">                require([\"plotly\"], function(Plotly) {                    window.PLOTLYENV=window.PLOTLYENV || {};\n",
       "                    window.PLOTLYENV.BASE_URL='https://plot.ly';                                    if (document.getElementById(\"36edd6bd-94ae-4b53-b306-4c02cf75be9a\")) {                    Plotly.newPlot(                        \"36edd6bd-94ae-4b53-b306-4c02cf75be9a\",                        [{\"colorscale\":[[0.0,\"rgb(165,0,38)\"],[0.1,\"rgb(215,48,39)\"],[0.2,\"rgb(244,109,67)\"],[0.3,\"rgb(253,174,97)\"],[0.4,\"rgb(254,224,144)\"],[0.5,\"rgb(255,255,191)\"],[0.6,\"rgb(224,243,248)\"],[0.7,\"rgb(171,217,233)\"],[0.8,\"rgb(116,173,209)\"],[0.9,\"rgb(69,117,180)\"],[1.0,\"rgb(49,54,149)\"]],\"x\":[0,1,2,3,4],\"y\":[\"x\",\"y\",\"z\"],\"z\":[[1,2,3,4,5],[10,20,30,20,10],[5,4,3,2,1]],\"type\":\"surface\"}],                        {\"legend\":{\"bgcolor\":\"#F5F6F9\",\"font\":{\"color\":\"#4D5663\"}},\"paper_bgcolor\":\"#F5F6F9\",\"plot_bgcolor\":\"#F5F6F9\",\"template\":{\"data\":{\"barpolar\":[{\"marker\":{\"line\":{\"color\":\"#E5ECF6\",\"width\":0.5},\"pattern\":{\"fillmode\":\"overlay\",\"size\":10,\"solidity\":0.2}},\"type\":\"barpolar\"}],\"bar\":[{\"error_x\":{\"color\":\"#2a3f5f\"},\"error_y\":{\"color\":\"#2a3f5f\"},\"marker\":{\"line\":{\"color\":\"#E5ECF6\",\"width\":0.5},\"pattern\":{\"fillmode\":\"overlay\",\"size\":10,\"solidity\":0.2}},\"type\":\"bar\"}],\"carpet\":[{\"aaxis\":{\"endlinecolor\":\"#2a3f5f\",\"gridcolor\":\"white\",\"linecolor\":\"white\",\"minorgridcolor\":\"white\",\"startlinecolor\":\"#2a3f5f\"},\"baxis\":{\"endlinecolor\":\"#2a3f5f\",\"gridcolor\":\"white\",\"linecolor\":\"white\",\"minorgridcolor\":\"white\",\"startlinecolor\":\"#2a3f5f\"},\"type\":\"carpet\"}],\"choropleth\":[{\"colorbar\":{\"outlinewidth\":0,\"ticks\":\"\"},\"type\":\"choropleth\"}],\"contourcarpet\":[{\"colorbar\":{\"outlinewidth\":0,\"ticks\":\"\"},\"type\":\"contourcarpet\"}],\"contour\":[{\"colorbar\":{\"outlinewidth\":0,\"ticks\":\"\"},\"colorscale\":[[0.0,\"#0d0887\"],[0.1111111111111111,\"#46039f\"],[0.2222222222222222,\"#7201a8\"],[0.3333333333333333,\"#9c179e\"],[0.4444444444444444,\"#bd3786\"],[0.5555555555555556,\"#d8576b\"],[0.6666666666666666,\"#ed7953\"],[0.7777777777777778,\"#fb9f3a\"],[0.8888888888888888,\"#fdca26\"],[1.0,\"#f0f921\"]],\"type\":\"contour\"}],\"heatmapgl\":[{\"colorbar\":{\"outlinewidth\":0,\"ticks\":\"\"},\"colorscale\":[[0.0,\"#0d0887\"],[0.1111111111111111,\"#46039f\"],[0.2222222222222222,\"#7201a8\"],[0.3333333333333333,\"#9c179e\"],[0.4444444444444444,\"#bd3786\"],[0.5555555555555556,\"#d8576b\"],[0.6666666666666666,\"#ed7953\"],[0.7777777777777778,\"#fb9f3a\"],[0.8888888888888888,\"#fdca26\"],[1.0,\"#f0f921\"]],\"type\":\"heatmapgl\"}],\"heatmap\":[{\"colorbar\":{\"outlinewidth\":0,\"ticks\":\"\"},\"colorscale\":[[0.0,\"#0d0887\"],[0.1111111111111111,\"#46039f\"],[0.2222222222222222,\"#7201a8\"],[0.3333333333333333,\"#9c179e\"],[0.4444444444444444,\"#bd3786\"],[0.5555555555555556,\"#d8576b\"],[0.6666666666666666,\"#ed7953\"],[0.7777777777777778,\"#fb9f3a\"],[0.8888888888888888,\"#fdca26\"],[1.0,\"#f0f921\"]],\"type\":\"heatmap\"}],\"histogram2dcontour\":[{\"colorbar\":{\"outlinewidth\":0,\"ticks\":\"\"},\"colorscale\":[[0.0,\"#0d0887\"],[0.1111111111111111,\"#46039f\"],[0.2222222222222222,\"#7201a8\"],[0.3333333333333333,\"#9c179e\"],[0.4444444444444444,\"#bd3786\"],[0.5555555555555556,\"#d8576b\"],[0.6666666666666666,\"#ed7953\"],[0.7777777777777778,\"#fb9f3a\"],[0.8888888888888888,\"#fdca26\"],[1.0,\"#f0f921\"]],\"type\":\"histogram2dcontour\"}],\"histogram2d\":[{\"colorbar\":{\"outlinewidth\":0,\"ticks\":\"\"},\"colorscale\":[[0.0,\"#0d0887\"],[0.1111111111111111,\"#46039f\"],[0.2222222222222222,\"#7201a8\"],[0.3333333333333333,\"#9c179e\"],[0.4444444444444444,\"#bd3786\"],[0.5555555555555556,\"#d8576b\"],[0.6666666666666666,\"#ed7953\"],[0.7777777777777778,\"#fb9f3a\"],[0.8888888888888888,\"#fdca26\"],[1.0,\"#f0f921\"]],\"type\":\"histogram2d\"}],\"histogram\":[{\"marker\":{\"pattern\":{\"fillmode\":\"overlay\",\"size\":10,\"solidity\":0.2}},\"type\":\"histogram\"}],\"mesh3d\":[{\"colorbar\":{\"outlinewidth\":0,\"ticks\":\"\"},\"type\":\"mesh3d\"}],\"parcoords\":[{\"line\":{\"colorbar\":{\"outlinewidth\":0,\"ticks\":\"\"}},\"type\":\"parcoords\"}],\"pie\":[{\"automargin\":true,\"type\":\"pie\"}],\"scatter3d\":[{\"line\":{\"colorbar\":{\"outlinewidth\":0,\"ticks\":\"\"}},\"marker\":{\"colorbar\":{\"outlinewidth\":0,\"ticks\":\"\"}},\"type\":\"scatter3d\"}],\"scattercarpet\":[{\"marker\":{\"colorbar\":{\"outlinewidth\":0,\"ticks\":\"\"}},\"type\":\"scattercarpet\"}],\"scattergeo\":[{\"marker\":{\"colorbar\":{\"outlinewidth\":0,\"ticks\":\"\"}},\"type\":\"scattergeo\"}],\"scattergl\":[{\"marker\":{\"colorbar\":{\"outlinewidth\":0,\"ticks\":\"\"}},\"type\":\"scattergl\"}],\"scattermapbox\":[{\"marker\":{\"colorbar\":{\"outlinewidth\":0,\"ticks\":\"\"}},\"type\":\"scattermapbox\"}],\"scatterpolargl\":[{\"marker\":{\"colorbar\":{\"outlinewidth\":0,\"ticks\":\"\"}},\"type\":\"scatterpolargl\"}],\"scatterpolar\":[{\"marker\":{\"colorbar\":{\"outlinewidth\":0,\"ticks\":\"\"}},\"type\":\"scatterpolar\"}],\"scatter\":[{\"fillpattern\":{\"fillmode\":\"overlay\",\"size\":10,\"solidity\":0.2},\"type\":\"scatter\"}],\"scatterternary\":[{\"marker\":{\"colorbar\":{\"outlinewidth\":0,\"ticks\":\"\"}},\"type\":\"scatterternary\"}],\"surface\":[{\"colorbar\":{\"outlinewidth\":0,\"ticks\":\"\"},\"colorscale\":[[0.0,\"#0d0887\"],[0.1111111111111111,\"#46039f\"],[0.2222222222222222,\"#7201a8\"],[0.3333333333333333,\"#9c179e\"],[0.4444444444444444,\"#bd3786\"],[0.5555555555555556,\"#d8576b\"],[0.6666666666666666,\"#ed7953\"],[0.7777777777777778,\"#fb9f3a\"],[0.8888888888888888,\"#fdca26\"],[1.0,\"#f0f921\"]],\"type\":\"surface\"}],\"table\":[{\"cells\":{\"fill\":{\"color\":\"#EBF0F8\"},\"line\":{\"color\":\"white\"}},\"header\":{\"fill\":{\"color\":\"#C8D4E3\"},\"line\":{\"color\":\"white\"}},\"type\":\"table\"}]},\"layout\":{\"annotationdefaults\":{\"arrowcolor\":\"#2a3f5f\",\"arrowhead\":0,\"arrowwidth\":1},\"autotypenumbers\":\"strict\",\"coloraxis\":{\"colorbar\":{\"outlinewidth\":0,\"ticks\":\"\"}},\"colorscale\":{\"diverging\":[[0,\"#8e0152\"],[0.1,\"#c51b7d\"],[0.2,\"#de77ae\"],[0.3,\"#f1b6da\"],[0.4,\"#fde0ef\"],[0.5,\"#f7f7f7\"],[0.6,\"#e6f5d0\"],[0.7,\"#b8e186\"],[0.8,\"#7fbc41\"],[0.9,\"#4d9221\"],[1,\"#276419\"]],\"sequential\":[[0.0,\"#0d0887\"],[0.1111111111111111,\"#46039f\"],[0.2222222222222222,\"#7201a8\"],[0.3333333333333333,\"#9c179e\"],[0.4444444444444444,\"#bd3786\"],[0.5555555555555556,\"#d8576b\"],[0.6666666666666666,\"#ed7953\"],[0.7777777777777778,\"#fb9f3a\"],[0.8888888888888888,\"#fdca26\"],[1.0,\"#f0f921\"]],\"sequentialminus\":[[0.0,\"#0d0887\"],[0.1111111111111111,\"#46039f\"],[0.2222222222222222,\"#7201a8\"],[0.3333333333333333,\"#9c179e\"],[0.4444444444444444,\"#bd3786\"],[0.5555555555555556,\"#d8576b\"],[0.6666666666666666,\"#ed7953\"],[0.7777777777777778,\"#fb9f3a\"],[0.8888888888888888,\"#fdca26\"],[1.0,\"#f0f921\"]]},\"colorway\":[\"#636efa\",\"#EF553B\",\"#00cc96\",\"#ab63fa\",\"#FFA15A\",\"#19d3f3\",\"#FF6692\",\"#B6E880\",\"#FF97FF\",\"#FECB52\"],\"font\":{\"color\":\"#2a3f5f\"},\"geo\":{\"bgcolor\":\"white\",\"lakecolor\":\"white\",\"landcolor\":\"#E5ECF6\",\"showlakes\":true,\"showland\":true,\"subunitcolor\":\"white\"},\"hoverlabel\":{\"align\":\"left\"},\"hovermode\":\"closest\",\"mapbox\":{\"style\":\"light\"},\"paper_bgcolor\":\"white\",\"plot_bgcolor\":\"#E5ECF6\",\"polar\":{\"angularaxis\":{\"gridcolor\":\"white\",\"linecolor\":\"white\",\"ticks\":\"\"},\"bgcolor\":\"#E5ECF6\",\"radialaxis\":{\"gridcolor\":\"white\",\"linecolor\":\"white\",\"ticks\":\"\"}},\"scene\":{\"xaxis\":{\"backgroundcolor\":\"#E5ECF6\",\"gridcolor\":\"white\",\"gridwidth\":2,\"linecolor\":\"white\",\"showbackground\":true,\"ticks\":\"\",\"zerolinecolor\":\"white\"},\"yaxis\":{\"backgroundcolor\":\"#E5ECF6\",\"gridcolor\":\"white\",\"gridwidth\":2,\"linecolor\":\"white\",\"showbackground\":true,\"ticks\":\"\",\"zerolinecolor\":\"white\"},\"zaxis\":{\"backgroundcolor\":\"#E5ECF6\",\"gridcolor\":\"white\",\"gridwidth\":2,\"linecolor\":\"white\",\"showbackground\":true,\"ticks\":\"\",\"zerolinecolor\":\"white\"}},\"shapedefaults\":{\"line\":{\"color\":\"#2a3f5f\"}},\"ternary\":{\"aaxis\":{\"gridcolor\":\"white\",\"linecolor\":\"white\",\"ticks\":\"\"},\"baxis\":{\"gridcolor\":\"white\",\"linecolor\":\"white\",\"ticks\":\"\"},\"bgcolor\":\"#E5ECF6\",\"caxis\":{\"gridcolor\":\"white\",\"linecolor\":\"white\",\"ticks\":\"\"}},\"title\":{\"x\":0.05},\"xaxis\":{\"automargin\":true,\"gridcolor\":\"white\",\"linecolor\":\"white\",\"ticks\":\"\",\"title\":{\"standoff\":15},\"zerolinecolor\":\"white\",\"zerolinewidth\":2},\"yaxis\":{\"automargin\":true,\"gridcolor\":\"white\",\"linecolor\":\"white\",\"ticks\":\"\",\"title\":{\"standoff\":15},\"zerolinecolor\":\"white\",\"zerolinewidth\":2}}},\"title\":{\"font\":{\"color\":\"#4D5663\"}},\"xaxis\":{\"gridcolor\":\"#E1E5ED\",\"showgrid\":true,\"tickfont\":{\"color\":\"#4D5663\"},\"title\":{\"font\":{\"color\":\"#4D5663\"},\"text\":\"\"},\"zerolinecolor\":\"#E1E5ED\"},\"yaxis\":{\"gridcolor\":\"#E1E5ED\",\"showgrid\":true,\"tickfont\":{\"color\":\"#4D5663\"},\"title\":{\"font\":{\"color\":\"#4D5663\"},\"text\":\"\"},\"zerolinecolor\":\"#E1E5ED\"}},                        {\"showLink\": true, \"linkText\": \"Export to plot.ly\", \"plotlyServerURL\": \"https://plot.ly\", \"responsive\": true}                    ).then(function(){\n",
       "                            \n",
       "var gd = document.getElementById('36edd6bd-94ae-4b53-b306-4c02cf75be9a');\n",
       "var x = new MutationObserver(function (mutations, observer) {{\n",
       "        var display = window.getComputedStyle(gd).display;\n",
       "        if (!display || display === 'none') {{\n",
       "            console.log([gd, 'removed!']);\n",
       "            Plotly.purge(gd);\n",
       "            observer.disconnect();\n",
       "        }}\n",
       "}});\n",
       "\n",
       "// Listen for the removal of the full notebook cells\n",
       "var notebookContainer = gd.closest('#notebook-container');\n",
       "if (notebookContainer) {{\n",
       "    x.observe(notebookContainer, {childList: true});\n",
       "}}\n",
       "\n",
       "// Listen for the clearing of the current output cell\n",
       "var outputEl = gd.closest('.output');\n",
       "if (outputEl) {{\n",
       "    x.observe(outputEl, {childList: true});\n",
       "}}\n",
       "\n",
       "                        })                };                });            </script>        </div>"
      ]
     },
     "metadata": {},
     "output_type": "display_data"
    }
   ],
   "source": [
    "df3 = pd.DataFrame({'x':[1, 2, 3, 4, 5], 'y':[10, 20, 30, 20, 10], 'z':[5, 4, 3, 2, 1]})\n",
    "df3.iplot(kind='surface', colorscale='rdylbu')"
   ]
  },
  {
   "cell_type": "markdown",
   "metadata": {},
   "source": [
    "+ `histogram`"
   ]
  },
  {
   "cell_type": "code",
   "execution_count": 27,
   "metadata": {},
   "outputs": [
    {
     "data": {
      "application/vnd.plotly.v1+json": {
       "config": {
        "linkText": "Export to plot.ly",
        "plotlyServerURL": "https://plot.ly",
        "showLink": true
       },
       "data": [
        {
         "histfunc": "count",
         "histnorm": "",
         "marker": {
          "color": "rgba(255, 153, 51, 1.0)",
          "line": {
           "color": "#4D5663",
           "width": 1.3
          }
         },
         "name": "A",
         "nbinsx": 25,
         "opacity": 0.8,
         "orientation": "v",
         "type": "histogram",
         "x": [
          -1.8385733383142502,
          0.8672457158580731,
          -1.6913759918836615,
          0.5490542772053529,
          -2.0448630397110024,
          -0.436039090217473,
          0.640548445743603,
          -1.7077325737917555,
          -1.6524174520551473,
          0.0007907560837533417,
          -0.25491887646539024,
          -1.1446104505452164,
          -0.8475481744004824,
          -0.8161181953930615,
          0.5861143155452699,
          -0.9317973692372261,
          1.3502398786147136,
          1.758118402606856,
          -1.1285332734978477,
          0.2585914173805949,
          1.9798015362947452,
          -0.30833965880411174,
          -1.0916955750299806,
          -0.057158385929394206,
          -1.0173606571226235,
          -0.8609220665567381,
          0.34741981219265133,
          -0.159358858867689,
          -0.43678412656387205,
          1.0627399323565616,
          -0.46706211244850665,
          -1.0427327308265124,
          -0.805693324842712,
          1.2770479544421895,
          0.32725761362015926,
          -0.568339510681153,
          -0.17447432698006723,
          -0.4573707756151931,
          0.7606294655707999,
          -0.7617983457284897,
          -0.633282488675788,
          0.9728067392089667,
          -0.08487630361962098,
          0.3451327034103059,
          -0.6434382015122148,
          -0.04919239099224115,
          -0.9798565186308319,
          1.3434944279834213,
          -0.09167130080686495,
          1.0280892123070835,
          -0.3727016281831937,
          0.205542353970833,
          0.49831900690235065,
          1.7667036512937528,
          0.06524931756953356,
          -1.1670797528842665,
          1.4913743607172376,
          0.3324568668491796,
          -0.15963192960528763,
          0.8849002460549106,
          -0.03419324271954416,
          0.2147022298380133,
          0.28974036454646246,
          -0.5798551719469845,
          0.42251601005333417,
          1.3154237088128184,
          1.0678775274202026,
          -0.715758017669985,
          -0.3140111688724749,
          -0.3734547451342669,
          0.4587328215325148,
          1.612073033741679,
          0.47558226142986987,
          -0.09115866157864358,
          0.6420263742551169,
          1.6629991156109898,
          -0.041887956096666505,
          0.4026327112865466,
          -0.7230102257213117,
          -0.13806081513002783,
          -1.9263259804307988,
          0.14389781394832898,
          -0.39106888558889374,
          -1.112691564259992,
          -0.41206708388351254,
          -1.5152032295504612,
          -0.32538019360859577,
          -0.39310628515137575,
          0.8596315300656956,
          -1.1162033172974786,
          -0.16595682132475104,
          -0.5054498229079003,
          0.5803298130870016,
          0.5865017276164397,
          -0.7746419487800955,
          0.4457882182331863,
          0.8512406554100072,
          -1.2480430036217465,
          -0.7328490073246734,
          0.4212693260620615
         ]
        }
       ],
       "layout": {
        "barmode": "overlay",
        "legend": {
         "bgcolor": "#F5F6F9",
         "font": {
          "color": "#4D5663"
         }
        },
        "paper_bgcolor": "#F5F6F9",
        "plot_bgcolor": "#F5F6F9",
        "template": {
         "data": {
          "bar": [
           {
            "error_x": {
             "color": "#2a3f5f"
            },
            "error_y": {
             "color": "#2a3f5f"
            },
            "marker": {
             "line": {
              "color": "#E5ECF6",
              "width": 0.5
             },
             "pattern": {
              "fillmode": "overlay",
              "size": 10,
              "solidity": 0.2
             }
            },
            "type": "bar"
           }
          ],
          "barpolar": [
           {
            "marker": {
             "line": {
              "color": "#E5ECF6",
              "width": 0.5
             },
             "pattern": {
              "fillmode": "overlay",
              "size": 10,
              "solidity": 0.2
             }
            },
            "type": "barpolar"
           }
          ],
          "carpet": [
           {
            "aaxis": {
             "endlinecolor": "#2a3f5f",
             "gridcolor": "white",
             "linecolor": "white",
             "minorgridcolor": "white",
             "startlinecolor": "#2a3f5f"
            },
            "baxis": {
             "endlinecolor": "#2a3f5f",
             "gridcolor": "white",
             "linecolor": "white",
             "minorgridcolor": "white",
             "startlinecolor": "#2a3f5f"
            },
            "type": "carpet"
           }
          ],
          "choropleth": [
           {
            "colorbar": {
             "outlinewidth": 0,
             "ticks": ""
            },
            "type": "choropleth"
           }
          ],
          "contour": [
           {
            "colorbar": {
             "outlinewidth": 0,
             "ticks": ""
            },
            "colorscale": [
             [
              0,
              "#0d0887"
             ],
             [
              0.1111111111111111,
              "#46039f"
             ],
             [
              0.2222222222222222,
              "#7201a8"
             ],
             [
              0.3333333333333333,
              "#9c179e"
             ],
             [
              0.4444444444444444,
              "#bd3786"
             ],
             [
              0.5555555555555556,
              "#d8576b"
             ],
             [
              0.6666666666666666,
              "#ed7953"
             ],
             [
              0.7777777777777778,
              "#fb9f3a"
             ],
             [
              0.8888888888888888,
              "#fdca26"
             ],
             [
              1,
              "#f0f921"
             ]
            ],
            "type": "contour"
           }
          ],
          "contourcarpet": [
           {
            "colorbar": {
             "outlinewidth": 0,
             "ticks": ""
            },
            "type": "contourcarpet"
           }
          ],
          "heatmap": [
           {
            "colorbar": {
             "outlinewidth": 0,
             "ticks": ""
            },
            "colorscale": [
             [
              0,
              "#0d0887"
             ],
             [
              0.1111111111111111,
              "#46039f"
             ],
             [
              0.2222222222222222,
              "#7201a8"
             ],
             [
              0.3333333333333333,
              "#9c179e"
             ],
             [
              0.4444444444444444,
              "#bd3786"
             ],
             [
              0.5555555555555556,
              "#d8576b"
             ],
             [
              0.6666666666666666,
              "#ed7953"
             ],
             [
              0.7777777777777778,
              "#fb9f3a"
             ],
             [
              0.8888888888888888,
              "#fdca26"
             ],
             [
              1,
              "#f0f921"
             ]
            ],
            "type": "heatmap"
           }
          ],
          "heatmapgl": [
           {
            "colorbar": {
             "outlinewidth": 0,
             "ticks": ""
            },
            "colorscale": [
             [
              0,
              "#0d0887"
             ],
             [
              0.1111111111111111,
              "#46039f"
             ],
             [
              0.2222222222222222,
              "#7201a8"
             ],
             [
              0.3333333333333333,
              "#9c179e"
             ],
             [
              0.4444444444444444,
              "#bd3786"
             ],
             [
              0.5555555555555556,
              "#d8576b"
             ],
             [
              0.6666666666666666,
              "#ed7953"
             ],
             [
              0.7777777777777778,
              "#fb9f3a"
             ],
             [
              0.8888888888888888,
              "#fdca26"
             ],
             [
              1,
              "#f0f921"
             ]
            ],
            "type": "heatmapgl"
           }
          ],
          "histogram": [
           {
            "marker": {
             "pattern": {
              "fillmode": "overlay",
              "size": 10,
              "solidity": 0.2
             }
            },
            "type": "histogram"
           }
          ],
          "histogram2d": [
           {
            "colorbar": {
             "outlinewidth": 0,
             "ticks": ""
            },
            "colorscale": [
             [
              0,
              "#0d0887"
             ],
             [
              0.1111111111111111,
              "#46039f"
             ],
             [
              0.2222222222222222,
              "#7201a8"
             ],
             [
              0.3333333333333333,
              "#9c179e"
             ],
             [
              0.4444444444444444,
              "#bd3786"
             ],
             [
              0.5555555555555556,
              "#d8576b"
             ],
             [
              0.6666666666666666,
              "#ed7953"
             ],
             [
              0.7777777777777778,
              "#fb9f3a"
             ],
             [
              0.8888888888888888,
              "#fdca26"
             ],
             [
              1,
              "#f0f921"
             ]
            ],
            "type": "histogram2d"
           }
          ],
          "histogram2dcontour": [
           {
            "colorbar": {
             "outlinewidth": 0,
             "ticks": ""
            },
            "colorscale": [
             [
              0,
              "#0d0887"
             ],
             [
              0.1111111111111111,
              "#46039f"
             ],
             [
              0.2222222222222222,
              "#7201a8"
             ],
             [
              0.3333333333333333,
              "#9c179e"
             ],
             [
              0.4444444444444444,
              "#bd3786"
             ],
             [
              0.5555555555555556,
              "#d8576b"
             ],
             [
              0.6666666666666666,
              "#ed7953"
             ],
             [
              0.7777777777777778,
              "#fb9f3a"
             ],
             [
              0.8888888888888888,
              "#fdca26"
             ],
             [
              1,
              "#f0f921"
             ]
            ],
            "type": "histogram2dcontour"
           }
          ],
          "mesh3d": [
           {
            "colorbar": {
             "outlinewidth": 0,
             "ticks": ""
            },
            "type": "mesh3d"
           }
          ],
          "parcoords": [
           {
            "line": {
             "colorbar": {
              "outlinewidth": 0,
              "ticks": ""
             }
            },
            "type": "parcoords"
           }
          ],
          "pie": [
           {
            "automargin": true,
            "type": "pie"
           }
          ],
          "scatter": [
           {
            "fillpattern": {
             "fillmode": "overlay",
             "size": 10,
             "solidity": 0.2
            },
            "type": "scatter"
           }
          ],
          "scatter3d": [
           {
            "line": {
             "colorbar": {
              "outlinewidth": 0,
              "ticks": ""
             }
            },
            "marker": {
             "colorbar": {
              "outlinewidth": 0,
              "ticks": ""
             }
            },
            "type": "scatter3d"
           }
          ],
          "scattercarpet": [
           {
            "marker": {
             "colorbar": {
              "outlinewidth": 0,
              "ticks": ""
             }
            },
            "type": "scattercarpet"
           }
          ],
          "scattergeo": [
           {
            "marker": {
             "colorbar": {
              "outlinewidth": 0,
              "ticks": ""
             }
            },
            "type": "scattergeo"
           }
          ],
          "scattergl": [
           {
            "marker": {
             "colorbar": {
              "outlinewidth": 0,
              "ticks": ""
             }
            },
            "type": "scattergl"
           }
          ],
          "scattermapbox": [
           {
            "marker": {
             "colorbar": {
              "outlinewidth": 0,
              "ticks": ""
             }
            },
            "type": "scattermapbox"
           }
          ],
          "scatterpolar": [
           {
            "marker": {
             "colorbar": {
              "outlinewidth": 0,
              "ticks": ""
             }
            },
            "type": "scatterpolar"
           }
          ],
          "scatterpolargl": [
           {
            "marker": {
             "colorbar": {
              "outlinewidth": 0,
              "ticks": ""
             }
            },
            "type": "scatterpolargl"
           }
          ],
          "scatterternary": [
           {
            "marker": {
             "colorbar": {
              "outlinewidth": 0,
              "ticks": ""
             }
            },
            "type": "scatterternary"
           }
          ],
          "surface": [
           {
            "colorbar": {
             "outlinewidth": 0,
             "ticks": ""
            },
            "colorscale": [
             [
              0,
              "#0d0887"
             ],
             [
              0.1111111111111111,
              "#46039f"
             ],
             [
              0.2222222222222222,
              "#7201a8"
             ],
             [
              0.3333333333333333,
              "#9c179e"
             ],
             [
              0.4444444444444444,
              "#bd3786"
             ],
             [
              0.5555555555555556,
              "#d8576b"
             ],
             [
              0.6666666666666666,
              "#ed7953"
             ],
             [
              0.7777777777777778,
              "#fb9f3a"
             ],
             [
              0.8888888888888888,
              "#fdca26"
             ],
             [
              1,
              "#f0f921"
             ]
            ],
            "type": "surface"
           }
          ],
          "table": [
           {
            "cells": {
             "fill": {
              "color": "#EBF0F8"
             },
             "line": {
              "color": "white"
             }
            },
            "header": {
             "fill": {
              "color": "#C8D4E3"
             },
             "line": {
              "color": "white"
             }
            },
            "type": "table"
           }
          ]
         },
         "layout": {
          "annotationdefaults": {
           "arrowcolor": "#2a3f5f",
           "arrowhead": 0,
           "arrowwidth": 1
          },
          "autotypenumbers": "strict",
          "coloraxis": {
           "colorbar": {
            "outlinewidth": 0,
            "ticks": ""
           }
          },
          "colorscale": {
           "diverging": [
            [
             0,
             "#8e0152"
            ],
            [
             0.1,
             "#c51b7d"
            ],
            [
             0.2,
             "#de77ae"
            ],
            [
             0.3,
             "#f1b6da"
            ],
            [
             0.4,
             "#fde0ef"
            ],
            [
             0.5,
             "#f7f7f7"
            ],
            [
             0.6,
             "#e6f5d0"
            ],
            [
             0.7,
             "#b8e186"
            ],
            [
             0.8,
             "#7fbc41"
            ],
            [
             0.9,
             "#4d9221"
            ],
            [
             1,
             "#276419"
            ]
           ],
           "sequential": [
            [
             0,
             "#0d0887"
            ],
            [
             0.1111111111111111,
             "#46039f"
            ],
            [
             0.2222222222222222,
             "#7201a8"
            ],
            [
             0.3333333333333333,
             "#9c179e"
            ],
            [
             0.4444444444444444,
             "#bd3786"
            ],
            [
             0.5555555555555556,
             "#d8576b"
            ],
            [
             0.6666666666666666,
             "#ed7953"
            ],
            [
             0.7777777777777778,
             "#fb9f3a"
            ],
            [
             0.8888888888888888,
             "#fdca26"
            ],
            [
             1,
             "#f0f921"
            ]
           ],
           "sequentialminus": [
            [
             0,
             "#0d0887"
            ],
            [
             0.1111111111111111,
             "#46039f"
            ],
            [
             0.2222222222222222,
             "#7201a8"
            ],
            [
             0.3333333333333333,
             "#9c179e"
            ],
            [
             0.4444444444444444,
             "#bd3786"
            ],
            [
             0.5555555555555556,
             "#d8576b"
            ],
            [
             0.6666666666666666,
             "#ed7953"
            ],
            [
             0.7777777777777778,
             "#fb9f3a"
            ],
            [
             0.8888888888888888,
             "#fdca26"
            ],
            [
             1,
             "#f0f921"
            ]
           ]
          },
          "colorway": [
           "#636efa",
           "#EF553B",
           "#00cc96",
           "#ab63fa",
           "#FFA15A",
           "#19d3f3",
           "#FF6692",
           "#B6E880",
           "#FF97FF",
           "#FECB52"
          ],
          "font": {
           "color": "#2a3f5f"
          },
          "geo": {
           "bgcolor": "white",
           "lakecolor": "white",
           "landcolor": "#E5ECF6",
           "showlakes": true,
           "showland": true,
           "subunitcolor": "white"
          },
          "hoverlabel": {
           "align": "left"
          },
          "hovermode": "closest",
          "mapbox": {
           "style": "light"
          },
          "paper_bgcolor": "white",
          "plot_bgcolor": "#E5ECF6",
          "polar": {
           "angularaxis": {
            "gridcolor": "white",
            "linecolor": "white",
            "ticks": ""
           },
           "bgcolor": "#E5ECF6",
           "radialaxis": {
            "gridcolor": "white",
            "linecolor": "white",
            "ticks": ""
           }
          },
          "scene": {
           "xaxis": {
            "backgroundcolor": "#E5ECF6",
            "gridcolor": "white",
            "gridwidth": 2,
            "linecolor": "white",
            "showbackground": true,
            "ticks": "",
            "zerolinecolor": "white"
           },
           "yaxis": {
            "backgroundcolor": "#E5ECF6",
            "gridcolor": "white",
            "gridwidth": 2,
            "linecolor": "white",
            "showbackground": true,
            "ticks": "",
            "zerolinecolor": "white"
           },
           "zaxis": {
            "backgroundcolor": "#E5ECF6",
            "gridcolor": "white",
            "gridwidth": 2,
            "linecolor": "white",
            "showbackground": true,
            "ticks": "",
            "zerolinecolor": "white"
           }
          },
          "shapedefaults": {
           "line": {
            "color": "#2a3f5f"
           }
          },
          "ternary": {
           "aaxis": {
            "gridcolor": "white",
            "linecolor": "white",
            "ticks": ""
           },
           "baxis": {
            "gridcolor": "white",
            "linecolor": "white",
            "ticks": ""
           },
           "bgcolor": "#E5ECF6",
           "caxis": {
            "gridcolor": "white",
            "linecolor": "white",
            "ticks": ""
           }
          },
          "title": {
           "x": 0.05
          },
          "xaxis": {
           "automargin": true,
           "gridcolor": "white",
           "linecolor": "white",
           "ticks": "",
           "title": {
            "standoff": 15
           },
           "zerolinecolor": "white",
           "zerolinewidth": 2
          },
          "yaxis": {
           "automargin": true,
           "gridcolor": "white",
           "linecolor": "white",
           "ticks": "",
           "title": {
            "standoff": 15
           },
           "zerolinecolor": "white",
           "zerolinewidth": 2
          }
         }
        },
        "title": {
         "font": {
          "color": "#4D5663"
         }
        },
        "xaxis": {
         "gridcolor": "#E1E5ED",
         "showgrid": true,
         "tickfont": {
          "color": "#4D5663"
         },
         "title": {
          "font": {
           "color": "#4D5663"
          },
          "text": ""
         },
         "zerolinecolor": "#E1E5ED"
        },
        "yaxis": {
         "gridcolor": "#E1E5ED",
         "showgrid": true,
         "tickfont": {
          "color": "#4D5663"
         },
         "title": {
          "font": {
           "color": "#4D5663"
          },
          "text": ""
         },
         "zerolinecolor": "#E1E5ED"
        }
       }
      },
      "text/html": [
       "<div>                            <div id=\"5765f70b-88e8-4efd-8f4d-1d244f37aba9\" class=\"plotly-graph-div\" style=\"height:525px; width:100%;\"></div>            <script type=\"text/javascript\">                require([\"plotly\"], function(Plotly) {                    window.PLOTLYENV=window.PLOTLYENV || {};\n",
       "                    window.PLOTLYENV.BASE_URL='https://plot.ly';                                    if (document.getElementById(\"5765f70b-88e8-4efd-8f4d-1d244f37aba9\")) {                    Plotly.newPlot(                        \"5765f70b-88e8-4efd-8f4d-1d244f37aba9\",                        [{\"histfunc\":\"count\",\"histnorm\":\"\",\"marker\":{\"color\":\"rgba(255, 153, 51, 1.0)\",\"line\":{\"color\":\"#4D5663\",\"width\":1.3}},\"name\":\"A\",\"nbinsx\":25,\"opacity\":0.8,\"orientation\":\"v\",\"x\":[-1.8385733383142502,0.8672457158580731,-1.6913759918836615,0.5490542772053529,-2.0448630397110024,-0.436039090217473,0.640548445743603,-1.7077325737917555,-1.6524174520551473,0.0007907560837533417,-0.25491887646539024,-1.1446104505452164,-0.8475481744004824,-0.8161181953930615,0.5861143155452699,-0.9317973692372261,1.3502398786147136,1.758118402606856,-1.1285332734978477,0.2585914173805949,1.9798015362947452,-0.30833965880411174,-1.0916955750299806,-0.057158385929394206,-1.0173606571226235,-0.8609220665567381,0.34741981219265133,-0.159358858867689,-0.43678412656387205,1.0627399323565616,-0.46706211244850665,-1.0427327308265124,-0.805693324842712,1.2770479544421895,0.32725761362015926,-0.568339510681153,-0.17447432698006723,-0.4573707756151931,0.7606294655707999,-0.7617983457284897,-0.633282488675788,0.9728067392089667,-0.08487630361962098,0.3451327034103059,-0.6434382015122148,-0.04919239099224115,-0.9798565186308319,1.3434944279834213,-0.09167130080686495,1.0280892123070835,-0.3727016281831937,0.205542353970833,0.49831900690235065,1.7667036512937528,0.06524931756953356,-1.1670797528842665,1.4913743607172376,0.3324568668491796,-0.15963192960528763,0.8849002460549106,-0.03419324271954416,0.2147022298380133,0.28974036454646246,-0.5798551719469845,0.42251601005333417,1.3154237088128184,1.0678775274202026,-0.715758017669985,-0.3140111688724749,-0.3734547451342669,0.4587328215325148,1.612073033741679,0.47558226142986987,-0.09115866157864358,0.6420263742551169,1.6629991156109898,-0.041887956096666505,0.4026327112865466,-0.7230102257213117,-0.13806081513002783,-1.9263259804307988,0.14389781394832898,-0.39106888558889374,-1.112691564259992,-0.41206708388351254,-1.5152032295504612,-0.32538019360859577,-0.39310628515137575,0.8596315300656956,-1.1162033172974786,-0.16595682132475104,-0.5054498229079003,0.5803298130870016,0.5865017276164397,-0.7746419487800955,0.4457882182331863,0.8512406554100072,-1.2480430036217465,-0.7328490073246734,0.4212693260620615],\"type\":\"histogram\"}],                        {\"barmode\":\"overlay\",\"legend\":{\"bgcolor\":\"#F5F6F9\",\"font\":{\"color\":\"#4D5663\"}},\"paper_bgcolor\":\"#F5F6F9\",\"plot_bgcolor\":\"#F5F6F9\",\"template\":{\"data\":{\"barpolar\":[{\"marker\":{\"line\":{\"color\":\"#E5ECF6\",\"width\":0.5},\"pattern\":{\"fillmode\":\"overlay\",\"size\":10,\"solidity\":0.2}},\"type\":\"barpolar\"}],\"bar\":[{\"error_x\":{\"color\":\"#2a3f5f\"},\"error_y\":{\"color\":\"#2a3f5f\"},\"marker\":{\"line\":{\"color\":\"#E5ECF6\",\"width\":0.5},\"pattern\":{\"fillmode\":\"overlay\",\"size\":10,\"solidity\":0.2}},\"type\":\"bar\"}],\"carpet\":[{\"aaxis\":{\"endlinecolor\":\"#2a3f5f\",\"gridcolor\":\"white\",\"linecolor\":\"white\",\"minorgridcolor\":\"white\",\"startlinecolor\":\"#2a3f5f\"},\"baxis\":{\"endlinecolor\":\"#2a3f5f\",\"gridcolor\":\"white\",\"linecolor\":\"white\",\"minorgridcolor\":\"white\",\"startlinecolor\":\"#2a3f5f\"},\"type\":\"carpet\"}],\"choropleth\":[{\"colorbar\":{\"outlinewidth\":0,\"ticks\":\"\"},\"type\":\"choropleth\"}],\"contourcarpet\":[{\"colorbar\":{\"outlinewidth\":0,\"ticks\":\"\"},\"type\":\"contourcarpet\"}],\"contour\":[{\"colorbar\":{\"outlinewidth\":0,\"ticks\":\"\"},\"colorscale\":[[0.0,\"#0d0887\"],[0.1111111111111111,\"#46039f\"],[0.2222222222222222,\"#7201a8\"],[0.3333333333333333,\"#9c179e\"],[0.4444444444444444,\"#bd3786\"],[0.5555555555555556,\"#d8576b\"],[0.6666666666666666,\"#ed7953\"],[0.7777777777777778,\"#fb9f3a\"],[0.8888888888888888,\"#fdca26\"],[1.0,\"#f0f921\"]],\"type\":\"contour\"}],\"heatmapgl\":[{\"colorbar\":{\"outlinewidth\":0,\"ticks\":\"\"},\"colorscale\":[[0.0,\"#0d0887\"],[0.1111111111111111,\"#46039f\"],[0.2222222222222222,\"#7201a8\"],[0.3333333333333333,\"#9c179e\"],[0.4444444444444444,\"#bd3786\"],[0.5555555555555556,\"#d8576b\"],[0.6666666666666666,\"#ed7953\"],[0.7777777777777778,\"#fb9f3a\"],[0.8888888888888888,\"#fdca26\"],[1.0,\"#f0f921\"]],\"type\":\"heatmapgl\"}],\"heatmap\":[{\"colorbar\":{\"outlinewidth\":0,\"ticks\":\"\"},\"colorscale\":[[0.0,\"#0d0887\"],[0.1111111111111111,\"#46039f\"],[0.2222222222222222,\"#7201a8\"],[0.3333333333333333,\"#9c179e\"],[0.4444444444444444,\"#bd3786\"],[0.5555555555555556,\"#d8576b\"],[0.6666666666666666,\"#ed7953\"],[0.7777777777777778,\"#fb9f3a\"],[0.8888888888888888,\"#fdca26\"],[1.0,\"#f0f921\"]],\"type\":\"heatmap\"}],\"histogram2dcontour\":[{\"colorbar\":{\"outlinewidth\":0,\"ticks\":\"\"},\"colorscale\":[[0.0,\"#0d0887\"],[0.1111111111111111,\"#46039f\"],[0.2222222222222222,\"#7201a8\"],[0.3333333333333333,\"#9c179e\"],[0.4444444444444444,\"#bd3786\"],[0.5555555555555556,\"#d8576b\"],[0.6666666666666666,\"#ed7953\"],[0.7777777777777778,\"#fb9f3a\"],[0.8888888888888888,\"#fdca26\"],[1.0,\"#f0f921\"]],\"type\":\"histogram2dcontour\"}],\"histogram2d\":[{\"colorbar\":{\"outlinewidth\":0,\"ticks\":\"\"},\"colorscale\":[[0.0,\"#0d0887\"],[0.1111111111111111,\"#46039f\"],[0.2222222222222222,\"#7201a8\"],[0.3333333333333333,\"#9c179e\"],[0.4444444444444444,\"#bd3786\"],[0.5555555555555556,\"#d8576b\"],[0.6666666666666666,\"#ed7953\"],[0.7777777777777778,\"#fb9f3a\"],[0.8888888888888888,\"#fdca26\"],[1.0,\"#f0f921\"]],\"type\":\"histogram2d\"}],\"histogram\":[{\"marker\":{\"pattern\":{\"fillmode\":\"overlay\",\"size\":10,\"solidity\":0.2}},\"type\":\"histogram\"}],\"mesh3d\":[{\"colorbar\":{\"outlinewidth\":0,\"ticks\":\"\"},\"type\":\"mesh3d\"}],\"parcoords\":[{\"line\":{\"colorbar\":{\"outlinewidth\":0,\"ticks\":\"\"}},\"type\":\"parcoords\"}],\"pie\":[{\"automargin\":true,\"type\":\"pie\"}],\"scatter3d\":[{\"line\":{\"colorbar\":{\"outlinewidth\":0,\"ticks\":\"\"}},\"marker\":{\"colorbar\":{\"outlinewidth\":0,\"ticks\":\"\"}},\"type\":\"scatter3d\"}],\"scattercarpet\":[{\"marker\":{\"colorbar\":{\"outlinewidth\":0,\"ticks\":\"\"}},\"type\":\"scattercarpet\"}],\"scattergeo\":[{\"marker\":{\"colorbar\":{\"outlinewidth\":0,\"ticks\":\"\"}},\"type\":\"scattergeo\"}],\"scattergl\":[{\"marker\":{\"colorbar\":{\"outlinewidth\":0,\"ticks\":\"\"}},\"type\":\"scattergl\"}],\"scattermapbox\":[{\"marker\":{\"colorbar\":{\"outlinewidth\":0,\"ticks\":\"\"}},\"type\":\"scattermapbox\"}],\"scatterpolargl\":[{\"marker\":{\"colorbar\":{\"outlinewidth\":0,\"ticks\":\"\"}},\"type\":\"scatterpolargl\"}],\"scatterpolar\":[{\"marker\":{\"colorbar\":{\"outlinewidth\":0,\"ticks\":\"\"}},\"type\":\"scatterpolar\"}],\"scatter\":[{\"fillpattern\":{\"fillmode\":\"overlay\",\"size\":10,\"solidity\":0.2},\"type\":\"scatter\"}],\"scatterternary\":[{\"marker\":{\"colorbar\":{\"outlinewidth\":0,\"ticks\":\"\"}},\"type\":\"scatterternary\"}],\"surface\":[{\"colorbar\":{\"outlinewidth\":0,\"ticks\":\"\"},\"colorscale\":[[0.0,\"#0d0887\"],[0.1111111111111111,\"#46039f\"],[0.2222222222222222,\"#7201a8\"],[0.3333333333333333,\"#9c179e\"],[0.4444444444444444,\"#bd3786\"],[0.5555555555555556,\"#d8576b\"],[0.6666666666666666,\"#ed7953\"],[0.7777777777777778,\"#fb9f3a\"],[0.8888888888888888,\"#fdca26\"],[1.0,\"#f0f921\"]],\"type\":\"surface\"}],\"table\":[{\"cells\":{\"fill\":{\"color\":\"#EBF0F8\"},\"line\":{\"color\":\"white\"}},\"header\":{\"fill\":{\"color\":\"#C8D4E3\"},\"line\":{\"color\":\"white\"}},\"type\":\"table\"}]},\"layout\":{\"annotationdefaults\":{\"arrowcolor\":\"#2a3f5f\",\"arrowhead\":0,\"arrowwidth\":1},\"autotypenumbers\":\"strict\",\"coloraxis\":{\"colorbar\":{\"outlinewidth\":0,\"ticks\":\"\"}},\"colorscale\":{\"diverging\":[[0,\"#8e0152\"],[0.1,\"#c51b7d\"],[0.2,\"#de77ae\"],[0.3,\"#f1b6da\"],[0.4,\"#fde0ef\"],[0.5,\"#f7f7f7\"],[0.6,\"#e6f5d0\"],[0.7,\"#b8e186\"],[0.8,\"#7fbc41\"],[0.9,\"#4d9221\"],[1,\"#276419\"]],\"sequential\":[[0.0,\"#0d0887\"],[0.1111111111111111,\"#46039f\"],[0.2222222222222222,\"#7201a8\"],[0.3333333333333333,\"#9c179e\"],[0.4444444444444444,\"#bd3786\"],[0.5555555555555556,\"#d8576b\"],[0.6666666666666666,\"#ed7953\"],[0.7777777777777778,\"#fb9f3a\"],[0.8888888888888888,\"#fdca26\"],[1.0,\"#f0f921\"]],\"sequentialminus\":[[0.0,\"#0d0887\"],[0.1111111111111111,\"#46039f\"],[0.2222222222222222,\"#7201a8\"],[0.3333333333333333,\"#9c179e\"],[0.4444444444444444,\"#bd3786\"],[0.5555555555555556,\"#d8576b\"],[0.6666666666666666,\"#ed7953\"],[0.7777777777777778,\"#fb9f3a\"],[0.8888888888888888,\"#fdca26\"],[1.0,\"#f0f921\"]]},\"colorway\":[\"#636efa\",\"#EF553B\",\"#00cc96\",\"#ab63fa\",\"#FFA15A\",\"#19d3f3\",\"#FF6692\",\"#B6E880\",\"#FF97FF\",\"#FECB52\"],\"font\":{\"color\":\"#2a3f5f\"},\"geo\":{\"bgcolor\":\"white\",\"lakecolor\":\"white\",\"landcolor\":\"#E5ECF6\",\"showlakes\":true,\"showland\":true,\"subunitcolor\":\"white\"},\"hoverlabel\":{\"align\":\"left\"},\"hovermode\":\"closest\",\"mapbox\":{\"style\":\"light\"},\"paper_bgcolor\":\"white\",\"plot_bgcolor\":\"#E5ECF6\",\"polar\":{\"angularaxis\":{\"gridcolor\":\"white\",\"linecolor\":\"white\",\"ticks\":\"\"},\"bgcolor\":\"#E5ECF6\",\"radialaxis\":{\"gridcolor\":\"white\",\"linecolor\":\"white\",\"ticks\":\"\"}},\"scene\":{\"xaxis\":{\"backgroundcolor\":\"#E5ECF6\",\"gridcolor\":\"white\",\"gridwidth\":2,\"linecolor\":\"white\",\"showbackground\":true,\"ticks\":\"\",\"zerolinecolor\":\"white\"},\"yaxis\":{\"backgroundcolor\":\"#E5ECF6\",\"gridcolor\":\"white\",\"gridwidth\":2,\"linecolor\":\"white\",\"showbackground\":true,\"ticks\":\"\",\"zerolinecolor\":\"white\"},\"zaxis\":{\"backgroundcolor\":\"#E5ECF6\",\"gridcolor\":\"white\",\"gridwidth\":2,\"linecolor\":\"white\",\"showbackground\":true,\"ticks\":\"\",\"zerolinecolor\":\"white\"}},\"shapedefaults\":{\"line\":{\"color\":\"#2a3f5f\"}},\"ternary\":{\"aaxis\":{\"gridcolor\":\"white\",\"linecolor\":\"white\",\"ticks\":\"\"},\"baxis\":{\"gridcolor\":\"white\",\"linecolor\":\"white\",\"ticks\":\"\"},\"bgcolor\":\"#E5ECF6\",\"caxis\":{\"gridcolor\":\"white\",\"linecolor\":\"white\",\"ticks\":\"\"}},\"title\":{\"x\":0.05},\"xaxis\":{\"automargin\":true,\"gridcolor\":\"white\",\"linecolor\":\"white\",\"ticks\":\"\",\"title\":{\"standoff\":15},\"zerolinecolor\":\"white\",\"zerolinewidth\":2},\"yaxis\":{\"automargin\":true,\"gridcolor\":\"white\",\"linecolor\":\"white\",\"ticks\":\"\",\"title\":{\"standoff\":15},\"zerolinecolor\":\"white\",\"zerolinewidth\":2}}},\"title\":{\"font\":{\"color\":\"#4D5663\"}},\"xaxis\":{\"gridcolor\":\"#E1E5ED\",\"showgrid\":true,\"tickfont\":{\"color\":\"#4D5663\"},\"title\":{\"font\":{\"color\":\"#4D5663\"},\"text\":\"\"},\"zerolinecolor\":\"#E1E5ED\"},\"yaxis\":{\"gridcolor\":\"#E1E5ED\",\"showgrid\":true,\"tickfont\":{\"color\":\"#4D5663\"},\"title\":{\"font\":{\"color\":\"#4D5663\"},\"text\":\"\"},\"zerolinecolor\":\"#E1E5ED\"}},                        {\"showLink\": true, \"linkText\": \"Export to plot.ly\", \"plotlyServerURL\": \"https://plot.ly\", \"responsive\": true}                    ).then(function(){\n",
       "                            \n",
       "var gd = document.getElementById('5765f70b-88e8-4efd-8f4d-1d244f37aba9');\n",
       "var x = new MutationObserver(function (mutations, observer) {{\n",
       "        var display = window.getComputedStyle(gd).display;\n",
       "        if (!display || display === 'none') {{\n",
       "            console.log([gd, 'removed!']);\n",
       "            Plotly.purge(gd);\n",
       "            observer.disconnect();\n",
       "        }}\n",
       "}});\n",
       "\n",
       "// Listen for the removal of the full notebook cells\n",
       "var notebookContainer = gd.closest('#notebook-container');\n",
       "if (notebookContainer) {{\n",
       "    x.observe(notebookContainer, {childList: true});\n",
       "}}\n",
       "\n",
       "// Listen for the clearing of the current output cell\n",
       "var outputEl = gd.closest('.output');\n",
       "if (outputEl) {{\n",
       "    x.observe(outputEl, {childList: true});\n",
       "}}\n",
       "\n",
       "                        })                };                });            </script>        </div>"
      ]
     },
     "metadata": {},
     "output_type": "display_data"
    }
   ],
   "source": [
    "df['A'].iplot(kind='hist', bins=25)"
   ]
  },
  {
   "cell_type": "code",
   "execution_count": 30,
   "metadata": {},
   "outputs": [
    {
     "data": {
      "application/vnd.plotly.v1+json": {
       "config": {
        "linkText": "Export to plot.ly",
        "plotlyServerURL": "https://plot.ly",
        "showLink": true
       },
       "data": [
        {
         "histfunc": "count",
         "histnorm": "",
         "marker": {
          "color": "rgba(255, 153, 51, 1.0)",
          "line": {
           "color": "#4D5663",
           "width": 1.3
          }
         },
         "name": "A",
         "nbinsx": 100,
         "opacity": 0.8,
         "orientation": "v",
         "type": "histogram",
         "x": [
          -1.8385733383142502,
          0.8672457158580731,
          -1.6913759918836615,
          0.5490542772053529,
          -2.0448630397110024,
          -0.436039090217473,
          0.640548445743603,
          -1.7077325737917555,
          -1.6524174520551473,
          0.0007907560837533417,
          -0.25491887646539024,
          -1.1446104505452164,
          -0.8475481744004824,
          -0.8161181953930615,
          0.5861143155452699,
          -0.9317973692372261,
          1.3502398786147136,
          1.758118402606856,
          -1.1285332734978477,
          0.2585914173805949,
          1.9798015362947452,
          -0.30833965880411174,
          -1.0916955750299806,
          -0.057158385929394206,
          -1.0173606571226235,
          -0.8609220665567381,
          0.34741981219265133,
          -0.159358858867689,
          -0.43678412656387205,
          1.0627399323565616,
          -0.46706211244850665,
          -1.0427327308265124,
          -0.805693324842712,
          1.2770479544421895,
          0.32725761362015926,
          -0.568339510681153,
          -0.17447432698006723,
          -0.4573707756151931,
          0.7606294655707999,
          -0.7617983457284897,
          -0.633282488675788,
          0.9728067392089667,
          -0.08487630361962098,
          0.3451327034103059,
          -0.6434382015122148,
          -0.04919239099224115,
          -0.9798565186308319,
          1.3434944279834213,
          -0.09167130080686495,
          1.0280892123070835,
          -0.3727016281831937,
          0.205542353970833,
          0.49831900690235065,
          1.7667036512937528,
          0.06524931756953356,
          -1.1670797528842665,
          1.4913743607172376,
          0.3324568668491796,
          -0.15963192960528763,
          0.8849002460549106,
          -0.03419324271954416,
          0.2147022298380133,
          0.28974036454646246,
          -0.5798551719469845,
          0.42251601005333417,
          1.3154237088128184,
          1.0678775274202026,
          -0.715758017669985,
          -0.3140111688724749,
          -0.3734547451342669,
          0.4587328215325148,
          1.612073033741679,
          0.47558226142986987,
          -0.09115866157864358,
          0.6420263742551169,
          1.6629991156109898,
          -0.041887956096666505,
          0.4026327112865466,
          -0.7230102257213117,
          -0.13806081513002783,
          -1.9263259804307988,
          0.14389781394832898,
          -0.39106888558889374,
          -1.112691564259992,
          -0.41206708388351254,
          -1.5152032295504612,
          -0.32538019360859577,
          -0.39310628515137575,
          0.8596315300656956,
          -1.1162033172974786,
          -0.16595682132475104,
          -0.5054498229079003,
          0.5803298130870016,
          0.5865017276164397,
          -0.7746419487800955,
          0.4457882182331863,
          0.8512406554100072,
          -1.2480430036217465,
          -0.7328490073246734,
          0.4212693260620615
         ]
        },
        {
         "histfunc": "count",
         "histnorm": "",
         "marker": {
          "color": "rgba(55, 128, 191, 1.0)",
          "line": {
           "color": "#4D5663",
           "width": 1.3
          }
         },
         "name": "B",
         "nbinsx": 100,
         "opacity": 0.8,
         "orientation": "v",
         "type": "histogram",
         "x": [
          -0.8731235508419704,
          0.4063663035008937,
          0.21393598835476177,
          -1.104000474626746,
          0.5206746278740676,
          -0.01884568069583808,
          0.6535981950685156,
          1.14439206448552,
          0.2929545928156336,
          -0.16538062686284627,
          1.097259225149773,
          -0.17808812529378423,
          -0.3126979876594213,
          1.1407520085951446,
          -0.566490064694201,
          0.7754917175479495,
          1.4724657738930809,
          -0.31017028299879124,
          -0.4753489359520454,
          1.7232179936716367,
          1.1414347256400401,
          -1.5106868013232306,
          -0.27992397842532235,
          -1.2139882533244817,
          0.4100934910089962,
          -0.5350054452183555,
          -0.5204945468601557,
          1.1142921087326496,
          -0.2887747339451265,
          0.09408581523160633,
          -1.279987458410801,
          -1.1740868613129465,
          -0.2926245600408343,
          -0.144877649537023,
          -0.9093457610034482,
          -0.5337689022180023,
          -0.017084322289417468,
          -1.6158225718623438,
          -1.1108767685479153,
          0.02611783578981778,
          -0.8674402869197879,
          0.480636199850919,
          -0.2551140401163761,
          0.09623414190198235,
          -0.6202596403538848,
          0.5512673714408092,
          1.5704362845628481,
          -0.06966255000115672,
          -0.7570796474829151,
          -2.3695016015417085,
          0.46985021980766656,
          -0.030284933437563066,
          -1.0464134874584372,
          -1.0710710395950138,
          0.22367596900939501,
          -1.3243189763274024,
          -0.18681523974469796,
          -0.26070960892291023,
          0.8125436741292955,
          -0.09950014014884463,
          0.3043036492382808,
          -0.470809417865467,
          -0.7970930223513626,
          -1.2001380253082512,
          -0.9417384031922611,
          -1.5184279582950249,
          -0.01725072375345233,
          -3.2444595535507403,
          0.5016346345637226,
          0.7050353536724342,
          1.2475875852443647,
          0.6936890152049425,
          2.591819172760977,
          -0.10101232298967208,
          0.8626542256645922,
          -1.2637655623733213,
          -0.057879488695521474,
          0.3338770631315833,
          -0.8654952418554549,
          0.300168575014734,
          -0.28872310361867176,
          -1.4921175757108949,
          -1.188952137668495,
          0.47716571052481055,
          1.543910825058214,
          1.4726571348561308,
          0.5507819537195303,
          -1.6558234228441506,
          0.5390984269896137,
          0.3525074699864782,
          0.42645531373262363,
          -0.26311097661064403,
          0.6017581127464071,
          -0.6116925342911296,
          -2.171599774932019,
          -0.03716068289075018,
          0.5189512190682418,
          0.059429755509573225,
          -1.3967446596137272,
          -0.12202190199365653
         ]
        },
        {
         "histfunc": "count",
         "histnorm": "",
         "marker": {
          "color": "rgba(50, 171, 96, 1.0)",
          "line": {
           "color": "#4D5663",
           "width": 1.3
          }
         },
         "name": "C",
         "nbinsx": 100,
         "opacity": 0.8,
         "orientation": "v",
         "type": "histogram",
         "x": [
          -0.9196736624837573,
          0.5221521308335456,
          -0.4652498556979664,
          -1.454576414975132,
          0.436963063980055,
          1.4246799209117655,
          0.4795452278319759,
          1.0324097092675564,
          -1.2832969606128202,
          -1.4968684022895624,
          -0.01530092520712653,
          0.12291412210634833,
          -0.7509181015075169,
          2.508104676406065,
          0.4794525639949759,
          0.35700998615689433,
          -1.1831551942505845,
          0.8462407906799473,
          -1.0110263178467456,
          -0.4996367099663234,
          -0.15371107386966737,
          0.7875046929873949,
          -0.5041129185773495,
          0.3100861574387777,
          -0.5085707880875892,
          -0.22904189463503952,
          1.1706859225529218,
          -0.2719616076737529,
          0.8730665064136831,
          -1.184444283062692,
          0.8443375020986033,
          -0.3644937024112057,
          0.163478795827416,
          1.3772593435192526,
          0.08228471908569834,
          0.7605476156012057,
          -0.2504732383628632,
          0.1360064889167746,
          -3.644827998386898,
          -0.8793232150210272,
          0.3016143396085256,
          -0.49067491280895753,
          0.9579194000316426,
          -0.4348468067931921,
          -0.1946192264292153,
          -0.25793957366857867,
          0.75240596772292,
          -1.5929338059697495,
          -0.7269388164897601,
          0.4908818232564113,
          0.32641763647555144,
          0.48126621634927375,
          0.7141055423303951,
          -0.21426386859688382,
          -0.23225615893380858,
          0.9513770859984828,
          -1.4231640282914806,
          0.4520630258835394,
          -1.4919200307825713,
          1.291291461685043,
          -0.9941983312459777,
          0.7596392727401325,
          -0.5926195035122472,
          -0.5566293229752135,
          0.2982307468470132,
          1.738053578883346,
          0.06608083134619774,
          0.050839011923767115,
          1.0275197437881594,
          -0.8581772302452564,
          0.6607947683272261,
          -1.442888595982884,
          1.7584914022563805,
          0.3700062517332973,
          -1.915753567763661,
          -0.5117284645342928,
          0.5399265157477181,
          -0.26832171165488117,
          1.7322591311557272,
          1.4823599585000202,
          -0.21223993931260354,
          1.506767808999441,
          2.2535197249080685,
          -0.1198339588515651,
          -0.6846434595910331,
          0.1729807676946648,
          0.15173920031922505,
          -0.776613379779808,
          -0.011810156468320966,
          -0.7174950712346515,
          -0.6045945057396989,
          -0.22156638213211777,
          0.7921074698882515,
          0.6234406291140472,
          0.4010652389488166,
          0.07550111687761502,
          0.6651197294575687,
          1.393114003034596,
          1.046042718388696,
          0.38765896670310024
         ]
        },
        {
         "histfunc": "count",
         "histnorm": "",
         "marker": {
          "color": "rgba(128, 0, 128, 1.0)",
          "line": {
           "color": "#4D5663",
           "width": 1.3
          }
         },
         "name": "D",
         "nbinsx": 100,
         "opacity": 0.8,
         "orientation": "v",
         "type": "histogram",
         "x": [
          0.8154789793317233,
          -0.7932543362196849,
          2.1090714139213964,
          -0.08008470874810897,
          -1.3001999460071456,
          -0.7533227790295761,
          -1.0023303372713803,
          -0.6526378920334932,
          -0.6653417572773734,
          -0.3248412709435413,
          1.70442130197609,
          1.6840439606302038,
          1.313022981891956,
          -1.0663347951928297,
          0.3423494606212533,
          1.3196565164837162,
          -0.5012998698168185,
          -0.694618064755753,
          1.596161415909783,
          -0.6539249230936592,
          2.2854155981832025,
          -0.8285365819761168,
          1.35019284489788,
          0.7392664010025717,
          -0.8728638748620098,
          -1.257815829544241,
          1.2170550695382087,
          1.6487781672823338,
          -0.7397135971258295,
          -0.5496178716866912,
          0.24354353838367032,
          -0.1981188699638196,
          0.7450212943920029,
          -0.688454797303157,
          1.3609988352021904,
          1.7836251044013816,
          -0.42495453030026753,
          -1.4796654963764373,
          0.26699530633905383,
          0.9386337857275068,
          0.5422571256779178,
          -0.5951679964609107,
          1.3591277952198586,
          1.107835057885836,
          -0.9043344904432511,
          0.3590319613430317,
          -0.7966844234190578,
          -0.06000227589783168,
          0.04316938407978105,
          1.3580552003388051,
          -0.7760626440378443,
          1.5854530989997315,
          -0.46353069186426404,
          -1.0745167090420498,
          2.212116176062031,
          -1.439675541529478,
          -2.0554704481808495,
          -0.11811185811532435,
          -0.41196864579863074,
          -0.9389985024768397,
          1.2959635418379791,
          0.4078693097348912,
          -0.8671054942393984,
          1.7252482957866269,
          -0.17094699657986662,
          -0.4203898822603816,
          1.0238149845075084,
          -1.7082023970596323,
          1.2105603191784666,
          0.470411960848045,
          -0.44163507560902787,
          -0.561536410751917,
          -2.2920236391835873,
          1.6921460848889827,
          -0.8753528703650812,
          -0.308624577218057,
          -0.7479970008532968,
          0.042424762273314244,
          0.42775674124162216,
          -0.7612535278594279,
          -0.8123766392385495,
          -0.320045127298039,
          1.2962971549556204,
          0.8468549112150666,
          0.38948944554984866,
          0.3464931109083758,
          0.06556931178920412,
          0.2025946289920695,
          2.4028721763358156,
          -1.0664451168631308,
          0.3001848021183222,
          0.030968772479112953,
          0.4189819842801789,
          -0.5299316257147946,
          0.3622802315153845,
          0.8064488289050201,
          -0.2825747218761014,
          -1.3516618998411016,
          0.8904083060648561,
          -0.3792076435989007
         ]
        }
       ],
       "layout": {
        "barmode": "overlay",
        "legend": {
         "bgcolor": "#F5F6F9",
         "font": {
          "color": "#4D5663"
         }
        },
        "paper_bgcolor": "#F5F6F9",
        "plot_bgcolor": "#F5F6F9",
        "template": {
         "data": {
          "bar": [
           {
            "error_x": {
             "color": "#2a3f5f"
            },
            "error_y": {
             "color": "#2a3f5f"
            },
            "marker": {
             "line": {
              "color": "#E5ECF6",
              "width": 0.5
             },
             "pattern": {
              "fillmode": "overlay",
              "size": 10,
              "solidity": 0.2
             }
            },
            "type": "bar"
           }
          ],
          "barpolar": [
           {
            "marker": {
             "line": {
              "color": "#E5ECF6",
              "width": 0.5
             },
             "pattern": {
              "fillmode": "overlay",
              "size": 10,
              "solidity": 0.2
             }
            },
            "type": "barpolar"
           }
          ],
          "carpet": [
           {
            "aaxis": {
             "endlinecolor": "#2a3f5f",
             "gridcolor": "white",
             "linecolor": "white",
             "minorgridcolor": "white",
             "startlinecolor": "#2a3f5f"
            },
            "baxis": {
             "endlinecolor": "#2a3f5f",
             "gridcolor": "white",
             "linecolor": "white",
             "minorgridcolor": "white",
             "startlinecolor": "#2a3f5f"
            },
            "type": "carpet"
           }
          ],
          "choropleth": [
           {
            "colorbar": {
             "outlinewidth": 0,
             "ticks": ""
            },
            "type": "choropleth"
           }
          ],
          "contour": [
           {
            "colorbar": {
             "outlinewidth": 0,
             "ticks": ""
            },
            "colorscale": [
             [
              0,
              "#0d0887"
             ],
             [
              0.1111111111111111,
              "#46039f"
             ],
             [
              0.2222222222222222,
              "#7201a8"
             ],
             [
              0.3333333333333333,
              "#9c179e"
             ],
             [
              0.4444444444444444,
              "#bd3786"
             ],
             [
              0.5555555555555556,
              "#d8576b"
             ],
             [
              0.6666666666666666,
              "#ed7953"
             ],
             [
              0.7777777777777778,
              "#fb9f3a"
             ],
             [
              0.8888888888888888,
              "#fdca26"
             ],
             [
              1,
              "#f0f921"
             ]
            ],
            "type": "contour"
           }
          ],
          "contourcarpet": [
           {
            "colorbar": {
             "outlinewidth": 0,
             "ticks": ""
            },
            "type": "contourcarpet"
           }
          ],
          "heatmap": [
           {
            "colorbar": {
             "outlinewidth": 0,
             "ticks": ""
            },
            "colorscale": [
             [
              0,
              "#0d0887"
             ],
             [
              0.1111111111111111,
              "#46039f"
             ],
             [
              0.2222222222222222,
              "#7201a8"
             ],
             [
              0.3333333333333333,
              "#9c179e"
             ],
             [
              0.4444444444444444,
              "#bd3786"
             ],
             [
              0.5555555555555556,
              "#d8576b"
             ],
             [
              0.6666666666666666,
              "#ed7953"
             ],
             [
              0.7777777777777778,
              "#fb9f3a"
             ],
             [
              0.8888888888888888,
              "#fdca26"
             ],
             [
              1,
              "#f0f921"
             ]
            ],
            "type": "heatmap"
           }
          ],
          "heatmapgl": [
           {
            "colorbar": {
             "outlinewidth": 0,
             "ticks": ""
            },
            "colorscale": [
             [
              0,
              "#0d0887"
             ],
             [
              0.1111111111111111,
              "#46039f"
             ],
             [
              0.2222222222222222,
              "#7201a8"
             ],
             [
              0.3333333333333333,
              "#9c179e"
             ],
             [
              0.4444444444444444,
              "#bd3786"
             ],
             [
              0.5555555555555556,
              "#d8576b"
             ],
             [
              0.6666666666666666,
              "#ed7953"
             ],
             [
              0.7777777777777778,
              "#fb9f3a"
             ],
             [
              0.8888888888888888,
              "#fdca26"
             ],
             [
              1,
              "#f0f921"
             ]
            ],
            "type": "heatmapgl"
           }
          ],
          "histogram": [
           {
            "marker": {
             "pattern": {
              "fillmode": "overlay",
              "size": 10,
              "solidity": 0.2
             }
            },
            "type": "histogram"
           }
          ],
          "histogram2d": [
           {
            "colorbar": {
             "outlinewidth": 0,
             "ticks": ""
            },
            "colorscale": [
             [
              0,
              "#0d0887"
             ],
             [
              0.1111111111111111,
              "#46039f"
             ],
             [
              0.2222222222222222,
              "#7201a8"
             ],
             [
              0.3333333333333333,
              "#9c179e"
             ],
             [
              0.4444444444444444,
              "#bd3786"
             ],
             [
              0.5555555555555556,
              "#d8576b"
             ],
             [
              0.6666666666666666,
              "#ed7953"
             ],
             [
              0.7777777777777778,
              "#fb9f3a"
             ],
             [
              0.8888888888888888,
              "#fdca26"
             ],
             [
              1,
              "#f0f921"
             ]
            ],
            "type": "histogram2d"
           }
          ],
          "histogram2dcontour": [
           {
            "colorbar": {
             "outlinewidth": 0,
             "ticks": ""
            },
            "colorscale": [
             [
              0,
              "#0d0887"
             ],
             [
              0.1111111111111111,
              "#46039f"
             ],
             [
              0.2222222222222222,
              "#7201a8"
             ],
             [
              0.3333333333333333,
              "#9c179e"
             ],
             [
              0.4444444444444444,
              "#bd3786"
             ],
             [
              0.5555555555555556,
              "#d8576b"
             ],
             [
              0.6666666666666666,
              "#ed7953"
             ],
             [
              0.7777777777777778,
              "#fb9f3a"
             ],
             [
              0.8888888888888888,
              "#fdca26"
             ],
             [
              1,
              "#f0f921"
             ]
            ],
            "type": "histogram2dcontour"
           }
          ],
          "mesh3d": [
           {
            "colorbar": {
             "outlinewidth": 0,
             "ticks": ""
            },
            "type": "mesh3d"
           }
          ],
          "parcoords": [
           {
            "line": {
             "colorbar": {
              "outlinewidth": 0,
              "ticks": ""
             }
            },
            "type": "parcoords"
           }
          ],
          "pie": [
           {
            "automargin": true,
            "type": "pie"
           }
          ],
          "scatter": [
           {
            "fillpattern": {
             "fillmode": "overlay",
             "size": 10,
             "solidity": 0.2
            },
            "type": "scatter"
           }
          ],
          "scatter3d": [
           {
            "line": {
             "colorbar": {
              "outlinewidth": 0,
              "ticks": ""
             }
            },
            "marker": {
             "colorbar": {
              "outlinewidth": 0,
              "ticks": ""
             }
            },
            "type": "scatter3d"
           }
          ],
          "scattercarpet": [
           {
            "marker": {
             "colorbar": {
              "outlinewidth": 0,
              "ticks": ""
             }
            },
            "type": "scattercarpet"
           }
          ],
          "scattergeo": [
           {
            "marker": {
             "colorbar": {
              "outlinewidth": 0,
              "ticks": ""
             }
            },
            "type": "scattergeo"
           }
          ],
          "scattergl": [
           {
            "marker": {
             "colorbar": {
              "outlinewidth": 0,
              "ticks": ""
             }
            },
            "type": "scattergl"
           }
          ],
          "scattermapbox": [
           {
            "marker": {
             "colorbar": {
              "outlinewidth": 0,
              "ticks": ""
             }
            },
            "type": "scattermapbox"
           }
          ],
          "scatterpolar": [
           {
            "marker": {
             "colorbar": {
              "outlinewidth": 0,
              "ticks": ""
             }
            },
            "type": "scatterpolar"
           }
          ],
          "scatterpolargl": [
           {
            "marker": {
             "colorbar": {
              "outlinewidth": 0,
              "ticks": ""
             }
            },
            "type": "scatterpolargl"
           }
          ],
          "scatterternary": [
           {
            "marker": {
             "colorbar": {
              "outlinewidth": 0,
              "ticks": ""
             }
            },
            "type": "scatterternary"
           }
          ],
          "surface": [
           {
            "colorbar": {
             "outlinewidth": 0,
             "ticks": ""
            },
            "colorscale": [
             [
              0,
              "#0d0887"
             ],
             [
              0.1111111111111111,
              "#46039f"
             ],
             [
              0.2222222222222222,
              "#7201a8"
             ],
             [
              0.3333333333333333,
              "#9c179e"
             ],
             [
              0.4444444444444444,
              "#bd3786"
             ],
             [
              0.5555555555555556,
              "#d8576b"
             ],
             [
              0.6666666666666666,
              "#ed7953"
             ],
             [
              0.7777777777777778,
              "#fb9f3a"
             ],
             [
              0.8888888888888888,
              "#fdca26"
             ],
             [
              1,
              "#f0f921"
             ]
            ],
            "type": "surface"
           }
          ],
          "table": [
           {
            "cells": {
             "fill": {
              "color": "#EBF0F8"
             },
             "line": {
              "color": "white"
             }
            },
            "header": {
             "fill": {
              "color": "#C8D4E3"
             },
             "line": {
              "color": "white"
             }
            },
            "type": "table"
           }
          ]
         },
         "layout": {
          "annotationdefaults": {
           "arrowcolor": "#2a3f5f",
           "arrowhead": 0,
           "arrowwidth": 1
          },
          "autotypenumbers": "strict",
          "coloraxis": {
           "colorbar": {
            "outlinewidth": 0,
            "ticks": ""
           }
          },
          "colorscale": {
           "diverging": [
            [
             0,
             "#8e0152"
            ],
            [
             0.1,
             "#c51b7d"
            ],
            [
             0.2,
             "#de77ae"
            ],
            [
             0.3,
             "#f1b6da"
            ],
            [
             0.4,
             "#fde0ef"
            ],
            [
             0.5,
             "#f7f7f7"
            ],
            [
             0.6,
             "#e6f5d0"
            ],
            [
             0.7,
             "#b8e186"
            ],
            [
             0.8,
             "#7fbc41"
            ],
            [
             0.9,
             "#4d9221"
            ],
            [
             1,
             "#276419"
            ]
           ],
           "sequential": [
            [
             0,
             "#0d0887"
            ],
            [
             0.1111111111111111,
             "#46039f"
            ],
            [
             0.2222222222222222,
             "#7201a8"
            ],
            [
             0.3333333333333333,
             "#9c179e"
            ],
            [
             0.4444444444444444,
             "#bd3786"
            ],
            [
             0.5555555555555556,
             "#d8576b"
            ],
            [
             0.6666666666666666,
             "#ed7953"
            ],
            [
             0.7777777777777778,
             "#fb9f3a"
            ],
            [
             0.8888888888888888,
             "#fdca26"
            ],
            [
             1,
             "#f0f921"
            ]
           ],
           "sequentialminus": [
            [
             0,
             "#0d0887"
            ],
            [
             0.1111111111111111,
             "#46039f"
            ],
            [
             0.2222222222222222,
             "#7201a8"
            ],
            [
             0.3333333333333333,
             "#9c179e"
            ],
            [
             0.4444444444444444,
             "#bd3786"
            ],
            [
             0.5555555555555556,
             "#d8576b"
            ],
            [
             0.6666666666666666,
             "#ed7953"
            ],
            [
             0.7777777777777778,
             "#fb9f3a"
            ],
            [
             0.8888888888888888,
             "#fdca26"
            ],
            [
             1,
             "#f0f921"
            ]
           ]
          },
          "colorway": [
           "#636efa",
           "#EF553B",
           "#00cc96",
           "#ab63fa",
           "#FFA15A",
           "#19d3f3",
           "#FF6692",
           "#B6E880",
           "#FF97FF",
           "#FECB52"
          ],
          "font": {
           "color": "#2a3f5f"
          },
          "geo": {
           "bgcolor": "white",
           "lakecolor": "white",
           "landcolor": "#E5ECF6",
           "showlakes": true,
           "showland": true,
           "subunitcolor": "white"
          },
          "hoverlabel": {
           "align": "left"
          },
          "hovermode": "closest",
          "mapbox": {
           "style": "light"
          },
          "paper_bgcolor": "white",
          "plot_bgcolor": "#E5ECF6",
          "polar": {
           "angularaxis": {
            "gridcolor": "white",
            "linecolor": "white",
            "ticks": ""
           },
           "bgcolor": "#E5ECF6",
           "radialaxis": {
            "gridcolor": "white",
            "linecolor": "white",
            "ticks": ""
           }
          },
          "scene": {
           "xaxis": {
            "backgroundcolor": "#E5ECF6",
            "gridcolor": "white",
            "gridwidth": 2,
            "linecolor": "white",
            "showbackground": true,
            "ticks": "",
            "zerolinecolor": "white"
           },
           "yaxis": {
            "backgroundcolor": "#E5ECF6",
            "gridcolor": "white",
            "gridwidth": 2,
            "linecolor": "white",
            "showbackground": true,
            "ticks": "",
            "zerolinecolor": "white"
           },
           "zaxis": {
            "backgroundcolor": "#E5ECF6",
            "gridcolor": "white",
            "gridwidth": 2,
            "linecolor": "white",
            "showbackground": true,
            "ticks": "",
            "zerolinecolor": "white"
           }
          },
          "shapedefaults": {
           "line": {
            "color": "#2a3f5f"
           }
          },
          "ternary": {
           "aaxis": {
            "gridcolor": "white",
            "linecolor": "white",
            "ticks": ""
           },
           "baxis": {
            "gridcolor": "white",
            "linecolor": "white",
            "ticks": ""
           },
           "bgcolor": "#E5ECF6",
           "caxis": {
            "gridcolor": "white",
            "linecolor": "white",
            "ticks": ""
           }
          },
          "title": {
           "x": 0.05
          },
          "xaxis": {
           "automargin": true,
           "gridcolor": "white",
           "linecolor": "white",
           "ticks": "",
           "title": {
            "standoff": 15
           },
           "zerolinecolor": "white",
           "zerolinewidth": 2
          },
          "yaxis": {
           "automargin": true,
           "gridcolor": "white",
           "linecolor": "white",
           "ticks": "",
           "title": {
            "standoff": 15
           },
           "zerolinecolor": "white",
           "zerolinewidth": 2
          }
         }
        },
        "title": {
         "font": {
          "color": "#4D5663"
         }
        },
        "xaxis": {
         "gridcolor": "#E1E5ED",
         "showgrid": true,
         "tickfont": {
          "color": "#4D5663"
         },
         "title": {
          "font": {
           "color": "#4D5663"
          },
          "text": ""
         },
         "zerolinecolor": "#E1E5ED"
        },
        "yaxis": {
         "gridcolor": "#E1E5ED",
         "showgrid": true,
         "tickfont": {
          "color": "#4D5663"
         },
         "title": {
          "font": {
           "color": "#4D5663"
          },
          "text": ""
         },
         "zerolinecolor": "#E1E5ED"
        }
       }
      },
      "text/html": [
       "<div>                            <div id=\"6cd60550-1fed-4e54-b11e-be5627037798\" class=\"plotly-graph-div\" style=\"height:525px; width:100%;\"></div>            <script type=\"text/javascript\">                require([\"plotly\"], function(Plotly) {                    window.PLOTLYENV=window.PLOTLYENV || {};\n",
       "                    window.PLOTLYENV.BASE_URL='https://plot.ly';                                    if (document.getElementById(\"6cd60550-1fed-4e54-b11e-be5627037798\")) {                    Plotly.newPlot(                        \"6cd60550-1fed-4e54-b11e-be5627037798\",                        [{\"histfunc\":\"count\",\"histnorm\":\"\",\"marker\":{\"color\":\"rgba(255, 153, 51, 1.0)\",\"line\":{\"color\":\"#4D5663\",\"width\":1.3}},\"name\":\"A\",\"nbinsx\":100,\"opacity\":0.8,\"orientation\":\"v\",\"x\":[-1.8385733383142502,0.8672457158580731,-1.6913759918836615,0.5490542772053529,-2.0448630397110024,-0.436039090217473,0.640548445743603,-1.7077325737917555,-1.6524174520551473,0.0007907560837533417,-0.25491887646539024,-1.1446104505452164,-0.8475481744004824,-0.8161181953930615,0.5861143155452699,-0.9317973692372261,1.3502398786147136,1.758118402606856,-1.1285332734978477,0.2585914173805949,1.9798015362947452,-0.30833965880411174,-1.0916955750299806,-0.057158385929394206,-1.0173606571226235,-0.8609220665567381,0.34741981219265133,-0.159358858867689,-0.43678412656387205,1.0627399323565616,-0.46706211244850665,-1.0427327308265124,-0.805693324842712,1.2770479544421895,0.32725761362015926,-0.568339510681153,-0.17447432698006723,-0.4573707756151931,0.7606294655707999,-0.7617983457284897,-0.633282488675788,0.9728067392089667,-0.08487630361962098,0.3451327034103059,-0.6434382015122148,-0.04919239099224115,-0.9798565186308319,1.3434944279834213,-0.09167130080686495,1.0280892123070835,-0.3727016281831937,0.205542353970833,0.49831900690235065,1.7667036512937528,0.06524931756953356,-1.1670797528842665,1.4913743607172376,0.3324568668491796,-0.15963192960528763,0.8849002460549106,-0.03419324271954416,0.2147022298380133,0.28974036454646246,-0.5798551719469845,0.42251601005333417,1.3154237088128184,1.0678775274202026,-0.715758017669985,-0.3140111688724749,-0.3734547451342669,0.4587328215325148,1.612073033741679,0.47558226142986987,-0.09115866157864358,0.6420263742551169,1.6629991156109898,-0.041887956096666505,0.4026327112865466,-0.7230102257213117,-0.13806081513002783,-1.9263259804307988,0.14389781394832898,-0.39106888558889374,-1.112691564259992,-0.41206708388351254,-1.5152032295504612,-0.32538019360859577,-0.39310628515137575,0.8596315300656956,-1.1162033172974786,-0.16595682132475104,-0.5054498229079003,0.5803298130870016,0.5865017276164397,-0.7746419487800955,0.4457882182331863,0.8512406554100072,-1.2480430036217465,-0.7328490073246734,0.4212693260620615],\"type\":\"histogram\"},{\"histfunc\":\"count\",\"histnorm\":\"\",\"marker\":{\"color\":\"rgba(55, 128, 191, 1.0)\",\"line\":{\"color\":\"#4D5663\",\"width\":1.3}},\"name\":\"B\",\"nbinsx\":100,\"opacity\":0.8,\"orientation\":\"v\",\"x\":[-0.8731235508419704,0.4063663035008937,0.21393598835476177,-1.104000474626746,0.5206746278740676,-0.01884568069583808,0.6535981950685156,1.14439206448552,0.2929545928156336,-0.16538062686284627,1.097259225149773,-0.17808812529378423,-0.3126979876594213,1.1407520085951446,-0.566490064694201,0.7754917175479495,1.4724657738930809,-0.31017028299879124,-0.4753489359520454,1.7232179936716367,1.1414347256400401,-1.5106868013232306,-0.27992397842532235,-1.2139882533244817,0.4100934910089962,-0.5350054452183555,-0.5204945468601557,1.1142921087326496,-0.2887747339451265,0.09408581523160633,-1.279987458410801,-1.1740868613129465,-0.2926245600408343,-0.144877649537023,-0.9093457610034482,-0.5337689022180023,-0.017084322289417468,-1.6158225718623438,-1.1108767685479153,0.02611783578981778,-0.8674402869197879,0.480636199850919,-0.2551140401163761,0.09623414190198235,-0.6202596403538848,0.5512673714408092,1.5704362845628481,-0.06966255000115672,-0.7570796474829151,-2.3695016015417085,0.46985021980766656,-0.030284933437563066,-1.0464134874584372,-1.0710710395950138,0.22367596900939501,-1.3243189763274024,-0.18681523974469796,-0.26070960892291023,0.8125436741292955,-0.09950014014884463,0.3043036492382808,-0.470809417865467,-0.7970930223513626,-1.2001380253082512,-0.9417384031922611,-1.5184279582950249,-0.01725072375345233,-3.2444595535507403,0.5016346345637226,0.7050353536724342,1.2475875852443647,0.6936890152049425,2.591819172760977,-0.10101232298967208,0.8626542256645922,-1.2637655623733213,-0.057879488695521474,0.3338770631315833,-0.8654952418554549,0.300168575014734,-0.28872310361867176,-1.4921175757108949,-1.188952137668495,0.47716571052481055,1.543910825058214,1.4726571348561308,0.5507819537195303,-1.6558234228441506,0.5390984269896137,0.3525074699864782,0.42645531373262363,-0.26311097661064403,0.6017581127464071,-0.6116925342911296,-2.171599774932019,-0.03716068289075018,0.5189512190682418,0.059429755509573225,-1.3967446596137272,-0.12202190199365653],\"type\":\"histogram\"},{\"histfunc\":\"count\",\"histnorm\":\"\",\"marker\":{\"color\":\"rgba(50, 171, 96, 1.0)\",\"line\":{\"color\":\"#4D5663\",\"width\":1.3}},\"name\":\"C\",\"nbinsx\":100,\"opacity\":0.8,\"orientation\":\"v\",\"x\":[-0.9196736624837573,0.5221521308335456,-0.4652498556979664,-1.454576414975132,0.436963063980055,1.4246799209117655,0.4795452278319759,1.0324097092675564,-1.2832969606128202,-1.4968684022895624,-0.01530092520712653,0.12291412210634833,-0.7509181015075169,2.508104676406065,0.4794525639949759,0.35700998615689433,-1.1831551942505845,0.8462407906799473,-1.0110263178467456,-0.4996367099663234,-0.15371107386966737,0.7875046929873949,-0.5041129185773495,0.3100861574387777,-0.5085707880875892,-0.22904189463503952,1.1706859225529218,-0.2719616076737529,0.8730665064136831,-1.184444283062692,0.8443375020986033,-0.3644937024112057,0.163478795827416,1.3772593435192526,0.08228471908569834,0.7605476156012057,-0.2504732383628632,0.1360064889167746,-3.644827998386898,-0.8793232150210272,0.3016143396085256,-0.49067491280895753,0.9579194000316426,-0.4348468067931921,-0.1946192264292153,-0.25793957366857867,0.75240596772292,-1.5929338059697495,-0.7269388164897601,0.4908818232564113,0.32641763647555144,0.48126621634927375,0.7141055423303951,-0.21426386859688382,-0.23225615893380858,0.9513770859984828,-1.4231640282914806,0.4520630258835394,-1.4919200307825713,1.291291461685043,-0.9941983312459777,0.7596392727401325,-0.5926195035122472,-0.5566293229752135,0.2982307468470132,1.738053578883346,0.06608083134619774,0.050839011923767115,1.0275197437881594,-0.8581772302452564,0.6607947683272261,-1.442888595982884,1.7584914022563805,0.3700062517332973,-1.915753567763661,-0.5117284645342928,0.5399265157477181,-0.26832171165488117,1.7322591311557272,1.4823599585000202,-0.21223993931260354,1.506767808999441,2.2535197249080685,-0.1198339588515651,-0.6846434595910331,0.1729807676946648,0.15173920031922505,-0.776613379779808,-0.011810156468320966,-0.7174950712346515,-0.6045945057396989,-0.22156638213211777,0.7921074698882515,0.6234406291140472,0.4010652389488166,0.07550111687761502,0.6651197294575687,1.393114003034596,1.046042718388696,0.38765896670310024],\"type\":\"histogram\"},{\"histfunc\":\"count\",\"histnorm\":\"\",\"marker\":{\"color\":\"rgba(128, 0, 128, 1.0)\",\"line\":{\"color\":\"#4D5663\",\"width\":1.3}},\"name\":\"D\",\"nbinsx\":100,\"opacity\":0.8,\"orientation\":\"v\",\"x\":[0.8154789793317233,-0.7932543362196849,2.1090714139213964,-0.08008470874810897,-1.3001999460071456,-0.7533227790295761,-1.0023303372713803,-0.6526378920334932,-0.6653417572773734,-0.3248412709435413,1.70442130197609,1.6840439606302038,1.313022981891956,-1.0663347951928297,0.3423494606212533,1.3196565164837162,-0.5012998698168185,-0.694618064755753,1.596161415909783,-0.6539249230936592,2.2854155981832025,-0.8285365819761168,1.35019284489788,0.7392664010025717,-0.8728638748620098,-1.257815829544241,1.2170550695382087,1.6487781672823338,-0.7397135971258295,-0.5496178716866912,0.24354353838367032,-0.1981188699638196,0.7450212943920029,-0.688454797303157,1.3609988352021904,1.7836251044013816,-0.42495453030026753,-1.4796654963764373,0.26699530633905383,0.9386337857275068,0.5422571256779178,-0.5951679964609107,1.3591277952198586,1.107835057885836,-0.9043344904432511,0.3590319613430317,-0.7966844234190578,-0.06000227589783168,0.04316938407978105,1.3580552003388051,-0.7760626440378443,1.5854530989997315,-0.46353069186426404,-1.0745167090420498,2.212116176062031,-1.439675541529478,-2.0554704481808495,-0.11811185811532435,-0.41196864579863074,-0.9389985024768397,1.2959635418379791,0.4078693097348912,-0.8671054942393984,1.7252482957866269,-0.17094699657986662,-0.4203898822603816,1.0238149845075084,-1.7082023970596323,1.2105603191784666,0.470411960848045,-0.44163507560902787,-0.561536410751917,-2.2920236391835873,1.6921460848889827,-0.8753528703650812,-0.308624577218057,-0.7479970008532968,0.042424762273314244,0.42775674124162216,-0.7612535278594279,-0.8123766392385495,-0.320045127298039,1.2962971549556204,0.8468549112150666,0.38948944554984866,0.3464931109083758,0.06556931178920412,0.2025946289920695,2.4028721763358156,-1.0664451168631308,0.3001848021183222,0.030968772479112953,0.4189819842801789,-0.5299316257147946,0.3622802315153845,0.8064488289050201,-0.2825747218761014,-1.3516618998411016,0.8904083060648561,-0.3792076435989007],\"type\":\"histogram\"}],                        {\"barmode\":\"overlay\",\"legend\":{\"bgcolor\":\"#F5F6F9\",\"font\":{\"color\":\"#4D5663\"}},\"paper_bgcolor\":\"#F5F6F9\",\"plot_bgcolor\":\"#F5F6F9\",\"template\":{\"data\":{\"barpolar\":[{\"marker\":{\"line\":{\"color\":\"#E5ECF6\",\"width\":0.5},\"pattern\":{\"fillmode\":\"overlay\",\"size\":10,\"solidity\":0.2}},\"type\":\"barpolar\"}],\"bar\":[{\"error_x\":{\"color\":\"#2a3f5f\"},\"error_y\":{\"color\":\"#2a3f5f\"},\"marker\":{\"line\":{\"color\":\"#E5ECF6\",\"width\":0.5},\"pattern\":{\"fillmode\":\"overlay\",\"size\":10,\"solidity\":0.2}},\"type\":\"bar\"}],\"carpet\":[{\"aaxis\":{\"endlinecolor\":\"#2a3f5f\",\"gridcolor\":\"white\",\"linecolor\":\"white\",\"minorgridcolor\":\"white\",\"startlinecolor\":\"#2a3f5f\"},\"baxis\":{\"endlinecolor\":\"#2a3f5f\",\"gridcolor\":\"white\",\"linecolor\":\"white\",\"minorgridcolor\":\"white\",\"startlinecolor\":\"#2a3f5f\"},\"type\":\"carpet\"}],\"choropleth\":[{\"colorbar\":{\"outlinewidth\":0,\"ticks\":\"\"},\"type\":\"choropleth\"}],\"contourcarpet\":[{\"colorbar\":{\"outlinewidth\":0,\"ticks\":\"\"},\"type\":\"contourcarpet\"}],\"contour\":[{\"colorbar\":{\"outlinewidth\":0,\"ticks\":\"\"},\"colorscale\":[[0.0,\"#0d0887\"],[0.1111111111111111,\"#46039f\"],[0.2222222222222222,\"#7201a8\"],[0.3333333333333333,\"#9c179e\"],[0.4444444444444444,\"#bd3786\"],[0.5555555555555556,\"#d8576b\"],[0.6666666666666666,\"#ed7953\"],[0.7777777777777778,\"#fb9f3a\"],[0.8888888888888888,\"#fdca26\"],[1.0,\"#f0f921\"]],\"type\":\"contour\"}],\"heatmapgl\":[{\"colorbar\":{\"outlinewidth\":0,\"ticks\":\"\"},\"colorscale\":[[0.0,\"#0d0887\"],[0.1111111111111111,\"#46039f\"],[0.2222222222222222,\"#7201a8\"],[0.3333333333333333,\"#9c179e\"],[0.4444444444444444,\"#bd3786\"],[0.5555555555555556,\"#d8576b\"],[0.6666666666666666,\"#ed7953\"],[0.7777777777777778,\"#fb9f3a\"],[0.8888888888888888,\"#fdca26\"],[1.0,\"#f0f921\"]],\"type\":\"heatmapgl\"}],\"heatmap\":[{\"colorbar\":{\"outlinewidth\":0,\"ticks\":\"\"},\"colorscale\":[[0.0,\"#0d0887\"],[0.1111111111111111,\"#46039f\"],[0.2222222222222222,\"#7201a8\"],[0.3333333333333333,\"#9c179e\"],[0.4444444444444444,\"#bd3786\"],[0.5555555555555556,\"#d8576b\"],[0.6666666666666666,\"#ed7953\"],[0.7777777777777778,\"#fb9f3a\"],[0.8888888888888888,\"#fdca26\"],[1.0,\"#f0f921\"]],\"type\":\"heatmap\"}],\"histogram2dcontour\":[{\"colorbar\":{\"outlinewidth\":0,\"ticks\":\"\"},\"colorscale\":[[0.0,\"#0d0887\"],[0.1111111111111111,\"#46039f\"],[0.2222222222222222,\"#7201a8\"],[0.3333333333333333,\"#9c179e\"],[0.4444444444444444,\"#bd3786\"],[0.5555555555555556,\"#d8576b\"],[0.6666666666666666,\"#ed7953\"],[0.7777777777777778,\"#fb9f3a\"],[0.8888888888888888,\"#fdca26\"],[1.0,\"#f0f921\"]],\"type\":\"histogram2dcontour\"}],\"histogram2d\":[{\"colorbar\":{\"outlinewidth\":0,\"ticks\":\"\"},\"colorscale\":[[0.0,\"#0d0887\"],[0.1111111111111111,\"#46039f\"],[0.2222222222222222,\"#7201a8\"],[0.3333333333333333,\"#9c179e\"],[0.4444444444444444,\"#bd3786\"],[0.5555555555555556,\"#d8576b\"],[0.6666666666666666,\"#ed7953\"],[0.7777777777777778,\"#fb9f3a\"],[0.8888888888888888,\"#fdca26\"],[1.0,\"#f0f921\"]],\"type\":\"histogram2d\"}],\"histogram\":[{\"marker\":{\"pattern\":{\"fillmode\":\"overlay\",\"size\":10,\"solidity\":0.2}},\"type\":\"histogram\"}],\"mesh3d\":[{\"colorbar\":{\"outlinewidth\":0,\"ticks\":\"\"},\"type\":\"mesh3d\"}],\"parcoords\":[{\"line\":{\"colorbar\":{\"outlinewidth\":0,\"ticks\":\"\"}},\"type\":\"parcoords\"}],\"pie\":[{\"automargin\":true,\"type\":\"pie\"}],\"scatter3d\":[{\"line\":{\"colorbar\":{\"outlinewidth\":0,\"ticks\":\"\"}},\"marker\":{\"colorbar\":{\"outlinewidth\":0,\"ticks\":\"\"}},\"type\":\"scatter3d\"}],\"scattercarpet\":[{\"marker\":{\"colorbar\":{\"outlinewidth\":0,\"ticks\":\"\"}},\"type\":\"scattercarpet\"}],\"scattergeo\":[{\"marker\":{\"colorbar\":{\"outlinewidth\":0,\"ticks\":\"\"}},\"type\":\"scattergeo\"}],\"scattergl\":[{\"marker\":{\"colorbar\":{\"outlinewidth\":0,\"ticks\":\"\"}},\"type\":\"scattergl\"}],\"scattermapbox\":[{\"marker\":{\"colorbar\":{\"outlinewidth\":0,\"ticks\":\"\"}},\"type\":\"scattermapbox\"}],\"scatterpolargl\":[{\"marker\":{\"colorbar\":{\"outlinewidth\":0,\"ticks\":\"\"}},\"type\":\"scatterpolargl\"}],\"scatterpolar\":[{\"marker\":{\"colorbar\":{\"outlinewidth\":0,\"ticks\":\"\"}},\"type\":\"scatterpolar\"}],\"scatter\":[{\"fillpattern\":{\"fillmode\":\"overlay\",\"size\":10,\"solidity\":0.2},\"type\":\"scatter\"}],\"scatterternary\":[{\"marker\":{\"colorbar\":{\"outlinewidth\":0,\"ticks\":\"\"}},\"type\":\"scatterternary\"}],\"surface\":[{\"colorbar\":{\"outlinewidth\":0,\"ticks\":\"\"},\"colorscale\":[[0.0,\"#0d0887\"],[0.1111111111111111,\"#46039f\"],[0.2222222222222222,\"#7201a8\"],[0.3333333333333333,\"#9c179e\"],[0.4444444444444444,\"#bd3786\"],[0.5555555555555556,\"#d8576b\"],[0.6666666666666666,\"#ed7953\"],[0.7777777777777778,\"#fb9f3a\"],[0.8888888888888888,\"#fdca26\"],[1.0,\"#f0f921\"]],\"type\":\"surface\"}],\"table\":[{\"cells\":{\"fill\":{\"color\":\"#EBF0F8\"},\"line\":{\"color\":\"white\"}},\"header\":{\"fill\":{\"color\":\"#C8D4E3\"},\"line\":{\"color\":\"white\"}},\"type\":\"table\"}]},\"layout\":{\"annotationdefaults\":{\"arrowcolor\":\"#2a3f5f\",\"arrowhead\":0,\"arrowwidth\":1},\"autotypenumbers\":\"strict\",\"coloraxis\":{\"colorbar\":{\"outlinewidth\":0,\"ticks\":\"\"}},\"colorscale\":{\"diverging\":[[0,\"#8e0152\"],[0.1,\"#c51b7d\"],[0.2,\"#de77ae\"],[0.3,\"#f1b6da\"],[0.4,\"#fde0ef\"],[0.5,\"#f7f7f7\"],[0.6,\"#e6f5d0\"],[0.7,\"#b8e186\"],[0.8,\"#7fbc41\"],[0.9,\"#4d9221\"],[1,\"#276419\"]],\"sequential\":[[0.0,\"#0d0887\"],[0.1111111111111111,\"#46039f\"],[0.2222222222222222,\"#7201a8\"],[0.3333333333333333,\"#9c179e\"],[0.4444444444444444,\"#bd3786\"],[0.5555555555555556,\"#d8576b\"],[0.6666666666666666,\"#ed7953\"],[0.7777777777777778,\"#fb9f3a\"],[0.8888888888888888,\"#fdca26\"],[1.0,\"#f0f921\"]],\"sequentialminus\":[[0.0,\"#0d0887\"],[0.1111111111111111,\"#46039f\"],[0.2222222222222222,\"#7201a8\"],[0.3333333333333333,\"#9c179e\"],[0.4444444444444444,\"#bd3786\"],[0.5555555555555556,\"#d8576b\"],[0.6666666666666666,\"#ed7953\"],[0.7777777777777778,\"#fb9f3a\"],[0.8888888888888888,\"#fdca26\"],[1.0,\"#f0f921\"]]},\"colorway\":[\"#636efa\",\"#EF553B\",\"#00cc96\",\"#ab63fa\",\"#FFA15A\",\"#19d3f3\",\"#FF6692\",\"#B6E880\",\"#FF97FF\",\"#FECB52\"],\"font\":{\"color\":\"#2a3f5f\"},\"geo\":{\"bgcolor\":\"white\",\"lakecolor\":\"white\",\"landcolor\":\"#E5ECF6\",\"showlakes\":true,\"showland\":true,\"subunitcolor\":\"white\"},\"hoverlabel\":{\"align\":\"left\"},\"hovermode\":\"closest\",\"mapbox\":{\"style\":\"light\"},\"paper_bgcolor\":\"white\",\"plot_bgcolor\":\"#E5ECF6\",\"polar\":{\"angularaxis\":{\"gridcolor\":\"white\",\"linecolor\":\"white\",\"ticks\":\"\"},\"bgcolor\":\"#E5ECF6\",\"radialaxis\":{\"gridcolor\":\"white\",\"linecolor\":\"white\",\"ticks\":\"\"}},\"scene\":{\"xaxis\":{\"backgroundcolor\":\"#E5ECF6\",\"gridcolor\":\"white\",\"gridwidth\":2,\"linecolor\":\"white\",\"showbackground\":true,\"ticks\":\"\",\"zerolinecolor\":\"white\"},\"yaxis\":{\"backgroundcolor\":\"#E5ECF6\",\"gridcolor\":\"white\",\"gridwidth\":2,\"linecolor\":\"white\",\"showbackground\":true,\"ticks\":\"\",\"zerolinecolor\":\"white\"},\"zaxis\":{\"backgroundcolor\":\"#E5ECF6\",\"gridcolor\":\"white\",\"gridwidth\":2,\"linecolor\":\"white\",\"showbackground\":true,\"ticks\":\"\",\"zerolinecolor\":\"white\"}},\"shapedefaults\":{\"line\":{\"color\":\"#2a3f5f\"}},\"ternary\":{\"aaxis\":{\"gridcolor\":\"white\",\"linecolor\":\"white\",\"ticks\":\"\"},\"baxis\":{\"gridcolor\":\"white\",\"linecolor\":\"white\",\"ticks\":\"\"},\"bgcolor\":\"#E5ECF6\",\"caxis\":{\"gridcolor\":\"white\",\"linecolor\":\"white\",\"ticks\":\"\"}},\"title\":{\"x\":0.05},\"xaxis\":{\"automargin\":true,\"gridcolor\":\"white\",\"linecolor\":\"white\",\"ticks\":\"\",\"title\":{\"standoff\":15},\"zerolinecolor\":\"white\",\"zerolinewidth\":2},\"yaxis\":{\"automargin\":true,\"gridcolor\":\"white\",\"linecolor\":\"white\",\"ticks\":\"\",\"title\":{\"standoff\":15},\"zerolinecolor\":\"white\",\"zerolinewidth\":2}}},\"title\":{\"font\":{\"color\":\"#4D5663\"}},\"xaxis\":{\"gridcolor\":\"#E1E5ED\",\"showgrid\":true,\"tickfont\":{\"color\":\"#4D5663\"},\"title\":{\"font\":{\"color\":\"#4D5663\"},\"text\":\"\"},\"zerolinecolor\":\"#E1E5ED\"},\"yaxis\":{\"gridcolor\":\"#E1E5ED\",\"showgrid\":true,\"tickfont\":{\"color\":\"#4D5663\"},\"title\":{\"font\":{\"color\":\"#4D5663\"},\"text\":\"\"},\"zerolinecolor\":\"#E1E5ED\"}},                        {\"showLink\": true, \"linkText\": \"Export to plot.ly\", \"plotlyServerURL\": \"https://plot.ly\", \"responsive\": true}                    ).then(function(){\n",
       "                            \n",
       "var gd = document.getElementById('6cd60550-1fed-4e54-b11e-be5627037798');\n",
       "var x = new MutationObserver(function (mutations, observer) {{\n",
       "        var display = window.getComputedStyle(gd).display;\n",
       "        if (!display || display === 'none') {{\n",
       "            console.log([gd, 'removed!']);\n",
       "            Plotly.purge(gd);\n",
       "            observer.disconnect();\n",
       "        }}\n",
       "}});\n",
       "\n",
       "// Listen for the removal of the full notebook cells\n",
       "var notebookContainer = gd.closest('#notebook-container');\n",
       "if (notebookContainer) {{\n",
       "    x.observe(notebookContainer, {childList: true});\n",
       "}}\n",
       "\n",
       "// Listen for the clearing of the current output cell\n",
       "var outputEl = gd.closest('.output');\n",
       "if (outputEl) {{\n",
       "    x.observe(outputEl, {childList: true});\n",
       "}}\n",
       "\n",
       "                        })                };                });            </script>        </div>"
      ]
     },
     "metadata": {},
     "output_type": "display_data"
    }
   ],
   "source": [
    "df.iplot(kind='hist', bins=100)"
   ]
  },
  {
   "cell_type": "code",
   "execution_count": 33,
   "metadata": {},
   "outputs": [
    {
     "data": {
      "application/vnd.plotly.v1+json": {
       "config": {
        "linkText": "Export to plot.ly",
        "plotlyServerURL": "https://plot.ly",
        "showLink": true
       },
       "data": [
        {
         "marker": {
          "color": [
           "rgb(255, 153, 51)",
           "rgb(55, 128, 191)",
           "rgb(50, 171, 96)",
           "rgb(128, 0, 128)",
           "rgb(219, 64, 82)",
           "rgb(0, 128, 128)",
           "rgb(255, 255, 51)",
           "rgb(128, 128, 0)",
           "rgb(251, 128, 114)",
           "rgb(128, 177, 211)"
          ],
          "line": {
           "width": 1.3
          },
          "size": [
           56,
           79,
           63,
           47,
           78,
           94,
           79,
           88,
           50,
           46,
           70,
           73,
           59,
           111,
           79,
           77,
           52,
           84,
           54,
           63,
           68,
           84,
           63,
           76,
           62,
           67,
           90,
           66,
           85,
           51,
           84,
           65,
           73,
           93,
           72,
           83,
           67,
           73,
           12,
           56,
           76,
           63,
           86,
           64,
           68,
           67,
           83,
           45,
           59,
           79,
           76,
           79,
           82,
           67,
           67,
           86,
           48,
           78,
           46,
           92,
           55,
           83,
           61,
           62,
           76,
           99,
           72,
           72,
           87,
           57,
           81,
           47,
           99,
           77,
           40,
           62,
           80,
           66,
           99,
           95,
           67,
           95,
           107,
           69,
           60,
           74,
           73,
           58,
           71,
           59,
           61,
           67,
           84,
           81,
           77,
           72,
           82,
           93,
           88,
           77
          ],
          "symbol": "circle"
         },
         "mode": "markers",
         "text": "",
         "type": "scatter",
         "x": [
          -1.8385733383142502,
          0.8672457158580731,
          -1.6913759918836615,
          0.5490542772053529,
          -2.0448630397110024,
          -0.436039090217473,
          0.640548445743603,
          -1.7077325737917555,
          -1.6524174520551473,
          0.0007907560837533417,
          -0.25491887646539024,
          -1.1446104505452164,
          -0.8475481744004824,
          -0.8161181953930615,
          0.5861143155452699,
          -0.9317973692372261,
          1.3502398786147136,
          1.758118402606856,
          -1.1285332734978477,
          0.2585914173805949,
          1.9798015362947452,
          -0.30833965880411174,
          -1.0916955750299806,
          -0.057158385929394206,
          -1.0173606571226235,
          -0.8609220665567381,
          0.34741981219265133,
          -0.159358858867689,
          -0.43678412656387205,
          1.0627399323565616,
          -0.46706211244850665,
          -1.0427327308265124,
          -0.805693324842712,
          1.2770479544421895,
          0.32725761362015926,
          -0.568339510681153,
          -0.17447432698006723,
          -0.4573707756151931,
          0.7606294655707999,
          -0.7617983457284897,
          -0.633282488675788,
          0.9728067392089667,
          -0.08487630361962098,
          0.3451327034103059,
          -0.6434382015122148,
          -0.04919239099224115,
          -0.9798565186308319,
          1.3434944279834213,
          -0.09167130080686495,
          1.0280892123070835,
          -0.3727016281831937,
          0.205542353970833,
          0.49831900690235065,
          1.7667036512937528,
          0.06524931756953356,
          -1.1670797528842665,
          1.4913743607172376,
          0.3324568668491796,
          -0.15963192960528763,
          0.8849002460549106,
          -0.03419324271954416,
          0.2147022298380133,
          0.28974036454646246,
          -0.5798551719469845,
          0.42251601005333417,
          1.3154237088128184,
          1.0678775274202026,
          -0.715758017669985,
          -0.3140111688724749,
          -0.3734547451342669,
          0.4587328215325148,
          1.612073033741679,
          0.47558226142986987,
          -0.09115866157864358,
          0.6420263742551169,
          1.6629991156109898,
          -0.041887956096666505,
          0.4026327112865466,
          -0.7230102257213117,
          -0.13806081513002783,
          -1.9263259804307988,
          0.14389781394832898,
          -0.39106888558889374,
          -1.112691564259992,
          -0.41206708388351254,
          -1.5152032295504612,
          -0.32538019360859577,
          -0.39310628515137575,
          0.8596315300656956,
          -1.1162033172974786,
          -0.16595682132475104,
          -0.5054498229079003,
          0.5803298130870016,
          0.5865017276164397,
          -0.7746419487800955,
          0.4457882182331863,
          0.8512406554100072,
          -1.2480430036217465,
          -0.7328490073246734,
          0.4212693260620615
         ],
         "y": [
          -0.8731235508419704,
          0.4063663035008937,
          0.21393598835476177,
          -1.104000474626746,
          0.5206746278740676,
          -0.01884568069583808,
          0.6535981950685156,
          1.14439206448552,
          0.2929545928156336,
          -0.16538062686284627,
          1.097259225149773,
          -0.17808812529378423,
          -0.3126979876594213,
          1.1407520085951446,
          -0.566490064694201,
          0.7754917175479495,
          1.4724657738930809,
          -0.31017028299879124,
          -0.4753489359520454,
          1.7232179936716367,
          1.1414347256400401,
          -1.5106868013232306,
          -0.27992397842532235,
          -1.2139882533244817,
          0.4100934910089962,
          -0.5350054452183555,
          -0.5204945468601557,
          1.1142921087326496,
          -0.2887747339451265,
          0.09408581523160633,
          -1.279987458410801,
          -1.1740868613129465,
          -0.2926245600408343,
          -0.144877649537023,
          -0.9093457610034482,
          -0.5337689022180023,
          -0.017084322289417468,
          -1.6158225718623438,
          -1.1108767685479153,
          0.02611783578981778,
          -0.8674402869197879,
          0.480636199850919,
          -0.2551140401163761,
          0.09623414190198235,
          -0.6202596403538848,
          0.5512673714408092,
          1.5704362845628481,
          -0.06966255000115672,
          -0.7570796474829151,
          -2.3695016015417085,
          0.46985021980766656,
          -0.030284933437563066,
          -1.0464134874584372,
          -1.0710710395950138,
          0.22367596900939501,
          -1.3243189763274024,
          -0.18681523974469796,
          -0.26070960892291023,
          0.8125436741292955,
          -0.09950014014884463,
          0.3043036492382808,
          -0.470809417865467,
          -0.7970930223513626,
          -1.2001380253082512,
          -0.9417384031922611,
          -1.5184279582950249,
          -0.01725072375345233,
          -3.2444595535507403,
          0.5016346345637226,
          0.7050353536724342,
          1.2475875852443647,
          0.6936890152049425,
          2.591819172760977,
          -0.10101232298967208,
          0.8626542256645922,
          -1.2637655623733213,
          -0.057879488695521474,
          0.3338770631315833,
          -0.8654952418554549,
          0.300168575014734,
          -0.28872310361867176,
          -1.4921175757108949,
          -1.188952137668495,
          0.47716571052481055,
          1.543910825058214,
          1.4726571348561308,
          0.5507819537195303,
          -1.6558234228441506,
          0.5390984269896137,
          0.3525074699864782,
          0.42645531373262363,
          -0.26311097661064403,
          0.6017581127464071,
          -0.6116925342911296,
          -2.171599774932019,
          -0.03716068289075018,
          0.5189512190682418,
          0.059429755509573225,
          -1.3967446596137272,
          -0.12202190199365653
         ]
        }
       ],
       "layout": {
        "legend": {
         "bgcolor": "#F5F6F9",
         "font": {
          "color": "#4D5663"
         }
        },
        "paper_bgcolor": "#F5F6F9",
        "plot_bgcolor": "#F5F6F9",
        "template": {
         "data": {
          "bar": [
           {
            "error_x": {
             "color": "#2a3f5f"
            },
            "error_y": {
             "color": "#2a3f5f"
            },
            "marker": {
             "line": {
              "color": "#E5ECF6",
              "width": 0.5
             },
             "pattern": {
              "fillmode": "overlay",
              "size": 10,
              "solidity": 0.2
             }
            },
            "type": "bar"
           }
          ],
          "barpolar": [
           {
            "marker": {
             "line": {
              "color": "#E5ECF6",
              "width": 0.5
             },
             "pattern": {
              "fillmode": "overlay",
              "size": 10,
              "solidity": 0.2
             }
            },
            "type": "barpolar"
           }
          ],
          "carpet": [
           {
            "aaxis": {
             "endlinecolor": "#2a3f5f",
             "gridcolor": "white",
             "linecolor": "white",
             "minorgridcolor": "white",
             "startlinecolor": "#2a3f5f"
            },
            "baxis": {
             "endlinecolor": "#2a3f5f",
             "gridcolor": "white",
             "linecolor": "white",
             "minorgridcolor": "white",
             "startlinecolor": "#2a3f5f"
            },
            "type": "carpet"
           }
          ],
          "choropleth": [
           {
            "colorbar": {
             "outlinewidth": 0,
             "ticks": ""
            },
            "type": "choropleth"
           }
          ],
          "contour": [
           {
            "colorbar": {
             "outlinewidth": 0,
             "ticks": ""
            },
            "colorscale": [
             [
              0,
              "#0d0887"
             ],
             [
              0.1111111111111111,
              "#46039f"
             ],
             [
              0.2222222222222222,
              "#7201a8"
             ],
             [
              0.3333333333333333,
              "#9c179e"
             ],
             [
              0.4444444444444444,
              "#bd3786"
             ],
             [
              0.5555555555555556,
              "#d8576b"
             ],
             [
              0.6666666666666666,
              "#ed7953"
             ],
             [
              0.7777777777777778,
              "#fb9f3a"
             ],
             [
              0.8888888888888888,
              "#fdca26"
             ],
             [
              1,
              "#f0f921"
             ]
            ],
            "type": "contour"
           }
          ],
          "contourcarpet": [
           {
            "colorbar": {
             "outlinewidth": 0,
             "ticks": ""
            },
            "type": "contourcarpet"
           }
          ],
          "heatmap": [
           {
            "colorbar": {
             "outlinewidth": 0,
             "ticks": ""
            },
            "colorscale": [
             [
              0,
              "#0d0887"
             ],
             [
              0.1111111111111111,
              "#46039f"
             ],
             [
              0.2222222222222222,
              "#7201a8"
             ],
             [
              0.3333333333333333,
              "#9c179e"
             ],
             [
              0.4444444444444444,
              "#bd3786"
             ],
             [
              0.5555555555555556,
              "#d8576b"
             ],
             [
              0.6666666666666666,
              "#ed7953"
             ],
             [
              0.7777777777777778,
              "#fb9f3a"
             ],
             [
              0.8888888888888888,
              "#fdca26"
             ],
             [
              1,
              "#f0f921"
             ]
            ],
            "type": "heatmap"
           }
          ],
          "heatmapgl": [
           {
            "colorbar": {
             "outlinewidth": 0,
             "ticks": ""
            },
            "colorscale": [
             [
              0,
              "#0d0887"
             ],
             [
              0.1111111111111111,
              "#46039f"
             ],
             [
              0.2222222222222222,
              "#7201a8"
             ],
             [
              0.3333333333333333,
              "#9c179e"
             ],
             [
              0.4444444444444444,
              "#bd3786"
             ],
             [
              0.5555555555555556,
              "#d8576b"
             ],
             [
              0.6666666666666666,
              "#ed7953"
             ],
             [
              0.7777777777777778,
              "#fb9f3a"
             ],
             [
              0.8888888888888888,
              "#fdca26"
             ],
             [
              1,
              "#f0f921"
             ]
            ],
            "type": "heatmapgl"
           }
          ],
          "histogram": [
           {
            "marker": {
             "pattern": {
              "fillmode": "overlay",
              "size": 10,
              "solidity": 0.2
             }
            },
            "type": "histogram"
           }
          ],
          "histogram2d": [
           {
            "colorbar": {
             "outlinewidth": 0,
             "ticks": ""
            },
            "colorscale": [
             [
              0,
              "#0d0887"
             ],
             [
              0.1111111111111111,
              "#46039f"
             ],
             [
              0.2222222222222222,
              "#7201a8"
             ],
             [
              0.3333333333333333,
              "#9c179e"
             ],
             [
              0.4444444444444444,
              "#bd3786"
             ],
             [
              0.5555555555555556,
              "#d8576b"
             ],
             [
              0.6666666666666666,
              "#ed7953"
             ],
             [
              0.7777777777777778,
              "#fb9f3a"
             ],
             [
              0.8888888888888888,
              "#fdca26"
             ],
             [
              1,
              "#f0f921"
             ]
            ],
            "type": "histogram2d"
           }
          ],
          "histogram2dcontour": [
           {
            "colorbar": {
             "outlinewidth": 0,
             "ticks": ""
            },
            "colorscale": [
             [
              0,
              "#0d0887"
             ],
             [
              0.1111111111111111,
              "#46039f"
             ],
             [
              0.2222222222222222,
              "#7201a8"
             ],
             [
              0.3333333333333333,
              "#9c179e"
             ],
             [
              0.4444444444444444,
              "#bd3786"
             ],
             [
              0.5555555555555556,
              "#d8576b"
             ],
             [
              0.6666666666666666,
              "#ed7953"
             ],
             [
              0.7777777777777778,
              "#fb9f3a"
             ],
             [
              0.8888888888888888,
              "#fdca26"
             ],
             [
              1,
              "#f0f921"
             ]
            ],
            "type": "histogram2dcontour"
           }
          ],
          "mesh3d": [
           {
            "colorbar": {
             "outlinewidth": 0,
             "ticks": ""
            },
            "type": "mesh3d"
           }
          ],
          "parcoords": [
           {
            "line": {
             "colorbar": {
              "outlinewidth": 0,
              "ticks": ""
             }
            },
            "type": "parcoords"
           }
          ],
          "pie": [
           {
            "automargin": true,
            "type": "pie"
           }
          ],
          "scatter": [
           {
            "fillpattern": {
             "fillmode": "overlay",
             "size": 10,
             "solidity": 0.2
            },
            "type": "scatter"
           }
          ],
          "scatter3d": [
           {
            "line": {
             "colorbar": {
              "outlinewidth": 0,
              "ticks": ""
             }
            },
            "marker": {
             "colorbar": {
              "outlinewidth": 0,
              "ticks": ""
             }
            },
            "type": "scatter3d"
           }
          ],
          "scattercarpet": [
           {
            "marker": {
             "colorbar": {
              "outlinewidth": 0,
              "ticks": ""
             }
            },
            "type": "scattercarpet"
           }
          ],
          "scattergeo": [
           {
            "marker": {
             "colorbar": {
              "outlinewidth": 0,
              "ticks": ""
             }
            },
            "type": "scattergeo"
           }
          ],
          "scattergl": [
           {
            "marker": {
             "colorbar": {
              "outlinewidth": 0,
              "ticks": ""
             }
            },
            "type": "scattergl"
           }
          ],
          "scattermapbox": [
           {
            "marker": {
             "colorbar": {
              "outlinewidth": 0,
              "ticks": ""
             }
            },
            "type": "scattermapbox"
           }
          ],
          "scatterpolar": [
           {
            "marker": {
             "colorbar": {
              "outlinewidth": 0,
              "ticks": ""
             }
            },
            "type": "scatterpolar"
           }
          ],
          "scatterpolargl": [
           {
            "marker": {
             "colorbar": {
              "outlinewidth": 0,
              "ticks": ""
             }
            },
            "type": "scatterpolargl"
           }
          ],
          "scatterternary": [
           {
            "marker": {
             "colorbar": {
              "outlinewidth": 0,
              "ticks": ""
             }
            },
            "type": "scatterternary"
           }
          ],
          "surface": [
           {
            "colorbar": {
             "outlinewidth": 0,
             "ticks": ""
            },
            "colorscale": [
             [
              0,
              "#0d0887"
             ],
             [
              0.1111111111111111,
              "#46039f"
             ],
             [
              0.2222222222222222,
              "#7201a8"
             ],
             [
              0.3333333333333333,
              "#9c179e"
             ],
             [
              0.4444444444444444,
              "#bd3786"
             ],
             [
              0.5555555555555556,
              "#d8576b"
             ],
             [
              0.6666666666666666,
              "#ed7953"
             ],
             [
              0.7777777777777778,
              "#fb9f3a"
             ],
             [
              0.8888888888888888,
              "#fdca26"
             ],
             [
              1,
              "#f0f921"
             ]
            ],
            "type": "surface"
           }
          ],
          "table": [
           {
            "cells": {
             "fill": {
              "color": "#EBF0F8"
             },
             "line": {
              "color": "white"
             }
            },
            "header": {
             "fill": {
              "color": "#C8D4E3"
             },
             "line": {
              "color": "white"
             }
            },
            "type": "table"
           }
          ]
         },
         "layout": {
          "annotationdefaults": {
           "arrowcolor": "#2a3f5f",
           "arrowhead": 0,
           "arrowwidth": 1
          },
          "autotypenumbers": "strict",
          "coloraxis": {
           "colorbar": {
            "outlinewidth": 0,
            "ticks": ""
           }
          },
          "colorscale": {
           "diverging": [
            [
             0,
             "#8e0152"
            ],
            [
             0.1,
             "#c51b7d"
            ],
            [
             0.2,
             "#de77ae"
            ],
            [
             0.3,
             "#f1b6da"
            ],
            [
             0.4,
             "#fde0ef"
            ],
            [
             0.5,
             "#f7f7f7"
            ],
            [
             0.6,
             "#e6f5d0"
            ],
            [
             0.7,
             "#b8e186"
            ],
            [
             0.8,
             "#7fbc41"
            ],
            [
             0.9,
             "#4d9221"
            ],
            [
             1,
             "#276419"
            ]
           ],
           "sequential": [
            [
             0,
             "#0d0887"
            ],
            [
             0.1111111111111111,
             "#46039f"
            ],
            [
             0.2222222222222222,
             "#7201a8"
            ],
            [
             0.3333333333333333,
             "#9c179e"
            ],
            [
             0.4444444444444444,
             "#bd3786"
            ],
            [
             0.5555555555555556,
             "#d8576b"
            ],
            [
             0.6666666666666666,
             "#ed7953"
            ],
            [
             0.7777777777777778,
             "#fb9f3a"
            ],
            [
             0.8888888888888888,
             "#fdca26"
            ],
            [
             1,
             "#f0f921"
            ]
           ],
           "sequentialminus": [
            [
             0,
             "#0d0887"
            ],
            [
             0.1111111111111111,
             "#46039f"
            ],
            [
             0.2222222222222222,
             "#7201a8"
            ],
            [
             0.3333333333333333,
             "#9c179e"
            ],
            [
             0.4444444444444444,
             "#bd3786"
            ],
            [
             0.5555555555555556,
             "#d8576b"
            ],
            [
             0.6666666666666666,
             "#ed7953"
            ],
            [
             0.7777777777777778,
             "#fb9f3a"
            ],
            [
             0.8888888888888888,
             "#fdca26"
            ],
            [
             1,
             "#f0f921"
            ]
           ]
          },
          "colorway": [
           "#636efa",
           "#EF553B",
           "#00cc96",
           "#ab63fa",
           "#FFA15A",
           "#19d3f3",
           "#FF6692",
           "#B6E880",
           "#FF97FF",
           "#FECB52"
          ],
          "font": {
           "color": "#2a3f5f"
          },
          "geo": {
           "bgcolor": "white",
           "lakecolor": "white",
           "landcolor": "#E5ECF6",
           "showlakes": true,
           "showland": true,
           "subunitcolor": "white"
          },
          "hoverlabel": {
           "align": "left"
          },
          "hovermode": "closest",
          "mapbox": {
           "style": "light"
          },
          "paper_bgcolor": "white",
          "plot_bgcolor": "#E5ECF6",
          "polar": {
           "angularaxis": {
            "gridcolor": "white",
            "linecolor": "white",
            "ticks": ""
           },
           "bgcolor": "#E5ECF6",
           "radialaxis": {
            "gridcolor": "white",
            "linecolor": "white",
            "ticks": ""
           }
          },
          "scene": {
           "xaxis": {
            "backgroundcolor": "#E5ECF6",
            "gridcolor": "white",
            "gridwidth": 2,
            "linecolor": "white",
            "showbackground": true,
            "ticks": "",
            "zerolinecolor": "white"
           },
           "yaxis": {
            "backgroundcolor": "#E5ECF6",
            "gridcolor": "white",
            "gridwidth": 2,
            "linecolor": "white",
            "showbackground": true,
            "ticks": "",
            "zerolinecolor": "white"
           },
           "zaxis": {
            "backgroundcolor": "#E5ECF6",
            "gridcolor": "white",
            "gridwidth": 2,
            "linecolor": "white",
            "showbackground": true,
            "ticks": "",
            "zerolinecolor": "white"
           }
          },
          "shapedefaults": {
           "line": {
            "color": "#2a3f5f"
           }
          },
          "ternary": {
           "aaxis": {
            "gridcolor": "white",
            "linecolor": "white",
            "ticks": ""
           },
           "baxis": {
            "gridcolor": "white",
            "linecolor": "white",
            "ticks": ""
           },
           "bgcolor": "#E5ECF6",
           "caxis": {
            "gridcolor": "white",
            "linecolor": "white",
            "ticks": ""
           }
          },
          "title": {
           "x": 0.05
          },
          "xaxis": {
           "automargin": true,
           "gridcolor": "white",
           "linecolor": "white",
           "ticks": "",
           "title": {
            "standoff": 15
           },
           "zerolinecolor": "white",
           "zerolinewidth": 2
          },
          "yaxis": {
           "automargin": true,
           "gridcolor": "white",
           "linecolor": "white",
           "ticks": "",
           "title": {
            "standoff": 15
           },
           "zerolinecolor": "white",
           "zerolinewidth": 2
          }
         }
        },
        "title": {
         "font": {
          "color": "#4D5663"
         }
        },
        "xaxis": {
         "gridcolor": "#E1E5ED",
         "showgrid": true,
         "tickfont": {
          "color": "#4D5663"
         },
         "title": {
          "font": {
           "color": "#4D5663"
          },
          "text": ""
         },
         "zerolinecolor": "#E1E5ED"
        },
        "yaxis": {
         "gridcolor": "#E1E5ED",
         "showgrid": true,
         "tickfont": {
          "color": "#4D5663"
         },
         "title": {
          "font": {
           "color": "#4D5663"
          },
          "text": ""
         },
         "zerolinecolor": "#E1E5ED"
        }
       }
      },
      "text/html": [
       "<div>                            <div id=\"4c4a26ea-8eb4-4224-b29a-3915b449ee85\" class=\"plotly-graph-div\" style=\"height:525px; width:100%;\"></div>            <script type=\"text/javascript\">                require([\"plotly\"], function(Plotly) {                    window.PLOTLYENV=window.PLOTLYENV || {};\n",
       "                    window.PLOTLYENV.BASE_URL='https://plot.ly';                                    if (document.getElementById(\"4c4a26ea-8eb4-4224-b29a-3915b449ee85\")) {                    Plotly.newPlot(                        \"4c4a26ea-8eb4-4224-b29a-3915b449ee85\",                        [{\"marker\":{\"color\":[\"rgb(255, 153, 51)\",\"rgb(55, 128, 191)\",\"rgb(50, 171, 96)\",\"rgb(128, 0, 128)\",\"rgb(219, 64, 82)\",\"rgb(0, 128, 128)\",\"rgb(255, 255, 51)\",\"rgb(128, 128, 0)\",\"rgb(251, 128, 114)\",\"rgb(128, 177, 211)\"],\"line\":{\"width\":1.3},\"size\":[56,79,63,47,78,94,79,88,50,46,70,73,59,111,79,77,52,84,54,63,68,84,63,76,62,67,90,66,85,51,84,65,73,93,72,83,67,73,12,56,76,63,86,64,68,67,83,45,59,79,76,79,82,67,67,86,48,78,46,92,55,83,61,62,76,99,72,72,87,57,81,47,99,77,40,62,80,66,99,95,67,95,107,69,60,74,73,58,71,59,61,67,84,81,77,72,82,93,88,77],\"symbol\":\"circle\"},\"mode\":\"markers\",\"text\":\"\",\"x\":[-1.8385733383142502,0.8672457158580731,-1.6913759918836615,0.5490542772053529,-2.0448630397110024,-0.436039090217473,0.640548445743603,-1.7077325737917555,-1.6524174520551473,0.0007907560837533417,-0.25491887646539024,-1.1446104505452164,-0.8475481744004824,-0.8161181953930615,0.5861143155452699,-0.9317973692372261,1.3502398786147136,1.758118402606856,-1.1285332734978477,0.2585914173805949,1.9798015362947452,-0.30833965880411174,-1.0916955750299806,-0.057158385929394206,-1.0173606571226235,-0.8609220665567381,0.34741981219265133,-0.159358858867689,-0.43678412656387205,1.0627399323565616,-0.46706211244850665,-1.0427327308265124,-0.805693324842712,1.2770479544421895,0.32725761362015926,-0.568339510681153,-0.17447432698006723,-0.4573707756151931,0.7606294655707999,-0.7617983457284897,-0.633282488675788,0.9728067392089667,-0.08487630361962098,0.3451327034103059,-0.6434382015122148,-0.04919239099224115,-0.9798565186308319,1.3434944279834213,-0.09167130080686495,1.0280892123070835,-0.3727016281831937,0.205542353970833,0.49831900690235065,1.7667036512937528,0.06524931756953356,-1.1670797528842665,1.4913743607172376,0.3324568668491796,-0.15963192960528763,0.8849002460549106,-0.03419324271954416,0.2147022298380133,0.28974036454646246,-0.5798551719469845,0.42251601005333417,1.3154237088128184,1.0678775274202026,-0.715758017669985,-0.3140111688724749,-0.3734547451342669,0.4587328215325148,1.612073033741679,0.47558226142986987,-0.09115866157864358,0.6420263742551169,1.6629991156109898,-0.041887956096666505,0.4026327112865466,-0.7230102257213117,-0.13806081513002783,-1.9263259804307988,0.14389781394832898,-0.39106888558889374,-1.112691564259992,-0.41206708388351254,-1.5152032295504612,-0.32538019360859577,-0.39310628515137575,0.8596315300656956,-1.1162033172974786,-0.16595682132475104,-0.5054498229079003,0.5803298130870016,0.5865017276164397,-0.7746419487800955,0.4457882182331863,0.8512406554100072,-1.2480430036217465,-0.7328490073246734,0.4212693260620615],\"y\":[-0.8731235508419704,0.4063663035008937,0.21393598835476177,-1.104000474626746,0.5206746278740676,-0.01884568069583808,0.6535981950685156,1.14439206448552,0.2929545928156336,-0.16538062686284627,1.097259225149773,-0.17808812529378423,-0.3126979876594213,1.1407520085951446,-0.566490064694201,0.7754917175479495,1.4724657738930809,-0.31017028299879124,-0.4753489359520454,1.7232179936716367,1.1414347256400401,-1.5106868013232306,-0.27992397842532235,-1.2139882533244817,0.4100934910089962,-0.5350054452183555,-0.5204945468601557,1.1142921087326496,-0.2887747339451265,0.09408581523160633,-1.279987458410801,-1.1740868613129465,-0.2926245600408343,-0.144877649537023,-0.9093457610034482,-0.5337689022180023,-0.017084322289417468,-1.6158225718623438,-1.1108767685479153,0.02611783578981778,-0.8674402869197879,0.480636199850919,-0.2551140401163761,0.09623414190198235,-0.6202596403538848,0.5512673714408092,1.5704362845628481,-0.06966255000115672,-0.7570796474829151,-2.3695016015417085,0.46985021980766656,-0.030284933437563066,-1.0464134874584372,-1.0710710395950138,0.22367596900939501,-1.3243189763274024,-0.18681523974469796,-0.26070960892291023,0.8125436741292955,-0.09950014014884463,0.3043036492382808,-0.470809417865467,-0.7970930223513626,-1.2001380253082512,-0.9417384031922611,-1.5184279582950249,-0.01725072375345233,-3.2444595535507403,0.5016346345637226,0.7050353536724342,1.2475875852443647,0.6936890152049425,2.591819172760977,-0.10101232298967208,0.8626542256645922,-1.2637655623733213,-0.057879488695521474,0.3338770631315833,-0.8654952418554549,0.300168575014734,-0.28872310361867176,-1.4921175757108949,-1.188952137668495,0.47716571052481055,1.543910825058214,1.4726571348561308,0.5507819537195303,-1.6558234228441506,0.5390984269896137,0.3525074699864782,0.42645531373262363,-0.26311097661064403,0.6017581127464071,-0.6116925342911296,-2.171599774932019,-0.03716068289075018,0.5189512190682418,0.059429755509573225,-1.3967446596137272,-0.12202190199365653],\"type\":\"scatter\"}],                        {\"legend\":{\"bgcolor\":\"#F5F6F9\",\"font\":{\"color\":\"#4D5663\"}},\"paper_bgcolor\":\"#F5F6F9\",\"plot_bgcolor\":\"#F5F6F9\",\"template\":{\"data\":{\"barpolar\":[{\"marker\":{\"line\":{\"color\":\"#E5ECF6\",\"width\":0.5},\"pattern\":{\"fillmode\":\"overlay\",\"size\":10,\"solidity\":0.2}},\"type\":\"barpolar\"}],\"bar\":[{\"error_x\":{\"color\":\"#2a3f5f\"},\"error_y\":{\"color\":\"#2a3f5f\"},\"marker\":{\"line\":{\"color\":\"#E5ECF6\",\"width\":0.5},\"pattern\":{\"fillmode\":\"overlay\",\"size\":10,\"solidity\":0.2}},\"type\":\"bar\"}],\"carpet\":[{\"aaxis\":{\"endlinecolor\":\"#2a3f5f\",\"gridcolor\":\"white\",\"linecolor\":\"white\",\"minorgridcolor\":\"white\",\"startlinecolor\":\"#2a3f5f\"},\"baxis\":{\"endlinecolor\":\"#2a3f5f\",\"gridcolor\":\"white\",\"linecolor\":\"white\",\"minorgridcolor\":\"white\",\"startlinecolor\":\"#2a3f5f\"},\"type\":\"carpet\"}],\"choropleth\":[{\"colorbar\":{\"outlinewidth\":0,\"ticks\":\"\"},\"type\":\"choropleth\"}],\"contourcarpet\":[{\"colorbar\":{\"outlinewidth\":0,\"ticks\":\"\"},\"type\":\"contourcarpet\"}],\"contour\":[{\"colorbar\":{\"outlinewidth\":0,\"ticks\":\"\"},\"colorscale\":[[0.0,\"#0d0887\"],[0.1111111111111111,\"#46039f\"],[0.2222222222222222,\"#7201a8\"],[0.3333333333333333,\"#9c179e\"],[0.4444444444444444,\"#bd3786\"],[0.5555555555555556,\"#d8576b\"],[0.6666666666666666,\"#ed7953\"],[0.7777777777777778,\"#fb9f3a\"],[0.8888888888888888,\"#fdca26\"],[1.0,\"#f0f921\"]],\"type\":\"contour\"}],\"heatmapgl\":[{\"colorbar\":{\"outlinewidth\":0,\"ticks\":\"\"},\"colorscale\":[[0.0,\"#0d0887\"],[0.1111111111111111,\"#46039f\"],[0.2222222222222222,\"#7201a8\"],[0.3333333333333333,\"#9c179e\"],[0.4444444444444444,\"#bd3786\"],[0.5555555555555556,\"#d8576b\"],[0.6666666666666666,\"#ed7953\"],[0.7777777777777778,\"#fb9f3a\"],[0.8888888888888888,\"#fdca26\"],[1.0,\"#f0f921\"]],\"type\":\"heatmapgl\"}],\"heatmap\":[{\"colorbar\":{\"outlinewidth\":0,\"ticks\":\"\"},\"colorscale\":[[0.0,\"#0d0887\"],[0.1111111111111111,\"#46039f\"],[0.2222222222222222,\"#7201a8\"],[0.3333333333333333,\"#9c179e\"],[0.4444444444444444,\"#bd3786\"],[0.5555555555555556,\"#d8576b\"],[0.6666666666666666,\"#ed7953\"],[0.7777777777777778,\"#fb9f3a\"],[0.8888888888888888,\"#fdca26\"],[1.0,\"#f0f921\"]],\"type\":\"heatmap\"}],\"histogram2dcontour\":[{\"colorbar\":{\"outlinewidth\":0,\"ticks\":\"\"},\"colorscale\":[[0.0,\"#0d0887\"],[0.1111111111111111,\"#46039f\"],[0.2222222222222222,\"#7201a8\"],[0.3333333333333333,\"#9c179e\"],[0.4444444444444444,\"#bd3786\"],[0.5555555555555556,\"#d8576b\"],[0.6666666666666666,\"#ed7953\"],[0.7777777777777778,\"#fb9f3a\"],[0.8888888888888888,\"#fdca26\"],[1.0,\"#f0f921\"]],\"type\":\"histogram2dcontour\"}],\"histogram2d\":[{\"colorbar\":{\"outlinewidth\":0,\"ticks\":\"\"},\"colorscale\":[[0.0,\"#0d0887\"],[0.1111111111111111,\"#46039f\"],[0.2222222222222222,\"#7201a8\"],[0.3333333333333333,\"#9c179e\"],[0.4444444444444444,\"#bd3786\"],[0.5555555555555556,\"#d8576b\"],[0.6666666666666666,\"#ed7953\"],[0.7777777777777778,\"#fb9f3a\"],[0.8888888888888888,\"#fdca26\"],[1.0,\"#f0f921\"]],\"type\":\"histogram2d\"}],\"histogram\":[{\"marker\":{\"pattern\":{\"fillmode\":\"overlay\",\"size\":10,\"solidity\":0.2}},\"type\":\"histogram\"}],\"mesh3d\":[{\"colorbar\":{\"outlinewidth\":0,\"ticks\":\"\"},\"type\":\"mesh3d\"}],\"parcoords\":[{\"line\":{\"colorbar\":{\"outlinewidth\":0,\"ticks\":\"\"}},\"type\":\"parcoords\"}],\"pie\":[{\"automargin\":true,\"type\":\"pie\"}],\"scatter3d\":[{\"line\":{\"colorbar\":{\"outlinewidth\":0,\"ticks\":\"\"}},\"marker\":{\"colorbar\":{\"outlinewidth\":0,\"ticks\":\"\"}},\"type\":\"scatter3d\"}],\"scattercarpet\":[{\"marker\":{\"colorbar\":{\"outlinewidth\":0,\"ticks\":\"\"}},\"type\":\"scattercarpet\"}],\"scattergeo\":[{\"marker\":{\"colorbar\":{\"outlinewidth\":0,\"ticks\":\"\"}},\"type\":\"scattergeo\"}],\"scattergl\":[{\"marker\":{\"colorbar\":{\"outlinewidth\":0,\"ticks\":\"\"}},\"type\":\"scattergl\"}],\"scattermapbox\":[{\"marker\":{\"colorbar\":{\"outlinewidth\":0,\"ticks\":\"\"}},\"type\":\"scattermapbox\"}],\"scatterpolargl\":[{\"marker\":{\"colorbar\":{\"outlinewidth\":0,\"ticks\":\"\"}},\"type\":\"scatterpolargl\"}],\"scatterpolar\":[{\"marker\":{\"colorbar\":{\"outlinewidth\":0,\"ticks\":\"\"}},\"type\":\"scatterpolar\"}],\"scatter\":[{\"fillpattern\":{\"fillmode\":\"overlay\",\"size\":10,\"solidity\":0.2},\"type\":\"scatter\"}],\"scatterternary\":[{\"marker\":{\"colorbar\":{\"outlinewidth\":0,\"ticks\":\"\"}},\"type\":\"scatterternary\"}],\"surface\":[{\"colorbar\":{\"outlinewidth\":0,\"ticks\":\"\"},\"colorscale\":[[0.0,\"#0d0887\"],[0.1111111111111111,\"#46039f\"],[0.2222222222222222,\"#7201a8\"],[0.3333333333333333,\"#9c179e\"],[0.4444444444444444,\"#bd3786\"],[0.5555555555555556,\"#d8576b\"],[0.6666666666666666,\"#ed7953\"],[0.7777777777777778,\"#fb9f3a\"],[0.8888888888888888,\"#fdca26\"],[1.0,\"#f0f921\"]],\"type\":\"surface\"}],\"table\":[{\"cells\":{\"fill\":{\"color\":\"#EBF0F8\"},\"line\":{\"color\":\"white\"}},\"header\":{\"fill\":{\"color\":\"#C8D4E3\"},\"line\":{\"color\":\"white\"}},\"type\":\"table\"}]},\"layout\":{\"annotationdefaults\":{\"arrowcolor\":\"#2a3f5f\",\"arrowhead\":0,\"arrowwidth\":1},\"autotypenumbers\":\"strict\",\"coloraxis\":{\"colorbar\":{\"outlinewidth\":0,\"ticks\":\"\"}},\"colorscale\":{\"diverging\":[[0,\"#8e0152\"],[0.1,\"#c51b7d\"],[0.2,\"#de77ae\"],[0.3,\"#f1b6da\"],[0.4,\"#fde0ef\"],[0.5,\"#f7f7f7\"],[0.6,\"#e6f5d0\"],[0.7,\"#b8e186\"],[0.8,\"#7fbc41\"],[0.9,\"#4d9221\"],[1,\"#276419\"]],\"sequential\":[[0.0,\"#0d0887\"],[0.1111111111111111,\"#46039f\"],[0.2222222222222222,\"#7201a8\"],[0.3333333333333333,\"#9c179e\"],[0.4444444444444444,\"#bd3786\"],[0.5555555555555556,\"#d8576b\"],[0.6666666666666666,\"#ed7953\"],[0.7777777777777778,\"#fb9f3a\"],[0.8888888888888888,\"#fdca26\"],[1.0,\"#f0f921\"]],\"sequentialminus\":[[0.0,\"#0d0887\"],[0.1111111111111111,\"#46039f\"],[0.2222222222222222,\"#7201a8\"],[0.3333333333333333,\"#9c179e\"],[0.4444444444444444,\"#bd3786\"],[0.5555555555555556,\"#d8576b\"],[0.6666666666666666,\"#ed7953\"],[0.7777777777777778,\"#fb9f3a\"],[0.8888888888888888,\"#fdca26\"],[1.0,\"#f0f921\"]]},\"colorway\":[\"#636efa\",\"#EF553B\",\"#00cc96\",\"#ab63fa\",\"#FFA15A\",\"#19d3f3\",\"#FF6692\",\"#B6E880\",\"#FF97FF\",\"#FECB52\"],\"font\":{\"color\":\"#2a3f5f\"},\"geo\":{\"bgcolor\":\"white\",\"lakecolor\":\"white\",\"landcolor\":\"#E5ECF6\",\"showlakes\":true,\"showland\":true,\"subunitcolor\":\"white\"},\"hoverlabel\":{\"align\":\"left\"},\"hovermode\":\"closest\",\"mapbox\":{\"style\":\"light\"},\"paper_bgcolor\":\"white\",\"plot_bgcolor\":\"#E5ECF6\",\"polar\":{\"angularaxis\":{\"gridcolor\":\"white\",\"linecolor\":\"white\",\"ticks\":\"\"},\"bgcolor\":\"#E5ECF6\",\"radialaxis\":{\"gridcolor\":\"white\",\"linecolor\":\"white\",\"ticks\":\"\"}},\"scene\":{\"xaxis\":{\"backgroundcolor\":\"#E5ECF6\",\"gridcolor\":\"white\",\"gridwidth\":2,\"linecolor\":\"white\",\"showbackground\":true,\"ticks\":\"\",\"zerolinecolor\":\"white\"},\"yaxis\":{\"backgroundcolor\":\"#E5ECF6\",\"gridcolor\":\"white\",\"gridwidth\":2,\"linecolor\":\"white\",\"showbackground\":true,\"ticks\":\"\",\"zerolinecolor\":\"white\"},\"zaxis\":{\"backgroundcolor\":\"#E5ECF6\",\"gridcolor\":\"white\",\"gridwidth\":2,\"linecolor\":\"white\",\"showbackground\":true,\"ticks\":\"\",\"zerolinecolor\":\"white\"}},\"shapedefaults\":{\"line\":{\"color\":\"#2a3f5f\"}},\"ternary\":{\"aaxis\":{\"gridcolor\":\"white\",\"linecolor\":\"white\",\"ticks\":\"\"},\"baxis\":{\"gridcolor\":\"white\",\"linecolor\":\"white\",\"ticks\":\"\"},\"bgcolor\":\"#E5ECF6\",\"caxis\":{\"gridcolor\":\"white\",\"linecolor\":\"white\",\"ticks\":\"\"}},\"title\":{\"x\":0.05},\"xaxis\":{\"automargin\":true,\"gridcolor\":\"white\",\"linecolor\":\"white\",\"ticks\":\"\",\"title\":{\"standoff\":15},\"zerolinecolor\":\"white\",\"zerolinewidth\":2},\"yaxis\":{\"automargin\":true,\"gridcolor\":\"white\",\"linecolor\":\"white\",\"ticks\":\"\",\"title\":{\"standoff\":15},\"zerolinecolor\":\"white\",\"zerolinewidth\":2}}},\"title\":{\"font\":{\"color\":\"#4D5663\"}},\"xaxis\":{\"gridcolor\":\"#E1E5ED\",\"showgrid\":true,\"tickfont\":{\"color\":\"#4D5663\"},\"title\":{\"font\":{\"color\":\"#4D5663\"},\"text\":\"\"},\"zerolinecolor\":\"#E1E5ED\"},\"yaxis\":{\"gridcolor\":\"#E1E5ED\",\"showgrid\":true,\"tickfont\":{\"color\":\"#4D5663\"},\"title\":{\"font\":{\"color\":\"#4D5663\"},\"text\":\"\"},\"zerolinecolor\":\"#E1E5ED\"}},                        {\"showLink\": true, \"linkText\": \"Export to plot.ly\", \"plotlyServerURL\": \"https://plot.ly\", \"responsive\": true}                    ).then(function(){\n",
       "                            \n",
       "var gd = document.getElementById('4c4a26ea-8eb4-4224-b29a-3915b449ee85');\n",
       "var x = new MutationObserver(function (mutations, observer) {{\n",
       "        var display = window.getComputedStyle(gd).display;\n",
       "        if (!display || display === 'none') {{\n",
       "            console.log([gd, 'removed!']);\n",
       "            Plotly.purge(gd);\n",
       "            observer.disconnect();\n",
       "        }}\n",
       "}});\n",
       "\n",
       "// Listen for the removal of the full notebook cells\n",
       "var notebookContainer = gd.closest('#notebook-container');\n",
       "if (notebookContainer) {{\n",
       "    x.observe(notebookContainer, {childList: true});\n",
       "}}\n",
       "\n",
       "// Listen for the clearing of the current output cell\n",
       "var outputEl = gd.closest('.output');\n",
       "if (outputEl) {{\n",
       "    x.observe(outputEl, {childList: true});\n",
       "}}\n",
       "\n",
       "                        })                };                });            </script>        </div>"
      ]
     },
     "metadata": {},
     "output_type": "display_data"
    }
   ],
   "source": [
    "df.iplot(kind='bubble', x='A', y='B', size='C')"
   ]
  },
  {
   "cell_type": "markdown",
   "metadata": {},
   "source": [
    "+ `scatter_matrix()`\n",
    "\n",
    "Similar to `sns.pairplot()`."
   ]
  },
  {
   "cell_type": "code",
   "execution_count": 34,
   "metadata": {},
   "outputs": [
    {
     "data": {
      "application/vnd.plotly.v1+json": {
       "config": {
        "linkText": "Export to plot.ly",
        "plotlyServerURL": "https://plot.ly",
        "showLink": true
       },
       "data": [
        {
         "histfunc": "count",
         "histnorm": "",
         "marker": {
          "color": "rgba(255, 153, 51, 1.0)",
          "line": {
           "color": "#4D5663",
           "width": 1.3
          }
         },
         "name": "A",
         "nbinsx": 10,
         "opacity": 0.8,
         "orientation": "v",
         "type": "histogram",
         "x": [
          -1.8385733383142502,
          0.8672457158580731,
          -1.6913759918836615,
          0.5490542772053529,
          -2.0448630397110024,
          -0.436039090217473,
          0.640548445743603,
          -1.7077325737917555,
          -1.6524174520551473,
          0.0007907560837533417,
          -0.25491887646539024,
          -1.1446104505452164,
          -0.8475481744004824,
          -0.8161181953930615,
          0.5861143155452699,
          -0.9317973692372261,
          1.3502398786147136,
          1.758118402606856,
          -1.1285332734978477,
          0.2585914173805949,
          1.9798015362947452,
          -0.30833965880411174,
          -1.0916955750299806,
          -0.057158385929394206,
          -1.0173606571226235,
          -0.8609220665567381,
          0.34741981219265133,
          -0.159358858867689,
          -0.43678412656387205,
          1.0627399323565616,
          -0.46706211244850665,
          -1.0427327308265124,
          -0.805693324842712,
          1.2770479544421895,
          0.32725761362015926,
          -0.568339510681153,
          -0.17447432698006723,
          -0.4573707756151931,
          0.7606294655707999,
          -0.7617983457284897,
          -0.633282488675788,
          0.9728067392089667,
          -0.08487630361962098,
          0.3451327034103059,
          -0.6434382015122148,
          -0.04919239099224115,
          -0.9798565186308319,
          1.3434944279834213,
          -0.09167130080686495,
          1.0280892123070835,
          -0.3727016281831937,
          0.205542353970833,
          0.49831900690235065,
          1.7667036512937528,
          0.06524931756953356,
          -1.1670797528842665,
          1.4913743607172376,
          0.3324568668491796,
          -0.15963192960528763,
          0.8849002460549106,
          -0.03419324271954416,
          0.2147022298380133,
          0.28974036454646246,
          -0.5798551719469845,
          0.42251601005333417,
          1.3154237088128184,
          1.0678775274202026,
          -0.715758017669985,
          -0.3140111688724749,
          -0.3734547451342669,
          0.4587328215325148,
          1.612073033741679,
          0.47558226142986987,
          -0.09115866157864358,
          0.6420263742551169,
          1.6629991156109898,
          -0.041887956096666505,
          0.4026327112865466,
          -0.7230102257213117,
          -0.13806081513002783,
          -1.9263259804307988,
          0.14389781394832898,
          -0.39106888558889374,
          -1.112691564259992,
          -0.41206708388351254,
          -1.5152032295504612,
          -0.32538019360859577,
          -0.39310628515137575,
          0.8596315300656956,
          -1.1162033172974786,
          -0.16595682132475104,
          -0.5054498229079003,
          0.5803298130870016,
          0.5865017276164397,
          -0.7746419487800955,
          0.4457882182331863,
          0.8512406554100072,
          -1.2480430036217465,
          -0.7328490073246734,
          0.4212693260620615
         ],
         "xaxis": "x",
         "yaxis": "y"
        },
        {
         "line": {
          "color": "rgba(128, 128, 128, 1.0)",
          "dash": "solid",
          "shape": "linear",
          "width": 1.3
         },
         "marker": {
          "size": 2,
          "symbol": "circle"
         },
         "mode": "markers",
         "name": "A",
         "text": "",
         "type": "scatter",
         "x": [
          -0.8731235508419704,
          0.4063663035008937,
          0.21393598835476177,
          -1.104000474626746,
          0.5206746278740676,
          -0.01884568069583808,
          0.6535981950685156,
          1.14439206448552,
          0.2929545928156336,
          -0.16538062686284627,
          1.097259225149773,
          -0.17808812529378423,
          -0.3126979876594213,
          1.1407520085951446,
          -0.566490064694201,
          0.7754917175479495,
          1.4724657738930809,
          -0.31017028299879124,
          -0.4753489359520454,
          1.7232179936716367,
          1.1414347256400401,
          -1.5106868013232306,
          -0.27992397842532235,
          -1.2139882533244817,
          0.4100934910089962,
          -0.5350054452183555,
          -0.5204945468601557,
          1.1142921087326496,
          -0.2887747339451265,
          0.09408581523160633,
          -1.279987458410801,
          -1.1740868613129465,
          -0.2926245600408343,
          -0.144877649537023,
          -0.9093457610034482,
          -0.5337689022180023,
          -0.017084322289417468,
          -1.6158225718623438,
          -1.1108767685479153,
          0.02611783578981778,
          -0.8674402869197879,
          0.480636199850919,
          -0.2551140401163761,
          0.09623414190198235,
          -0.6202596403538848,
          0.5512673714408092,
          1.5704362845628481,
          -0.06966255000115672,
          -0.7570796474829151,
          -2.3695016015417085,
          0.46985021980766656,
          -0.030284933437563066,
          -1.0464134874584372,
          -1.0710710395950138,
          0.22367596900939501,
          -1.3243189763274024,
          -0.18681523974469796,
          -0.26070960892291023,
          0.8125436741292955,
          -0.09950014014884463,
          0.3043036492382808,
          -0.470809417865467,
          -0.7970930223513626,
          -1.2001380253082512,
          -0.9417384031922611,
          -1.5184279582950249,
          -0.01725072375345233,
          -3.2444595535507403,
          0.5016346345637226,
          0.7050353536724342,
          1.2475875852443647,
          0.6936890152049425,
          2.591819172760977,
          -0.10101232298967208,
          0.8626542256645922,
          -1.2637655623733213,
          -0.057879488695521474,
          0.3338770631315833,
          -0.8654952418554549,
          0.300168575014734,
          -0.28872310361867176,
          -1.4921175757108949,
          -1.188952137668495,
          0.47716571052481055,
          1.543910825058214,
          1.4726571348561308,
          0.5507819537195303,
          -1.6558234228441506,
          0.5390984269896137,
          0.3525074699864782,
          0.42645531373262363,
          -0.26311097661064403,
          0.6017581127464071,
          -0.6116925342911296,
          -2.171599774932019,
          -0.03716068289075018,
          0.5189512190682418,
          0.059429755509573225,
          -1.3967446596137272,
          -0.12202190199365653
         ],
         "xaxis": "x2",
         "y": [
          -1.8385733383142502,
          0.8672457158580731,
          -1.6913759918836615,
          0.5490542772053529,
          -2.0448630397110024,
          -0.436039090217473,
          0.640548445743603,
          -1.7077325737917555,
          -1.6524174520551473,
          0.0007907560837533417,
          -0.25491887646539024,
          -1.1446104505452164,
          -0.8475481744004824,
          -0.8161181953930615,
          0.5861143155452699,
          -0.9317973692372261,
          1.3502398786147136,
          1.758118402606856,
          -1.1285332734978477,
          0.2585914173805949,
          1.9798015362947452,
          -0.30833965880411174,
          -1.0916955750299806,
          -0.057158385929394206,
          -1.0173606571226235,
          -0.8609220665567381,
          0.34741981219265133,
          -0.159358858867689,
          -0.43678412656387205,
          1.0627399323565616,
          -0.46706211244850665,
          -1.0427327308265124,
          -0.805693324842712,
          1.2770479544421895,
          0.32725761362015926,
          -0.568339510681153,
          -0.17447432698006723,
          -0.4573707756151931,
          0.7606294655707999,
          -0.7617983457284897,
          -0.633282488675788,
          0.9728067392089667,
          -0.08487630361962098,
          0.3451327034103059,
          -0.6434382015122148,
          -0.04919239099224115,
          -0.9798565186308319,
          1.3434944279834213,
          -0.09167130080686495,
          1.0280892123070835,
          -0.3727016281831937,
          0.205542353970833,
          0.49831900690235065,
          1.7667036512937528,
          0.06524931756953356,
          -1.1670797528842665,
          1.4913743607172376,
          0.3324568668491796,
          -0.15963192960528763,
          0.8849002460549106,
          -0.03419324271954416,
          0.2147022298380133,
          0.28974036454646246,
          -0.5798551719469845,
          0.42251601005333417,
          1.3154237088128184,
          1.0678775274202026,
          -0.715758017669985,
          -0.3140111688724749,
          -0.3734547451342669,
          0.4587328215325148,
          1.612073033741679,
          0.47558226142986987,
          -0.09115866157864358,
          0.6420263742551169,
          1.6629991156109898,
          -0.041887956096666505,
          0.4026327112865466,
          -0.7230102257213117,
          -0.13806081513002783,
          -1.9263259804307988,
          0.14389781394832898,
          -0.39106888558889374,
          -1.112691564259992,
          -0.41206708388351254,
          -1.5152032295504612,
          -0.32538019360859577,
          -0.39310628515137575,
          0.8596315300656956,
          -1.1162033172974786,
          -0.16595682132475104,
          -0.5054498229079003,
          0.5803298130870016,
          0.5865017276164397,
          -0.7746419487800955,
          0.4457882182331863,
          0.8512406554100072,
          -1.2480430036217465,
          -0.7328490073246734,
          0.4212693260620615
         ],
         "yaxis": "y2"
        },
        {
         "line": {
          "color": "rgba(128, 128, 128, 1.0)",
          "dash": "solid",
          "shape": "linear",
          "width": 1.3
         },
         "marker": {
          "size": 2,
          "symbol": "circle"
         },
         "mode": "markers",
         "name": "A",
         "text": "",
         "type": "scatter",
         "x": [
          -0.9196736624837573,
          0.5221521308335456,
          -0.4652498556979664,
          -1.454576414975132,
          0.436963063980055,
          1.4246799209117655,
          0.4795452278319759,
          1.0324097092675564,
          -1.2832969606128202,
          -1.4968684022895624,
          -0.01530092520712653,
          0.12291412210634833,
          -0.7509181015075169,
          2.508104676406065,
          0.4794525639949759,
          0.35700998615689433,
          -1.1831551942505845,
          0.8462407906799473,
          -1.0110263178467456,
          -0.4996367099663234,
          -0.15371107386966737,
          0.7875046929873949,
          -0.5041129185773495,
          0.3100861574387777,
          -0.5085707880875892,
          -0.22904189463503952,
          1.1706859225529218,
          -0.2719616076737529,
          0.8730665064136831,
          -1.184444283062692,
          0.8443375020986033,
          -0.3644937024112057,
          0.163478795827416,
          1.3772593435192526,
          0.08228471908569834,
          0.7605476156012057,
          -0.2504732383628632,
          0.1360064889167746,
          -3.644827998386898,
          -0.8793232150210272,
          0.3016143396085256,
          -0.49067491280895753,
          0.9579194000316426,
          -0.4348468067931921,
          -0.1946192264292153,
          -0.25793957366857867,
          0.75240596772292,
          -1.5929338059697495,
          -0.7269388164897601,
          0.4908818232564113,
          0.32641763647555144,
          0.48126621634927375,
          0.7141055423303951,
          -0.21426386859688382,
          -0.23225615893380858,
          0.9513770859984828,
          -1.4231640282914806,
          0.4520630258835394,
          -1.4919200307825713,
          1.291291461685043,
          -0.9941983312459777,
          0.7596392727401325,
          -0.5926195035122472,
          -0.5566293229752135,
          0.2982307468470132,
          1.738053578883346,
          0.06608083134619774,
          0.050839011923767115,
          1.0275197437881594,
          -0.8581772302452564,
          0.6607947683272261,
          -1.442888595982884,
          1.7584914022563805,
          0.3700062517332973,
          -1.915753567763661,
          -0.5117284645342928,
          0.5399265157477181,
          -0.26832171165488117,
          1.7322591311557272,
          1.4823599585000202,
          -0.21223993931260354,
          1.506767808999441,
          2.2535197249080685,
          -0.1198339588515651,
          -0.6846434595910331,
          0.1729807676946648,
          0.15173920031922505,
          -0.776613379779808,
          -0.011810156468320966,
          -0.7174950712346515,
          -0.6045945057396989,
          -0.22156638213211777,
          0.7921074698882515,
          0.6234406291140472,
          0.4010652389488166,
          0.07550111687761502,
          0.6651197294575687,
          1.393114003034596,
          1.046042718388696,
          0.38765896670310024
         ],
         "xaxis": "x3",
         "y": [
          -1.8385733383142502,
          0.8672457158580731,
          -1.6913759918836615,
          0.5490542772053529,
          -2.0448630397110024,
          -0.436039090217473,
          0.640548445743603,
          -1.7077325737917555,
          -1.6524174520551473,
          0.0007907560837533417,
          -0.25491887646539024,
          -1.1446104505452164,
          -0.8475481744004824,
          -0.8161181953930615,
          0.5861143155452699,
          -0.9317973692372261,
          1.3502398786147136,
          1.758118402606856,
          -1.1285332734978477,
          0.2585914173805949,
          1.9798015362947452,
          -0.30833965880411174,
          -1.0916955750299806,
          -0.057158385929394206,
          -1.0173606571226235,
          -0.8609220665567381,
          0.34741981219265133,
          -0.159358858867689,
          -0.43678412656387205,
          1.0627399323565616,
          -0.46706211244850665,
          -1.0427327308265124,
          -0.805693324842712,
          1.2770479544421895,
          0.32725761362015926,
          -0.568339510681153,
          -0.17447432698006723,
          -0.4573707756151931,
          0.7606294655707999,
          -0.7617983457284897,
          -0.633282488675788,
          0.9728067392089667,
          -0.08487630361962098,
          0.3451327034103059,
          -0.6434382015122148,
          -0.04919239099224115,
          -0.9798565186308319,
          1.3434944279834213,
          -0.09167130080686495,
          1.0280892123070835,
          -0.3727016281831937,
          0.205542353970833,
          0.49831900690235065,
          1.7667036512937528,
          0.06524931756953356,
          -1.1670797528842665,
          1.4913743607172376,
          0.3324568668491796,
          -0.15963192960528763,
          0.8849002460549106,
          -0.03419324271954416,
          0.2147022298380133,
          0.28974036454646246,
          -0.5798551719469845,
          0.42251601005333417,
          1.3154237088128184,
          1.0678775274202026,
          -0.715758017669985,
          -0.3140111688724749,
          -0.3734547451342669,
          0.4587328215325148,
          1.612073033741679,
          0.47558226142986987,
          -0.09115866157864358,
          0.6420263742551169,
          1.6629991156109898,
          -0.041887956096666505,
          0.4026327112865466,
          -0.7230102257213117,
          -0.13806081513002783,
          -1.9263259804307988,
          0.14389781394832898,
          -0.39106888558889374,
          -1.112691564259992,
          -0.41206708388351254,
          -1.5152032295504612,
          -0.32538019360859577,
          -0.39310628515137575,
          0.8596315300656956,
          -1.1162033172974786,
          -0.16595682132475104,
          -0.5054498229079003,
          0.5803298130870016,
          0.5865017276164397,
          -0.7746419487800955,
          0.4457882182331863,
          0.8512406554100072,
          -1.2480430036217465,
          -0.7328490073246734,
          0.4212693260620615
         ],
         "yaxis": "y3"
        },
        {
         "line": {
          "color": "rgba(128, 128, 128, 1.0)",
          "dash": "solid",
          "shape": "linear",
          "width": 1.3
         },
         "marker": {
          "size": 2,
          "symbol": "circle"
         },
         "mode": "markers",
         "name": "A",
         "text": "",
         "type": "scatter",
         "x": [
          0.8154789793317233,
          -0.7932543362196849,
          2.1090714139213964,
          -0.08008470874810897,
          -1.3001999460071456,
          -0.7533227790295761,
          -1.0023303372713803,
          -0.6526378920334932,
          -0.6653417572773734,
          -0.3248412709435413,
          1.70442130197609,
          1.6840439606302038,
          1.313022981891956,
          -1.0663347951928297,
          0.3423494606212533,
          1.3196565164837162,
          -0.5012998698168185,
          -0.694618064755753,
          1.596161415909783,
          -0.6539249230936592,
          2.2854155981832025,
          -0.8285365819761168,
          1.35019284489788,
          0.7392664010025717,
          -0.8728638748620098,
          -1.257815829544241,
          1.2170550695382087,
          1.6487781672823338,
          -0.7397135971258295,
          -0.5496178716866912,
          0.24354353838367032,
          -0.1981188699638196,
          0.7450212943920029,
          -0.688454797303157,
          1.3609988352021904,
          1.7836251044013816,
          -0.42495453030026753,
          -1.4796654963764373,
          0.26699530633905383,
          0.9386337857275068,
          0.5422571256779178,
          -0.5951679964609107,
          1.3591277952198586,
          1.107835057885836,
          -0.9043344904432511,
          0.3590319613430317,
          -0.7966844234190578,
          -0.06000227589783168,
          0.04316938407978105,
          1.3580552003388051,
          -0.7760626440378443,
          1.5854530989997315,
          -0.46353069186426404,
          -1.0745167090420498,
          2.212116176062031,
          -1.439675541529478,
          -2.0554704481808495,
          -0.11811185811532435,
          -0.41196864579863074,
          -0.9389985024768397,
          1.2959635418379791,
          0.4078693097348912,
          -0.8671054942393984,
          1.7252482957866269,
          -0.17094699657986662,
          -0.4203898822603816,
          1.0238149845075084,
          -1.7082023970596323,
          1.2105603191784666,
          0.470411960848045,
          -0.44163507560902787,
          -0.561536410751917,
          -2.2920236391835873,
          1.6921460848889827,
          -0.8753528703650812,
          -0.308624577218057,
          -0.7479970008532968,
          0.042424762273314244,
          0.42775674124162216,
          -0.7612535278594279,
          -0.8123766392385495,
          -0.320045127298039,
          1.2962971549556204,
          0.8468549112150666,
          0.38948944554984866,
          0.3464931109083758,
          0.06556931178920412,
          0.2025946289920695,
          2.4028721763358156,
          -1.0664451168631308,
          0.3001848021183222,
          0.030968772479112953,
          0.4189819842801789,
          -0.5299316257147946,
          0.3622802315153845,
          0.8064488289050201,
          -0.2825747218761014,
          -1.3516618998411016,
          0.8904083060648561,
          -0.3792076435989007
         ],
         "xaxis": "x4",
         "y": [
          -1.8385733383142502,
          0.8672457158580731,
          -1.6913759918836615,
          0.5490542772053529,
          -2.0448630397110024,
          -0.436039090217473,
          0.640548445743603,
          -1.7077325737917555,
          -1.6524174520551473,
          0.0007907560837533417,
          -0.25491887646539024,
          -1.1446104505452164,
          -0.8475481744004824,
          -0.8161181953930615,
          0.5861143155452699,
          -0.9317973692372261,
          1.3502398786147136,
          1.758118402606856,
          -1.1285332734978477,
          0.2585914173805949,
          1.9798015362947452,
          -0.30833965880411174,
          -1.0916955750299806,
          -0.057158385929394206,
          -1.0173606571226235,
          -0.8609220665567381,
          0.34741981219265133,
          -0.159358858867689,
          -0.43678412656387205,
          1.0627399323565616,
          -0.46706211244850665,
          -1.0427327308265124,
          -0.805693324842712,
          1.2770479544421895,
          0.32725761362015926,
          -0.568339510681153,
          -0.17447432698006723,
          -0.4573707756151931,
          0.7606294655707999,
          -0.7617983457284897,
          -0.633282488675788,
          0.9728067392089667,
          -0.08487630361962098,
          0.3451327034103059,
          -0.6434382015122148,
          -0.04919239099224115,
          -0.9798565186308319,
          1.3434944279834213,
          -0.09167130080686495,
          1.0280892123070835,
          -0.3727016281831937,
          0.205542353970833,
          0.49831900690235065,
          1.7667036512937528,
          0.06524931756953356,
          -1.1670797528842665,
          1.4913743607172376,
          0.3324568668491796,
          -0.15963192960528763,
          0.8849002460549106,
          -0.03419324271954416,
          0.2147022298380133,
          0.28974036454646246,
          -0.5798551719469845,
          0.42251601005333417,
          1.3154237088128184,
          1.0678775274202026,
          -0.715758017669985,
          -0.3140111688724749,
          -0.3734547451342669,
          0.4587328215325148,
          1.612073033741679,
          0.47558226142986987,
          -0.09115866157864358,
          0.6420263742551169,
          1.6629991156109898,
          -0.041887956096666505,
          0.4026327112865466,
          -0.7230102257213117,
          -0.13806081513002783,
          -1.9263259804307988,
          0.14389781394832898,
          -0.39106888558889374,
          -1.112691564259992,
          -0.41206708388351254,
          -1.5152032295504612,
          -0.32538019360859577,
          -0.39310628515137575,
          0.8596315300656956,
          -1.1162033172974786,
          -0.16595682132475104,
          -0.5054498229079003,
          0.5803298130870016,
          0.5865017276164397,
          -0.7746419487800955,
          0.4457882182331863,
          0.8512406554100072,
          -1.2480430036217465,
          -0.7328490073246734,
          0.4212693260620615
         ],
         "yaxis": "y4"
        },
        {
         "line": {
          "color": "rgba(128, 128, 128, 1.0)",
          "dash": "solid",
          "shape": "linear",
          "width": 1.3
         },
         "marker": {
          "size": 2,
          "symbol": "circle"
         },
         "mode": "markers",
         "name": "B",
         "text": "",
         "type": "scatter",
         "x": [
          -1.8385733383142502,
          0.8672457158580731,
          -1.6913759918836615,
          0.5490542772053529,
          -2.0448630397110024,
          -0.436039090217473,
          0.640548445743603,
          -1.7077325737917555,
          -1.6524174520551473,
          0.0007907560837533417,
          -0.25491887646539024,
          -1.1446104505452164,
          -0.8475481744004824,
          -0.8161181953930615,
          0.5861143155452699,
          -0.9317973692372261,
          1.3502398786147136,
          1.758118402606856,
          -1.1285332734978477,
          0.2585914173805949,
          1.9798015362947452,
          -0.30833965880411174,
          -1.0916955750299806,
          -0.057158385929394206,
          -1.0173606571226235,
          -0.8609220665567381,
          0.34741981219265133,
          -0.159358858867689,
          -0.43678412656387205,
          1.0627399323565616,
          -0.46706211244850665,
          -1.0427327308265124,
          -0.805693324842712,
          1.2770479544421895,
          0.32725761362015926,
          -0.568339510681153,
          -0.17447432698006723,
          -0.4573707756151931,
          0.7606294655707999,
          -0.7617983457284897,
          -0.633282488675788,
          0.9728067392089667,
          -0.08487630361962098,
          0.3451327034103059,
          -0.6434382015122148,
          -0.04919239099224115,
          -0.9798565186308319,
          1.3434944279834213,
          -0.09167130080686495,
          1.0280892123070835,
          -0.3727016281831937,
          0.205542353970833,
          0.49831900690235065,
          1.7667036512937528,
          0.06524931756953356,
          -1.1670797528842665,
          1.4913743607172376,
          0.3324568668491796,
          -0.15963192960528763,
          0.8849002460549106,
          -0.03419324271954416,
          0.2147022298380133,
          0.28974036454646246,
          -0.5798551719469845,
          0.42251601005333417,
          1.3154237088128184,
          1.0678775274202026,
          -0.715758017669985,
          -0.3140111688724749,
          -0.3734547451342669,
          0.4587328215325148,
          1.612073033741679,
          0.47558226142986987,
          -0.09115866157864358,
          0.6420263742551169,
          1.6629991156109898,
          -0.041887956096666505,
          0.4026327112865466,
          -0.7230102257213117,
          -0.13806081513002783,
          -1.9263259804307988,
          0.14389781394832898,
          -0.39106888558889374,
          -1.112691564259992,
          -0.41206708388351254,
          -1.5152032295504612,
          -0.32538019360859577,
          -0.39310628515137575,
          0.8596315300656956,
          -1.1162033172974786,
          -0.16595682132475104,
          -0.5054498229079003,
          0.5803298130870016,
          0.5865017276164397,
          -0.7746419487800955,
          0.4457882182331863,
          0.8512406554100072,
          -1.2480430036217465,
          -0.7328490073246734,
          0.4212693260620615
         ],
         "xaxis": "x5",
         "y": [
          -0.8731235508419704,
          0.4063663035008937,
          0.21393598835476177,
          -1.104000474626746,
          0.5206746278740676,
          -0.01884568069583808,
          0.6535981950685156,
          1.14439206448552,
          0.2929545928156336,
          -0.16538062686284627,
          1.097259225149773,
          -0.17808812529378423,
          -0.3126979876594213,
          1.1407520085951446,
          -0.566490064694201,
          0.7754917175479495,
          1.4724657738930809,
          -0.31017028299879124,
          -0.4753489359520454,
          1.7232179936716367,
          1.1414347256400401,
          -1.5106868013232306,
          -0.27992397842532235,
          -1.2139882533244817,
          0.4100934910089962,
          -0.5350054452183555,
          -0.5204945468601557,
          1.1142921087326496,
          -0.2887747339451265,
          0.09408581523160633,
          -1.279987458410801,
          -1.1740868613129465,
          -0.2926245600408343,
          -0.144877649537023,
          -0.9093457610034482,
          -0.5337689022180023,
          -0.017084322289417468,
          -1.6158225718623438,
          -1.1108767685479153,
          0.02611783578981778,
          -0.8674402869197879,
          0.480636199850919,
          -0.2551140401163761,
          0.09623414190198235,
          -0.6202596403538848,
          0.5512673714408092,
          1.5704362845628481,
          -0.06966255000115672,
          -0.7570796474829151,
          -2.3695016015417085,
          0.46985021980766656,
          -0.030284933437563066,
          -1.0464134874584372,
          -1.0710710395950138,
          0.22367596900939501,
          -1.3243189763274024,
          -0.18681523974469796,
          -0.26070960892291023,
          0.8125436741292955,
          -0.09950014014884463,
          0.3043036492382808,
          -0.470809417865467,
          -0.7970930223513626,
          -1.2001380253082512,
          -0.9417384031922611,
          -1.5184279582950249,
          -0.01725072375345233,
          -3.2444595535507403,
          0.5016346345637226,
          0.7050353536724342,
          1.2475875852443647,
          0.6936890152049425,
          2.591819172760977,
          -0.10101232298967208,
          0.8626542256645922,
          -1.2637655623733213,
          -0.057879488695521474,
          0.3338770631315833,
          -0.8654952418554549,
          0.300168575014734,
          -0.28872310361867176,
          -1.4921175757108949,
          -1.188952137668495,
          0.47716571052481055,
          1.543910825058214,
          1.4726571348561308,
          0.5507819537195303,
          -1.6558234228441506,
          0.5390984269896137,
          0.3525074699864782,
          0.42645531373262363,
          -0.26311097661064403,
          0.6017581127464071,
          -0.6116925342911296,
          -2.171599774932019,
          -0.03716068289075018,
          0.5189512190682418,
          0.059429755509573225,
          -1.3967446596137272,
          -0.12202190199365653
         ],
         "yaxis": "y5"
        },
        {
         "histfunc": "count",
         "histnorm": "",
         "marker": {
          "color": "rgba(55, 128, 191, 1.0)",
          "line": {
           "color": "#4D5663",
           "width": 1.3
          }
         },
         "name": "B",
         "nbinsx": 10,
         "opacity": 0.8,
         "orientation": "v",
         "type": "histogram",
         "x": [
          -0.8731235508419704,
          0.4063663035008937,
          0.21393598835476177,
          -1.104000474626746,
          0.5206746278740676,
          -0.01884568069583808,
          0.6535981950685156,
          1.14439206448552,
          0.2929545928156336,
          -0.16538062686284627,
          1.097259225149773,
          -0.17808812529378423,
          -0.3126979876594213,
          1.1407520085951446,
          -0.566490064694201,
          0.7754917175479495,
          1.4724657738930809,
          -0.31017028299879124,
          -0.4753489359520454,
          1.7232179936716367,
          1.1414347256400401,
          -1.5106868013232306,
          -0.27992397842532235,
          -1.2139882533244817,
          0.4100934910089962,
          -0.5350054452183555,
          -0.5204945468601557,
          1.1142921087326496,
          -0.2887747339451265,
          0.09408581523160633,
          -1.279987458410801,
          -1.1740868613129465,
          -0.2926245600408343,
          -0.144877649537023,
          -0.9093457610034482,
          -0.5337689022180023,
          -0.017084322289417468,
          -1.6158225718623438,
          -1.1108767685479153,
          0.02611783578981778,
          -0.8674402869197879,
          0.480636199850919,
          -0.2551140401163761,
          0.09623414190198235,
          -0.6202596403538848,
          0.5512673714408092,
          1.5704362845628481,
          -0.06966255000115672,
          -0.7570796474829151,
          -2.3695016015417085,
          0.46985021980766656,
          -0.030284933437563066,
          -1.0464134874584372,
          -1.0710710395950138,
          0.22367596900939501,
          -1.3243189763274024,
          -0.18681523974469796,
          -0.26070960892291023,
          0.8125436741292955,
          -0.09950014014884463,
          0.3043036492382808,
          -0.470809417865467,
          -0.7970930223513626,
          -1.2001380253082512,
          -0.9417384031922611,
          -1.5184279582950249,
          -0.01725072375345233,
          -3.2444595535507403,
          0.5016346345637226,
          0.7050353536724342,
          1.2475875852443647,
          0.6936890152049425,
          2.591819172760977,
          -0.10101232298967208,
          0.8626542256645922,
          -1.2637655623733213,
          -0.057879488695521474,
          0.3338770631315833,
          -0.8654952418554549,
          0.300168575014734,
          -0.28872310361867176,
          -1.4921175757108949,
          -1.188952137668495,
          0.47716571052481055,
          1.543910825058214,
          1.4726571348561308,
          0.5507819537195303,
          -1.6558234228441506,
          0.5390984269896137,
          0.3525074699864782,
          0.42645531373262363,
          -0.26311097661064403,
          0.6017581127464071,
          -0.6116925342911296,
          -2.171599774932019,
          -0.03716068289075018,
          0.5189512190682418,
          0.059429755509573225,
          -1.3967446596137272,
          -0.12202190199365653
         ],
         "xaxis": "x6",
         "yaxis": "y6"
        },
        {
         "line": {
          "color": "rgba(128, 128, 128, 1.0)",
          "dash": "solid",
          "shape": "linear",
          "width": 1.3
         },
         "marker": {
          "size": 2,
          "symbol": "circle"
         },
         "mode": "markers",
         "name": "B",
         "text": "",
         "type": "scatter",
         "x": [
          -0.9196736624837573,
          0.5221521308335456,
          -0.4652498556979664,
          -1.454576414975132,
          0.436963063980055,
          1.4246799209117655,
          0.4795452278319759,
          1.0324097092675564,
          -1.2832969606128202,
          -1.4968684022895624,
          -0.01530092520712653,
          0.12291412210634833,
          -0.7509181015075169,
          2.508104676406065,
          0.4794525639949759,
          0.35700998615689433,
          -1.1831551942505845,
          0.8462407906799473,
          -1.0110263178467456,
          -0.4996367099663234,
          -0.15371107386966737,
          0.7875046929873949,
          -0.5041129185773495,
          0.3100861574387777,
          -0.5085707880875892,
          -0.22904189463503952,
          1.1706859225529218,
          -0.2719616076737529,
          0.8730665064136831,
          -1.184444283062692,
          0.8443375020986033,
          -0.3644937024112057,
          0.163478795827416,
          1.3772593435192526,
          0.08228471908569834,
          0.7605476156012057,
          -0.2504732383628632,
          0.1360064889167746,
          -3.644827998386898,
          -0.8793232150210272,
          0.3016143396085256,
          -0.49067491280895753,
          0.9579194000316426,
          -0.4348468067931921,
          -0.1946192264292153,
          -0.25793957366857867,
          0.75240596772292,
          -1.5929338059697495,
          -0.7269388164897601,
          0.4908818232564113,
          0.32641763647555144,
          0.48126621634927375,
          0.7141055423303951,
          -0.21426386859688382,
          -0.23225615893380858,
          0.9513770859984828,
          -1.4231640282914806,
          0.4520630258835394,
          -1.4919200307825713,
          1.291291461685043,
          -0.9941983312459777,
          0.7596392727401325,
          -0.5926195035122472,
          -0.5566293229752135,
          0.2982307468470132,
          1.738053578883346,
          0.06608083134619774,
          0.050839011923767115,
          1.0275197437881594,
          -0.8581772302452564,
          0.6607947683272261,
          -1.442888595982884,
          1.7584914022563805,
          0.3700062517332973,
          -1.915753567763661,
          -0.5117284645342928,
          0.5399265157477181,
          -0.26832171165488117,
          1.7322591311557272,
          1.4823599585000202,
          -0.21223993931260354,
          1.506767808999441,
          2.2535197249080685,
          -0.1198339588515651,
          -0.6846434595910331,
          0.1729807676946648,
          0.15173920031922505,
          -0.776613379779808,
          -0.011810156468320966,
          -0.7174950712346515,
          -0.6045945057396989,
          -0.22156638213211777,
          0.7921074698882515,
          0.6234406291140472,
          0.4010652389488166,
          0.07550111687761502,
          0.6651197294575687,
          1.393114003034596,
          1.046042718388696,
          0.38765896670310024
         ],
         "xaxis": "x7",
         "y": [
          -0.8731235508419704,
          0.4063663035008937,
          0.21393598835476177,
          -1.104000474626746,
          0.5206746278740676,
          -0.01884568069583808,
          0.6535981950685156,
          1.14439206448552,
          0.2929545928156336,
          -0.16538062686284627,
          1.097259225149773,
          -0.17808812529378423,
          -0.3126979876594213,
          1.1407520085951446,
          -0.566490064694201,
          0.7754917175479495,
          1.4724657738930809,
          -0.31017028299879124,
          -0.4753489359520454,
          1.7232179936716367,
          1.1414347256400401,
          -1.5106868013232306,
          -0.27992397842532235,
          -1.2139882533244817,
          0.4100934910089962,
          -0.5350054452183555,
          -0.5204945468601557,
          1.1142921087326496,
          -0.2887747339451265,
          0.09408581523160633,
          -1.279987458410801,
          -1.1740868613129465,
          -0.2926245600408343,
          -0.144877649537023,
          -0.9093457610034482,
          -0.5337689022180023,
          -0.017084322289417468,
          -1.6158225718623438,
          -1.1108767685479153,
          0.02611783578981778,
          -0.8674402869197879,
          0.480636199850919,
          -0.2551140401163761,
          0.09623414190198235,
          -0.6202596403538848,
          0.5512673714408092,
          1.5704362845628481,
          -0.06966255000115672,
          -0.7570796474829151,
          -2.3695016015417085,
          0.46985021980766656,
          -0.030284933437563066,
          -1.0464134874584372,
          -1.0710710395950138,
          0.22367596900939501,
          -1.3243189763274024,
          -0.18681523974469796,
          -0.26070960892291023,
          0.8125436741292955,
          -0.09950014014884463,
          0.3043036492382808,
          -0.470809417865467,
          -0.7970930223513626,
          -1.2001380253082512,
          -0.9417384031922611,
          -1.5184279582950249,
          -0.01725072375345233,
          -3.2444595535507403,
          0.5016346345637226,
          0.7050353536724342,
          1.2475875852443647,
          0.6936890152049425,
          2.591819172760977,
          -0.10101232298967208,
          0.8626542256645922,
          -1.2637655623733213,
          -0.057879488695521474,
          0.3338770631315833,
          -0.8654952418554549,
          0.300168575014734,
          -0.28872310361867176,
          -1.4921175757108949,
          -1.188952137668495,
          0.47716571052481055,
          1.543910825058214,
          1.4726571348561308,
          0.5507819537195303,
          -1.6558234228441506,
          0.5390984269896137,
          0.3525074699864782,
          0.42645531373262363,
          -0.26311097661064403,
          0.6017581127464071,
          -0.6116925342911296,
          -2.171599774932019,
          -0.03716068289075018,
          0.5189512190682418,
          0.059429755509573225,
          -1.3967446596137272,
          -0.12202190199365653
         ],
         "yaxis": "y7"
        },
        {
         "line": {
          "color": "rgba(128, 128, 128, 1.0)",
          "dash": "solid",
          "shape": "linear",
          "width": 1.3
         },
         "marker": {
          "size": 2,
          "symbol": "circle"
         },
         "mode": "markers",
         "name": "B",
         "text": "",
         "type": "scatter",
         "x": [
          0.8154789793317233,
          -0.7932543362196849,
          2.1090714139213964,
          -0.08008470874810897,
          -1.3001999460071456,
          -0.7533227790295761,
          -1.0023303372713803,
          -0.6526378920334932,
          -0.6653417572773734,
          -0.3248412709435413,
          1.70442130197609,
          1.6840439606302038,
          1.313022981891956,
          -1.0663347951928297,
          0.3423494606212533,
          1.3196565164837162,
          -0.5012998698168185,
          -0.694618064755753,
          1.596161415909783,
          -0.6539249230936592,
          2.2854155981832025,
          -0.8285365819761168,
          1.35019284489788,
          0.7392664010025717,
          -0.8728638748620098,
          -1.257815829544241,
          1.2170550695382087,
          1.6487781672823338,
          -0.7397135971258295,
          -0.5496178716866912,
          0.24354353838367032,
          -0.1981188699638196,
          0.7450212943920029,
          -0.688454797303157,
          1.3609988352021904,
          1.7836251044013816,
          -0.42495453030026753,
          -1.4796654963764373,
          0.26699530633905383,
          0.9386337857275068,
          0.5422571256779178,
          -0.5951679964609107,
          1.3591277952198586,
          1.107835057885836,
          -0.9043344904432511,
          0.3590319613430317,
          -0.7966844234190578,
          -0.06000227589783168,
          0.04316938407978105,
          1.3580552003388051,
          -0.7760626440378443,
          1.5854530989997315,
          -0.46353069186426404,
          -1.0745167090420498,
          2.212116176062031,
          -1.439675541529478,
          -2.0554704481808495,
          -0.11811185811532435,
          -0.41196864579863074,
          -0.9389985024768397,
          1.2959635418379791,
          0.4078693097348912,
          -0.8671054942393984,
          1.7252482957866269,
          -0.17094699657986662,
          -0.4203898822603816,
          1.0238149845075084,
          -1.7082023970596323,
          1.2105603191784666,
          0.470411960848045,
          -0.44163507560902787,
          -0.561536410751917,
          -2.2920236391835873,
          1.6921460848889827,
          -0.8753528703650812,
          -0.308624577218057,
          -0.7479970008532968,
          0.042424762273314244,
          0.42775674124162216,
          -0.7612535278594279,
          -0.8123766392385495,
          -0.320045127298039,
          1.2962971549556204,
          0.8468549112150666,
          0.38948944554984866,
          0.3464931109083758,
          0.06556931178920412,
          0.2025946289920695,
          2.4028721763358156,
          -1.0664451168631308,
          0.3001848021183222,
          0.030968772479112953,
          0.4189819842801789,
          -0.5299316257147946,
          0.3622802315153845,
          0.8064488289050201,
          -0.2825747218761014,
          -1.3516618998411016,
          0.8904083060648561,
          -0.3792076435989007
         ],
         "xaxis": "x8",
         "y": [
          -0.8731235508419704,
          0.4063663035008937,
          0.21393598835476177,
          -1.104000474626746,
          0.5206746278740676,
          -0.01884568069583808,
          0.6535981950685156,
          1.14439206448552,
          0.2929545928156336,
          -0.16538062686284627,
          1.097259225149773,
          -0.17808812529378423,
          -0.3126979876594213,
          1.1407520085951446,
          -0.566490064694201,
          0.7754917175479495,
          1.4724657738930809,
          -0.31017028299879124,
          -0.4753489359520454,
          1.7232179936716367,
          1.1414347256400401,
          -1.5106868013232306,
          -0.27992397842532235,
          -1.2139882533244817,
          0.4100934910089962,
          -0.5350054452183555,
          -0.5204945468601557,
          1.1142921087326496,
          -0.2887747339451265,
          0.09408581523160633,
          -1.279987458410801,
          -1.1740868613129465,
          -0.2926245600408343,
          -0.144877649537023,
          -0.9093457610034482,
          -0.5337689022180023,
          -0.017084322289417468,
          -1.6158225718623438,
          -1.1108767685479153,
          0.02611783578981778,
          -0.8674402869197879,
          0.480636199850919,
          -0.2551140401163761,
          0.09623414190198235,
          -0.6202596403538848,
          0.5512673714408092,
          1.5704362845628481,
          -0.06966255000115672,
          -0.7570796474829151,
          -2.3695016015417085,
          0.46985021980766656,
          -0.030284933437563066,
          -1.0464134874584372,
          -1.0710710395950138,
          0.22367596900939501,
          -1.3243189763274024,
          -0.18681523974469796,
          -0.26070960892291023,
          0.8125436741292955,
          -0.09950014014884463,
          0.3043036492382808,
          -0.470809417865467,
          -0.7970930223513626,
          -1.2001380253082512,
          -0.9417384031922611,
          -1.5184279582950249,
          -0.01725072375345233,
          -3.2444595535507403,
          0.5016346345637226,
          0.7050353536724342,
          1.2475875852443647,
          0.6936890152049425,
          2.591819172760977,
          -0.10101232298967208,
          0.8626542256645922,
          -1.2637655623733213,
          -0.057879488695521474,
          0.3338770631315833,
          -0.8654952418554549,
          0.300168575014734,
          -0.28872310361867176,
          -1.4921175757108949,
          -1.188952137668495,
          0.47716571052481055,
          1.543910825058214,
          1.4726571348561308,
          0.5507819537195303,
          -1.6558234228441506,
          0.5390984269896137,
          0.3525074699864782,
          0.42645531373262363,
          -0.26311097661064403,
          0.6017581127464071,
          -0.6116925342911296,
          -2.171599774932019,
          -0.03716068289075018,
          0.5189512190682418,
          0.059429755509573225,
          -1.3967446596137272,
          -0.12202190199365653
         ],
         "yaxis": "y8"
        },
        {
         "line": {
          "color": "rgba(128, 128, 128, 1.0)",
          "dash": "solid",
          "shape": "linear",
          "width": 1.3
         },
         "marker": {
          "size": 2,
          "symbol": "circle"
         },
         "mode": "markers",
         "name": "C",
         "text": "",
         "type": "scatter",
         "x": [
          -1.8385733383142502,
          0.8672457158580731,
          -1.6913759918836615,
          0.5490542772053529,
          -2.0448630397110024,
          -0.436039090217473,
          0.640548445743603,
          -1.7077325737917555,
          -1.6524174520551473,
          0.0007907560837533417,
          -0.25491887646539024,
          -1.1446104505452164,
          -0.8475481744004824,
          -0.8161181953930615,
          0.5861143155452699,
          -0.9317973692372261,
          1.3502398786147136,
          1.758118402606856,
          -1.1285332734978477,
          0.2585914173805949,
          1.9798015362947452,
          -0.30833965880411174,
          -1.0916955750299806,
          -0.057158385929394206,
          -1.0173606571226235,
          -0.8609220665567381,
          0.34741981219265133,
          -0.159358858867689,
          -0.43678412656387205,
          1.0627399323565616,
          -0.46706211244850665,
          -1.0427327308265124,
          -0.805693324842712,
          1.2770479544421895,
          0.32725761362015926,
          -0.568339510681153,
          -0.17447432698006723,
          -0.4573707756151931,
          0.7606294655707999,
          -0.7617983457284897,
          -0.633282488675788,
          0.9728067392089667,
          -0.08487630361962098,
          0.3451327034103059,
          -0.6434382015122148,
          -0.04919239099224115,
          -0.9798565186308319,
          1.3434944279834213,
          -0.09167130080686495,
          1.0280892123070835,
          -0.3727016281831937,
          0.205542353970833,
          0.49831900690235065,
          1.7667036512937528,
          0.06524931756953356,
          -1.1670797528842665,
          1.4913743607172376,
          0.3324568668491796,
          -0.15963192960528763,
          0.8849002460549106,
          -0.03419324271954416,
          0.2147022298380133,
          0.28974036454646246,
          -0.5798551719469845,
          0.42251601005333417,
          1.3154237088128184,
          1.0678775274202026,
          -0.715758017669985,
          -0.3140111688724749,
          -0.3734547451342669,
          0.4587328215325148,
          1.612073033741679,
          0.47558226142986987,
          -0.09115866157864358,
          0.6420263742551169,
          1.6629991156109898,
          -0.041887956096666505,
          0.4026327112865466,
          -0.7230102257213117,
          -0.13806081513002783,
          -1.9263259804307988,
          0.14389781394832898,
          -0.39106888558889374,
          -1.112691564259992,
          -0.41206708388351254,
          -1.5152032295504612,
          -0.32538019360859577,
          -0.39310628515137575,
          0.8596315300656956,
          -1.1162033172974786,
          -0.16595682132475104,
          -0.5054498229079003,
          0.5803298130870016,
          0.5865017276164397,
          -0.7746419487800955,
          0.4457882182331863,
          0.8512406554100072,
          -1.2480430036217465,
          -0.7328490073246734,
          0.4212693260620615
         ],
         "xaxis": "x9",
         "y": [
          -0.9196736624837573,
          0.5221521308335456,
          -0.4652498556979664,
          -1.454576414975132,
          0.436963063980055,
          1.4246799209117655,
          0.4795452278319759,
          1.0324097092675564,
          -1.2832969606128202,
          -1.4968684022895624,
          -0.01530092520712653,
          0.12291412210634833,
          -0.7509181015075169,
          2.508104676406065,
          0.4794525639949759,
          0.35700998615689433,
          -1.1831551942505845,
          0.8462407906799473,
          -1.0110263178467456,
          -0.4996367099663234,
          -0.15371107386966737,
          0.7875046929873949,
          -0.5041129185773495,
          0.3100861574387777,
          -0.5085707880875892,
          -0.22904189463503952,
          1.1706859225529218,
          -0.2719616076737529,
          0.8730665064136831,
          -1.184444283062692,
          0.8443375020986033,
          -0.3644937024112057,
          0.163478795827416,
          1.3772593435192526,
          0.08228471908569834,
          0.7605476156012057,
          -0.2504732383628632,
          0.1360064889167746,
          -3.644827998386898,
          -0.8793232150210272,
          0.3016143396085256,
          -0.49067491280895753,
          0.9579194000316426,
          -0.4348468067931921,
          -0.1946192264292153,
          -0.25793957366857867,
          0.75240596772292,
          -1.5929338059697495,
          -0.7269388164897601,
          0.4908818232564113,
          0.32641763647555144,
          0.48126621634927375,
          0.7141055423303951,
          -0.21426386859688382,
          -0.23225615893380858,
          0.9513770859984828,
          -1.4231640282914806,
          0.4520630258835394,
          -1.4919200307825713,
          1.291291461685043,
          -0.9941983312459777,
          0.7596392727401325,
          -0.5926195035122472,
          -0.5566293229752135,
          0.2982307468470132,
          1.738053578883346,
          0.06608083134619774,
          0.050839011923767115,
          1.0275197437881594,
          -0.8581772302452564,
          0.6607947683272261,
          -1.442888595982884,
          1.7584914022563805,
          0.3700062517332973,
          -1.915753567763661,
          -0.5117284645342928,
          0.5399265157477181,
          -0.26832171165488117,
          1.7322591311557272,
          1.4823599585000202,
          -0.21223993931260354,
          1.506767808999441,
          2.2535197249080685,
          -0.1198339588515651,
          -0.6846434595910331,
          0.1729807676946648,
          0.15173920031922505,
          -0.776613379779808,
          -0.011810156468320966,
          -0.7174950712346515,
          -0.6045945057396989,
          -0.22156638213211777,
          0.7921074698882515,
          0.6234406291140472,
          0.4010652389488166,
          0.07550111687761502,
          0.6651197294575687,
          1.393114003034596,
          1.046042718388696,
          0.38765896670310024
         ],
         "yaxis": "y9"
        },
        {
         "line": {
          "color": "rgba(128, 128, 128, 1.0)",
          "dash": "solid",
          "shape": "linear",
          "width": 1.3
         },
         "marker": {
          "size": 2,
          "symbol": "circle"
         },
         "mode": "markers",
         "name": "C",
         "text": "",
         "type": "scatter",
         "x": [
          -0.8731235508419704,
          0.4063663035008937,
          0.21393598835476177,
          -1.104000474626746,
          0.5206746278740676,
          -0.01884568069583808,
          0.6535981950685156,
          1.14439206448552,
          0.2929545928156336,
          -0.16538062686284627,
          1.097259225149773,
          -0.17808812529378423,
          -0.3126979876594213,
          1.1407520085951446,
          -0.566490064694201,
          0.7754917175479495,
          1.4724657738930809,
          -0.31017028299879124,
          -0.4753489359520454,
          1.7232179936716367,
          1.1414347256400401,
          -1.5106868013232306,
          -0.27992397842532235,
          -1.2139882533244817,
          0.4100934910089962,
          -0.5350054452183555,
          -0.5204945468601557,
          1.1142921087326496,
          -0.2887747339451265,
          0.09408581523160633,
          -1.279987458410801,
          -1.1740868613129465,
          -0.2926245600408343,
          -0.144877649537023,
          -0.9093457610034482,
          -0.5337689022180023,
          -0.017084322289417468,
          -1.6158225718623438,
          -1.1108767685479153,
          0.02611783578981778,
          -0.8674402869197879,
          0.480636199850919,
          -0.2551140401163761,
          0.09623414190198235,
          -0.6202596403538848,
          0.5512673714408092,
          1.5704362845628481,
          -0.06966255000115672,
          -0.7570796474829151,
          -2.3695016015417085,
          0.46985021980766656,
          -0.030284933437563066,
          -1.0464134874584372,
          -1.0710710395950138,
          0.22367596900939501,
          -1.3243189763274024,
          -0.18681523974469796,
          -0.26070960892291023,
          0.8125436741292955,
          -0.09950014014884463,
          0.3043036492382808,
          -0.470809417865467,
          -0.7970930223513626,
          -1.2001380253082512,
          -0.9417384031922611,
          -1.5184279582950249,
          -0.01725072375345233,
          -3.2444595535507403,
          0.5016346345637226,
          0.7050353536724342,
          1.2475875852443647,
          0.6936890152049425,
          2.591819172760977,
          -0.10101232298967208,
          0.8626542256645922,
          -1.2637655623733213,
          -0.057879488695521474,
          0.3338770631315833,
          -0.8654952418554549,
          0.300168575014734,
          -0.28872310361867176,
          -1.4921175757108949,
          -1.188952137668495,
          0.47716571052481055,
          1.543910825058214,
          1.4726571348561308,
          0.5507819537195303,
          -1.6558234228441506,
          0.5390984269896137,
          0.3525074699864782,
          0.42645531373262363,
          -0.26311097661064403,
          0.6017581127464071,
          -0.6116925342911296,
          -2.171599774932019,
          -0.03716068289075018,
          0.5189512190682418,
          0.059429755509573225,
          -1.3967446596137272,
          -0.12202190199365653
         ],
         "xaxis": "x10",
         "y": [
          -0.9196736624837573,
          0.5221521308335456,
          -0.4652498556979664,
          -1.454576414975132,
          0.436963063980055,
          1.4246799209117655,
          0.4795452278319759,
          1.0324097092675564,
          -1.2832969606128202,
          -1.4968684022895624,
          -0.01530092520712653,
          0.12291412210634833,
          -0.7509181015075169,
          2.508104676406065,
          0.4794525639949759,
          0.35700998615689433,
          -1.1831551942505845,
          0.8462407906799473,
          -1.0110263178467456,
          -0.4996367099663234,
          -0.15371107386966737,
          0.7875046929873949,
          -0.5041129185773495,
          0.3100861574387777,
          -0.5085707880875892,
          -0.22904189463503952,
          1.1706859225529218,
          -0.2719616076737529,
          0.8730665064136831,
          -1.184444283062692,
          0.8443375020986033,
          -0.3644937024112057,
          0.163478795827416,
          1.3772593435192526,
          0.08228471908569834,
          0.7605476156012057,
          -0.2504732383628632,
          0.1360064889167746,
          -3.644827998386898,
          -0.8793232150210272,
          0.3016143396085256,
          -0.49067491280895753,
          0.9579194000316426,
          -0.4348468067931921,
          -0.1946192264292153,
          -0.25793957366857867,
          0.75240596772292,
          -1.5929338059697495,
          -0.7269388164897601,
          0.4908818232564113,
          0.32641763647555144,
          0.48126621634927375,
          0.7141055423303951,
          -0.21426386859688382,
          -0.23225615893380858,
          0.9513770859984828,
          -1.4231640282914806,
          0.4520630258835394,
          -1.4919200307825713,
          1.291291461685043,
          -0.9941983312459777,
          0.7596392727401325,
          -0.5926195035122472,
          -0.5566293229752135,
          0.2982307468470132,
          1.738053578883346,
          0.06608083134619774,
          0.050839011923767115,
          1.0275197437881594,
          -0.8581772302452564,
          0.6607947683272261,
          -1.442888595982884,
          1.7584914022563805,
          0.3700062517332973,
          -1.915753567763661,
          -0.5117284645342928,
          0.5399265157477181,
          -0.26832171165488117,
          1.7322591311557272,
          1.4823599585000202,
          -0.21223993931260354,
          1.506767808999441,
          2.2535197249080685,
          -0.1198339588515651,
          -0.6846434595910331,
          0.1729807676946648,
          0.15173920031922505,
          -0.776613379779808,
          -0.011810156468320966,
          -0.7174950712346515,
          -0.6045945057396989,
          -0.22156638213211777,
          0.7921074698882515,
          0.6234406291140472,
          0.4010652389488166,
          0.07550111687761502,
          0.6651197294575687,
          1.393114003034596,
          1.046042718388696,
          0.38765896670310024
         ],
         "yaxis": "y10"
        },
        {
         "histfunc": "count",
         "histnorm": "",
         "marker": {
          "color": "rgba(50, 171, 96, 1.0)",
          "line": {
           "color": "#4D5663",
           "width": 1.3
          }
         },
         "name": "C",
         "nbinsx": 10,
         "opacity": 0.8,
         "orientation": "v",
         "type": "histogram",
         "x": [
          -0.9196736624837573,
          0.5221521308335456,
          -0.4652498556979664,
          -1.454576414975132,
          0.436963063980055,
          1.4246799209117655,
          0.4795452278319759,
          1.0324097092675564,
          -1.2832969606128202,
          -1.4968684022895624,
          -0.01530092520712653,
          0.12291412210634833,
          -0.7509181015075169,
          2.508104676406065,
          0.4794525639949759,
          0.35700998615689433,
          -1.1831551942505845,
          0.8462407906799473,
          -1.0110263178467456,
          -0.4996367099663234,
          -0.15371107386966737,
          0.7875046929873949,
          -0.5041129185773495,
          0.3100861574387777,
          -0.5085707880875892,
          -0.22904189463503952,
          1.1706859225529218,
          -0.2719616076737529,
          0.8730665064136831,
          -1.184444283062692,
          0.8443375020986033,
          -0.3644937024112057,
          0.163478795827416,
          1.3772593435192526,
          0.08228471908569834,
          0.7605476156012057,
          -0.2504732383628632,
          0.1360064889167746,
          -3.644827998386898,
          -0.8793232150210272,
          0.3016143396085256,
          -0.49067491280895753,
          0.9579194000316426,
          -0.4348468067931921,
          -0.1946192264292153,
          -0.25793957366857867,
          0.75240596772292,
          -1.5929338059697495,
          -0.7269388164897601,
          0.4908818232564113,
          0.32641763647555144,
          0.48126621634927375,
          0.7141055423303951,
          -0.21426386859688382,
          -0.23225615893380858,
          0.9513770859984828,
          -1.4231640282914806,
          0.4520630258835394,
          -1.4919200307825713,
          1.291291461685043,
          -0.9941983312459777,
          0.7596392727401325,
          -0.5926195035122472,
          -0.5566293229752135,
          0.2982307468470132,
          1.738053578883346,
          0.06608083134619774,
          0.050839011923767115,
          1.0275197437881594,
          -0.8581772302452564,
          0.6607947683272261,
          -1.442888595982884,
          1.7584914022563805,
          0.3700062517332973,
          -1.915753567763661,
          -0.5117284645342928,
          0.5399265157477181,
          -0.26832171165488117,
          1.7322591311557272,
          1.4823599585000202,
          -0.21223993931260354,
          1.506767808999441,
          2.2535197249080685,
          -0.1198339588515651,
          -0.6846434595910331,
          0.1729807676946648,
          0.15173920031922505,
          -0.776613379779808,
          -0.011810156468320966,
          -0.7174950712346515,
          -0.6045945057396989,
          -0.22156638213211777,
          0.7921074698882515,
          0.6234406291140472,
          0.4010652389488166,
          0.07550111687761502,
          0.6651197294575687,
          1.393114003034596,
          1.046042718388696,
          0.38765896670310024
         ],
         "xaxis": "x11",
         "yaxis": "y11"
        },
        {
         "line": {
          "color": "rgba(128, 128, 128, 1.0)",
          "dash": "solid",
          "shape": "linear",
          "width": 1.3
         },
         "marker": {
          "size": 2,
          "symbol": "circle"
         },
         "mode": "markers",
         "name": "C",
         "text": "",
         "type": "scatter",
         "x": [
          0.8154789793317233,
          -0.7932543362196849,
          2.1090714139213964,
          -0.08008470874810897,
          -1.3001999460071456,
          -0.7533227790295761,
          -1.0023303372713803,
          -0.6526378920334932,
          -0.6653417572773734,
          -0.3248412709435413,
          1.70442130197609,
          1.6840439606302038,
          1.313022981891956,
          -1.0663347951928297,
          0.3423494606212533,
          1.3196565164837162,
          -0.5012998698168185,
          -0.694618064755753,
          1.596161415909783,
          -0.6539249230936592,
          2.2854155981832025,
          -0.8285365819761168,
          1.35019284489788,
          0.7392664010025717,
          -0.8728638748620098,
          -1.257815829544241,
          1.2170550695382087,
          1.6487781672823338,
          -0.7397135971258295,
          -0.5496178716866912,
          0.24354353838367032,
          -0.1981188699638196,
          0.7450212943920029,
          -0.688454797303157,
          1.3609988352021904,
          1.7836251044013816,
          -0.42495453030026753,
          -1.4796654963764373,
          0.26699530633905383,
          0.9386337857275068,
          0.5422571256779178,
          -0.5951679964609107,
          1.3591277952198586,
          1.107835057885836,
          -0.9043344904432511,
          0.3590319613430317,
          -0.7966844234190578,
          -0.06000227589783168,
          0.04316938407978105,
          1.3580552003388051,
          -0.7760626440378443,
          1.5854530989997315,
          -0.46353069186426404,
          -1.0745167090420498,
          2.212116176062031,
          -1.439675541529478,
          -2.0554704481808495,
          -0.11811185811532435,
          -0.41196864579863074,
          -0.9389985024768397,
          1.2959635418379791,
          0.4078693097348912,
          -0.8671054942393984,
          1.7252482957866269,
          -0.17094699657986662,
          -0.4203898822603816,
          1.0238149845075084,
          -1.7082023970596323,
          1.2105603191784666,
          0.470411960848045,
          -0.44163507560902787,
          -0.561536410751917,
          -2.2920236391835873,
          1.6921460848889827,
          -0.8753528703650812,
          -0.308624577218057,
          -0.7479970008532968,
          0.042424762273314244,
          0.42775674124162216,
          -0.7612535278594279,
          -0.8123766392385495,
          -0.320045127298039,
          1.2962971549556204,
          0.8468549112150666,
          0.38948944554984866,
          0.3464931109083758,
          0.06556931178920412,
          0.2025946289920695,
          2.4028721763358156,
          -1.0664451168631308,
          0.3001848021183222,
          0.030968772479112953,
          0.4189819842801789,
          -0.5299316257147946,
          0.3622802315153845,
          0.8064488289050201,
          -0.2825747218761014,
          -1.3516618998411016,
          0.8904083060648561,
          -0.3792076435989007
         ],
         "xaxis": "x12",
         "y": [
          -0.9196736624837573,
          0.5221521308335456,
          -0.4652498556979664,
          -1.454576414975132,
          0.436963063980055,
          1.4246799209117655,
          0.4795452278319759,
          1.0324097092675564,
          -1.2832969606128202,
          -1.4968684022895624,
          -0.01530092520712653,
          0.12291412210634833,
          -0.7509181015075169,
          2.508104676406065,
          0.4794525639949759,
          0.35700998615689433,
          -1.1831551942505845,
          0.8462407906799473,
          -1.0110263178467456,
          -0.4996367099663234,
          -0.15371107386966737,
          0.7875046929873949,
          -0.5041129185773495,
          0.3100861574387777,
          -0.5085707880875892,
          -0.22904189463503952,
          1.1706859225529218,
          -0.2719616076737529,
          0.8730665064136831,
          -1.184444283062692,
          0.8443375020986033,
          -0.3644937024112057,
          0.163478795827416,
          1.3772593435192526,
          0.08228471908569834,
          0.7605476156012057,
          -0.2504732383628632,
          0.1360064889167746,
          -3.644827998386898,
          -0.8793232150210272,
          0.3016143396085256,
          -0.49067491280895753,
          0.9579194000316426,
          -0.4348468067931921,
          -0.1946192264292153,
          -0.25793957366857867,
          0.75240596772292,
          -1.5929338059697495,
          -0.7269388164897601,
          0.4908818232564113,
          0.32641763647555144,
          0.48126621634927375,
          0.7141055423303951,
          -0.21426386859688382,
          -0.23225615893380858,
          0.9513770859984828,
          -1.4231640282914806,
          0.4520630258835394,
          -1.4919200307825713,
          1.291291461685043,
          -0.9941983312459777,
          0.7596392727401325,
          -0.5926195035122472,
          -0.5566293229752135,
          0.2982307468470132,
          1.738053578883346,
          0.06608083134619774,
          0.050839011923767115,
          1.0275197437881594,
          -0.8581772302452564,
          0.6607947683272261,
          -1.442888595982884,
          1.7584914022563805,
          0.3700062517332973,
          -1.915753567763661,
          -0.5117284645342928,
          0.5399265157477181,
          -0.26832171165488117,
          1.7322591311557272,
          1.4823599585000202,
          -0.21223993931260354,
          1.506767808999441,
          2.2535197249080685,
          -0.1198339588515651,
          -0.6846434595910331,
          0.1729807676946648,
          0.15173920031922505,
          -0.776613379779808,
          -0.011810156468320966,
          -0.7174950712346515,
          -0.6045945057396989,
          -0.22156638213211777,
          0.7921074698882515,
          0.6234406291140472,
          0.4010652389488166,
          0.07550111687761502,
          0.6651197294575687,
          1.393114003034596,
          1.046042718388696,
          0.38765896670310024
         ],
         "yaxis": "y12"
        },
        {
         "line": {
          "color": "rgba(128, 128, 128, 1.0)",
          "dash": "solid",
          "shape": "linear",
          "width": 1.3
         },
         "marker": {
          "size": 2,
          "symbol": "circle"
         },
         "mode": "markers",
         "name": "D",
         "text": "",
         "type": "scatter",
         "x": [
          -1.8385733383142502,
          0.8672457158580731,
          -1.6913759918836615,
          0.5490542772053529,
          -2.0448630397110024,
          -0.436039090217473,
          0.640548445743603,
          -1.7077325737917555,
          -1.6524174520551473,
          0.0007907560837533417,
          -0.25491887646539024,
          -1.1446104505452164,
          -0.8475481744004824,
          -0.8161181953930615,
          0.5861143155452699,
          -0.9317973692372261,
          1.3502398786147136,
          1.758118402606856,
          -1.1285332734978477,
          0.2585914173805949,
          1.9798015362947452,
          -0.30833965880411174,
          -1.0916955750299806,
          -0.057158385929394206,
          -1.0173606571226235,
          -0.8609220665567381,
          0.34741981219265133,
          -0.159358858867689,
          -0.43678412656387205,
          1.0627399323565616,
          -0.46706211244850665,
          -1.0427327308265124,
          -0.805693324842712,
          1.2770479544421895,
          0.32725761362015926,
          -0.568339510681153,
          -0.17447432698006723,
          -0.4573707756151931,
          0.7606294655707999,
          -0.7617983457284897,
          -0.633282488675788,
          0.9728067392089667,
          -0.08487630361962098,
          0.3451327034103059,
          -0.6434382015122148,
          -0.04919239099224115,
          -0.9798565186308319,
          1.3434944279834213,
          -0.09167130080686495,
          1.0280892123070835,
          -0.3727016281831937,
          0.205542353970833,
          0.49831900690235065,
          1.7667036512937528,
          0.06524931756953356,
          -1.1670797528842665,
          1.4913743607172376,
          0.3324568668491796,
          -0.15963192960528763,
          0.8849002460549106,
          -0.03419324271954416,
          0.2147022298380133,
          0.28974036454646246,
          -0.5798551719469845,
          0.42251601005333417,
          1.3154237088128184,
          1.0678775274202026,
          -0.715758017669985,
          -0.3140111688724749,
          -0.3734547451342669,
          0.4587328215325148,
          1.612073033741679,
          0.47558226142986987,
          -0.09115866157864358,
          0.6420263742551169,
          1.6629991156109898,
          -0.041887956096666505,
          0.4026327112865466,
          -0.7230102257213117,
          -0.13806081513002783,
          -1.9263259804307988,
          0.14389781394832898,
          -0.39106888558889374,
          -1.112691564259992,
          -0.41206708388351254,
          -1.5152032295504612,
          -0.32538019360859577,
          -0.39310628515137575,
          0.8596315300656956,
          -1.1162033172974786,
          -0.16595682132475104,
          -0.5054498229079003,
          0.5803298130870016,
          0.5865017276164397,
          -0.7746419487800955,
          0.4457882182331863,
          0.8512406554100072,
          -1.2480430036217465,
          -0.7328490073246734,
          0.4212693260620615
         ],
         "xaxis": "x13",
         "y": [
          0.8154789793317233,
          -0.7932543362196849,
          2.1090714139213964,
          -0.08008470874810897,
          -1.3001999460071456,
          -0.7533227790295761,
          -1.0023303372713803,
          -0.6526378920334932,
          -0.6653417572773734,
          -0.3248412709435413,
          1.70442130197609,
          1.6840439606302038,
          1.313022981891956,
          -1.0663347951928297,
          0.3423494606212533,
          1.3196565164837162,
          -0.5012998698168185,
          -0.694618064755753,
          1.596161415909783,
          -0.6539249230936592,
          2.2854155981832025,
          -0.8285365819761168,
          1.35019284489788,
          0.7392664010025717,
          -0.8728638748620098,
          -1.257815829544241,
          1.2170550695382087,
          1.6487781672823338,
          -0.7397135971258295,
          -0.5496178716866912,
          0.24354353838367032,
          -0.1981188699638196,
          0.7450212943920029,
          -0.688454797303157,
          1.3609988352021904,
          1.7836251044013816,
          -0.42495453030026753,
          -1.4796654963764373,
          0.26699530633905383,
          0.9386337857275068,
          0.5422571256779178,
          -0.5951679964609107,
          1.3591277952198586,
          1.107835057885836,
          -0.9043344904432511,
          0.3590319613430317,
          -0.7966844234190578,
          -0.06000227589783168,
          0.04316938407978105,
          1.3580552003388051,
          -0.7760626440378443,
          1.5854530989997315,
          -0.46353069186426404,
          -1.0745167090420498,
          2.212116176062031,
          -1.439675541529478,
          -2.0554704481808495,
          -0.11811185811532435,
          -0.41196864579863074,
          -0.9389985024768397,
          1.2959635418379791,
          0.4078693097348912,
          -0.8671054942393984,
          1.7252482957866269,
          -0.17094699657986662,
          -0.4203898822603816,
          1.0238149845075084,
          -1.7082023970596323,
          1.2105603191784666,
          0.470411960848045,
          -0.44163507560902787,
          -0.561536410751917,
          -2.2920236391835873,
          1.6921460848889827,
          -0.8753528703650812,
          -0.308624577218057,
          -0.7479970008532968,
          0.042424762273314244,
          0.42775674124162216,
          -0.7612535278594279,
          -0.8123766392385495,
          -0.320045127298039,
          1.2962971549556204,
          0.8468549112150666,
          0.38948944554984866,
          0.3464931109083758,
          0.06556931178920412,
          0.2025946289920695,
          2.4028721763358156,
          -1.0664451168631308,
          0.3001848021183222,
          0.030968772479112953,
          0.4189819842801789,
          -0.5299316257147946,
          0.3622802315153845,
          0.8064488289050201,
          -0.2825747218761014,
          -1.3516618998411016,
          0.8904083060648561,
          -0.3792076435989007
         ],
         "yaxis": "y13"
        },
        {
         "line": {
          "color": "rgba(128, 128, 128, 1.0)",
          "dash": "solid",
          "shape": "linear",
          "width": 1.3
         },
         "marker": {
          "size": 2,
          "symbol": "circle"
         },
         "mode": "markers",
         "name": "D",
         "text": "",
         "type": "scatter",
         "x": [
          -0.8731235508419704,
          0.4063663035008937,
          0.21393598835476177,
          -1.104000474626746,
          0.5206746278740676,
          -0.01884568069583808,
          0.6535981950685156,
          1.14439206448552,
          0.2929545928156336,
          -0.16538062686284627,
          1.097259225149773,
          -0.17808812529378423,
          -0.3126979876594213,
          1.1407520085951446,
          -0.566490064694201,
          0.7754917175479495,
          1.4724657738930809,
          -0.31017028299879124,
          -0.4753489359520454,
          1.7232179936716367,
          1.1414347256400401,
          -1.5106868013232306,
          -0.27992397842532235,
          -1.2139882533244817,
          0.4100934910089962,
          -0.5350054452183555,
          -0.5204945468601557,
          1.1142921087326496,
          -0.2887747339451265,
          0.09408581523160633,
          -1.279987458410801,
          -1.1740868613129465,
          -0.2926245600408343,
          -0.144877649537023,
          -0.9093457610034482,
          -0.5337689022180023,
          -0.017084322289417468,
          -1.6158225718623438,
          -1.1108767685479153,
          0.02611783578981778,
          -0.8674402869197879,
          0.480636199850919,
          -0.2551140401163761,
          0.09623414190198235,
          -0.6202596403538848,
          0.5512673714408092,
          1.5704362845628481,
          -0.06966255000115672,
          -0.7570796474829151,
          -2.3695016015417085,
          0.46985021980766656,
          -0.030284933437563066,
          -1.0464134874584372,
          -1.0710710395950138,
          0.22367596900939501,
          -1.3243189763274024,
          -0.18681523974469796,
          -0.26070960892291023,
          0.8125436741292955,
          -0.09950014014884463,
          0.3043036492382808,
          -0.470809417865467,
          -0.7970930223513626,
          -1.2001380253082512,
          -0.9417384031922611,
          -1.5184279582950249,
          -0.01725072375345233,
          -3.2444595535507403,
          0.5016346345637226,
          0.7050353536724342,
          1.2475875852443647,
          0.6936890152049425,
          2.591819172760977,
          -0.10101232298967208,
          0.8626542256645922,
          -1.2637655623733213,
          -0.057879488695521474,
          0.3338770631315833,
          -0.8654952418554549,
          0.300168575014734,
          -0.28872310361867176,
          -1.4921175757108949,
          -1.188952137668495,
          0.47716571052481055,
          1.543910825058214,
          1.4726571348561308,
          0.5507819537195303,
          -1.6558234228441506,
          0.5390984269896137,
          0.3525074699864782,
          0.42645531373262363,
          -0.26311097661064403,
          0.6017581127464071,
          -0.6116925342911296,
          -2.171599774932019,
          -0.03716068289075018,
          0.5189512190682418,
          0.059429755509573225,
          -1.3967446596137272,
          -0.12202190199365653
         ],
         "xaxis": "x14",
         "y": [
          0.8154789793317233,
          -0.7932543362196849,
          2.1090714139213964,
          -0.08008470874810897,
          -1.3001999460071456,
          -0.7533227790295761,
          -1.0023303372713803,
          -0.6526378920334932,
          -0.6653417572773734,
          -0.3248412709435413,
          1.70442130197609,
          1.6840439606302038,
          1.313022981891956,
          -1.0663347951928297,
          0.3423494606212533,
          1.3196565164837162,
          -0.5012998698168185,
          -0.694618064755753,
          1.596161415909783,
          -0.6539249230936592,
          2.2854155981832025,
          -0.8285365819761168,
          1.35019284489788,
          0.7392664010025717,
          -0.8728638748620098,
          -1.257815829544241,
          1.2170550695382087,
          1.6487781672823338,
          -0.7397135971258295,
          -0.5496178716866912,
          0.24354353838367032,
          -0.1981188699638196,
          0.7450212943920029,
          -0.688454797303157,
          1.3609988352021904,
          1.7836251044013816,
          -0.42495453030026753,
          -1.4796654963764373,
          0.26699530633905383,
          0.9386337857275068,
          0.5422571256779178,
          -0.5951679964609107,
          1.3591277952198586,
          1.107835057885836,
          -0.9043344904432511,
          0.3590319613430317,
          -0.7966844234190578,
          -0.06000227589783168,
          0.04316938407978105,
          1.3580552003388051,
          -0.7760626440378443,
          1.5854530989997315,
          -0.46353069186426404,
          -1.0745167090420498,
          2.212116176062031,
          -1.439675541529478,
          -2.0554704481808495,
          -0.11811185811532435,
          -0.41196864579863074,
          -0.9389985024768397,
          1.2959635418379791,
          0.4078693097348912,
          -0.8671054942393984,
          1.7252482957866269,
          -0.17094699657986662,
          -0.4203898822603816,
          1.0238149845075084,
          -1.7082023970596323,
          1.2105603191784666,
          0.470411960848045,
          -0.44163507560902787,
          -0.561536410751917,
          -2.2920236391835873,
          1.6921460848889827,
          -0.8753528703650812,
          -0.308624577218057,
          -0.7479970008532968,
          0.042424762273314244,
          0.42775674124162216,
          -0.7612535278594279,
          -0.8123766392385495,
          -0.320045127298039,
          1.2962971549556204,
          0.8468549112150666,
          0.38948944554984866,
          0.3464931109083758,
          0.06556931178920412,
          0.2025946289920695,
          2.4028721763358156,
          -1.0664451168631308,
          0.3001848021183222,
          0.030968772479112953,
          0.4189819842801789,
          -0.5299316257147946,
          0.3622802315153845,
          0.8064488289050201,
          -0.2825747218761014,
          -1.3516618998411016,
          0.8904083060648561,
          -0.3792076435989007
         ],
         "yaxis": "y14"
        },
        {
         "line": {
          "color": "rgba(128, 128, 128, 1.0)",
          "dash": "solid",
          "shape": "linear",
          "width": 1.3
         },
         "marker": {
          "size": 2,
          "symbol": "circle"
         },
         "mode": "markers",
         "name": "D",
         "text": "",
         "type": "scatter",
         "x": [
          -0.9196736624837573,
          0.5221521308335456,
          -0.4652498556979664,
          -1.454576414975132,
          0.436963063980055,
          1.4246799209117655,
          0.4795452278319759,
          1.0324097092675564,
          -1.2832969606128202,
          -1.4968684022895624,
          -0.01530092520712653,
          0.12291412210634833,
          -0.7509181015075169,
          2.508104676406065,
          0.4794525639949759,
          0.35700998615689433,
          -1.1831551942505845,
          0.8462407906799473,
          -1.0110263178467456,
          -0.4996367099663234,
          -0.15371107386966737,
          0.7875046929873949,
          -0.5041129185773495,
          0.3100861574387777,
          -0.5085707880875892,
          -0.22904189463503952,
          1.1706859225529218,
          -0.2719616076737529,
          0.8730665064136831,
          -1.184444283062692,
          0.8443375020986033,
          -0.3644937024112057,
          0.163478795827416,
          1.3772593435192526,
          0.08228471908569834,
          0.7605476156012057,
          -0.2504732383628632,
          0.1360064889167746,
          -3.644827998386898,
          -0.8793232150210272,
          0.3016143396085256,
          -0.49067491280895753,
          0.9579194000316426,
          -0.4348468067931921,
          -0.1946192264292153,
          -0.25793957366857867,
          0.75240596772292,
          -1.5929338059697495,
          -0.7269388164897601,
          0.4908818232564113,
          0.32641763647555144,
          0.48126621634927375,
          0.7141055423303951,
          -0.21426386859688382,
          -0.23225615893380858,
          0.9513770859984828,
          -1.4231640282914806,
          0.4520630258835394,
          -1.4919200307825713,
          1.291291461685043,
          -0.9941983312459777,
          0.7596392727401325,
          -0.5926195035122472,
          -0.5566293229752135,
          0.2982307468470132,
          1.738053578883346,
          0.06608083134619774,
          0.050839011923767115,
          1.0275197437881594,
          -0.8581772302452564,
          0.6607947683272261,
          -1.442888595982884,
          1.7584914022563805,
          0.3700062517332973,
          -1.915753567763661,
          -0.5117284645342928,
          0.5399265157477181,
          -0.26832171165488117,
          1.7322591311557272,
          1.4823599585000202,
          -0.21223993931260354,
          1.506767808999441,
          2.2535197249080685,
          -0.1198339588515651,
          -0.6846434595910331,
          0.1729807676946648,
          0.15173920031922505,
          -0.776613379779808,
          -0.011810156468320966,
          -0.7174950712346515,
          -0.6045945057396989,
          -0.22156638213211777,
          0.7921074698882515,
          0.6234406291140472,
          0.4010652389488166,
          0.07550111687761502,
          0.6651197294575687,
          1.393114003034596,
          1.046042718388696,
          0.38765896670310024
         ],
         "xaxis": "x15",
         "y": [
          0.8154789793317233,
          -0.7932543362196849,
          2.1090714139213964,
          -0.08008470874810897,
          -1.3001999460071456,
          -0.7533227790295761,
          -1.0023303372713803,
          -0.6526378920334932,
          -0.6653417572773734,
          -0.3248412709435413,
          1.70442130197609,
          1.6840439606302038,
          1.313022981891956,
          -1.0663347951928297,
          0.3423494606212533,
          1.3196565164837162,
          -0.5012998698168185,
          -0.694618064755753,
          1.596161415909783,
          -0.6539249230936592,
          2.2854155981832025,
          -0.8285365819761168,
          1.35019284489788,
          0.7392664010025717,
          -0.8728638748620098,
          -1.257815829544241,
          1.2170550695382087,
          1.6487781672823338,
          -0.7397135971258295,
          -0.5496178716866912,
          0.24354353838367032,
          -0.1981188699638196,
          0.7450212943920029,
          -0.688454797303157,
          1.3609988352021904,
          1.7836251044013816,
          -0.42495453030026753,
          -1.4796654963764373,
          0.26699530633905383,
          0.9386337857275068,
          0.5422571256779178,
          -0.5951679964609107,
          1.3591277952198586,
          1.107835057885836,
          -0.9043344904432511,
          0.3590319613430317,
          -0.7966844234190578,
          -0.06000227589783168,
          0.04316938407978105,
          1.3580552003388051,
          -0.7760626440378443,
          1.5854530989997315,
          -0.46353069186426404,
          -1.0745167090420498,
          2.212116176062031,
          -1.439675541529478,
          -2.0554704481808495,
          -0.11811185811532435,
          -0.41196864579863074,
          -0.9389985024768397,
          1.2959635418379791,
          0.4078693097348912,
          -0.8671054942393984,
          1.7252482957866269,
          -0.17094699657986662,
          -0.4203898822603816,
          1.0238149845075084,
          -1.7082023970596323,
          1.2105603191784666,
          0.470411960848045,
          -0.44163507560902787,
          -0.561536410751917,
          -2.2920236391835873,
          1.6921460848889827,
          -0.8753528703650812,
          -0.308624577218057,
          -0.7479970008532968,
          0.042424762273314244,
          0.42775674124162216,
          -0.7612535278594279,
          -0.8123766392385495,
          -0.320045127298039,
          1.2962971549556204,
          0.8468549112150666,
          0.38948944554984866,
          0.3464931109083758,
          0.06556931178920412,
          0.2025946289920695,
          2.4028721763358156,
          -1.0664451168631308,
          0.3001848021183222,
          0.030968772479112953,
          0.4189819842801789,
          -0.5299316257147946,
          0.3622802315153845,
          0.8064488289050201,
          -0.2825747218761014,
          -1.3516618998411016,
          0.8904083060648561,
          -0.3792076435989007
         ],
         "yaxis": "y15"
        },
        {
         "histfunc": "count",
         "histnorm": "",
         "marker": {
          "color": "rgba(128, 0, 128, 1.0)",
          "line": {
           "color": "#4D5663",
           "width": 1.3
          }
         },
         "name": "D",
         "nbinsx": 10,
         "opacity": 0.8,
         "orientation": "v",
         "type": "histogram",
         "x": [
          0.8154789793317233,
          -0.7932543362196849,
          2.1090714139213964,
          -0.08008470874810897,
          -1.3001999460071456,
          -0.7533227790295761,
          -1.0023303372713803,
          -0.6526378920334932,
          -0.6653417572773734,
          -0.3248412709435413,
          1.70442130197609,
          1.6840439606302038,
          1.313022981891956,
          -1.0663347951928297,
          0.3423494606212533,
          1.3196565164837162,
          -0.5012998698168185,
          -0.694618064755753,
          1.596161415909783,
          -0.6539249230936592,
          2.2854155981832025,
          -0.8285365819761168,
          1.35019284489788,
          0.7392664010025717,
          -0.8728638748620098,
          -1.257815829544241,
          1.2170550695382087,
          1.6487781672823338,
          -0.7397135971258295,
          -0.5496178716866912,
          0.24354353838367032,
          -0.1981188699638196,
          0.7450212943920029,
          -0.688454797303157,
          1.3609988352021904,
          1.7836251044013816,
          -0.42495453030026753,
          -1.4796654963764373,
          0.26699530633905383,
          0.9386337857275068,
          0.5422571256779178,
          -0.5951679964609107,
          1.3591277952198586,
          1.107835057885836,
          -0.9043344904432511,
          0.3590319613430317,
          -0.7966844234190578,
          -0.06000227589783168,
          0.04316938407978105,
          1.3580552003388051,
          -0.7760626440378443,
          1.5854530989997315,
          -0.46353069186426404,
          -1.0745167090420498,
          2.212116176062031,
          -1.439675541529478,
          -2.0554704481808495,
          -0.11811185811532435,
          -0.41196864579863074,
          -0.9389985024768397,
          1.2959635418379791,
          0.4078693097348912,
          -0.8671054942393984,
          1.7252482957866269,
          -0.17094699657986662,
          -0.4203898822603816,
          1.0238149845075084,
          -1.7082023970596323,
          1.2105603191784666,
          0.470411960848045,
          -0.44163507560902787,
          -0.561536410751917,
          -2.2920236391835873,
          1.6921460848889827,
          -0.8753528703650812,
          -0.308624577218057,
          -0.7479970008532968,
          0.042424762273314244,
          0.42775674124162216,
          -0.7612535278594279,
          -0.8123766392385495,
          -0.320045127298039,
          1.2962971549556204,
          0.8468549112150666,
          0.38948944554984866,
          0.3464931109083758,
          0.06556931178920412,
          0.2025946289920695,
          2.4028721763358156,
          -1.0664451168631308,
          0.3001848021183222,
          0.030968772479112953,
          0.4189819842801789,
          -0.5299316257147946,
          0.3622802315153845,
          0.8064488289050201,
          -0.2825747218761014,
          -1.3516618998411016,
          0.8904083060648561,
          -0.3792076435989007
         ],
         "xaxis": "x16",
         "yaxis": "y16"
        }
       ],
       "layout": {
        "bargap": 0.02,
        "legend": {
         "bgcolor": "#F5F6F9",
         "font": {
          "color": "#4D5663"
         }
        },
        "paper_bgcolor": "#F5F6F9",
        "plot_bgcolor": "#F5F6F9",
        "showlegend": false,
        "template": {
         "data": {
          "bar": [
           {
            "error_x": {
             "color": "#2a3f5f"
            },
            "error_y": {
             "color": "#2a3f5f"
            },
            "marker": {
             "line": {
              "color": "#E5ECF6",
              "width": 0.5
             },
             "pattern": {
              "fillmode": "overlay",
              "size": 10,
              "solidity": 0.2
             }
            },
            "type": "bar"
           }
          ],
          "barpolar": [
           {
            "marker": {
             "line": {
              "color": "#E5ECF6",
              "width": 0.5
             },
             "pattern": {
              "fillmode": "overlay",
              "size": 10,
              "solidity": 0.2
             }
            },
            "type": "barpolar"
           }
          ],
          "carpet": [
           {
            "aaxis": {
             "endlinecolor": "#2a3f5f",
             "gridcolor": "white",
             "linecolor": "white",
             "minorgridcolor": "white",
             "startlinecolor": "#2a3f5f"
            },
            "baxis": {
             "endlinecolor": "#2a3f5f",
             "gridcolor": "white",
             "linecolor": "white",
             "minorgridcolor": "white",
             "startlinecolor": "#2a3f5f"
            },
            "type": "carpet"
           }
          ],
          "choropleth": [
           {
            "colorbar": {
             "outlinewidth": 0,
             "ticks": ""
            },
            "type": "choropleth"
           }
          ],
          "contour": [
           {
            "colorbar": {
             "outlinewidth": 0,
             "ticks": ""
            },
            "colorscale": [
             [
              0,
              "#0d0887"
             ],
             [
              0.1111111111111111,
              "#46039f"
             ],
             [
              0.2222222222222222,
              "#7201a8"
             ],
             [
              0.3333333333333333,
              "#9c179e"
             ],
             [
              0.4444444444444444,
              "#bd3786"
             ],
             [
              0.5555555555555556,
              "#d8576b"
             ],
             [
              0.6666666666666666,
              "#ed7953"
             ],
             [
              0.7777777777777778,
              "#fb9f3a"
             ],
             [
              0.8888888888888888,
              "#fdca26"
             ],
             [
              1,
              "#f0f921"
             ]
            ],
            "type": "contour"
           }
          ],
          "contourcarpet": [
           {
            "colorbar": {
             "outlinewidth": 0,
             "ticks": ""
            },
            "type": "contourcarpet"
           }
          ],
          "heatmap": [
           {
            "colorbar": {
             "outlinewidth": 0,
             "ticks": ""
            },
            "colorscale": [
             [
              0,
              "#0d0887"
             ],
             [
              0.1111111111111111,
              "#46039f"
             ],
             [
              0.2222222222222222,
              "#7201a8"
             ],
             [
              0.3333333333333333,
              "#9c179e"
             ],
             [
              0.4444444444444444,
              "#bd3786"
             ],
             [
              0.5555555555555556,
              "#d8576b"
             ],
             [
              0.6666666666666666,
              "#ed7953"
             ],
             [
              0.7777777777777778,
              "#fb9f3a"
             ],
             [
              0.8888888888888888,
              "#fdca26"
             ],
             [
              1,
              "#f0f921"
             ]
            ],
            "type": "heatmap"
           }
          ],
          "heatmapgl": [
           {
            "colorbar": {
             "outlinewidth": 0,
             "ticks": ""
            },
            "colorscale": [
             [
              0,
              "#0d0887"
             ],
             [
              0.1111111111111111,
              "#46039f"
             ],
             [
              0.2222222222222222,
              "#7201a8"
             ],
             [
              0.3333333333333333,
              "#9c179e"
             ],
             [
              0.4444444444444444,
              "#bd3786"
             ],
             [
              0.5555555555555556,
              "#d8576b"
             ],
             [
              0.6666666666666666,
              "#ed7953"
             ],
             [
              0.7777777777777778,
              "#fb9f3a"
             ],
             [
              0.8888888888888888,
              "#fdca26"
             ],
             [
              1,
              "#f0f921"
             ]
            ],
            "type": "heatmapgl"
           }
          ],
          "histogram": [
           {
            "marker": {
             "pattern": {
              "fillmode": "overlay",
              "size": 10,
              "solidity": 0.2
             }
            },
            "type": "histogram"
           }
          ],
          "histogram2d": [
           {
            "colorbar": {
             "outlinewidth": 0,
             "ticks": ""
            },
            "colorscale": [
             [
              0,
              "#0d0887"
             ],
             [
              0.1111111111111111,
              "#46039f"
             ],
             [
              0.2222222222222222,
              "#7201a8"
             ],
             [
              0.3333333333333333,
              "#9c179e"
             ],
             [
              0.4444444444444444,
              "#bd3786"
             ],
             [
              0.5555555555555556,
              "#d8576b"
             ],
             [
              0.6666666666666666,
              "#ed7953"
             ],
             [
              0.7777777777777778,
              "#fb9f3a"
             ],
             [
              0.8888888888888888,
              "#fdca26"
             ],
             [
              1,
              "#f0f921"
             ]
            ],
            "type": "histogram2d"
           }
          ],
          "histogram2dcontour": [
           {
            "colorbar": {
             "outlinewidth": 0,
             "ticks": ""
            },
            "colorscale": [
             [
              0,
              "#0d0887"
             ],
             [
              0.1111111111111111,
              "#46039f"
             ],
             [
              0.2222222222222222,
              "#7201a8"
             ],
             [
              0.3333333333333333,
              "#9c179e"
             ],
             [
              0.4444444444444444,
              "#bd3786"
             ],
             [
              0.5555555555555556,
              "#d8576b"
             ],
             [
              0.6666666666666666,
              "#ed7953"
             ],
             [
              0.7777777777777778,
              "#fb9f3a"
             ],
             [
              0.8888888888888888,
              "#fdca26"
             ],
             [
              1,
              "#f0f921"
             ]
            ],
            "type": "histogram2dcontour"
           }
          ],
          "mesh3d": [
           {
            "colorbar": {
             "outlinewidth": 0,
             "ticks": ""
            },
            "type": "mesh3d"
           }
          ],
          "parcoords": [
           {
            "line": {
             "colorbar": {
              "outlinewidth": 0,
              "ticks": ""
             }
            },
            "type": "parcoords"
           }
          ],
          "pie": [
           {
            "automargin": true,
            "type": "pie"
           }
          ],
          "scatter": [
           {
            "fillpattern": {
             "fillmode": "overlay",
             "size": 10,
             "solidity": 0.2
            },
            "type": "scatter"
           }
          ],
          "scatter3d": [
           {
            "line": {
             "colorbar": {
              "outlinewidth": 0,
              "ticks": ""
             }
            },
            "marker": {
             "colorbar": {
              "outlinewidth": 0,
              "ticks": ""
             }
            },
            "type": "scatter3d"
           }
          ],
          "scattercarpet": [
           {
            "marker": {
             "colorbar": {
              "outlinewidth": 0,
              "ticks": ""
             }
            },
            "type": "scattercarpet"
           }
          ],
          "scattergeo": [
           {
            "marker": {
             "colorbar": {
              "outlinewidth": 0,
              "ticks": ""
             }
            },
            "type": "scattergeo"
           }
          ],
          "scattergl": [
           {
            "marker": {
             "colorbar": {
              "outlinewidth": 0,
              "ticks": ""
             }
            },
            "type": "scattergl"
           }
          ],
          "scattermapbox": [
           {
            "marker": {
             "colorbar": {
              "outlinewidth": 0,
              "ticks": ""
             }
            },
            "type": "scattermapbox"
           }
          ],
          "scatterpolar": [
           {
            "marker": {
             "colorbar": {
              "outlinewidth": 0,
              "ticks": ""
             }
            },
            "type": "scatterpolar"
           }
          ],
          "scatterpolargl": [
           {
            "marker": {
             "colorbar": {
              "outlinewidth": 0,
              "ticks": ""
             }
            },
            "type": "scatterpolargl"
           }
          ],
          "scatterternary": [
           {
            "marker": {
             "colorbar": {
              "outlinewidth": 0,
              "ticks": ""
             }
            },
            "type": "scatterternary"
           }
          ],
          "surface": [
           {
            "colorbar": {
             "outlinewidth": 0,
             "ticks": ""
            },
            "colorscale": [
             [
              0,
              "#0d0887"
             ],
             [
              0.1111111111111111,
              "#46039f"
             ],
             [
              0.2222222222222222,
              "#7201a8"
             ],
             [
              0.3333333333333333,
              "#9c179e"
             ],
             [
              0.4444444444444444,
              "#bd3786"
             ],
             [
              0.5555555555555556,
              "#d8576b"
             ],
             [
              0.6666666666666666,
              "#ed7953"
             ],
             [
              0.7777777777777778,
              "#fb9f3a"
             ],
             [
              0.8888888888888888,
              "#fdca26"
             ],
             [
              1,
              "#f0f921"
             ]
            ],
            "type": "surface"
           }
          ],
          "table": [
           {
            "cells": {
             "fill": {
              "color": "#EBF0F8"
             },
             "line": {
              "color": "white"
             }
            },
            "header": {
             "fill": {
              "color": "#C8D4E3"
             },
             "line": {
              "color": "white"
             }
            },
            "type": "table"
           }
          ]
         },
         "layout": {
          "annotationdefaults": {
           "arrowcolor": "#2a3f5f",
           "arrowhead": 0,
           "arrowwidth": 1
          },
          "autotypenumbers": "strict",
          "coloraxis": {
           "colorbar": {
            "outlinewidth": 0,
            "ticks": ""
           }
          },
          "colorscale": {
           "diverging": [
            [
             0,
             "#8e0152"
            ],
            [
             0.1,
             "#c51b7d"
            ],
            [
             0.2,
             "#de77ae"
            ],
            [
             0.3,
             "#f1b6da"
            ],
            [
             0.4,
             "#fde0ef"
            ],
            [
             0.5,
             "#f7f7f7"
            ],
            [
             0.6,
             "#e6f5d0"
            ],
            [
             0.7,
             "#b8e186"
            ],
            [
             0.8,
             "#7fbc41"
            ],
            [
             0.9,
             "#4d9221"
            ],
            [
             1,
             "#276419"
            ]
           ],
           "sequential": [
            [
             0,
             "#0d0887"
            ],
            [
             0.1111111111111111,
             "#46039f"
            ],
            [
             0.2222222222222222,
             "#7201a8"
            ],
            [
             0.3333333333333333,
             "#9c179e"
            ],
            [
             0.4444444444444444,
             "#bd3786"
            ],
            [
             0.5555555555555556,
             "#d8576b"
            ],
            [
             0.6666666666666666,
             "#ed7953"
            ],
            [
             0.7777777777777778,
             "#fb9f3a"
            ],
            [
             0.8888888888888888,
             "#fdca26"
            ],
            [
             1,
             "#f0f921"
            ]
           ],
           "sequentialminus": [
            [
             0,
             "#0d0887"
            ],
            [
             0.1111111111111111,
             "#46039f"
            ],
            [
             0.2222222222222222,
             "#7201a8"
            ],
            [
             0.3333333333333333,
             "#9c179e"
            ],
            [
             0.4444444444444444,
             "#bd3786"
            ],
            [
             0.5555555555555556,
             "#d8576b"
            ],
            [
             0.6666666666666666,
             "#ed7953"
            ],
            [
             0.7777777777777778,
             "#fb9f3a"
            ],
            [
             0.8888888888888888,
             "#fdca26"
            ],
            [
             1,
             "#f0f921"
            ]
           ]
          },
          "colorway": [
           "#636efa",
           "#EF553B",
           "#00cc96",
           "#ab63fa",
           "#FFA15A",
           "#19d3f3",
           "#FF6692",
           "#B6E880",
           "#FF97FF",
           "#FECB52"
          ],
          "font": {
           "color": "#2a3f5f"
          },
          "geo": {
           "bgcolor": "white",
           "lakecolor": "white",
           "landcolor": "#E5ECF6",
           "showlakes": true,
           "showland": true,
           "subunitcolor": "white"
          },
          "hoverlabel": {
           "align": "left"
          },
          "hovermode": "closest",
          "mapbox": {
           "style": "light"
          },
          "paper_bgcolor": "white",
          "plot_bgcolor": "#E5ECF6",
          "polar": {
           "angularaxis": {
            "gridcolor": "white",
            "linecolor": "white",
            "ticks": ""
           },
           "bgcolor": "#E5ECF6",
           "radialaxis": {
            "gridcolor": "white",
            "linecolor": "white",
            "ticks": ""
           }
          },
          "scene": {
           "xaxis": {
            "backgroundcolor": "#E5ECF6",
            "gridcolor": "white",
            "gridwidth": 2,
            "linecolor": "white",
            "showbackground": true,
            "ticks": "",
            "zerolinecolor": "white"
           },
           "yaxis": {
            "backgroundcolor": "#E5ECF6",
            "gridcolor": "white",
            "gridwidth": 2,
            "linecolor": "white",
            "showbackground": true,
            "ticks": "",
            "zerolinecolor": "white"
           },
           "zaxis": {
            "backgroundcolor": "#E5ECF6",
            "gridcolor": "white",
            "gridwidth": 2,
            "linecolor": "white",
            "showbackground": true,
            "ticks": "",
            "zerolinecolor": "white"
           }
          },
          "shapedefaults": {
           "line": {
            "color": "#2a3f5f"
           }
          },
          "ternary": {
           "aaxis": {
            "gridcolor": "white",
            "linecolor": "white",
            "ticks": ""
           },
           "baxis": {
            "gridcolor": "white",
            "linecolor": "white",
            "ticks": ""
           },
           "bgcolor": "#E5ECF6",
           "caxis": {
            "gridcolor": "white",
            "linecolor": "white",
            "ticks": ""
           }
          },
          "title": {
           "x": 0.05
          },
          "xaxis": {
           "automargin": true,
           "gridcolor": "white",
           "linecolor": "white",
           "ticks": "",
           "title": {
            "standoff": 15
           },
           "zerolinecolor": "white",
           "zerolinewidth": 2
          },
          "yaxis": {
           "automargin": true,
           "gridcolor": "white",
           "linecolor": "white",
           "ticks": "",
           "title": {
            "standoff": 15
           },
           "zerolinecolor": "white",
           "zerolinewidth": 2
          }
         }
        },
        "title": {
         "font": {
          "color": "#4D5663"
         }
        },
        "xaxis": {
         "anchor": "y",
         "domain": [
          0,
          0.2125
         ],
         "gridcolor": "#E1E5ED",
         "showgrid": false,
         "tickfont": {
          "color": "#4D5663"
         },
         "title": {
          "font": {
           "color": "#4D5663"
          },
          "text": ""
         },
         "zerolinecolor": "#E1E5ED"
        },
        "xaxis10": {
         "anchor": "y10",
         "domain": [
          0.2625,
          0.475
         ],
         "gridcolor": "#E1E5ED",
         "showgrid": false,
         "tickfont": {
          "color": "#4D5663"
         },
         "title": {
          "font": {
           "color": "#4D5663"
          },
          "text": ""
         },
         "zerolinecolor": "#E1E5ED"
        },
        "xaxis11": {
         "anchor": "y11",
         "domain": [
          0.525,
          0.7375
         ],
         "gridcolor": "#E1E5ED",
         "showgrid": false,
         "tickfont": {
          "color": "#4D5663"
         },
         "title": {
          "font": {
           "color": "#4D5663"
          },
          "text": ""
         },
         "zerolinecolor": "#E1E5ED"
        },
        "xaxis12": {
         "anchor": "y12",
         "domain": [
          0.7875,
          1
         ],
         "gridcolor": "#E1E5ED",
         "showgrid": false,
         "tickfont": {
          "color": "#4D5663"
         },
         "title": {
          "font": {
           "color": "#4D5663"
          },
          "text": ""
         },
         "zerolinecolor": "#E1E5ED"
        },
        "xaxis13": {
         "anchor": "y13",
         "domain": [
          0,
          0.2125
         ],
         "gridcolor": "#E1E5ED",
         "showgrid": false,
         "tickfont": {
          "color": "#4D5663"
         },
         "title": {
          "font": {
           "color": "#4D5663"
          },
          "text": ""
         },
         "zerolinecolor": "#E1E5ED"
        },
        "xaxis14": {
         "anchor": "y14",
         "domain": [
          0.2625,
          0.475
         ],
         "gridcolor": "#E1E5ED",
         "showgrid": false,
         "tickfont": {
          "color": "#4D5663"
         },
         "title": {
          "font": {
           "color": "#4D5663"
          },
          "text": ""
         },
         "zerolinecolor": "#E1E5ED"
        },
        "xaxis15": {
         "anchor": "y15",
         "domain": [
          0.525,
          0.7375
         ],
         "gridcolor": "#E1E5ED",
         "showgrid": false,
         "tickfont": {
          "color": "#4D5663"
         },
         "title": {
          "font": {
           "color": "#4D5663"
          },
          "text": ""
         },
         "zerolinecolor": "#E1E5ED"
        },
        "xaxis16": {
         "anchor": "y16",
         "domain": [
          0.7875,
          1
         ],
         "gridcolor": "#E1E5ED",
         "showgrid": false,
         "tickfont": {
          "color": "#4D5663"
         },
         "title": {
          "font": {
           "color": "#4D5663"
          },
          "text": ""
         },
         "zerolinecolor": "#E1E5ED"
        },
        "xaxis2": {
         "anchor": "y2",
         "domain": [
          0.2625,
          0.475
         ],
         "gridcolor": "#E1E5ED",
         "showgrid": false,
         "tickfont": {
          "color": "#4D5663"
         },
         "title": {
          "font": {
           "color": "#4D5663"
          },
          "text": ""
         },
         "zerolinecolor": "#E1E5ED"
        },
        "xaxis3": {
         "anchor": "y3",
         "domain": [
          0.525,
          0.7375
         ],
         "gridcolor": "#E1E5ED",
         "showgrid": false,
         "tickfont": {
          "color": "#4D5663"
         },
         "title": {
          "font": {
           "color": "#4D5663"
          },
          "text": ""
         },
         "zerolinecolor": "#E1E5ED"
        },
        "xaxis4": {
         "anchor": "y4",
         "domain": [
          0.7875,
          1
         ],
         "gridcolor": "#E1E5ED",
         "showgrid": false,
         "tickfont": {
          "color": "#4D5663"
         },
         "title": {
          "font": {
           "color": "#4D5663"
          },
          "text": ""
         },
         "zerolinecolor": "#E1E5ED"
        },
        "xaxis5": {
         "anchor": "y5",
         "domain": [
          0,
          0.2125
         ],
         "gridcolor": "#E1E5ED",
         "showgrid": false,
         "tickfont": {
          "color": "#4D5663"
         },
         "title": {
          "font": {
           "color": "#4D5663"
          },
          "text": ""
         },
         "zerolinecolor": "#E1E5ED"
        },
        "xaxis6": {
         "anchor": "y6",
         "domain": [
          0.2625,
          0.475
         ],
         "gridcolor": "#E1E5ED",
         "showgrid": false,
         "tickfont": {
          "color": "#4D5663"
         },
         "title": {
          "font": {
           "color": "#4D5663"
          },
          "text": ""
         },
         "zerolinecolor": "#E1E5ED"
        },
        "xaxis7": {
         "anchor": "y7",
         "domain": [
          0.525,
          0.7375
         ],
         "gridcolor": "#E1E5ED",
         "showgrid": false,
         "tickfont": {
          "color": "#4D5663"
         },
         "title": {
          "font": {
           "color": "#4D5663"
          },
          "text": ""
         },
         "zerolinecolor": "#E1E5ED"
        },
        "xaxis8": {
         "anchor": "y8",
         "domain": [
          0.7875,
          1
         ],
         "gridcolor": "#E1E5ED",
         "showgrid": false,
         "tickfont": {
          "color": "#4D5663"
         },
         "title": {
          "font": {
           "color": "#4D5663"
          },
          "text": ""
         },
         "zerolinecolor": "#E1E5ED"
        },
        "xaxis9": {
         "anchor": "y9",
         "domain": [
          0,
          0.2125
         ],
         "gridcolor": "#E1E5ED",
         "showgrid": false,
         "tickfont": {
          "color": "#4D5663"
         },
         "title": {
          "font": {
           "color": "#4D5663"
          },
          "text": ""
         },
         "zerolinecolor": "#E1E5ED"
        },
        "yaxis": {
         "anchor": "x",
         "domain": [
          0.8025,
          1
         ],
         "gridcolor": "#E1E5ED",
         "showgrid": false,
         "tickfont": {
          "color": "#4D5663"
         },
         "title": {
          "font": {
           "color": "#4D5663"
          },
          "text": ""
         },
         "zerolinecolor": "#E1E5ED"
        },
        "yaxis10": {
         "anchor": "x10",
         "domain": [
          0.2675,
          0.465
         ],
         "gridcolor": "#E1E5ED",
         "showgrid": false,
         "tickfont": {
          "color": "#4D5663"
         },
         "title": {
          "font": {
           "color": "#4D5663"
          },
          "text": ""
         },
         "zerolinecolor": "#E1E5ED"
        },
        "yaxis11": {
         "anchor": "x11",
         "domain": [
          0.2675,
          0.465
         ],
         "gridcolor": "#E1E5ED",
         "showgrid": false,
         "tickfont": {
          "color": "#4D5663"
         },
         "title": {
          "font": {
           "color": "#4D5663"
          },
          "text": ""
         },
         "zerolinecolor": "#E1E5ED"
        },
        "yaxis12": {
         "anchor": "x12",
         "domain": [
          0.2675,
          0.465
         ],
         "gridcolor": "#E1E5ED",
         "showgrid": false,
         "tickfont": {
          "color": "#4D5663"
         },
         "title": {
          "font": {
           "color": "#4D5663"
          },
          "text": ""
         },
         "zerolinecolor": "#E1E5ED"
        },
        "yaxis13": {
         "anchor": "x13",
         "domain": [
          0,
          0.1975
         ],
         "gridcolor": "#E1E5ED",
         "showgrid": false,
         "tickfont": {
          "color": "#4D5663"
         },
         "title": {
          "font": {
           "color": "#4D5663"
          },
          "text": ""
         },
         "zerolinecolor": "#E1E5ED"
        },
        "yaxis14": {
         "anchor": "x14",
         "domain": [
          0,
          0.1975
         ],
         "gridcolor": "#E1E5ED",
         "showgrid": false,
         "tickfont": {
          "color": "#4D5663"
         },
         "title": {
          "font": {
           "color": "#4D5663"
          },
          "text": ""
         },
         "zerolinecolor": "#E1E5ED"
        },
        "yaxis15": {
         "anchor": "x15",
         "domain": [
          0,
          0.1975
         ],
         "gridcolor": "#E1E5ED",
         "showgrid": false,
         "tickfont": {
          "color": "#4D5663"
         },
         "title": {
          "font": {
           "color": "#4D5663"
          },
          "text": ""
         },
         "zerolinecolor": "#E1E5ED"
        },
        "yaxis16": {
         "anchor": "x16",
         "domain": [
          0,
          0.1975
         ],
         "gridcolor": "#E1E5ED",
         "showgrid": false,
         "tickfont": {
          "color": "#4D5663"
         },
         "title": {
          "font": {
           "color": "#4D5663"
          },
          "text": ""
         },
         "zerolinecolor": "#E1E5ED"
        },
        "yaxis2": {
         "anchor": "x2",
         "domain": [
          0.8025,
          1
         ],
         "gridcolor": "#E1E5ED",
         "showgrid": false,
         "tickfont": {
          "color": "#4D5663"
         },
         "title": {
          "font": {
           "color": "#4D5663"
          },
          "text": ""
         },
         "zerolinecolor": "#E1E5ED"
        },
        "yaxis3": {
         "anchor": "x3",
         "domain": [
          0.8025,
          1
         ],
         "gridcolor": "#E1E5ED",
         "showgrid": false,
         "tickfont": {
          "color": "#4D5663"
         },
         "title": {
          "font": {
           "color": "#4D5663"
          },
          "text": ""
         },
         "zerolinecolor": "#E1E5ED"
        },
        "yaxis4": {
         "anchor": "x4",
         "domain": [
          0.8025,
          1
         ],
         "gridcolor": "#E1E5ED",
         "showgrid": false,
         "tickfont": {
          "color": "#4D5663"
         },
         "title": {
          "font": {
           "color": "#4D5663"
          },
          "text": ""
         },
         "zerolinecolor": "#E1E5ED"
        },
        "yaxis5": {
         "anchor": "x5",
         "domain": [
          0.535,
          0.7325
         ],
         "gridcolor": "#E1E5ED",
         "showgrid": false,
         "tickfont": {
          "color": "#4D5663"
         },
         "title": {
          "font": {
           "color": "#4D5663"
          },
          "text": ""
         },
         "zerolinecolor": "#E1E5ED"
        },
        "yaxis6": {
         "anchor": "x6",
         "domain": [
          0.535,
          0.7325
         ],
         "gridcolor": "#E1E5ED",
         "showgrid": false,
         "tickfont": {
          "color": "#4D5663"
         },
         "title": {
          "font": {
           "color": "#4D5663"
          },
          "text": ""
         },
         "zerolinecolor": "#E1E5ED"
        },
        "yaxis7": {
         "anchor": "x7",
         "domain": [
          0.535,
          0.7325
         ],
         "gridcolor": "#E1E5ED",
         "showgrid": false,
         "tickfont": {
          "color": "#4D5663"
         },
         "title": {
          "font": {
           "color": "#4D5663"
          },
          "text": ""
         },
         "zerolinecolor": "#E1E5ED"
        },
        "yaxis8": {
         "anchor": "x8",
         "domain": [
          0.535,
          0.7325
         ],
         "gridcolor": "#E1E5ED",
         "showgrid": false,
         "tickfont": {
          "color": "#4D5663"
         },
         "title": {
          "font": {
           "color": "#4D5663"
          },
          "text": ""
         },
         "zerolinecolor": "#E1E5ED"
        },
        "yaxis9": {
         "anchor": "x9",
         "domain": [
          0.2675,
          0.465
         ],
         "gridcolor": "#E1E5ED",
         "showgrid": false,
         "tickfont": {
          "color": "#4D5663"
         },
         "title": {
          "font": {
           "color": "#4D5663"
          },
          "text": ""
         },
         "zerolinecolor": "#E1E5ED"
        }
       }
      },
      "text/html": [
       "<div>                            <div id=\"5f2872ba-b3d2-4912-b3cf-9d9789db20df\" class=\"plotly-graph-div\" style=\"height:525px; width:100%;\"></div>            <script type=\"text/javascript\">                require([\"plotly\"], function(Plotly) {                    window.PLOTLYENV=window.PLOTLYENV || {};\n",
       "                    window.PLOTLYENV.BASE_URL='https://plot.ly';                                    if (document.getElementById(\"5f2872ba-b3d2-4912-b3cf-9d9789db20df\")) {                    Plotly.newPlot(                        \"5f2872ba-b3d2-4912-b3cf-9d9789db20df\",                        [{\"histfunc\":\"count\",\"histnorm\":\"\",\"marker\":{\"color\":\"rgba(255, 153, 51, 1.0)\",\"line\":{\"color\":\"#4D5663\",\"width\":1.3}},\"name\":\"A\",\"nbinsx\":10,\"opacity\":0.8,\"orientation\":\"v\",\"x\":[-1.8385733383142502,0.8672457158580731,-1.6913759918836615,0.5490542772053529,-2.0448630397110024,-0.436039090217473,0.640548445743603,-1.7077325737917555,-1.6524174520551473,0.0007907560837533417,-0.25491887646539024,-1.1446104505452164,-0.8475481744004824,-0.8161181953930615,0.5861143155452699,-0.9317973692372261,1.3502398786147136,1.758118402606856,-1.1285332734978477,0.2585914173805949,1.9798015362947452,-0.30833965880411174,-1.0916955750299806,-0.057158385929394206,-1.0173606571226235,-0.8609220665567381,0.34741981219265133,-0.159358858867689,-0.43678412656387205,1.0627399323565616,-0.46706211244850665,-1.0427327308265124,-0.805693324842712,1.2770479544421895,0.32725761362015926,-0.568339510681153,-0.17447432698006723,-0.4573707756151931,0.7606294655707999,-0.7617983457284897,-0.633282488675788,0.9728067392089667,-0.08487630361962098,0.3451327034103059,-0.6434382015122148,-0.04919239099224115,-0.9798565186308319,1.3434944279834213,-0.09167130080686495,1.0280892123070835,-0.3727016281831937,0.205542353970833,0.49831900690235065,1.7667036512937528,0.06524931756953356,-1.1670797528842665,1.4913743607172376,0.3324568668491796,-0.15963192960528763,0.8849002460549106,-0.03419324271954416,0.2147022298380133,0.28974036454646246,-0.5798551719469845,0.42251601005333417,1.3154237088128184,1.0678775274202026,-0.715758017669985,-0.3140111688724749,-0.3734547451342669,0.4587328215325148,1.612073033741679,0.47558226142986987,-0.09115866157864358,0.6420263742551169,1.6629991156109898,-0.041887956096666505,0.4026327112865466,-0.7230102257213117,-0.13806081513002783,-1.9263259804307988,0.14389781394832898,-0.39106888558889374,-1.112691564259992,-0.41206708388351254,-1.5152032295504612,-0.32538019360859577,-0.39310628515137575,0.8596315300656956,-1.1162033172974786,-0.16595682132475104,-0.5054498229079003,0.5803298130870016,0.5865017276164397,-0.7746419487800955,0.4457882182331863,0.8512406554100072,-1.2480430036217465,-0.7328490073246734,0.4212693260620615],\"xaxis\":\"x\",\"yaxis\":\"y\",\"type\":\"histogram\"},{\"line\":{\"color\":\"rgba(128, 128, 128, 1.0)\",\"dash\":\"solid\",\"shape\":\"linear\",\"width\":1.3},\"marker\":{\"size\":2,\"symbol\":\"circle\"},\"mode\":\"markers\",\"name\":\"A\",\"text\":\"\",\"x\":[-0.8731235508419704,0.4063663035008937,0.21393598835476177,-1.104000474626746,0.5206746278740676,-0.01884568069583808,0.6535981950685156,1.14439206448552,0.2929545928156336,-0.16538062686284627,1.097259225149773,-0.17808812529378423,-0.3126979876594213,1.1407520085951446,-0.566490064694201,0.7754917175479495,1.4724657738930809,-0.31017028299879124,-0.4753489359520454,1.7232179936716367,1.1414347256400401,-1.5106868013232306,-0.27992397842532235,-1.2139882533244817,0.4100934910089962,-0.5350054452183555,-0.5204945468601557,1.1142921087326496,-0.2887747339451265,0.09408581523160633,-1.279987458410801,-1.1740868613129465,-0.2926245600408343,-0.144877649537023,-0.9093457610034482,-0.5337689022180023,-0.017084322289417468,-1.6158225718623438,-1.1108767685479153,0.02611783578981778,-0.8674402869197879,0.480636199850919,-0.2551140401163761,0.09623414190198235,-0.6202596403538848,0.5512673714408092,1.5704362845628481,-0.06966255000115672,-0.7570796474829151,-2.3695016015417085,0.46985021980766656,-0.030284933437563066,-1.0464134874584372,-1.0710710395950138,0.22367596900939501,-1.3243189763274024,-0.18681523974469796,-0.26070960892291023,0.8125436741292955,-0.09950014014884463,0.3043036492382808,-0.470809417865467,-0.7970930223513626,-1.2001380253082512,-0.9417384031922611,-1.5184279582950249,-0.01725072375345233,-3.2444595535507403,0.5016346345637226,0.7050353536724342,1.2475875852443647,0.6936890152049425,2.591819172760977,-0.10101232298967208,0.8626542256645922,-1.2637655623733213,-0.057879488695521474,0.3338770631315833,-0.8654952418554549,0.300168575014734,-0.28872310361867176,-1.4921175757108949,-1.188952137668495,0.47716571052481055,1.543910825058214,1.4726571348561308,0.5507819537195303,-1.6558234228441506,0.5390984269896137,0.3525074699864782,0.42645531373262363,-0.26311097661064403,0.6017581127464071,-0.6116925342911296,-2.171599774932019,-0.03716068289075018,0.5189512190682418,0.059429755509573225,-1.3967446596137272,-0.12202190199365653],\"xaxis\":\"x2\",\"y\":[-1.8385733383142502,0.8672457158580731,-1.6913759918836615,0.5490542772053529,-2.0448630397110024,-0.436039090217473,0.640548445743603,-1.7077325737917555,-1.6524174520551473,0.0007907560837533417,-0.25491887646539024,-1.1446104505452164,-0.8475481744004824,-0.8161181953930615,0.5861143155452699,-0.9317973692372261,1.3502398786147136,1.758118402606856,-1.1285332734978477,0.2585914173805949,1.9798015362947452,-0.30833965880411174,-1.0916955750299806,-0.057158385929394206,-1.0173606571226235,-0.8609220665567381,0.34741981219265133,-0.159358858867689,-0.43678412656387205,1.0627399323565616,-0.46706211244850665,-1.0427327308265124,-0.805693324842712,1.2770479544421895,0.32725761362015926,-0.568339510681153,-0.17447432698006723,-0.4573707756151931,0.7606294655707999,-0.7617983457284897,-0.633282488675788,0.9728067392089667,-0.08487630361962098,0.3451327034103059,-0.6434382015122148,-0.04919239099224115,-0.9798565186308319,1.3434944279834213,-0.09167130080686495,1.0280892123070835,-0.3727016281831937,0.205542353970833,0.49831900690235065,1.7667036512937528,0.06524931756953356,-1.1670797528842665,1.4913743607172376,0.3324568668491796,-0.15963192960528763,0.8849002460549106,-0.03419324271954416,0.2147022298380133,0.28974036454646246,-0.5798551719469845,0.42251601005333417,1.3154237088128184,1.0678775274202026,-0.715758017669985,-0.3140111688724749,-0.3734547451342669,0.4587328215325148,1.612073033741679,0.47558226142986987,-0.09115866157864358,0.6420263742551169,1.6629991156109898,-0.041887956096666505,0.4026327112865466,-0.7230102257213117,-0.13806081513002783,-1.9263259804307988,0.14389781394832898,-0.39106888558889374,-1.112691564259992,-0.41206708388351254,-1.5152032295504612,-0.32538019360859577,-0.39310628515137575,0.8596315300656956,-1.1162033172974786,-0.16595682132475104,-0.5054498229079003,0.5803298130870016,0.5865017276164397,-0.7746419487800955,0.4457882182331863,0.8512406554100072,-1.2480430036217465,-0.7328490073246734,0.4212693260620615],\"yaxis\":\"y2\",\"type\":\"scatter\"},{\"line\":{\"color\":\"rgba(128, 128, 128, 1.0)\",\"dash\":\"solid\",\"shape\":\"linear\",\"width\":1.3},\"marker\":{\"size\":2,\"symbol\":\"circle\"},\"mode\":\"markers\",\"name\":\"A\",\"text\":\"\",\"x\":[-0.9196736624837573,0.5221521308335456,-0.4652498556979664,-1.454576414975132,0.436963063980055,1.4246799209117655,0.4795452278319759,1.0324097092675564,-1.2832969606128202,-1.4968684022895624,-0.01530092520712653,0.12291412210634833,-0.7509181015075169,2.508104676406065,0.4794525639949759,0.35700998615689433,-1.1831551942505845,0.8462407906799473,-1.0110263178467456,-0.4996367099663234,-0.15371107386966737,0.7875046929873949,-0.5041129185773495,0.3100861574387777,-0.5085707880875892,-0.22904189463503952,1.1706859225529218,-0.2719616076737529,0.8730665064136831,-1.184444283062692,0.8443375020986033,-0.3644937024112057,0.163478795827416,1.3772593435192526,0.08228471908569834,0.7605476156012057,-0.2504732383628632,0.1360064889167746,-3.644827998386898,-0.8793232150210272,0.3016143396085256,-0.49067491280895753,0.9579194000316426,-0.4348468067931921,-0.1946192264292153,-0.25793957366857867,0.75240596772292,-1.5929338059697495,-0.7269388164897601,0.4908818232564113,0.32641763647555144,0.48126621634927375,0.7141055423303951,-0.21426386859688382,-0.23225615893380858,0.9513770859984828,-1.4231640282914806,0.4520630258835394,-1.4919200307825713,1.291291461685043,-0.9941983312459777,0.7596392727401325,-0.5926195035122472,-0.5566293229752135,0.2982307468470132,1.738053578883346,0.06608083134619774,0.050839011923767115,1.0275197437881594,-0.8581772302452564,0.6607947683272261,-1.442888595982884,1.7584914022563805,0.3700062517332973,-1.915753567763661,-0.5117284645342928,0.5399265157477181,-0.26832171165488117,1.7322591311557272,1.4823599585000202,-0.21223993931260354,1.506767808999441,2.2535197249080685,-0.1198339588515651,-0.6846434595910331,0.1729807676946648,0.15173920031922505,-0.776613379779808,-0.011810156468320966,-0.7174950712346515,-0.6045945057396989,-0.22156638213211777,0.7921074698882515,0.6234406291140472,0.4010652389488166,0.07550111687761502,0.6651197294575687,1.393114003034596,1.046042718388696,0.38765896670310024],\"xaxis\":\"x3\",\"y\":[-1.8385733383142502,0.8672457158580731,-1.6913759918836615,0.5490542772053529,-2.0448630397110024,-0.436039090217473,0.640548445743603,-1.7077325737917555,-1.6524174520551473,0.0007907560837533417,-0.25491887646539024,-1.1446104505452164,-0.8475481744004824,-0.8161181953930615,0.5861143155452699,-0.9317973692372261,1.3502398786147136,1.758118402606856,-1.1285332734978477,0.2585914173805949,1.9798015362947452,-0.30833965880411174,-1.0916955750299806,-0.057158385929394206,-1.0173606571226235,-0.8609220665567381,0.34741981219265133,-0.159358858867689,-0.43678412656387205,1.0627399323565616,-0.46706211244850665,-1.0427327308265124,-0.805693324842712,1.2770479544421895,0.32725761362015926,-0.568339510681153,-0.17447432698006723,-0.4573707756151931,0.7606294655707999,-0.7617983457284897,-0.633282488675788,0.9728067392089667,-0.08487630361962098,0.3451327034103059,-0.6434382015122148,-0.04919239099224115,-0.9798565186308319,1.3434944279834213,-0.09167130080686495,1.0280892123070835,-0.3727016281831937,0.205542353970833,0.49831900690235065,1.7667036512937528,0.06524931756953356,-1.1670797528842665,1.4913743607172376,0.3324568668491796,-0.15963192960528763,0.8849002460549106,-0.03419324271954416,0.2147022298380133,0.28974036454646246,-0.5798551719469845,0.42251601005333417,1.3154237088128184,1.0678775274202026,-0.715758017669985,-0.3140111688724749,-0.3734547451342669,0.4587328215325148,1.612073033741679,0.47558226142986987,-0.09115866157864358,0.6420263742551169,1.6629991156109898,-0.041887956096666505,0.4026327112865466,-0.7230102257213117,-0.13806081513002783,-1.9263259804307988,0.14389781394832898,-0.39106888558889374,-1.112691564259992,-0.41206708388351254,-1.5152032295504612,-0.32538019360859577,-0.39310628515137575,0.8596315300656956,-1.1162033172974786,-0.16595682132475104,-0.5054498229079003,0.5803298130870016,0.5865017276164397,-0.7746419487800955,0.4457882182331863,0.8512406554100072,-1.2480430036217465,-0.7328490073246734,0.4212693260620615],\"yaxis\":\"y3\",\"type\":\"scatter\"},{\"line\":{\"color\":\"rgba(128, 128, 128, 1.0)\",\"dash\":\"solid\",\"shape\":\"linear\",\"width\":1.3},\"marker\":{\"size\":2,\"symbol\":\"circle\"},\"mode\":\"markers\",\"name\":\"A\",\"text\":\"\",\"x\":[0.8154789793317233,-0.7932543362196849,2.1090714139213964,-0.08008470874810897,-1.3001999460071456,-0.7533227790295761,-1.0023303372713803,-0.6526378920334932,-0.6653417572773734,-0.3248412709435413,1.70442130197609,1.6840439606302038,1.313022981891956,-1.0663347951928297,0.3423494606212533,1.3196565164837162,-0.5012998698168185,-0.694618064755753,1.596161415909783,-0.6539249230936592,2.2854155981832025,-0.8285365819761168,1.35019284489788,0.7392664010025717,-0.8728638748620098,-1.257815829544241,1.2170550695382087,1.6487781672823338,-0.7397135971258295,-0.5496178716866912,0.24354353838367032,-0.1981188699638196,0.7450212943920029,-0.688454797303157,1.3609988352021904,1.7836251044013816,-0.42495453030026753,-1.4796654963764373,0.26699530633905383,0.9386337857275068,0.5422571256779178,-0.5951679964609107,1.3591277952198586,1.107835057885836,-0.9043344904432511,0.3590319613430317,-0.7966844234190578,-0.06000227589783168,0.04316938407978105,1.3580552003388051,-0.7760626440378443,1.5854530989997315,-0.46353069186426404,-1.0745167090420498,2.212116176062031,-1.439675541529478,-2.0554704481808495,-0.11811185811532435,-0.41196864579863074,-0.9389985024768397,1.2959635418379791,0.4078693097348912,-0.8671054942393984,1.7252482957866269,-0.17094699657986662,-0.4203898822603816,1.0238149845075084,-1.7082023970596323,1.2105603191784666,0.470411960848045,-0.44163507560902787,-0.561536410751917,-2.2920236391835873,1.6921460848889827,-0.8753528703650812,-0.308624577218057,-0.7479970008532968,0.042424762273314244,0.42775674124162216,-0.7612535278594279,-0.8123766392385495,-0.320045127298039,1.2962971549556204,0.8468549112150666,0.38948944554984866,0.3464931109083758,0.06556931178920412,0.2025946289920695,2.4028721763358156,-1.0664451168631308,0.3001848021183222,0.030968772479112953,0.4189819842801789,-0.5299316257147946,0.3622802315153845,0.8064488289050201,-0.2825747218761014,-1.3516618998411016,0.8904083060648561,-0.3792076435989007],\"xaxis\":\"x4\",\"y\":[-1.8385733383142502,0.8672457158580731,-1.6913759918836615,0.5490542772053529,-2.0448630397110024,-0.436039090217473,0.640548445743603,-1.7077325737917555,-1.6524174520551473,0.0007907560837533417,-0.25491887646539024,-1.1446104505452164,-0.8475481744004824,-0.8161181953930615,0.5861143155452699,-0.9317973692372261,1.3502398786147136,1.758118402606856,-1.1285332734978477,0.2585914173805949,1.9798015362947452,-0.30833965880411174,-1.0916955750299806,-0.057158385929394206,-1.0173606571226235,-0.8609220665567381,0.34741981219265133,-0.159358858867689,-0.43678412656387205,1.0627399323565616,-0.46706211244850665,-1.0427327308265124,-0.805693324842712,1.2770479544421895,0.32725761362015926,-0.568339510681153,-0.17447432698006723,-0.4573707756151931,0.7606294655707999,-0.7617983457284897,-0.633282488675788,0.9728067392089667,-0.08487630361962098,0.3451327034103059,-0.6434382015122148,-0.04919239099224115,-0.9798565186308319,1.3434944279834213,-0.09167130080686495,1.0280892123070835,-0.3727016281831937,0.205542353970833,0.49831900690235065,1.7667036512937528,0.06524931756953356,-1.1670797528842665,1.4913743607172376,0.3324568668491796,-0.15963192960528763,0.8849002460549106,-0.03419324271954416,0.2147022298380133,0.28974036454646246,-0.5798551719469845,0.42251601005333417,1.3154237088128184,1.0678775274202026,-0.715758017669985,-0.3140111688724749,-0.3734547451342669,0.4587328215325148,1.612073033741679,0.47558226142986987,-0.09115866157864358,0.6420263742551169,1.6629991156109898,-0.041887956096666505,0.4026327112865466,-0.7230102257213117,-0.13806081513002783,-1.9263259804307988,0.14389781394832898,-0.39106888558889374,-1.112691564259992,-0.41206708388351254,-1.5152032295504612,-0.32538019360859577,-0.39310628515137575,0.8596315300656956,-1.1162033172974786,-0.16595682132475104,-0.5054498229079003,0.5803298130870016,0.5865017276164397,-0.7746419487800955,0.4457882182331863,0.8512406554100072,-1.2480430036217465,-0.7328490073246734,0.4212693260620615],\"yaxis\":\"y4\",\"type\":\"scatter\"},{\"line\":{\"color\":\"rgba(128, 128, 128, 1.0)\",\"dash\":\"solid\",\"shape\":\"linear\",\"width\":1.3},\"marker\":{\"size\":2,\"symbol\":\"circle\"},\"mode\":\"markers\",\"name\":\"B\",\"text\":\"\",\"x\":[-1.8385733383142502,0.8672457158580731,-1.6913759918836615,0.5490542772053529,-2.0448630397110024,-0.436039090217473,0.640548445743603,-1.7077325737917555,-1.6524174520551473,0.0007907560837533417,-0.25491887646539024,-1.1446104505452164,-0.8475481744004824,-0.8161181953930615,0.5861143155452699,-0.9317973692372261,1.3502398786147136,1.758118402606856,-1.1285332734978477,0.2585914173805949,1.9798015362947452,-0.30833965880411174,-1.0916955750299806,-0.057158385929394206,-1.0173606571226235,-0.8609220665567381,0.34741981219265133,-0.159358858867689,-0.43678412656387205,1.0627399323565616,-0.46706211244850665,-1.0427327308265124,-0.805693324842712,1.2770479544421895,0.32725761362015926,-0.568339510681153,-0.17447432698006723,-0.4573707756151931,0.7606294655707999,-0.7617983457284897,-0.633282488675788,0.9728067392089667,-0.08487630361962098,0.3451327034103059,-0.6434382015122148,-0.04919239099224115,-0.9798565186308319,1.3434944279834213,-0.09167130080686495,1.0280892123070835,-0.3727016281831937,0.205542353970833,0.49831900690235065,1.7667036512937528,0.06524931756953356,-1.1670797528842665,1.4913743607172376,0.3324568668491796,-0.15963192960528763,0.8849002460549106,-0.03419324271954416,0.2147022298380133,0.28974036454646246,-0.5798551719469845,0.42251601005333417,1.3154237088128184,1.0678775274202026,-0.715758017669985,-0.3140111688724749,-0.3734547451342669,0.4587328215325148,1.612073033741679,0.47558226142986987,-0.09115866157864358,0.6420263742551169,1.6629991156109898,-0.041887956096666505,0.4026327112865466,-0.7230102257213117,-0.13806081513002783,-1.9263259804307988,0.14389781394832898,-0.39106888558889374,-1.112691564259992,-0.41206708388351254,-1.5152032295504612,-0.32538019360859577,-0.39310628515137575,0.8596315300656956,-1.1162033172974786,-0.16595682132475104,-0.5054498229079003,0.5803298130870016,0.5865017276164397,-0.7746419487800955,0.4457882182331863,0.8512406554100072,-1.2480430036217465,-0.7328490073246734,0.4212693260620615],\"xaxis\":\"x5\",\"y\":[-0.8731235508419704,0.4063663035008937,0.21393598835476177,-1.104000474626746,0.5206746278740676,-0.01884568069583808,0.6535981950685156,1.14439206448552,0.2929545928156336,-0.16538062686284627,1.097259225149773,-0.17808812529378423,-0.3126979876594213,1.1407520085951446,-0.566490064694201,0.7754917175479495,1.4724657738930809,-0.31017028299879124,-0.4753489359520454,1.7232179936716367,1.1414347256400401,-1.5106868013232306,-0.27992397842532235,-1.2139882533244817,0.4100934910089962,-0.5350054452183555,-0.5204945468601557,1.1142921087326496,-0.2887747339451265,0.09408581523160633,-1.279987458410801,-1.1740868613129465,-0.2926245600408343,-0.144877649537023,-0.9093457610034482,-0.5337689022180023,-0.017084322289417468,-1.6158225718623438,-1.1108767685479153,0.02611783578981778,-0.8674402869197879,0.480636199850919,-0.2551140401163761,0.09623414190198235,-0.6202596403538848,0.5512673714408092,1.5704362845628481,-0.06966255000115672,-0.7570796474829151,-2.3695016015417085,0.46985021980766656,-0.030284933437563066,-1.0464134874584372,-1.0710710395950138,0.22367596900939501,-1.3243189763274024,-0.18681523974469796,-0.26070960892291023,0.8125436741292955,-0.09950014014884463,0.3043036492382808,-0.470809417865467,-0.7970930223513626,-1.2001380253082512,-0.9417384031922611,-1.5184279582950249,-0.01725072375345233,-3.2444595535507403,0.5016346345637226,0.7050353536724342,1.2475875852443647,0.6936890152049425,2.591819172760977,-0.10101232298967208,0.8626542256645922,-1.2637655623733213,-0.057879488695521474,0.3338770631315833,-0.8654952418554549,0.300168575014734,-0.28872310361867176,-1.4921175757108949,-1.188952137668495,0.47716571052481055,1.543910825058214,1.4726571348561308,0.5507819537195303,-1.6558234228441506,0.5390984269896137,0.3525074699864782,0.42645531373262363,-0.26311097661064403,0.6017581127464071,-0.6116925342911296,-2.171599774932019,-0.03716068289075018,0.5189512190682418,0.059429755509573225,-1.3967446596137272,-0.12202190199365653],\"yaxis\":\"y5\",\"type\":\"scatter\"},{\"histfunc\":\"count\",\"histnorm\":\"\",\"marker\":{\"color\":\"rgba(55, 128, 191, 1.0)\",\"line\":{\"color\":\"#4D5663\",\"width\":1.3}},\"name\":\"B\",\"nbinsx\":10,\"opacity\":0.8,\"orientation\":\"v\",\"x\":[-0.8731235508419704,0.4063663035008937,0.21393598835476177,-1.104000474626746,0.5206746278740676,-0.01884568069583808,0.6535981950685156,1.14439206448552,0.2929545928156336,-0.16538062686284627,1.097259225149773,-0.17808812529378423,-0.3126979876594213,1.1407520085951446,-0.566490064694201,0.7754917175479495,1.4724657738930809,-0.31017028299879124,-0.4753489359520454,1.7232179936716367,1.1414347256400401,-1.5106868013232306,-0.27992397842532235,-1.2139882533244817,0.4100934910089962,-0.5350054452183555,-0.5204945468601557,1.1142921087326496,-0.2887747339451265,0.09408581523160633,-1.279987458410801,-1.1740868613129465,-0.2926245600408343,-0.144877649537023,-0.9093457610034482,-0.5337689022180023,-0.017084322289417468,-1.6158225718623438,-1.1108767685479153,0.02611783578981778,-0.8674402869197879,0.480636199850919,-0.2551140401163761,0.09623414190198235,-0.6202596403538848,0.5512673714408092,1.5704362845628481,-0.06966255000115672,-0.7570796474829151,-2.3695016015417085,0.46985021980766656,-0.030284933437563066,-1.0464134874584372,-1.0710710395950138,0.22367596900939501,-1.3243189763274024,-0.18681523974469796,-0.26070960892291023,0.8125436741292955,-0.09950014014884463,0.3043036492382808,-0.470809417865467,-0.7970930223513626,-1.2001380253082512,-0.9417384031922611,-1.5184279582950249,-0.01725072375345233,-3.2444595535507403,0.5016346345637226,0.7050353536724342,1.2475875852443647,0.6936890152049425,2.591819172760977,-0.10101232298967208,0.8626542256645922,-1.2637655623733213,-0.057879488695521474,0.3338770631315833,-0.8654952418554549,0.300168575014734,-0.28872310361867176,-1.4921175757108949,-1.188952137668495,0.47716571052481055,1.543910825058214,1.4726571348561308,0.5507819537195303,-1.6558234228441506,0.5390984269896137,0.3525074699864782,0.42645531373262363,-0.26311097661064403,0.6017581127464071,-0.6116925342911296,-2.171599774932019,-0.03716068289075018,0.5189512190682418,0.059429755509573225,-1.3967446596137272,-0.12202190199365653],\"xaxis\":\"x6\",\"yaxis\":\"y6\",\"type\":\"histogram\"},{\"line\":{\"color\":\"rgba(128, 128, 128, 1.0)\",\"dash\":\"solid\",\"shape\":\"linear\",\"width\":1.3},\"marker\":{\"size\":2,\"symbol\":\"circle\"},\"mode\":\"markers\",\"name\":\"B\",\"text\":\"\",\"x\":[-0.9196736624837573,0.5221521308335456,-0.4652498556979664,-1.454576414975132,0.436963063980055,1.4246799209117655,0.4795452278319759,1.0324097092675564,-1.2832969606128202,-1.4968684022895624,-0.01530092520712653,0.12291412210634833,-0.7509181015075169,2.508104676406065,0.4794525639949759,0.35700998615689433,-1.1831551942505845,0.8462407906799473,-1.0110263178467456,-0.4996367099663234,-0.15371107386966737,0.7875046929873949,-0.5041129185773495,0.3100861574387777,-0.5085707880875892,-0.22904189463503952,1.1706859225529218,-0.2719616076737529,0.8730665064136831,-1.184444283062692,0.8443375020986033,-0.3644937024112057,0.163478795827416,1.3772593435192526,0.08228471908569834,0.7605476156012057,-0.2504732383628632,0.1360064889167746,-3.644827998386898,-0.8793232150210272,0.3016143396085256,-0.49067491280895753,0.9579194000316426,-0.4348468067931921,-0.1946192264292153,-0.25793957366857867,0.75240596772292,-1.5929338059697495,-0.7269388164897601,0.4908818232564113,0.32641763647555144,0.48126621634927375,0.7141055423303951,-0.21426386859688382,-0.23225615893380858,0.9513770859984828,-1.4231640282914806,0.4520630258835394,-1.4919200307825713,1.291291461685043,-0.9941983312459777,0.7596392727401325,-0.5926195035122472,-0.5566293229752135,0.2982307468470132,1.738053578883346,0.06608083134619774,0.050839011923767115,1.0275197437881594,-0.8581772302452564,0.6607947683272261,-1.442888595982884,1.7584914022563805,0.3700062517332973,-1.915753567763661,-0.5117284645342928,0.5399265157477181,-0.26832171165488117,1.7322591311557272,1.4823599585000202,-0.21223993931260354,1.506767808999441,2.2535197249080685,-0.1198339588515651,-0.6846434595910331,0.1729807676946648,0.15173920031922505,-0.776613379779808,-0.011810156468320966,-0.7174950712346515,-0.6045945057396989,-0.22156638213211777,0.7921074698882515,0.6234406291140472,0.4010652389488166,0.07550111687761502,0.6651197294575687,1.393114003034596,1.046042718388696,0.38765896670310024],\"xaxis\":\"x7\",\"y\":[-0.8731235508419704,0.4063663035008937,0.21393598835476177,-1.104000474626746,0.5206746278740676,-0.01884568069583808,0.6535981950685156,1.14439206448552,0.2929545928156336,-0.16538062686284627,1.097259225149773,-0.17808812529378423,-0.3126979876594213,1.1407520085951446,-0.566490064694201,0.7754917175479495,1.4724657738930809,-0.31017028299879124,-0.4753489359520454,1.7232179936716367,1.1414347256400401,-1.5106868013232306,-0.27992397842532235,-1.2139882533244817,0.4100934910089962,-0.5350054452183555,-0.5204945468601557,1.1142921087326496,-0.2887747339451265,0.09408581523160633,-1.279987458410801,-1.1740868613129465,-0.2926245600408343,-0.144877649537023,-0.9093457610034482,-0.5337689022180023,-0.017084322289417468,-1.6158225718623438,-1.1108767685479153,0.02611783578981778,-0.8674402869197879,0.480636199850919,-0.2551140401163761,0.09623414190198235,-0.6202596403538848,0.5512673714408092,1.5704362845628481,-0.06966255000115672,-0.7570796474829151,-2.3695016015417085,0.46985021980766656,-0.030284933437563066,-1.0464134874584372,-1.0710710395950138,0.22367596900939501,-1.3243189763274024,-0.18681523974469796,-0.26070960892291023,0.8125436741292955,-0.09950014014884463,0.3043036492382808,-0.470809417865467,-0.7970930223513626,-1.2001380253082512,-0.9417384031922611,-1.5184279582950249,-0.01725072375345233,-3.2444595535507403,0.5016346345637226,0.7050353536724342,1.2475875852443647,0.6936890152049425,2.591819172760977,-0.10101232298967208,0.8626542256645922,-1.2637655623733213,-0.057879488695521474,0.3338770631315833,-0.8654952418554549,0.300168575014734,-0.28872310361867176,-1.4921175757108949,-1.188952137668495,0.47716571052481055,1.543910825058214,1.4726571348561308,0.5507819537195303,-1.6558234228441506,0.5390984269896137,0.3525074699864782,0.42645531373262363,-0.26311097661064403,0.6017581127464071,-0.6116925342911296,-2.171599774932019,-0.03716068289075018,0.5189512190682418,0.059429755509573225,-1.3967446596137272,-0.12202190199365653],\"yaxis\":\"y7\",\"type\":\"scatter\"},{\"line\":{\"color\":\"rgba(128, 128, 128, 1.0)\",\"dash\":\"solid\",\"shape\":\"linear\",\"width\":1.3},\"marker\":{\"size\":2,\"symbol\":\"circle\"},\"mode\":\"markers\",\"name\":\"B\",\"text\":\"\",\"x\":[0.8154789793317233,-0.7932543362196849,2.1090714139213964,-0.08008470874810897,-1.3001999460071456,-0.7533227790295761,-1.0023303372713803,-0.6526378920334932,-0.6653417572773734,-0.3248412709435413,1.70442130197609,1.6840439606302038,1.313022981891956,-1.0663347951928297,0.3423494606212533,1.3196565164837162,-0.5012998698168185,-0.694618064755753,1.596161415909783,-0.6539249230936592,2.2854155981832025,-0.8285365819761168,1.35019284489788,0.7392664010025717,-0.8728638748620098,-1.257815829544241,1.2170550695382087,1.6487781672823338,-0.7397135971258295,-0.5496178716866912,0.24354353838367032,-0.1981188699638196,0.7450212943920029,-0.688454797303157,1.3609988352021904,1.7836251044013816,-0.42495453030026753,-1.4796654963764373,0.26699530633905383,0.9386337857275068,0.5422571256779178,-0.5951679964609107,1.3591277952198586,1.107835057885836,-0.9043344904432511,0.3590319613430317,-0.7966844234190578,-0.06000227589783168,0.04316938407978105,1.3580552003388051,-0.7760626440378443,1.5854530989997315,-0.46353069186426404,-1.0745167090420498,2.212116176062031,-1.439675541529478,-2.0554704481808495,-0.11811185811532435,-0.41196864579863074,-0.9389985024768397,1.2959635418379791,0.4078693097348912,-0.8671054942393984,1.7252482957866269,-0.17094699657986662,-0.4203898822603816,1.0238149845075084,-1.7082023970596323,1.2105603191784666,0.470411960848045,-0.44163507560902787,-0.561536410751917,-2.2920236391835873,1.6921460848889827,-0.8753528703650812,-0.308624577218057,-0.7479970008532968,0.042424762273314244,0.42775674124162216,-0.7612535278594279,-0.8123766392385495,-0.320045127298039,1.2962971549556204,0.8468549112150666,0.38948944554984866,0.3464931109083758,0.06556931178920412,0.2025946289920695,2.4028721763358156,-1.0664451168631308,0.3001848021183222,0.030968772479112953,0.4189819842801789,-0.5299316257147946,0.3622802315153845,0.8064488289050201,-0.2825747218761014,-1.3516618998411016,0.8904083060648561,-0.3792076435989007],\"xaxis\":\"x8\",\"y\":[-0.8731235508419704,0.4063663035008937,0.21393598835476177,-1.104000474626746,0.5206746278740676,-0.01884568069583808,0.6535981950685156,1.14439206448552,0.2929545928156336,-0.16538062686284627,1.097259225149773,-0.17808812529378423,-0.3126979876594213,1.1407520085951446,-0.566490064694201,0.7754917175479495,1.4724657738930809,-0.31017028299879124,-0.4753489359520454,1.7232179936716367,1.1414347256400401,-1.5106868013232306,-0.27992397842532235,-1.2139882533244817,0.4100934910089962,-0.5350054452183555,-0.5204945468601557,1.1142921087326496,-0.2887747339451265,0.09408581523160633,-1.279987458410801,-1.1740868613129465,-0.2926245600408343,-0.144877649537023,-0.9093457610034482,-0.5337689022180023,-0.017084322289417468,-1.6158225718623438,-1.1108767685479153,0.02611783578981778,-0.8674402869197879,0.480636199850919,-0.2551140401163761,0.09623414190198235,-0.6202596403538848,0.5512673714408092,1.5704362845628481,-0.06966255000115672,-0.7570796474829151,-2.3695016015417085,0.46985021980766656,-0.030284933437563066,-1.0464134874584372,-1.0710710395950138,0.22367596900939501,-1.3243189763274024,-0.18681523974469796,-0.26070960892291023,0.8125436741292955,-0.09950014014884463,0.3043036492382808,-0.470809417865467,-0.7970930223513626,-1.2001380253082512,-0.9417384031922611,-1.5184279582950249,-0.01725072375345233,-3.2444595535507403,0.5016346345637226,0.7050353536724342,1.2475875852443647,0.6936890152049425,2.591819172760977,-0.10101232298967208,0.8626542256645922,-1.2637655623733213,-0.057879488695521474,0.3338770631315833,-0.8654952418554549,0.300168575014734,-0.28872310361867176,-1.4921175757108949,-1.188952137668495,0.47716571052481055,1.543910825058214,1.4726571348561308,0.5507819537195303,-1.6558234228441506,0.5390984269896137,0.3525074699864782,0.42645531373262363,-0.26311097661064403,0.6017581127464071,-0.6116925342911296,-2.171599774932019,-0.03716068289075018,0.5189512190682418,0.059429755509573225,-1.3967446596137272,-0.12202190199365653],\"yaxis\":\"y8\",\"type\":\"scatter\"},{\"line\":{\"color\":\"rgba(128, 128, 128, 1.0)\",\"dash\":\"solid\",\"shape\":\"linear\",\"width\":1.3},\"marker\":{\"size\":2,\"symbol\":\"circle\"},\"mode\":\"markers\",\"name\":\"C\",\"text\":\"\",\"x\":[-1.8385733383142502,0.8672457158580731,-1.6913759918836615,0.5490542772053529,-2.0448630397110024,-0.436039090217473,0.640548445743603,-1.7077325737917555,-1.6524174520551473,0.0007907560837533417,-0.25491887646539024,-1.1446104505452164,-0.8475481744004824,-0.8161181953930615,0.5861143155452699,-0.9317973692372261,1.3502398786147136,1.758118402606856,-1.1285332734978477,0.2585914173805949,1.9798015362947452,-0.30833965880411174,-1.0916955750299806,-0.057158385929394206,-1.0173606571226235,-0.8609220665567381,0.34741981219265133,-0.159358858867689,-0.43678412656387205,1.0627399323565616,-0.46706211244850665,-1.0427327308265124,-0.805693324842712,1.2770479544421895,0.32725761362015926,-0.568339510681153,-0.17447432698006723,-0.4573707756151931,0.7606294655707999,-0.7617983457284897,-0.633282488675788,0.9728067392089667,-0.08487630361962098,0.3451327034103059,-0.6434382015122148,-0.04919239099224115,-0.9798565186308319,1.3434944279834213,-0.09167130080686495,1.0280892123070835,-0.3727016281831937,0.205542353970833,0.49831900690235065,1.7667036512937528,0.06524931756953356,-1.1670797528842665,1.4913743607172376,0.3324568668491796,-0.15963192960528763,0.8849002460549106,-0.03419324271954416,0.2147022298380133,0.28974036454646246,-0.5798551719469845,0.42251601005333417,1.3154237088128184,1.0678775274202026,-0.715758017669985,-0.3140111688724749,-0.3734547451342669,0.4587328215325148,1.612073033741679,0.47558226142986987,-0.09115866157864358,0.6420263742551169,1.6629991156109898,-0.041887956096666505,0.4026327112865466,-0.7230102257213117,-0.13806081513002783,-1.9263259804307988,0.14389781394832898,-0.39106888558889374,-1.112691564259992,-0.41206708388351254,-1.5152032295504612,-0.32538019360859577,-0.39310628515137575,0.8596315300656956,-1.1162033172974786,-0.16595682132475104,-0.5054498229079003,0.5803298130870016,0.5865017276164397,-0.7746419487800955,0.4457882182331863,0.8512406554100072,-1.2480430036217465,-0.7328490073246734,0.4212693260620615],\"xaxis\":\"x9\",\"y\":[-0.9196736624837573,0.5221521308335456,-0.4652498556979664,-1.454576414975132,0.436963063980055,1.4246799209117655,0.4795452278319759,1.0324097092675564,-1.2832969606128202,-1.4968684022895624,-0.01530092520712653,0.12291412210634833,-0.7509181015075169,2.508104676406065,0.4794525639949759,0.35700998615689433,-1.1831551942505845,0.8462407906799473,-1.0110263178467456,-0.4996367099663234,-0.15371107386966737,0.7875046929873949,-0.5041129185773495,0.3100861574387777,-0.5085707880875892,-0.22904189463503952,1.1706859225529218,-0.2719616076737529,0.8730665064136831,-1.184444283062692,0.8443375020986033,-0.3644937024112057,0.163478795827416,1.3772593435192526,0.08228471908569834,0.7605476156012057,-0.2504732383628632,0.1360064889167746,-3.644827998386898,-0.8793232150210272,0.3016143396085256,-0.49067491280895753,0.9579194000316426,-0.4348468067931921,-0.1946192264292153,-0.25793957366857867,0.75240596772292,-1.5929338059697495,-0.7269388164897601,0.4908818232564113,0.32641763647555144,0.48126621634927375,0.7141055423303951,-0.21426386859688382,-0.23225615893380858,0.9513770859984828,-1.4231640282914806,0.4520630258835394,-1.4919200307825713,1.291291461685043,-0.9941983312459777,0.7596392727401325,-0.5926195035122472,-0.5566293229752135,0.2982307468470132,1.738053578883346,0.06608083134619774,0.050839011923767115,1.0275197437881594,-0.8581772302452564,0.6607947683272261,-1.442888595982884,1.7584914022563805,0.3700062517332973,-1.915753567763661,-0.5117284645342928,0.5399265157477181,-0.26832171165488117,1.7322591311557272,1.4823599585000202,-0.21223993931260354,1.506767808999441,2.2535197249080685,-0.1198339588515651,-0.6846434595910331,0.1729807676946648,0.15173920031922505,-0.776613379779808,-0.011810156468320966,-0.7174950712346515,-0.6045945057396989,-0.22156638213211777,0.7921074698882515,0.6234406291140472,0.4010652389488166,0.07550111687761502,0.6651197294575687,1.393114003034596,1.046042718388696,0.38765896670310024],\"yaxis\":\"y9\",\"type\":\"scatter\"},{\"line\":{\"color\":\"rgba(128, 128, 128, 1.0)\",\"dash\":\"solid\",\"shape\":\"linear\",\"width\":1.3},\"marker\":{\"size\":2,\"symbol\":\"circle\"},\"mode\":\"markers\",\"name\":\"C\",\"text\":\"\",\"x\":[-0.8731235508419704,0.4063663035008937,0.21393598835476177,-1.104000474626746,0.5206746278740676,-0.01884568069583808,0.6535981950685156,1.14439206448552,0.2929545928156336,-0.16538062686284627,1.097259225149773,-0.17808812529378423,-0.3126979876594213,1.1407520085951446,-0.566490064694201,0.7754917175479495,1.4724657738930809,-0.31017028299879124,-0.4753489359520454,1.7232179936716367,1.1414347256400401,-1.5106868013232306,-0.27992397842532235,-1.2139882533244817,0.4100934910089962,-0.5350054452183555,-0.5204945468601557,1.1142921087326496,-0.2887747339451265,0.09408581523160633,-1.279987458410801,-1.1740868613129465,-0.2926245600408343,-0.144877649537023,-0.9093457610034482,-0.5337689022180023,-0.017084322289417468,-1.6158225718623438,-1.1108767685479153,0.02611783578981778,-0.8674402869197879,0.480636199850919,-0.2551140401163761,0.09623414190198235,-0.6202596403538848,0.5512673714408092,1.5704362845628481,-0.06966255000115672,-0.7570796474829151,-2.3695016015417085,0.46985021980766656,-0.030284933437563066,-1.0464134874584372,-1.0710710395950138,0.22367596900939501,-1.3243189763274024,-0.18681523974469796,-0.26070960892291023,0.8125436741292955,-0.09950014014884463,0.3043036492382808,-0.470809417865467,-0.7970930223513626,-1.2001380253082512,-0.9417384031922611,-1.5184279582950249,-0.01725072375345233,-3.2444595535507403,0.5016346345637226,0.7050353536724342,1.2475875852443647,0.6936890152049425,2.591819172760977,-0.10101232298967208,0.8626542256645922,-1.2637655623733213,-0.057879488695521474,0.3338770631315833,-0.8654952418554549,0.300168575014734,-0.28872310361867176,-1.4921175757108949,-1.188952137668495,0.47716571052481055,1.543910825058214,1.4726571348561308,0.5507819537195303,-1.6558234228441506,0.5390984269896137,0.3525074699864782,0.42645531373262363,-0.26311097661064403,0.6017581127464071,-0.6116925342911296,-2.171599774932019,-0.03716068289075018,0.5189512190682418,0.059429755509573225,-1.3967446596137272,-0.12202190199365653],\"xaxis\":\"x10\",\"y\":[-0.9196736624837573,0.5221521308335456,-0.4652498556979664,-1.454576414975132,0.436963063980055,1.4246799209117655,0.4795452278319759,1.0324097092675564,-1.2832969606128202,-1.4968684022895624,-0.01530092520712653,0.12291412210634833,-0.7509181015075169,2.508104676406065,0.4794525639949759,0.35700998615689433,-1.1831551942505845,0.8462407906799473,-1.0110263178467456,-0.4996367099663234,-0.15371107386966737,0.7875046929873949,-0.5041129185773495,0.3100861574387777,-0.5085707880875892,-0.22904189463503952,1.1706859225529218,-0.2719616076737529,0.8730665064136831,-1.184444283062692,0.8443375020986033,-0.3644937024112057,0.163478795827416,1.3772593435192526,0.08228471908569834,0.7605476156012057,-0.2504732383628632,0.1360064889167746,-3.644827998386898,-0.8793232150210272,0.3016143396085256,-0.49067491280895753,0.9579194000316426,-0.4348468067931921,-0.1946192264292153,-0.25793957366857867,0.75240596772292,-1.5929338059697495,-0.7269388164897601,0.4908818232564113,0.32641763647555144,0.48126621634927375,0.7141055423303951,-0.21426386859688382,-0.23225615893380858,0.9513770859984828,-1.4231640282914806,0.4520630258835394,-1.4919200307825713,1.291291461685043,-0.9941983312459777,0.7596392727401325,-0.5926195035122472,-0.5566293229752135,0.2982307468470132,1.738053578883346,0.06608083134619774,0.050839011923767115,1.0275197437881594,-0.8581772302452564,0.6607947683272261,-1.442888595982884,1.7584914022563805,0.3700062517332973,-1.915753567763661,-0.5117284645342928,0.5399265157477181,-0.26832171165488117,1.7322591311557272,1.4823599585000202,-0.21223993931260354,1.506767808999441,2.2535197249080685,-0.1198339588515651,-0.6846434595910331,0.1729807676946648,0.15173920031922505,-0.776613379779808,-0.011810156468320966,-0.7174950712346515,-0.6045945057396989,-0.22156638213211777,0.7921074698882515,0.6234406291140472,0.4010652389488166,0.07550111687761502,0.6651197294575687,1.393114003034596,1.046042718388696,0.38765896670310024],\"yaxis\":\"y10\",\"type\":\"scatter\"},{\"histfunc\":\"count\",\"histnorm\":\"\",\"marker\":{\"color\":\"rgba(50, 171, 96, 1.0)\",\"line\":{\"color\":\"#4D5663\",\"width\":1.3}},\"name\":\"C\",\"nbinsx\":10,\"opacity\":0.8,\"orientation\":\"v\",\"x\":[-0.9196736624837573,0.5221521308335456,-0.4652498556979664,-1.454576414975132,0.436963063980055,1.4246799209117655,0.4795452278319759,1.0324097092675564,-1.2832969606128202,-1.4968684022895624,-0.01530092520712653,0.12291412210634833,-0.7509181015075169,2.508104676406065,0.4794525639949759,0.35700998615689433,-1.1831551942505845,0.8462407906799473,-1.0110263178467456,-0.4996367099663234,-0.15371107386966737,0.7875046929873949,-0.5041129185773495,0.3100861574387777,-0.5085707880875892,-0.22904189463503952,1.1706859225529218,-0.2719616076737529,0.8730665064136831,-1.184444283062692,0.8443375020986033,-0.3644937024112057,0.163478795827416,1.3772593435192526,0.08228471908569834,0.7605476156012057,-0.2504732383628632,0.1360064889167746,-3.644827998386898,-0.8793232150210272,0.3016143396085256,-0.49067491280895753,0.9579194000316426,-0.4348468067931921,-0.1946192264292153,-0.25793957366857867,0.75240596772292,-1.5929338059697495,-0.7269388164897601,0.4908818232564113,0.32641763647555144,0.48126621634927375,0.7141055423303951,-0.21426386859688382,-0.23225615893380858,0.9513770859984828,-1.4231640282914806,0.4520630258835394,-1.4919200307825713,1.291291461685043,-0.9941983312459777,0.7596392727401325,-0.5926195035122472,-0.5566293229752135,0.2982307468470132,1.738053578883346,0.06608083134619774,0.050839011923767115,1.0275197437881594,-0.8581772302452564,0.6607947683272261,-1.442888595982884,1.7584914022563805,0.3700062517332973,-1.915753567763661,-0.5117284645342928,0.5399265157477181,-0.26832171165488117,1.7322591311557272,1.4823599585000202,-0.21223993931260354,1.506767808999441,2.2535197249080685,-0.1198339588515651,-0.6846434595910331,0.1729807676946648,0.15173920031922505,-0.776613379779808,-0.011810156468320966,-0.7174950712346515,-0.6045945057396989,-0.22156638213211777,0.7921074698882515,0.6234406291140472,0.4010652389488166,0.07550111687761502,0.6651197294575687,1.393114003034596,1.046042718388696,0.38765896670310024],\"xaxis\":\"x11\",\"yaxis\":\"y11\",\"type\":\"histogram\"},{\"line\":{\"color\":\"rgba(128, 128, 128, 1.0)\",\"dash\":\"solid\",\"shape\":\"linear\",\"width\":1.3},\"marker\":{\"size\":2,\"symbol\":\"circle\"},\"mode\":\"markers\",\"name\":\"C\",\"text\":\"\",\"x\":[0.8154789793317233,-0.7932543362196849,2.1090714139213964,-0.08008470874810897,-1.3001999460071456,-0.7533227790295761,-1.0023303372713803,-0.6526378920334932,-0.6653417572773734,-0.3248412709435413,1.70442130197609,1.6840439606302038,1.313022981891956,-1.0663347951928297,0.3423494606212533,1.3196565164837162,-0.5012998698168185,-0.694618064755753,1.596161415909783,-0.6539249230936592,2.2854155981832025,-0.8285365819761168,1.35019284489788,0.7392664010025717,-0.8728638748620098,-1.257815829544241,1.2170550695382087,1.6487781672823338,-0.7397135971258295,-0.5496178716866912,0.24354353838367032,-0.1981188699638196,0.7450212943920029,-0.688454797303157,1.3609988352021904,1.7836251044013816,-0.42495453030026753,-1.4796654963764373,0.26699530633905383,0.9386337857275068,0.5422571256779178,-0.5951679964609107,1.3591277952198586,1.107835057885836,-0.9043344904432511,0.3590319613430317,-0.7966844234190578,-0.06000227589783168,0.04316938407978105,1.3580552003388051,-0.7760626440378443,1.5854530989997315,-0.46353069186426404,-1.0745167090420498,2.212116176062031,-1.439675541529478,-2.0554704481808495,-0.11811185811532435,-0.41196864579863074,-0.9389985024768397,1.2959635418379791,0.4078693097348912,-0.8671054942393984,1.7252482957866269,-0.17094699657986662,-0.4203898822603816,1.0238149845075084,-1.7082023970596323,1.2105603191784666,0.470411960848045,-0.44163507560902787,-0.561536410751917,-2.2920236391835873,1.6921460848889827,-0.8753528703650812,-0.308624577218057,-0.7479970008532968,0.042424762273314244,0.42775674124162216,-0.7612535278594279,-0.8123766392385495,-0.320045127298039,1.2962971549556204,0.8468549112150666,0.38948944554984866,0.3464931109083758,0.06556931178920412,0.2025946289920695,2.4028721763358156,-1.0664451168631308,0.3001848021183222,0.030968772479112953,0.4189819842801789,-0.5299316257147946,0.3622802315153845,0.8064488289050201,-0.2825747218761014,-1.3516618998411016,0.8904083060648561,-0.3792076435989007],\"xaxis\":\"x12\",\"y\":[-0.9196736624837573,0.5221521308335456,-0.4652498556979664,-1.454576414975132,0.436963063980055,1.4246799209117655,0.4795452278319759,1.0324097092675564,-1.2832969606128202,-1.4968684022895624,-0.01530092520712653,0.12291412210634833,-0.7509181015075169,2.508104676406065,0.4794525639949759,0.35700998615689433,-1.1831551942505845,0.8462407906799473,-1.0110263178467456,-0.4996367099663234,-0.15371107386966737,0.7875046929873949,-0.5041129185773495,0.3100861574387777,-0.5085707880875892,-0.22904189463503952,1.1706859225529218,-0.2719616076737529,0.8730665064136831,-1.184444283062692,0.8443375020986033,-0.3644937024112057,0.163478795827416,1.3772593435192526,0.08228471908569834,0.7605476156012057,-0.2504732383628632,0.1360064889167746,-3.644827998386898,-0.8793232150210272,0.3016143396085256,-0.49067491280895753,0.9579194000316426,-0.4348468067931921,-0.1946192264292153,-0.25793957366857867,0.75240596772292,-1.5929338059697495,-0.7269388164897601,0.4908818232564113,0.32641763647555144,0.48126621634927375,0.7141055423303951,-0.21426386859688382,-0.23225615893380858,0.9513770859984828,-1.4231640282914806,0.4520630258835394,-1.4919200307825713,1.291291461685043,-0.9941983312459777,0.7596392727401325,-0.5926195035122472,-0.5566293229752135,0.2982307468470132,1.738053578883346,0.06608083134619774,0.050839011923767115,1.0275197437881594,-0.8581772302452564,0.6607947683272261,-1.442888595982884,1.7584914022563805,0.3700062517332973,-1.915753567763661,-0.5117284645342928,0.5399265157477181,-0.26832171165488117,1.7322591311557272,1.4823599585000202,-0.21223993931260354,1.506767808999441,2.2535197249080685,-0.1198339588515651,-0.6846434595910331,0.1729807676946648,0.15173920031922505,-0.776613379779808,-0.011810156468320966,-0.7174950712346515,-0.6045945057396989,-0.22156638213211777,0.7921074698882515,0.6234406291140472,0.4010652389488166,0.07550111687761502,0.6651197294575687,1.393114003034596,1.046042718388696,0.38765896670310024],\"yaxis\":\"y12\",\"type\":\"scatter\"},{\"line\":{\"color\":\"rgba(128, 128, 128, 1.0)\",\"dash\":\"solid\",\"shape\":\"linear\",\"width\":1.3},\"marker\":{\"size\":2,\"symbol\":\"circle\"},\"mode\":\"markers\",\"name\":\"D\",\"text\":\"\",\"x\":[-1.8385733383142502,0.8672457158580731,-1.6913759918836615,0.5490542772053529,-2.0448630397110024,-0.436039090217473,0.640548445743603,-1.7077325737917555,-1.6524174520551473,0.0007907560837533417,-0.25491887646539024,-1.1446104505452164,-0.8475481744004824,-0.8161181953930615,0.5861143155452699,-0.9317973692372261,1.3502398786147136,1.758118402606856,-1.1285332734978477,0.2585914173805949,1.9798015362947452,-0.30833965880411174,-1.0916955750299806,-0.057158385929394206,-1.0173606571226235,-0.8609220665567381,0.34741981219265133,-0.159358858867689,-0.43678412656387205,1.0627399323565616,-0.46706211244850665,-1.0427327308265124,-0.805693324842712,1.2770479544421895,0.32725761362015926,-0.568339510681153,-0.17447432698006723,-0.4573707756151931,0.7606294655707999,-0.7617983457284897,-0.633282488675788,0.9728067392089667,-0.08487630361962098,0.3451327034103059,-0.6434382015122148,-0.04919239099224115,-0.9798565186308319,1.3434944279834213,-0.09167130080686495,1.0280892123070835,-0.3727016281831937,0.205542353970833,0.49831900690235065,1.7667036512937528,0.06524931756953356,-1.1670797528842665,1.4913743607172376,0.3324568668491796,-0.15963192960528763,0.8849002460549106,-0.03419324271954416,0.2147022298380133,0.28974036454646246,-0.5798551719469845,0.42251601005333417,1.3154237088128184,1.0678775274202026,-0.715758017669985,-0.3140111688724749,-0.3734547451342669,0.4587328215325148,1.612073033741679,0.47558226142986987,-0.09115866157864358,0.6420263742551169,1.6629991156109898,-0.041887956096666505,0.4026327112865466,-0.7230102257213117,-0.13806081513002783,-1.9263259804307988,0.14389781394832898,-0.39106888558889374,-1.112691564259992,-0.41206708388351254,-1.5152032295504612,-0.32538019360859577,-0.39310628515137575,0.8596315300656956,-1.1162033172974786,-0.16595682132475104,-0.5054498229079003,0.5803298130870016,0.5865017276164397,-0.7746419487800955,0.4457882182331863,0.8512406554100072,-1.2480430036217465,-0.7328490073246734,0.4212693260620615],\"xaxis\":\"x13\",\"y\":[0.8154789793317233,-0.7932543362196849,2.1090714139213964,-0.08008470874810897,-1.3001999460071456,-0.7533227790295761,-1.0023303372713803,-0.6526378920334932,-0.6653417572773734,-0.3248412709435413,1.70442130197609,1.6840439606302038,1.313022981891956,-1.0663347951928297,0.3423494606212533,1.3196565164837162,-0.5012998698168185,-0.694618064755753,1.596161415909783,-0.6539249230936592,2.2854155981832025,-0.8285365819761168,1.35019284489788,0.7392664010025717,-0.8728638748620098,-1.257815829544241,1.2170550695382087,1.6487781672823338,-0.7397135971258295,-0.5496178716866912,0.24354353838367032,-0.1981188699638196,0.7450212943920029,-0.688454797303157,1.3609988352021904,1.7836251044013816,-0.42495453030026753,-1.4796654963764373,0.26699530633905383,0.9386337857275068,0.5422571256779178,-0.5951679964609107,1.3591277952198586,1.107835057885836,-0.9043344904432511,0.3590319613430317,-0.7966844234190578,-0.06000227589783168,0.04316938407978105,1.3580552003388051,-0.7760626440378443,1.5854530989997315,-0.46353069186426404,-1.0745167090420498,2.212116176062031,-1.439675541529478,-2.0554704481808495,-0.11811185811532435,-0.41196864579863074,-0.9389985024768397,1.2959635418379791,0.4078693097348912,-0.8671054942393984,1.7252482957866269,-0.17094699657986662,-0.4203898822603816,1.0238149845075084,-1.7082023970596323,1.2105603191784666,0.470411960848045,-0.44163507560902787,-0.561536410751917,-2.2920236391835873,1.6921460848889827,-0.8753528703650812,-0.308624577218057,-0.7479970008532968,0.042424762273314244,0.42775674124162216,-0.7612535278594279,-0.8123766392385495,-0.320045127298039,1.2962971549556204,0.8468549112150666,0.38948944554984866,0.3464931109083758,0.06556931178920412,0.2025946289920695,2.4028721763358156,-1.0664451168631308,0.3001848021183222,0.030968772479112953,0.4189819842801789,-0.5299316257147946,0.3622802315153845,0.8064488289050201,-0.2825747218761014,-1.3516618998411016,0.8904083060648561,-0.3792076435989007],\"yaxis\":\"y13\",\"type\":\"scatter\"},{\"line\":{\"color\":\"rgba(128, 128, 128, 1.0)\",\"dash\":\"solid\",\"shape\":\"linear\",\"width\":1.3},\"marker\":{\"size\":2,\"symbol\":\"circle\"},\"mode\":\"markers\",\"name\":\"D\",\"text\":\"\",\"x\":[-0.8731235508419704,0.4063663035008937,0.21393598835476177,-1.104000474626746,0.5206746278740676,-0.01884568069583808,0.6535981950685156,1.14439206448552,0.2929545928156336,-0.16538062686284627,1.097259225149773,-0.17808812529378423,-0.3126979876594213,1.1407520085951446,-0.566490064694201,0.7754917175479495,1.4724657738930809,-0.31017028299879124,-0.4753489359520454,1.7232179936716367,1.1414347256400401,-1.5106868013232306,-0.27992397842532235,-1.2139882533244817,0.4100934910089962,-0.5350054452183555,-0.5204945468601557,1.1142921087326496,-0.2887747339451265,0.09408581523160633,-1.279987458410801,-1.1740868613129465,-0.2926245600408343,-0.144877649537023,-0.9093457610034482,-0.5337689022180023,-0.017084322289417468,-1.6158225718623438,-1.1108767685479153,0.02611783578981778,-0.8674402869197879,0.480636199850919,-0.2551140401163761,0.09623414190198235,-0.6202596403538848,0.5512673714408092,1.5704362845628481,-0.06966255000115672,-0.7570796474829151,-2.3695016015417085,0.46985021980766656,-0.030284933437563066,-1.0464134874584372,-1.0710710395950138,0.22367596900939501,-1.3243189763274024,-0.18681523974469796,-0.26070960892291023,0.8125436741292955,-0.09950014014884463,0.3043036492382808,-0.470809417865467,-0.7970930223513626,-1.2001380253082512,-0.9417384031922611,-1.5184279582950249,-0.01725072375345233,-3.2444595535507403,0.5016346345637226,0.7050353536724342,1.2475875852443647,0.6936890152049425,2.591819172760977,-0.10101232298967208,0.8626542256645922,-1.2637655623733213,-0.057879488695521474,0.3338770631315833,-0.8654952418554549,0.300168575014734,-0.28872310361867176,-1.4921175757108949,-1.188952137668495,0.47716571052481055,1.543910825058214,1.4726571348561308,0.5507819537195303,-1.6558234228441506,0.5390984269896137,0.3525074699864782,0.42645531373262363,-0.26311097661064403,0.6017581127464071,-0.6116925342911296,-2.171599774932019,-0.03716068289075018,0.5189512190682418,0.059429755509573225,-1.3967446596137272,-0.12202190199365653],\"xaxis\":\"x14\",\"y\":[0.8154789793317233,-0.7932543362196849,2.1090714139213964,-0.08008470874810897,-1.3001999460071456,-0.7533227790295761,-1.0023303372713803,-0.6526378920334932,-0.6653417572773734,-0.3248412709435413,1.70442130197609,1.6840439606302038,1.313022981891956,-1.0663347951928297,0.3423494606212533,1.3196565164837162,-0.5012998698168185,-0.694618064755753,1.596161415909783,-0.6539249230936592,2.2854155981832025,-0.8285365819761168,1.35019284489788,0.7392664010025717,-0.8728638748620098,-1.257815829544241,1.2170550695382087,1.6487781672823338,-0.7397135971258295,-0.5496178716866912,0.24354353838367032,-0.1981188699638196,0.7450212943920029,-0.688454797303157,1.3609988352021904,1.7836251044013816,-0.42495453030026753,-1.4796654963764373,0.26699530633905383,0.9386337857275068,0.5422571256779178,-0.5951679964609107,1.3591277952198586,1.107835057885836,-0.9043344904432511,0.3590319613430317,-0.7966844234190578,-0.06000227589783168,0.04316938407978105,1.3580552003388051,-0.7760626440378443,1.5854530989997315,-0.46353069186426404,-1.0745167090420498,2.212116176062031,-1.439675541529478,-2.0554704481808495,-0.11811185811532435,-0.41196864579863074,-0.9389985024768397,1.2959635418379791,0.4078693097348912,-0.8671054942393984,1.7252482957866269,-0.17094699657986662,-0.4203898822603816,1.0238149845075084,-1.7082023970596323,1.2105603191784666,0.470411960848045,-0.44163507560902787,-0.561536410751917,-2.2920236391835873,1.6921460848889827,-0.8753528703650812,-0.308624577218057,-0.7479970008532968,0.042424762273314244,0.42775674124162216,-0.7612535278594279,-0.8123766392385495,-0.320045127298039,1.2962971549556204,0.8468549112150666,0.38948944554984866,0.3464931109083758,0.06556931178920412,0.2025946289920695,2.4028721763358156,-1.0664451168631308,0.3001848021183222,0.030968772479112953,0.4189819842801789,-0.5299316257147946,0.3622802315153845,0.8064488289050201,-0.2825747218761014,-1.3516618998411016,0.8904083060648561,-0.3792076435989007],\"yaxis\":\"y14\",\"type\":\"scatter\"},{\"line\":{\"color\":\"rgba(128, 128, 128, 1.0)\",\"dash\":\"solid\",\"shape\":\"linear\",\"width\":1.3},\"marker\":{\"size\":2,\"symbol\":\"circle\"},\"mode\":\"markers\",\"name\":\"D\",\"text\":\"\",\"x\":[-0.9196736624837573,0.5221521308335456,-0.4652498556979664,-1.454576414975132,0.436963063980055,1.4246799209117655,0.4795452278319759,1.0324097092675564,-1.2832969606128202,-1.4968684022895624,-0.01530092520712653,0.12291412210634833,-0.7509181015075169,2.508104676406065,0.4794525639949759,0.35700998615689433,-1.1831551942505845,0.8462407906799473,-1.0110263178467456,-0.4996367099663234,-0.15371107386966737,0.7875046929873949,-0.5041129185773495,0.3100861574387777,-0.5085707880875892,-0.22904189463503952,1.1706859225529218,-0.2719616076737529,0.8730665064136831,-1.184444283062692,0.8443375020986033,-0.3644937024112057,0.163478795827416,1.3772593435192526,0.08228471908569834,0.7605476156012057,-0.2504732383628632,0.1360064889167746,-3.644827998386898,-0.8793232150210272,0.3016143396085256,-0.49067491280895753,0.9579194000316426,-0.4348468067931921,-0.1946192264292153,-0.25793957366857867,0.75240596772292,-1.5929338059697495,-0.7269388164897601,0.4908818232564113,0.32641763647555144,0.48126621634927375,0.7141055423303951,-0.21426386859688382,-0.23225615893380858,0.9513770859984828,-1.4231640282914806,0.4520630258835394,-1.4919200307825713,1.291291461685043,-0.9941983312459777,0.7596392727401325,-0.5926195035122472,-0.5566293229752135,0.2982307468470132,1.738053578883346,0.06608083134619774,0.050839011923767115,1.0275197437881594,-0.8581772302452564,0.6607947683272261,-1.442888595982884,1.7584914022563805,0.3700062517332973,-1.915753567763661,-0.5117284645342928,0.5399265157477181,-0.26832171165488117,1.7322591311557272,1.4823599585000202,-0.21223993931260354,1.506767808999441,2.2535197249080685,-0.1198339588515651,-0.6846434595910331,0.1729807676946648,0.15173920031922505,-0.776613379779808,-0.011810156468320966,-0.7174950712346515,-0.6045945057396989,-0.22156638213211777,0.7921074698882515,0.6234406291140472,0.4010652389488166,0.07550111687761502,0.6651197294575687,1.393114003034596,1.046042718388696,0.38765896670310024],\"xaxis\":\"x15\",\"y\":[0.8154789793317233,-0.7932543362196849,2.1090714139213964,-0.08008470874810897,-1.3001999460071456,-0.7533227790295761,-1.0023303372713803,-0.6526378920334932,-0.6653417572773734,-0.3248412709435413,1.70442130197609,1.6840439606302038,1.313022981891956,-1.0663347951928297,0.3423494606212533,1.3196565164837162,-0.5012998698168185,-0.694618064755753,1.596161415909783,-0.6539249230936592,2.2854155981832025,-0.8285365819761168,1.35019284489788,0.7392664010025717,-0.8728638748620098,-1.257815829544241,1.2170550695382087,1.6487781672823338,-0.7397135971258295,-0.5496178716866912,0.24354353838367032,-0.1981188699638196,0.7450212943920029,-0.688454797303157,1.3609988352021904,1.7836251044013816,-0.42495453030026753,-1.4796654963764373,0.26699530633905383,0.9386337857275068,0.5422571256779178,-0.5951679964609107,1.3591277952198586,1.107835057885836,-0.9043344904432511,0.3590319613430317,-0.7966844234190578,-0.06000227589783168,0.04316938407978105,1.3580552003388051,-0.7760626440378443,1.5854530989997315,-0.46353069186426404,-1.0745167090420498,2.212116176062031,-1.439675541529478,-2.0554704481808495,-0.11811185811532435,-0.41196864579863074,-0.9389985024768397,1.2959635418379791,0.4078693097348912,-0.8671054942393984,1.7252482957866269,-0.17094699657986662,-0.4203898822603816,1.0238149845075084,-1.7082023970596323,1.2105603191784666,0.470411960848045,-0.44163507560902787,-0.561536410751917,-2.2920236391835873,1.6921460848889827,-0.8753528703650812,-0.308624577218057,-0.7479970008532968,0.042424762273314244,0.42775674124162216,-0.7612535278594279,-0.8123766392385495,-0.320045127298039,1.2962971549556204,0.8468549112150666,0.38948944554984866,0.3464931109083758,0.06556931178920412,0.2025946289920695,2.4028721763358156,-1.0664451168631308,0.3001848021183222,0.030968772479112953,0.4189819842801789,-0.5299316257147946,0.3622802315153845,0.8064488289050201,-0.2825747218761014,-1.3516618998411016,0.8904083060648561,-0.3792076435989007],\"yaxis\":\"y15\",\"type\":\"scatter\"},{\"histfunc\":\"count\",\"histnorm\":\"\",\"marker\":{\"color\":\"rgba(128, 0, 128, 1.0)\",\"line\":{\"color\":\"#4D5663\",\"width\":1.3}},\"name\":\"D\",\"nbinsx\":10,\"opacity\":0.8,\"orientation\":\"v\",\"x\":[0.8154789793317233,-0.7932543362196849,2.1090714139213964,-0.08008470874810897,-1.3001999460071456,-0.7533227790295761,-1.0023303372713803,-0.6526378920334932,-0.6653417572773734,-0.3248412709435413,1.70442130197609,1.6840439606302038,1.313022981891956,-1.0663347951928297,0.3423494606212533,1.3196565164837162,-0.5012998698168185,-0.694618064755753,1.596161415909783,-0.6539249230936592,2.2854155981832025,-0.8285365819761168,1.35019284489788,0.7392664010025717,-0.8728638748620098,-1.257815829544241,1.2170550695382087,1.6487781672823338,-0.7397135971258295,-0.5496178716866912,0.24354353838367032,-0.1981188699638196,0.7450212943920029,-0.688454797303157,1.3609988352021904,1.7836251044013816,-0.42495453030026753,-1.4796654963764373,0.26699530633905383,0.9386337857275068,0.5422571256779178,-0.5951679964609107,1.3591277952198586,1.107835057885836,-0.9043344904432511,0.3590319613430317,-0.7966844234190578,-0.06000227589783168,0.04316938407978105,1.3580552003388051,-0.7760626440378443,1.5854530989997315,-0.46353069186426404,-1.0745167090420498,2.212116176062031,-1.439675541529478,-2.0554704481808495,-0.11811185811532435,-0.41196864579863074,-0.9389985024768397,1.2959635418379791,0.4078693097348912,-0.8671054942393984,1.7252482957866269,-0.17094699657986662,-0.4203898822603816,1.0238149845075084,-1.7082023970596323,1.2105603191784666,0.470411960848045,-0.44163507560902787,-0.561536410751917,-2.2920236391835873,1.6921460848889827,-0.8753528703650812,-0.308624577218057,-0.7479970008532968,0.042424762273314244,0.42775674124162216,-0.7612535278594279,-0.8123766392385495,-0.320045127298039,1.2962971549556204,0.8468549112150666,0.38948944554984866,0.3464931109083758,0.06556931178920412,0.2025946289920695,2.4028721763358156,-1.0664451168631308,0.3001848021183222,0.030968772479112953,0.4189819842801789,-0.5299316257147946,0.3622802315153845,0.8064488289050201,-0.2825747218761014,-1.3516618998411016,0.8904083060648561,-0.3792076435989007],\"xaxis\":\"x16\",\"yaxis\":\"y16\",\"type\":\"histogram\"}],                        {\"bargap\":0.02,\"legend\":{\"bgcolor\":\"#F5F6F9\",\"font\":{\"color\":\"#4D5663\"}},\"paper_bgcolor\":\"#F5F6F9\",\"plot_bgcolor\":\"#F5F6F9\",\"showlegend\":false,\"template\":{\"data\":{\"barpolar\":[{\"marker\":{\"line\":{\"color\":\"#E5ECF6\",\"width\":0.5},\"pattern\":{\"fillmode\":\"overlay\",\"size\":10,\"solidity\":0.2}},\"type\":\"barpolar\"}],\"bar\":[{\"error_x\":{\"color\":\"#2a3f5f\"},\"error_y\":{\"color\":\"#2a3f5f\"},\"marker\":{\"line\":{\"color\":\"#E5ECF6\",\"width\":0.5},\"pattern\":{\"fillmode\":\"overlay\",\"size\":10,\"solidity\":0.2}},\"type\":\"bar\"}],\"carpet\":[{\"aaxis\":{\"endlinecolor\":\"#2a3f5f\",\"gridcolor\":\"white\",\"linecolor\":\"white\",\"minorgridcolor\":\"white\",\"startlinecolor\":\"#2a3f5f\"},\"baxis\":{\"endlinecolor\":\"#2a3f5f\",\"gridcolor\":\"white\",\"linecolor\":\"white\",\"minorgridcolor\":\"white\",\"startlinecolor\":\"#2a3f5f\"},\"type\":\"carpet\"}],\"choropleth\":[{\"colorbar\":{\"outlinewidth\":0,\"ticks\":\"\"},\"type\":\"choropleth\"}],\"contourcarpet\":[{\"colorbar\":{\"outlinewidth\":0,\"ticks\":\"\"},\"type\":\"contourcarpet\"}],\"contour\":[{\"colorbar\":{\"outlinewidth\":0,\"ticks\":\"\"},\"colorscale\":[[0.0,\"#0d0887\"],[0.1111111111111111,\"#46039f\"],[0.2222222222222222,\"#7201a8\"],[0.3333333333333333,\"#9c179e\"],[0.4444444444444444,\"#bd3786\"],[0.5555555555555556,\"#d8576b\"],[0.6666666666666666,\"#ed7953\"],[0.7777777777777778,\"#fb9f3a\"],[0.8888888888888888,\"#fdca26\"],[1.0,\"#f0f921\"]],\"type\":\"contour\"}],\"heatmapgl\":[{\"colorbar\":{\"outlinewidth\":0,\"ticks\":\"\"},\"colorscale\":[[0.0,\"#0d0887\"],[0.1111111111111111,\"#46039f\"],[0.2222222222222222,\"#7201a8\"],[0.3333333333333333,\"#9c179e\"],[0.4444444444444444,\"#bd3786\"],[0.5555555555555556,\"#d8576b\"],[0.6666666666666666,\"#ed7953\"],[0.7777777777777778,\"#fb9f3a\"],[0.8888888888888888,\"#fdca26\"],[1.0,\"#f0f921\"]],\"type\":\"heatmapgl\"}],\"heatmap\":[{\"colorbar\":{\"outlinewidth\":0,\"ticks\":\"\"},\"colorscale\":[[0.0,\"#0d0887\"],[0.1111111111111111,\"#46039f\"],[0.2222222222222222,\"#7201a8\"],[0.3333333333333333,\"#9c179e\"],[0.4444444444444444,\"#bd3786\"],[0.5555555555555556,\"#d8576b\"],[0.6666666666666666,\"#ed7953\"],[0.7777777777777778,\"#fb9f3a\"],[0.8888888888888888,\"#fdca26\"],[1.0,\"#f0f921\"]],\"type\":\"heatmap\"}],\"histogram2dcontour\":[{\"colorbar\":{\"outlinewidth\":0,\"ticks\":\"\"},\"colorscale\":[[0.0,\"#0d0887\"],[0.1111111111111111,\"#46039f\"],[0.2222222222222222,\"#7201a8\"],[0.3333333333333333,\"#9c179e\"],[0.4444444444444444,\"#bd3786\"],[0.5555555555555556,\"#d8576b\"],[0.6666666666666666,\"#ed7953\"],[0.7777777777777778,\"#fb9f3a\"],[0.8888888888888888,\"#fdca26\"],[1.0,\"#f0f921\"]],\"type\":\"histogram2dcontour\"}],\"histogram2d\":[{\"colorbar\":{\"outlinewidth\":0,\"ticks\":\"\"},\"colorscale\":[[0.0,\"#0d0887\"],[0.1111111111111111,\"#46039f\"],[0.2222222222222222,\"#7201a8\"],[0.3333333333333333,\"#9c179e\"],[0.4444444444444444,\"#bd3786\"],[0.5555555555555556,\"#d8576b\"],[0.6666666666666666,\"#ed7953\"],[0.7777777777777778,\"#fb9f3a\"],[0.8888888888888888,\"#fdca26\"],[1.0,\"#f0f921\"]],\"type\":\"histogram2d\"}],\"histogram\":[{\"marker\":{\"pattern\":{\"fillmode\":\"overlay\",\"size\":10,\"solidity\":0.2}},\"type\":\"histogram\"}],\"mesh3d\":[{\"colorbar\":{\"outlinewidth\":0,\"ticks\":\"\"},\"type\":\"mesh3d\"}],\"parcoords\":[{\"line\":{\"colorbar\":{\"outlinewidth\":0,\"ticks\":\"\"}},\"type\":\"parcoords\"}],\"pie\":[{\"automargin\":true,\"type\":\"pie\"}],\"scatter3d\":[{\"line\":{\"colorbar\":{\"outlinewidth\":0,\"ticks\":\"\"}},\"marker\":{\"colorbar\":{\"outlinewidth\":0,\"ticks\":\"\"}},\"type\":\"scatter3d\"}],\"scattercarpet\":[{\"marker\":{\"colorbar\":{\"outlinewidth\":0,\"ticks\":\"\"}},\"type\":\"scattercarpet\"}],\"scattergeo\":[{\"marker\":{\"colorbar\":{\"outlinewidth\":0,\"ticks\":\"\"}},\"type\":\"scattergeo\"}],\"scattergl\":[{\"marker\":{\"colorbar\":{\"outlinewidth\":0,\"ticks\":\"\"}},\"type\":\"scattergl\"}],\"scattermapbox\":[{\"marker\":{\"colorbar\":{\"outlinewidth\":0,\"ticks\":\"\"}},\"type\":\"scattermapbox\"}],\"scatterpolargl\":[{\"marker\":{\"colorbar\":{\"outlinewidth\":0,\"ticks\":\"\"}},\"type\":\"scatterpolargl\"}],\"scatterpolar\":[{\"marker\":{\"colorbar\":{\"outlinewidth\":0,\"ticks\":\"\"}},\"type\":\"scatterpolar\"}],\"scatter\":[{\"fillpattern\":{\"fillmode\":\"overlay\",\"size\":10,\"solidity\":0.2},\"type\":\"scatter\"}],\"scatterternary\":[{\"marker\":{\"colorbar\":{\"outlinewidth\":0,\"ticks\":\"\"}},\"type\":\"scatterternary\"}],\"surface\":[{\"colorbar\":{\"outlinewidth\":0,\"ticks\":\"\"},\"colorscale\":[[0.0,\"#0d0887\"],[0.1111111111111111,\"#46039f\"],[0.2222222222222222,\"#7201a8\"],[0.3333333333333333,\"#9c179e\"],[0.4444444444444444,\"#bd3786\"],[0.5555555555555556,\"#d8576b\"],[0.6666666666666666,\"#ed7953\"],[0.7777777777777778,\"#fb9f3a\"],[0.8888888888888888,\"#fdca26\"],[1.0,\"#f0f921\"]],\"type\":\"surface\"}],\"table\":[{\"cells\":{\"fill\":{\"color\":\"#EBF0F8\"},\"line\":{\"color\":\"white\"}},\"header\":{\"fill\":{\"color\":\"#C8D4E3\"},\"line\":{\"color\":\"white\"}},\"type\":\"table\"}]},\"layout\":{\"annotationdefaults\":{\"arrowcolor\":\"#2a3f5f\",\"arrowhead\":0,\"arrowwidth\":1},\"autotypenumbers\":\"strict\",\"coloraxis\":{\"colorbar\":{\"outlinewidth\":0,\"ticks\":\"\"}},\"colorscale\":{\"diverging\":[[0,\"#8e0152\"],[0.1,\"#c51b7d\"],[0.2,\"#de77ae\"],[0.3,\"#f1b6da\"],[0.4,\"#fde0ef\"],[0.5,\"#f7f7f7\"],[0.6,\"#e6f5d0\"],[0.7,\"#b8e186\"],[0.8,\"#7fbc41\"],[0.9,\"#4d9221\"],[1,\"#276419\"]],\"sequential\":[[0.0,\"#0d0887\"],[0.1111111111111111,\"#46039f\"],[0.2222222222222222,\"#7201a8\"],[0.3333333333333333,\"#9c179e\"],[0.4444444444444444,\"#bd3786\"],[0.5555555555555556,\"#d8576b\"],[0.6666666666666666,\"#ed7953\"],[0.7777777777777778,\"#fb9f3a\"],[0.8888888888888888,\"#fdca26\"],[1.0,\"#f0f921\"]],\"sequentialminus\":[[0.0,\"#0d0887\"],[0.1111111111111111,\"#46039f\"],[0.2222222222222222,\"#7201a8\"],[0.3333333333333333,\"#9c179e\"],[0.4444444444444444,\"#bd3786\"],[0.5555555555555556,\"#d8576b\"],[0.6666666666666666,\"#ed7953\"],[0.7777777777777778,\"#fb9f3a\"],[0.8888888888888888,\"#fdca26\"],[1.0,\"#f0f921\"]]},\"colorway\":[\"#636efa\",\"#EF553B\",\"#00cc96\",\"#ab63fa\",\"#FFA15A\",\"#19d3f3\",\"#FF6692\",\"#B6E880\",\"#FF97FF\",\"#FECB52\"],\"font\":{\"color\":\"#2a3f5f\"},\"geo\":{\"bgcolor\":\"white\",\"lakecolor\":\"white\",\"landcolor\":\"#E5ECF6\",\"showlakes\":true,\"showland\":true,\"subunitcolor\":\"white\"},\"hoverlabel\":{\"align\":\"left\"},\"hovermode\":\"closest\",\"mapbox\":{\"style\":\"light\"},\"paper_bgcolor\":\"white\",\"plot_bgcolor\":\"#E5ECF6\",\"polar\":{\"angularaxis\":{\"gridcolor\":\"white\",\"linecolor\":\"white\",\"ticks\":\"\"},\"bgcolor\":\"#E5ECF6\",\"radialaxis\":{\"gridcolor\":\"white\",\"linecolor\":\"white\",\"ticks\":\"\"}},\"scene\":{\"xaxis\":{\"backgroundcolor\":\"#E5ECF6\",\"gridcolor\":\"white\",\"gridwidth\":2,\"linecolor\":\"white\",\"showbackground\":true,\"ticks\":\"\",\"zerolinecolor\":\"white\"},\"yaxis\":{\"backgroundcolor\":\"#E5ECF6\",\"gridcolor\":\"white\",\"gridwidth\":2,\"linecolor\":\"white\",\"showbackground\":true,\"ticks\":\"\",\"zerolinecolor\":\"white\"},\"zaxis\":{\"backgroundcolor\":\"#E5ECF6\",\"gridcolor\":\"white\",\"gridwidth\":2,\"linecolor\":\"white\",\"showbackground\":true,\"ticks\":\"\",\"zerolinecolor\":\"white\"}},\"shapedefaults\":{\"line\":{\"color\":\"#2a3f5f\"}},\"ternary\":{\"aaxis\":{\"gridcolor\":\"white\",\"linecolor\":\"white\",\"ticks\":\"\"},\"baxis\":{\"gridcolor\":\"white\",\"linecolor\":\"white\",\"ticks\":\"\"},\"bgcolor\":\"#E5ECF6\",\"caxis\":{\"gridcolor\":\"white\",\"linecolor\":\"white\",\"ticks\":\"\"}},\"title\":{\"x\":0.05},\"xaxis\":{\"automargin\":true,\"gridcolor\":\"white\",\"linecolor\":\"white\",\"ticks\":\"\",\"title\":{\"standoff\":15},\"zerolinecolor\":\"white\",\"zerolinewidth\":2},\"yaxis\":{\"automargin\":true,\"gridcolor\":\"white\",\"linecolor\":\"white\",\"ticks\":\"\",\"title\":{\"standoff\":15},\"zerolinecolor\":\"white\",\"zerolinewidth\":2}}},\"title\":{\"font\":{\"color\":\"#4D5663\"}},\"xaxis\":{\"anchor\":\"y\",\"domain\":[0.0,0.2125],\"gridcolor\":\"#E1E5ED\",\"showgrid\":false,\"tickfont\":{\"color\":\"#4D5663\"},\"title\":{\"font\":{\"color\":\"#4D5663\"},\"text\":\"\"},\"zerolinecolor\":\"#E1E5ED\"},\"yaxis\":{\"anchor\":\"x\",\"domain\":[0.8025,1.0],\"gridcolor\":\"#E1E5ED\",\"showgrid\":false,\"tickfont\":{\"color\":\"#4D5663\"},\"title\":{\"font\":{\"color\":\"#4D5663\"},\"text\":\"\"},\"zerolinecolor\":\"#E1E5ED\"},\"xaxis2\":{\"anchor\":\"y2\",\"domain\":[0.2625,0.475],\"gridcolor\":\"#E1E5ED\",\"showgrid\":false,\"tickfont\":{\"color\":\"#4D5663\"},\"title\":{\"font\":{\"color\":\"#4D5663\"},\"text\":\"\"},\"zerolinecolor\":\"#E1E5ED\"},\"yaxis2\":{\"anchor\":\"x2\",\"domain\":[0.8025,1.0],\"gridcolor\":\"#E1E5ED\",\"showgrid\":false,\"tickfont\":{\"color\":\"#4D5663\"},\"title\":{\"font\":{\"color\":\"#4D5663\"},\"text\":\"\"},\"zerolinecolor\":\"#E1E5ED\"},\"xaxis3\":{\"anchor\":\"y3\",\"domain\":[0.525,0.7375],\"gridcolor\":\"#E1E5ED\",\"showgrid\":false,\"tickfont\":{\"color\":\"#4D5663\"},\"title\":{\"font\":{\"color\":\"#4D5663\"},\"text\":\"\"},\"zerolinecolor\":\"#E1E5ED\"},\"yaxis3\":{\"anchor\":\"x3\",\"domain\":[0.8025,1.0],\"gridcolor\":\"#E1E5ED\",\"showgrid\":false,\"tickfont\":{\"color\":\"#4D5663\"},\"title\":{\"font\":{\"color\":\"#4D5663\"},\"text\":\"\"},\"zerolinecolor\":\"#E1E5ED\"},\"xaxis4\":{\"anchor\":\"y4\",\"domain\":[0.7875,1.0],\"gridcolor\":\"#E1E5ED\",\"showgrid\":false,\"tickfont\":{\"color\":\"#4D5663\"},\"title\":{\"font\":{\"color\":\"#4D5663\"},\"text\":\"\"},\"zerolinecolor\":\"#E1E5ED\"},\"yaxis4\":{\"anchor\":\"x4\",\"domain\":[0.8025,1.0],\"gridcolor\":\"#E1E5ED\",\"showgrid\":false,\"tickfont\":{\"color\":\"#4D5663\"},\"title\":{\"font\":{\"color\":\"#4D5663\"},\"text\":\"\"},\"zerolinecolor\":\"#E1E5ED\"},\"xaxis5\":{\"anchor\":\"y5\",\"domain\":[0.0,0.2125],\"gridcolor\":\"#E1E5ED\",\"showgrid\":false,\"tickfont\":{\"color\":\"#4D5663\"},\"title\":{\"font\":{\"color\":\"#4D5663\"},\"text\":\"\"},\"zerolinecolor\":\"#E1E5ED\"},\"yaxis5\":{\"anchor\":\"x5\",\"domain\":[0.535,0.7325],\"gridcolor\":\"#E1E5ED\",\"showgrid\":false,\"tickfont\":{\"color\":\"#4D5663\"},\"title\":{\"font\":{\"color\":\"#4D5663\"},\"text\":\"\"},\"zerolinecolor\":\"#E1E5ED\"},\"xaxis6\":{\"anchor\":\"y6\",\"domain\":[0.2625,0.475],\"gridcolor\":\"#E1E5ED\",\"showgrid\":false,\"tickfont\":{\"color\":\"#4D5663\"},\"title\":{\"font\":{\"color\":\"#4D5663\"},\"text\":\"\"},\"zerolinecolor\":\"#E1E5ED\"},\"yaxis6\":{\"anchor\":\"x6\",\"domain\":[0.535,0.7325],\"gridcolor\":\"#E1E5ED\",\"showgrid\":false,\"tickfont\":{\"color\":\"#4D5663\"},\"title\":{\"font\":{\"color\":\"#4D5663\"},\"text\":\"\"},\"zerolinecolor\":\"#E1E5ED\"},\"xaxis7\":{\"anchor\":\"y7\",\"domain\":[0.525,0.7375],\"gridcolor\":\"#E1E5ED\",\"showgrid\":false,\"tickfont\":{\"color\":\"#4D5663\"},\"title\":{\"font\":{\"color\":\"#4D5663\"},\"text\":\"\"},\"zerolinecolor\":\"#E1E5ED\"},\"yaxis7\":{\"anchor\":\"x7\",\"domain\":[0.535,0.7325],\"gridcolor\":\"#E1E5ED\",\"showgrid\":false,\"tickfont\":{\"color\":\"#4D5663\"},\"title\":{\"font\":{\"color\":\"#4D5663\"},\"text\":\"\"},\"zerolinecolor\":\"#E1E5ED\"},\"xaxis8\":{\"anchor\":\"y8\",\"domain\":[0.7875,1.0],\"gridcolor\":\"#E1E5ED\",\"showgrid\":false,\"tickfont\":{\"color\":\"#4D5663\"},\"title\":{\"font\":{\"color\":\"#4D5663\"},\"text\":\"\"},\"zerolinecolor\":\"#E1E5ED\"},\"yaxis8\":{\"anchor\":\"x8\",\"domain\":[0.535,0.7325],\"gridcolor\":\"#E1E5ED\",\"showgrid\":false,\"tickfont\":{\"color\":\"#4D5663\"},\"title\":{\"font\":{\"color\":\"#4D5663\"},\"text\":\"\"},\"zerolinecolor\":\"#E1E5ED\"},\"xaxis9\":{\"anchor\":\"y9\",\"domain\":[0.0,0.2125],\"gridcolor\":\"#E1E5ED\",\"showgrid\":false,\"tickfont\":{\"color\":\"#4D5663\"},\"title\":{\"font\":{\"color\":\"#4D5663\"},\"text\":\"\"},\"zerolinecolor\":\"#E1E5ED\"},\"yaxis9\":{\"anchor\":\"x9\",\"domain\":[0.2675,0.465],\"gridcolor\":\"#E1E5ED\",\"showgrid\":false,\"tickfont\":{\"color\":\"#4D5663\"},\"title\":{\"font\":{\"color\":\"#4D5663\"},\"text\":\"\"},\"zerolinecolor\":\"#E1E5ED\"},\"xaxis10\":{\"anchor\":\"y10\",\"domain\":[0.2625,0.475],\"gridcolor\":\"#E1E5ED\",\"showgrid\":false,\"tickfont\":{\"color\":\"#4D5663\"},\"title\":{\"font\":{\"color\":\"#4D5663\"},\"text\":\"\"},\"zerolinecolor\":\"#E1E5ED\"},\"yaxis10\":{\"anchor\":\"x10\",\"domain\":[0.2675,0.465],\"gridcolor\":\"#E1E5ED\",\"showgrid\":false,\"tickfont\":{\"color\":\"#4D5663\"},\"title\":{\"font\":{\"color\":\"#4D5663\"},\"text\":\"\"},\"zerolinecolor\":\"#E1E5ED\"},\"xaxis11\":{\"anchor\":\"y11\",\"domain\":[0.525,0.7375],\"gridcolor\":\"#E1E5ED\",\"showgrid\":false,\"tickfont\":{\"color\":\"#4D5663\"},\"title\":{\"font\":{\"color\":\"#4D5663\"},\"text\":\"\"},\"zerolinecolor\":\"#E1E5ED\"},\"yaxis11\":{\"anchor\":\"x11\",\"domain\":[0.2675,0.465],\"gridcolor\":\"#E1E5ED\",\"showgrid\":false,\"tickfont\":{\"color\":\"#4D5663\"},\"title\":{\"font\":{\"color\":\"#4D5663\"},\"text\":\"\"},\"zerolinecolor\":\"#E1E5ED\"},\"xaxis12\":{\"anchor\":\"y12\",\"domain\":[0.7875,1.0],\"gridcolor\":\"#E1E5ED\",\"showgrid\":false,\"tickfont\":{\"color\":\"#4D5663\"},\"title\":{\"font\":{\"color\":\"#4D5663\"},\"text\":\"\"},\"zerolinecolor\":\"#E1E5ED\"},\"yaxis12\":{\"anchor\":\"x12\",\"domain\":[0.2675,0.465],\"gridcolor\":\"#E1E5ED\",\"showgrid\":false,\"tickfont\":{\"color\":\"#4D5663\"},\"title\":{\"font\":{\"color\":\"#4D5663\"},\"text\":\"\"},\"zerolinecolor\":\"#E1E5ED\"},\"xaxis13\":{\"anchor\":\"y13\",\"domain\":[0.0,0.2125],\"gridcolor\":\"#E1E5ED\",\"showgrid\":false,\"tickfont\":{\"color\":\"#4D5663\"},\"title\":{\"font\":{\"color\":\"#4D5663\"},\"text\":\"\"},\"zerolinecolor\":\"#E1E5ED\"},\"yaxis13\":{\"anchor\":\"x13\",\"domain\":[0.0,0.1975],\"gridcolor\":\"#E1E5ED\",\"showgrid\":false,\"tickfont\":{\"color\":\"#4D5663\"},\"title\":{\"font\":{\"color\":\"#4D5663\"},\"text\":\"\"},\"zerolinecolor\":\"#E1E5ED\"},\"xaxis14\":{\"anchor\":\"y14\",\"domain\":[0.2625,0.475],\"gridcolor\":\"#E1E5ED\",\"showgrid\":false,\"tickfont\":{\"color\":\"#4D5663\"},\"title\":{\"font\":{\"color\":\"#4D5663\"},\"text\":\"\"},\"zerolinecolor\":\"#E1E5ED\"},\"yaxis14\":{\"anchor\":\"x14\",\"domain\":[0.0,0.1975],\"gridcolor\":\"#E1E5ED\",\"showgrid\":false,\"tickfont\":{\"color\":\"#4D5663\"},\"title\":{\"font\":{\"color\":\"#4D5663\"},\"text\":\"\"},\"zerolinecolor\":\"#E1E5ED\"},\"xaxis15\":{\"anchor\":\"y15\",\"domain\":[0.525,0.7375],\"gridcolor\":\"#E1E5ED\",\"showgrid\":false,\"tickfont\":{\"color\":\"#4D5663\"},\"title\":{\"font\":{\"color\":\"#4D5663\"},\"text\":\"\"},\"zerolinecolor\":\"#E1E5ED\"},\"yaxis15\":{\"anchor\":\"x15\",\"domain\":[0.0,0.1975],\"gridcolor\":\"#E1E5ED\",\"showgrid\":false,\"tickfont\":{\"color\":\"#4D5663\"},\"title\":{\"font\":{\"color\":\"#4D5663\"},\"text\":\"\"},\"zerolinecolor\":\"#E1E5ED\"},\"xaxis16\":{\"anchor\":\"y16\",\"domain\":[0.7875,1.0],\"gridcolor\":\"#E1E5ED\",\"showgrid\":false,\"tickfont\":{\"color\":\"#4D5663\"},\"title\":{\"font\":{\"color\":\"#4D5663\"},\"text\":\"\"},\"zerolinecolor\":\"#E1E5ED\"},\"yaxis16\":{\"anchor\":\"x16\",\"domain\":[0.0,0.1975],\"gridcolor\":\"#E1E5ED\",\"showgrid\":false,\"tickfont\":{\"color\":\"#4D5663\"},\"title\":{\"font\":{\"color\":\"#4D5663\"},\"text\":\"\"},\"zerolinecolor\":\"#E1E5ED\"}},                        {\"showLink\": true, \"linkText\": \"Export to plot.ly\", \"plotlyServerURL\": \"https://plot.ly\", \"responsive\": true}                    ).then(function(){\n",
       "                            \n",
       "var gd = document.getElementById('5f2872ba-b3d2-4912-b3cf-9d9789db20df');\n",
       "var x = new MutationObserver(function (mutations, observer) {{\n",
       "        var display = window.getComputedStyle(gd).display;\n",
       "        if (!display || display === 'none') {{\n",
       "            console.log([gd, 'removed!']);\n",
       "            Plotly.purge(gd);\n",
       "            observer.disconnect();\n",
       "        }}\n",
       "}});\n",
       "\n",
       "// Listen for the removal of the full notebook cells\n",
       "var notebookContainer = gd.closest('#notebook-container');\n",
       "if (notebookContainer) {{\n",
       "    x.observe(notebookContainer, {childList: true});\n",
       "}}\n",
       "\n",
       "// Listen for the clearing of the current output cell\n",
       "var outputEl = gd.closest('.output');\n",
       "if (outputEl) {{\n",
       "    x.observe(outputEl, {childList: true});\n",
       "}}\n",
       "\n",
       "                        })                };                });            </script>        </div>"
      ]
     },
     "metadata": {},
     "output_type": "display_data"
    }
   ],
   "source": [
    "df.scatter_matrix()"
   ]
  }
 ],
 "metadata": {
  "kernelspec": {
   "display_name": "Python 3",
   "language": "python",
   "name": "python3"
  },
  "language_info": {
   "codemirror_mode": {
    "name": "ipython",
    "version": 3
   },
   "file_extension": ".py",
   "mimetype": "text/x-python",
   "name": "python",
   "nbconvert_exporter": "python",
   "pygments_lexer": "ipython3",
   "version": "3.12.2"
  }
 },
 "nbformat": 4,
 "nbformat_minor": 2
}
